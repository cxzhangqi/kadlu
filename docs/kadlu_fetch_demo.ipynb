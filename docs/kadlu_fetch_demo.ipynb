{
 "cells": [
  {
   "cell_type": "markdown",
   "metadata": {},
   "source": [
    "# Kadlu data fetch demo"
   ]
  },
  {
   "cell_type": "code",
   "execution_count": 5,
   "metadata": {},
   "outputs": [],
   "source": [
    "import numpy as np\n",
    "from datetime import datetime, timedelta\n",
    "from kadlu import chs, era5, rdwps, hycom, wwiii"
   ]
  },
  {
   "cell_type": "markdown",
   "metadata": {},
   "source": [
    "To get info about a data source and view what data is offered, simply print the class object:"
   ]
  },
  {
   "cell_type": "code",
   "execution_count": 6,
   "metadata": {},
   "outputs": [
    {
     "name": "stdout",
     "output_type": "stream",
     "text": [
      "Native hycom .[ab] data converted to NetCDF at the Naval\n",
      "Research Laboratory, interpolated to a uniform 0.08° between\n",
      "40°S-40°N (0.04° poleward of these latitudes), and\n",
      "interpolated to 40 standard z-levels.\n",
      "Historical data available from 1994 to 2015 (inclusive).\n",
      "\thttps://www.hycom.org/data/glbv0pt08\n",
      "\n",
      "Class functions:\n",
      "\tfetch_salinity(south, north, west, east, start, end, top, bottom)\n",
      "\tfetch_temp    (south, north, west, east, start, end, top, bottom)\n",
      "\tfetch_water_u (south, north, west, east, start, end, top, bottom)\n",
      "\tfetch_water_v (south, north, west, east, start, end, top, bottom)\n",
      "\tload_salinity (south, north, west, east, start, end, top, bottom)\n",
      "\tload_temp     (south, north, west, east, start, end, top, bottom)\n",
      "\tload_water_u  (south, north, west, east, start, end, top, bottom)\n",
      "\tload_water_v  (south, north, west, east, start, end, top, bottom)\n"
     ]
    }
   ],
   "source": [
    "source = hycom()\n",
    "print(source)"
   ]
  },
  {
   "cell_type": "markdown",
   "metadata": {},
   "source": [
    "To load wave height data for a particular date and region using the era5 global dataset:"
   ]
  },
  {
   "cell_type": "code",
   "execution_count": 7,
   "metadata": {},
   "outputs": [],
   "source": [
    "# parameter selection\n",
    "start = datetime(2015, 3, 9, 13, 25, 0)  # '2015-03-09 13:25:33'\n",
    "end   = datetime(2015, 3, 9, 19, 0, 0)  # 3 hours (smallest time slicing)\n",
    "\n",
    "# mediterranean ocean\n",
    "south =  28\n",
    "north =  44.2\n",
    "west  = -4.5\n",
    "east  = 41.5\n",
    "top = 0        # depth in meters. depth grid indices are not linear for hycom,\n",
    "bottom = 4     # increasing depth will have a diminishing number of results"
   ]
  },
  {
   "cell_type": "code",
   "execution_count": null,
   "metadata": {},
   "outputs": [],
   "source": [
    "source.fetch_salinity(south=south, north=north, west=west, east=east, \n",
    "                      start=start, end=end, top=top, bottom=bottom)"
   ]
  },
  {
   "cell_type": "code",
   "execution_count": 10,
   "metadata": {},
   "outputs": [],
   "source": [
    "[salinity, lat, lon, datetimes, depth] = \\\n",
    "source.load_salinity(south=south, north=north, west=west,\n",
    "                     east=east, start=start, end=end, top=top, bottom=bottom)"
   ]
  },
  {
   "cell_type": "code",
   "execution_count": 9,
   "metadata": {},
   "outputs": [
    {
     "name": "stdout",
     "output_type": "stream",
     "text": [
      "281112\n"
     ]
    },
    {
     "data": {
      "text/plain": [
       "array([15409, 15387, 15371, 15389, 15390, 15391, 15389, 15385, 15379,\n",
       "       15368], dtype=object)"
      ]
     },
     "execution_count": 9,
     "metadata": {},
     "output_type": "execute_result"
    }
   ],
   "source": [
    "print(len(salinity))\n",
    "salinity[0:10]"
   ]
  }
 ],
 "metadata": {
  "kernelspec": {
   "display_name": "Python 3",
   "language": "python",
   "name": "python3"
  },
  "language_info": {
   "codemirror_mode": {
    "name": "ipython",
    "version": 3
   },
   "file_extension": ".py",
   "mimetype": "text/x-python",
   "name": "python",
   "nbconvert_exporter": "python",
   "pygments_lexer": "ipython3",
   "version": "3.6.8"
  }
 },
 "nbformat": 4,
 "nbformat_minor": 2
}
