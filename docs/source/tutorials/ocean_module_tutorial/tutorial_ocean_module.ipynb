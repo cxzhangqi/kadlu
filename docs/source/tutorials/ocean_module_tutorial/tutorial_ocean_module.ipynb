{
 "cells": [
  {
   "cell_type": "code",
   "execution_count": 1,
   "metadata": {},
   "outputs": [],
   "source": [
    "import numpy as np\n",
    "from datetime import datetime\n",
    "\n",
    "from kadlu import source_map\n",
    "from kadlu.geospatial.ocean import Ocean"
   ]
  },
  {
   "cell_type": "markdown",
   "metadata": {},
   "source": [
    "The ocean module is an abstraction of the loading and interpolation functions to quickly load and interpolate many different environmental variables at once. By default, the ocean will create interpolators using null data:"
   ]
  },
  {
   "cell_type": "code",
   "execution_count": 2,
   "metadata": {},
   "outputs": [],
   "source": [
    "# ocean boundaries: gulf of st lawrence (top 100m from the surface)\n",
    "bounds = dict(\n",
    "        start=datetime(2015, 1, 9), end=datetime(2015, 1, 9, 12),\n",
    "        south=44,                   west=-68.5, \n",
    "        north=51,                   east=-56.5, \n",
    "        top=0,                      bottom=100\n",
    "    )"
   ]
  },
  {
   "cell_type": "code",
   "execution_count": 3,
   "metadata": {},
   "outputs": [
    {
     "data": {
      "text/plain": [
       "array([0., 0.])"
      ]
     },
     "execution_count": 3,
     "metadata": {},
     "output_type": "execute_result"
    }
   ],
   "source": [
    "# ocean initialized without any environmental data will return null (zeroes)\n",
    "o = Ocean(**bounds)                              # instantiate interpolators using null values\n",
    "o.bathy(lat=[47.5, 48.1], lon=[-64, -62.5])      # query bathymetric interpolator for values at given coordinates"
   ]
  },
  {
   "cell_type": "markdown",
   "metadata": {},
   "source": [
    "To prepare an interpolation using Kadlu's automated data loading, specify one of the data sources listed in the source_map:"
   ]
  },
  {
   "cell_type": "code",
   "execution_count": 4,
   "metadata": {
    "scrolled": true
   },
   "outputs": [
    {
     "data": {
      "text/plain": [
       "array([30., 31.])"
      ]
     },
     "execution_count": 4,
     "metadata": {},
     "output_type": "execute_result"
    }
   ],
   "source": [
    "o = Ocean(load_salinity='hycom', **bounds)                     # instantiate interpolator with HYCOM salinity data\n",
    "o.salinity(lat=[47.5, 48.1], lon=[-64, -62.5], depth=[0, 10])  # query interpolator for values at given coordinates"
   ]
  },
  {
   "cell_type": "code",
   "execution_count": 5,
   "metadata": {},
   "outputs": [
    {
     "data": {
      "text/plain": [
       "array([0., 0.])"
      ]
     },
     "execution_count": 5,
     "metadata": {},
     "output_type": "execute_result"
    }
   ],
   "source": [
    "o.waveheight(lat=[47.5, 48.1], lon=[-64, -62.5]) # query waveheight interpolator: values remain null"
   ]
  },
  {
   "cell_type": "markdown",
   "metadata": {},
   "source": [
    "Kadlu can check for missing data and prepare interpolators for many variables at the same time"
   ]
  },
  {
   "cell_type": "code",
   "execution_count": 6,
   "metadata": {
    "scrolled": false
   },
   "outputs": [],
   "source": [
    "# source strings passed as load arguments tells the ocean module where to source the data\n",
    "sources = dict(\n",
    "        load_bathymetry=0, # dont load bathymetry \n",
    "        load_temp='hycom',\n",
    "        load_salinity='hycom',\n",
    "        load_wavedir='era5',\n",
    "        load_waveheight='era5',\n",
    "        load_waveperiod='era5',\n",
    "        load_wavedirection='era5',\n",
    "        load_windspeed='era5'\n",
    "    )\n",
    "\n",
    "o = Ocean(**sources, **bounds)"
   ]
  },
  {
   "cell_type": "code",
   "execution_count": 7,
   "metadata": {},
   "outputs": [
    {
     "data": {
      "text/plain": [
       "array([1.80722759, 2.43859011])"
      ]
     },
     "execution_count": 7,
     "metadata": {},
     "output_type": "execute_result"
    }
   ],
   "source": [
    "o.waveheight(lat=[47.5, 48.1], lon=[-64, -62.5])  # query waveheight interpolator"
   ]
  },
  {
   "cell_type": "markdown",
   "metadata": {},
   "source": [
    "Kadlu also supports ocean interpolation using arbitrary environmental data. An ocean can be initialized by passing a float or array of floats to the load_variable keyword argument. Arrays must be ordered by [values, lat, lon] for 2D data, or [values, lat, lon, depth] for 3D data.\n",
    "\n",
    "When a float value is used, a uniform \"interpolation\" of that value will be returned for every coordinate location"
   ]
  },
  {
   "cell_type": "code",
   "execution_count": 8,
   "metadata": {},
   "outputs": [],
   "source": [
    "bathy_arr = np.array((\n",
    "        np.random.randint(0, 500, 100),                            # values\n",
    "        np.random.randint(bounds['south'], bounds['north'], 100),  # latitudes\n",
    "        np.random.randint(bounds['west'],  bounds['east'], 100)    # longitudes\n",
    "    ))\n",
    "temp_float = 10\n",
    "salinity_float = 35\n",
    "\n",
    "o = Ocean(load_bathymetry=bathy_arr, load_temp=temp_float, load_salinity=salinity_float, **bounds)"
   ]
  },
  {
   "cell_type": "code",
   "execution_count": 9,
   "metadata": {},
   "outputs": [
    {
     "name": "stdout",
     "output_type": "stream",
     "text": [
      "bathymetry:\t [398.16666667 346.1       ]\n",
      "temperature:\t [10. 10.]\n",
      "salinity:\t [35. 35.]\n"
     ]
    }
   ],
   "source": [
    "print('bathymetry:\\t',  o.bathy(   lat=[47.5, 48.1], lon=[-64, -62.5]))\n",
    "print('temperature:\\t', o.temp(    lat=[47.5, 48.1], lon=[-64, -62.5], depth=[0, 50]))\n",
    "print('salinity:\\t',    o.salinity(lat=[47.5, 48.1], lon=[-64, -62.5], depth=[0, 50]))"
   ]
  },
  {
   "cell_type": "markdown",
   "metadata": {},
   "source": [
    "for a list of possible strings accepted as input for the load_variable arguments, choose one of the sources listed in the source_map that supports that variable:"
   ]
  },
  {
   "cell_type": "code",
   "execution_count": 10,
   "metadata": {},
   "outputs": [
    {
     "name": "stdout",
     "output_type": "stream",
     "text": [
      "\n",
      "    CHS   (Canadian Hydrography Service)\n",
      "          load_bathymetry:          bathymetric data in Canada's waterways. variable resolution \n",
      "\n",
      "    ERA5  (Global environmental dataset from Copernicus Climate Data Store)\n",
      "          load_windwaveswellheight: combined height of wind, waves, and swell. metres\n",
      "          load_wavedirection:       mean wave direction, degrees\n",
      "          load_waveperiod:          mean wave period, seconds\n",
      "          load_wind_uv:             wind speed computed as sqrt(u^2 + v^2) / 2, where u, v are direction vectors\n",
      "          load_wind_u:              wind speed coordinate U-vector, m/s\n",
      "          load_wind_v:              wind speed coordinate V-vector, m/s \n",
      "\n",
      "    HYCOM (Hybrid Coordinate Ocean Model)\n",
      "          load_salinity:            g/kg salt in water\n",
      "          load_temp:                degrees celsius\n",
      "          load_water_uv:            ocean current computed as sqrt(u^2 + v^2) / 2, where u, v are direction vectors\n",
      "          load_water_u:             ocean current coordinate U-vector, m/s\n",
      "          load_water_v:             ocean current coordinate V-vector, m/s \n",
      "\n",
      "    WWIII (WaveWatch Ocean Model Gen 3)\n",
      "          load_wavedirection:       primary wave direction, degrees\n",
      "          load_waveperiod:          primary mean wave period, seconds\n",
      "          load_windwaveheight:      combined height of wind and waves, metres\n",
      "          load_wind_uv:             wind speed computed as sqrt(u^2 + v^2) / 2, where u, v are direction vectors\n",
      "          load_wind_u:              wind speed coordinate U-vector, m/s\n",
      "          load_wind_v:              wind speed coordinate V-vector, m/s\n",
      "    \n"
     ]
    }
   ],
   "source": [
    "print(source_map)"
   ]
  }
 ],
 "metadata": {
  "kernelspec": {
   "display_name": "Python 3",
   "language": "python",
   "name": "python3"
  },
  "language_info": {
   "codemirror_mode": {
    "name": "ipython",
    "version": 3
   },
   "file_extension": ".py",
   "mimetype": "text/x-python",
   "name": "python",
   "nbconvert_exporter": "python",
   "pygments_lexer": "ipython3",
   "version": "3.8.1"
  }
 },
 "nbformat": 4,
 "nbformat_minor": 4
}
