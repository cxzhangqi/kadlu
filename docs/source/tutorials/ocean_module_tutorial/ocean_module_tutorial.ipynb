{
 "cells": [
  {
   "cell_type": "markdown",
   "metadata": {},
   "source": [
    "# Kadlu's Ocean Module"
   ]
  },
  {
   "cell_type": "markdown",
   "metadata": {},
   "source": [
    "The ocean module is an abstraction of Kadlu's loading and interpolation functions, which provides a unified interface to quickly load and interpolate many different environmental variables. In this tutorial, we will take a closer look at the key functionalities of the ocean module."
   ]
  },
  {
   "cell_type": "markdown",
   "metadata": {},
   "source": [
    "We begin by importing the necessary modules, functions, etc."
   ]
  },
  {
   "cell_type": "code",
   "execution_count": 1,
   "metadata": {},
   "outputs": [],
   "source": [
    "import numpy as np\n",
    "from datetime import datetime\n",
    "\n",
    "from kadlu import source_map\n",
    "from kadlu.geospatial.ocean import Ocean"
   ]
  },
  {
   "cell_type": "markdown",
   "metadata": {},
   "source": [
    "The geographical and temporal boundaries are specified as python dictionary, to be passed to the plotting function later. In this example, we are concerned with first 100 m below the sea surface (bottom=100, top=0) of the waters in the Gulf of St. Lawrence ($44^o$N to $51^o$N and $-68.5^o$W to $-56.5^o$W) on the first 12 hours of January 9, 2015."
   ]
  },
  {
   "cell_type": "code",
   "execution_count": 2,
   "metadata": {},
   "outputs": [],
   "source": [
    "# ocean boundaries: gulf of st lawrence (top 100m from the surface)\n",
    "bounds = dict(\n",
    "        start=datetime(2015, 1, 9), end=datetime(2015, 1, 9, 12),\n",
    "        south=44,                   west=-68.5, \n",
    "        north=51,                   east=-56.5, \n",
    "        top=0,                      bottom=100\n",
    "    )"
   ]
  },
  {
   "cell_type": "markdown",
   "metadata": {},
   "source": [
    "### Initialization and querying"
   ]
  },
  {
   "cell_type": "markdown",
   "metadata": {},
   "source": [
    "The ocean module can be instatiated without specifying any data sources. This is the simplest way of instantiating the ocean module and result in an ocean with null data everywere."
   ]
  },
  {
   "cell_type": "code",
   "execution_count": 3,
   "metadata": {},
   "outputs": [],
   "source": [
    "o = Ocean(**bounds) # instantiate ocean with null values"
   ]
  },
  {
   "cell_type": "markdown",
   "metadata": {},
   "source": [
    "The ocean module has a bunch of methods for querying various environmental data. For a full list, see the ocean module's documentation page. For example, bathymetric data can be queried with the `bathy` method as follows,"
   ]
  },
  {
   "cell_type": "code",
   "execution_count": 4,
   "metadata": {},
   "outputs": [
    {
     "data": {
      "text/plain": [
       "array([0., 0.])"
      ]
     },
     "execution_count": 4,
     "metadata": {},
     "output_type": "execute_result"
    }
   ],
   "source": [
    "o.bathy(lat=[47.5, 48.1], lon=[-64, -62.5]) # query bathymetric interpolator for values at given coordinates"
   ]
  },
  {
   "cell_type": "markdown",
   "metadata": {},
   "source": [
    "To query using planar coordinates, use the `bathy_xy` method instead,"
   ]
  },
  {
   "cell_type": "code",
   "execution_count": 5,
   "metadata": {},
   "outputs": [
    {
     "data": {
      "text/plain": [
       "array([0., 0.])"
      ]
     },
     "execution_count": 5,
     "metadata": {},
     "output_type": "execute_result"
    }
   ],
   "source": [
    "o.bathy_xy(x=[-2000, 3500], y=[10000, 15000]) # query bathymetric interpolator for values at given displacements"
   ]
  },
  {
   "cell_type": "markdown",
   "metadata": {},
   "source": [
    "Here, `x` and `y` are the horizontal (W-E) and vertical (S-N) displacements in meters, respectively, in a planar coordinate system centered at the mid-point of the geographical region under consideration."
   ]
  },
  {
   "cell_type": "markdown",
   "metadata": {},
   "source": [
    "### Automatic loading of data"
   ]
  },
  {
   "cell_type": "markdown",
   "metadata": {},
   "source": [
    "In order to use Kadlu's automated data loading functionalities, you simply have to specify one (or several) of the data sources listed in the source_map. For example,"
   ]
  },
  {
   "cell_type": "code",
   "execution_count": 6,
   "metadata": {
    "scrolled": true
   },
   "outputs": [
    {
     "name": "stdout",
     "output_type": "stream",
     "text": [
      "HYCOM 2015-01-09 salinity: downloading 4590080 values...\n",
      "HYCOM 2015-01-09 salinity: downloaded 4360 Kb in 19.717s. parsed and inserted 2120216 rows in 15.526s. 2469864 null values removed, 0 duplicates ignored\n"
     ]
    },
    {
     "data": {
      "text/plain": [
       "array([30., 31.])"
      ]
     },
     "execution_count": 6,
     "metadata": {},
     "output_type": "execute_result"
    }
   ],
   "source": [
    "o = Ocean(load_salinity='hycom', **bounds)                     # instantiate interpolator with HYCOM salinity data\n",
    "o.salinity(lat=[47.5, 48.1], lon=[-64, -62.5], depth=[0, 10])  # query interpolator for values at given coordinates"
   ]
  },
  {
   "cell_type": "markdown",
   "metadata": {},
   "source": [
    "OBS: When querying variables such as salinity, which change with time, the values returned by the query method are the values averaged over the time period specified in the `bounds` dictionary."
   ]
  },
  {
   "cell_type": "code",
   "execution_count": 7,
   "metadata": {},
   "outputs": [
    {
     "data": {
      "text/plain": [
       "array([0., 0.])"
      ]
     },
     "execution_count": 7,
     "metadata": {},
     "output_type": "execute_result"
    }
   ],
   "source": [
    "o.waveheight(lat=[47.5, 48.1], lon=[-64, -62.5]) # query waveheight interpolator: values remain null"
   ]
  },
  {
   "cell_type": "markdown",
   "metadata": {},
   "source": [
    "Kadlu can check for missing data and prepare interpolators for many variables at the same time"
   ]
  },
  {
   "cell_type": "code",
   "execution_count": 8,
   "metadata": {
    "scrolled": false
   },
   "outputs": [
    {
     "name": "stdout",
     "output_type": "stream",
     "text": [
      "HYCOM 2015-01-09 water_temp: downloading 4590080 values...\n",
      "HYCOM 2015-01-09 water_temp: downloaded 4632 Kb in 75.831s. parsed and inserted 2120216 rows in 15.871s. 2469864 null values removed, 0 duplicates ignored\n"
     ]
    },
    {
     "name": "stderr",
     "output_type": "stream",
     "text": [
      "2020-03-06 16:04:44,256 INFO Sending request to https://cds.climate.copernicus.eu/api/v2/resources/reanalysis-era5-single-levels\n",
      "2020-03-06 16:04:45,144 INFO Request is completed\n",
      "2020-03-06 16:04:45,147 INFO Downloading http://136.156.132.198/cache-compute-0003/cache/data5/adaptor.mars.internal-1583436721.1266615-29438-36-af9ada07-9ace-41dd-8014-b0a3c6edb497.grib to /home/oliskir/src/anaconda3/envs/kadlu_env/lib/python3.7/site-packages/storage/ERA5_reanalysis_mean_wave_direction_2015-01-09.grb2 (7.2M)\n",
      "2020-03-06 16:04:46,932 INFO Download rate 4M/s\n",
      "2020-03-06 16:04:48,513 INFO Sending request to https://cds.climate.copernicus.eu/api/v2/resources/reanalysis-era5-single-levels\n",
      "2020-03-06 16:04:49,350 INFO Request is completed\n",
      "2020-03-06 16:04:49,353 INFO Downloading http://136.156.133.37/cache-compute-0011/cache/data2/adaptor.mars.internal-1583436727.6846225-8896-27-b658116e-b26a-4cda-af79-1a4807b6bfcc.grib to /home/oliskir/src/anaconda3/envs/kadlu_env/lib/python3.7/site-packages/storage/ERA5_reanalysis_significant_height_of_combined_wind_waves_and_swell_2015-01-09.grb2 (7.2M)\n",
      "2020-03-06 16:04:50,849 INFO Download rate 4.8M/s\n",
      "2020-03-06 16:04:52,604 INFO Sending request to https://cds.climate.copernicus.eu/api/v2/resources/reanalysis-era5-single-levels\n",
      "2020-03-06 16:04:53,677 INFO Request is queued\n",
      "2020-03-06 16:04:54,786 INFO Request is running\n",
      "2020-03-06 16:04:58,754 INFO Request is completed\n",
      "2020-03-06 16:04:58,757 INFO Downloading http://136.156.132.153/cache-compute-0002/cache/data7/adaptor.mars.internal-1583525094.1589131-4505-38-c622b255-d045-4754-bc80-ad28a58a2dfd.grib to /home/oliskir/src/anaconda3/envs/kadlu_env/lib/python3.7/site-packages/storage/ERA5_reanalysis_mean_wave_period_2015-01-09.grb2 (7.2M)\n",
      "2020-03-06 16:05:00,525 INFO Download rate 4.1M/s\n",
      "2020-03-06 16:05:02,002 INFO Sending request to https://cds.climate.copernicus.eu/api/v2/resources/reanalysis-era5-single-levels\n",
      "2020-03-06 16:05:02,592 INFO Request is completed\n",
      "2020-03-06 16:05:02,595 INFO Downloading http://136.156.132.110/cache-compute-0001/cache/data8/adaptor.mars.internal-1583436737.6248848-13225-3-c0449857-087a-4390-86b0-6a09848b6d82.grib to /home/oliskir/src/anaconda3/envs/kadlu_env/lib/python3.7/site-packages/storage/ERA5_reanalysis_10m_u_component_of_wind_2015-01-09.grb2 (47.5M)\n",
      "2020-03-06 16:05:08,107 INFO Download rate 8.6M/s\n",
      "2020-03-06 16:05:13,221 INFO Sending request to https://cds.climate.copernicus.eu/api/v2/resources/reanalysis-era5-single-levels\n",
      "2020-03-06 16:05:13,818 INFO Request is queued\n",
      "2020-03-06 16:05:14,924 INFO Request is running\n",
      "2020-03-06 16:05:18,891 INFO Request is completed\n",
      "2020-03-06 16:05:18,894 INFO Downloading http://136.156.133.42/cache-compute-0014/cache/data3/adaptor.mars.internal-1583525114.8806615-30422-17-a1195c5b-63a4-4cfa-bdf7-617477cc7d7f.grib to /home/oliskir/src/anaconda3/envs/kadlu_env/lib/python3.7/site-packages/storage/ERA5_reanalysis_10m_v_component_of_wind_2015-01-09.grb2 (47.5M)\n",
      "2020-03-06 16:05:25,664 INFO Download rate 7M/s\n"
     ]
    },
    {
     "name": "stdout",
     "output_type": "stream",
     "text": [
      "ERA5 2015-01-09 10m_u_component_of_wind: processed and inserted 0 rows. 18473 duplicates ignored\n",
      "ERA5 2015-01-09 10m_v_component_of_wind: processed and inserted 0 rows. 18473 duplicates ignored\n"
     ]
    }
   ],
   "source": [
    "# source strings passed as load arguments tells the ocean module where to source the data\n",
    "sources = dict(\n",
    "        load_bathymetry=0, # dont load bathymetry \n",
    "        load_temp='hycom',\n",
    "        load_salinity='hycom',\n",
    "        load_wavedir='era5',\n",
    "        load_waveheight='era5',\n",
    "        load_waveperiod='era5',\n",
    "        load_wavedirection='era5',\n",
    "        load_windspeed='era5'\n",
    "    )\n",
    "\n",
    "o = Ocean(**sources, **bounds)"
   ]
  },
  {
   "cell_type": "markdown",
   "metadata": {},
   "source": [
    "Now we can query any of the loaded variable at any set of coordinates, e.g., wave height:"
   ]
  },
  {
   "cell_type": "code",
   "execution_count": 9,
   "metadata": {},
   "outputs": [
    {
     "data": {
      "text/plain": [
       "array([1.80722759, 2.43859011])"
      ]
     },
     "execution_count": 9,
     "metadata": {},
     "output_type": "execute_result"
    }
   ],
   "source": [
    "o.waveheight(lat=[47.5, 48.1], lon=[-64, -62.5])  # query waveheight interpolator"
   ]
  },
  {
   "cell_type": "markdown",
   "metadata": {},
   "source": [
    "### Manual loading of data"
   ]
  },
  {
   "cell_type": "markdown",
   "metadata": {},
   "source": [
    "Kadlu also supports ocean interpolation using arbitrary environmental data. An ocean can be initialized by passing a float or array of floats to the load_variable keyword argument. Arrays must be ordered by [values, lat, lon] for 2D data, or [values, lat, lon, depth] for 3D data.\n",
    "\n",
    "When a float value is used, a uniform \"interpolation\" of that value will be returned for every coordinate location"
   ]
  },
  {
   "cell_type": "code",
   "execution_count": 10,
   "metadata": {},
   "outputs": [],
   "source": [
    "bathy_arr = np.array((\n",
    "        np.random.randint(0, 500, 100),                            # array of length 100 with random values in the range 0-500.\n",
    "        np.random.randint(bounds['south'], bounds['north'], 100),  # latitudes\n",
    "        np.random.randint(bounds['west'],  bounds['east'], 100)    # longitudes\n",
    "    ))\n",
    "temp_float = 10\n",
    "salinity_float = 35\n",
    "\n",
    "o = Ocean(load_bathymetry=bathy_arr, load_temp=temp_float, load_salinity=salinity_float, **bounds)"
   ]
  },
  {
   "cell_type": "code",
   "execution_count": 11,
   "metadata": {},
   "outputs": [
    {
     "name": "stdout",
     "output_type": "stream",
     "text": [
      "bathymetry:\t [289.5 213.7]\n",
      "temperature:\t [10. 10.]\n",
      "salinity:\t [35. 35.]\n"
     ]
    }
   ],
   "source": [
    "print('bathymetry:\\t',  o.bathy(   lat=[47.5, 48.1], lon=[-64, -62.5]))\n",
    "print('temperature:\\t', o.temp(    lat=[47.5, 48.1], lon=[-64, -62.5], depth=[0, 50]))\n",
    "print('salinity:\\t',    o.salinity(lat=[47.5, 48.1], lon=[-64, -62.5], depth=[0, 50]))"
   ]
  },
  {
   "cell_type": "markdown",
   "metadata": {},
   "source": [
    "for a list of possible strings accepted as input for the load_variable arguments, choose one of the sources listed in the source_map that supports that variable:"
   ]
  },
  {
   "cell_type": "code",
   "execution_count": 12,
   "metadata": {},
   "outputs": [
    {
     "name": "stdout",
     "output_type": "stream",
     "text": [
      "\n",
      "    CHS   (Canadian Hydrography Service)\n",
      "          load_bathymetry:          bathymetric data in Canada's waterways. variable resolution \n",
      "\n",
      "    ERA5  (Global environmental dataset from Copernicus Climate Data Store)\n",
      "          load_windwaveswellheight: combined height of wind, waves, and swell. metres\n",
      "          load_wavedirection:       mean wave direction, degrees\n",
      "          load_waveperiod:          mean wave period, seconds\n",
      "          load_wind_uv:             wind speed computed as sqrt(u^2 + v^2) / 2, where u, v are direction vectors\n",
      "          load_wind_u:              wind speed coordinate U-vector, m/s\n",
      "          load_wind_v:              wind speed coordinate V-vector, m/s \n",
      "\n",
      "    HYCOM (Hybrid Coordinate Ocean Model)\n",
      "          load_salinity:            g/kg salt in water\n",
      "          load_temp:                degrees celsius\n",
      "          load_water_uv:            ocean current computed as sqrt(u^2 + v^2) / 2, where u, v are direction vectors\n",
      "          load_water_u:             ocean current coordinate U-vector, m/s\n",
      "          load_water_v:             ocean current coordinate V-vector, m/s \n",
      "\n",
      "    WWIII (WaveWatch Ocean Model Gen 3)\n",
      "          load_wavedirection:       primary wave direction, degrees\n",
      "          load_waveperiod:          primary mean wave period, seconds\n",
      "          load_windwaveheight:      combined height of wind and waves, metres\n",
      "          load_wind_uv:             wind speed computed as sqrt(u^2 + v^2) / 2, where u, v are direction vectors\n",
      "          load_wind_u:              wind speed coordinate U-vector, m/s\n",
      "          load_wind_v:              wind speed coordinate V-vector, m/s\n",
      "    \n"
     ]
    }
   ],
   "source": [
    "print(source_map)"
   ]
  }
 ],
 "metadata": {
  "kernelspec": {
   "display_name": "Python 3",
   "language": "python",
   "name": "python3"
  },
  "language_info": {
   "codemirror_mode": {
    "name": "ipython",
    "version": 3
   },
   "file_extension": ".py",
   "mimetype": "text/x-python",
   "name": "python",
   "nbconvert_exporter": "python",
   "pygments_lexer": "ipython3",
   "version": "3.7.6"
  }
 },
 "nbformat": 4,
 "nbformat_minor": 4
}
