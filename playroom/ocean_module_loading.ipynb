{
 "cells": [
  {
   "cell_type": "code",
   "execution_count": 1,
   "metadata": {},
   "outputs": [],
   "source": [
    "from kadlu.geospatial.ocean import Ocean\n",
    "from kadlu.geospatial.data_sources.data_util import reshape_2D\n",
    "from kadlu.geospatial.data_sources.chs import Chs\n",
    "from datetime import datetime\n",
    "import numpy as np"
   ]
  },
  {
   "cell_type": "code",
   "execution_count": 2,
   "metadata": {},
   "outputs": [],
   "source": [
    "kwargs = dict(\n",
    "        start=datetime(2015, 1, 9), end=datetime(2015, 1, 9, 12),\n",
    "        south=44,                   west=-64.5, \n",
    "        north=46,                   east=-62.5, \n",
    "        top=0,                      bottom=5000\n",
    "    )"
   ]
  },
  {
   "cell_type": "code",
   "execution_count": 4,
   "metadata": {},
   "outputs": [
    {
     "data": {
      "text/plain": [
       "numpy.ndarray"
      ]
     },
     "execution_count": 4,
     "metadata": {},
     "output_type": "execute_result"
    }
   ],
   "source": [
    "load_bathymetry = Chs().load_bathymetry(**kwargs)\n",
    "type(load_bathymetry)"
   ]
  },
  {
   "cell_type": "markdown",
   "metadata": {},
   "source": [
    "#### loading bathymetry data from array of real values"
   ]
  },
  {
   "cell_type": "code",
   "execution_count": null,
   "metadata": {
    "scrolled": false
   },
   "outputs": [
    {
     "name": "stdout",
     "output_type": "stream",
     "text": [
      "WARNING: data will be averaged over time frames for interpolation\n",
      "downloading 265200 water_temp values from hycom...\n",
      "downloaded 280.2Kb in 114.847s. parsed and inserted 18200 rows in 1.123s\n",
      "227945 null values removed, 19055 duplicate rows ignored\n",
      "\n",
      "downloading 265200 salinity values from hycom...\n"
     ]
    },
    {
     "name": "stderr",
     "output_type": "stream",
     "text": [
      "2020-02-04 15:48:28,555 INFO Sending request to https://cds.climate.copernicus.eu/api/v2/resources/reanalysis-era5-single-levels\n"
     ]
    },
    {
     "name": "stdout",
     "output_type": "stream",
     "text": [
      "downloaded 275.1Kb in 103.173s. parsed and inserted 3335 rows in 0.809s\n",
      "227945 null values removed, 33920 duplicate rows ignored\n",
      "\n",
      "downloading ERA5_reanalysis_mean_wave_direction_2015-01-09_00h.grb2 from Copernicus Climate Data Store...\n"
     ]
    },
    {
     "name": "stderr",
     "output_type": "stream",
     "text": [
      "2020-02-04 15:48:29,680 INFO Request is completed\n",
      "2020-02-04 15:48:29,682 INFO Downloading http://136.156.132.236/cache-compute-0007/cache/data5/adaptor.mars.internal-1580759982.8715613-4362-23-f0106afd-185d-44d5-af33-5ce5d583021e.grib to /home/matt_s/kadlu/storage/ERA5_reanalysis_mean_wave_direction_2015-01-09_00h.grb2 (307.4K)\n",
      "2020-02-04 15:48:30,778 INFO Download rate 280.4K/s\n",
      "2020-02-04 15:48:32,382 INFO Sending request to https://cds.climate.copernicus.eu/api/v2/resources/reanalysis-era5-single-levels\n"
     ]
    },
    {
     "name": "stdout",
     "output_type": "stream",
     "text": [
      "processed and inserted 0 rows. 141035 duplicate rows ignored\n",
      "\n",
      "downloading ERA5_reanalysis_mean_wave_direction_2015-01-09_01h.grb2 from Copernicus Climate Data Store...\n"
     ]
    },
    {
     "name": "stderr",
     "output_type": "stream",
     "text": [
      "2020-02-04 15:48:33,560 INFO Request is completed\n",
      "2020-02-04 15:48:33,561 INFO Downloading http://136.156.133.25/cache-compute-0008/cache/data7/adaptor.mars.internal-1580759988.2797968-22846-22-c0f4f249-7373-44ed-9b21-ead34c1e2f9b.grib to /home/matt_s/kadlu/storage/ERA5_reanalysis_mean_wave_direction_2015-01-09_01h.grb2 (307.4K)\n",
      "2020-02-04 15:48:34,516 INFO Download rate 321.9K/s\n",
      "2020-02-04 15:48:35,916 INFO Sending request to https://cds.climate.copernicus.eu/api/v2/resources/reanalysis-era5-single-levels\n"
     ]
    },
    {
     "name": "stdout",
     "output_type": "stream",
     "text": [
      "processed and inserted 0 rows. 141035 duplicate rows ignored\n",
      "\n",
      "downloading ERA5_reanalysis_mean_wave_direction_2015-01-09_02h.grb2 from Copernicus Climate Data Store...\n"
     ]
    },
    {
     "name": "stderr",
     "output_type": "stream",
     "text": [
      "2020-02-04 15:48:36,945 INFO Request is completed\n",
      "2020-02-04 15:48:36,947 INFO Downloading http://136.156.133.25/cache-compute-0008/cache/data7/adaptor.mars.internal-1580759992.7957926-31536-15-5655cc6c-47dd-4d79-aaad-c9e507a912c3.grib to /home/matt_s/kadlu/storage/ERA5_reanalysis_mean_wave_direction_2015-01-09_02h.grb2 (307.4K)\n",
      "2020-02-04 15:48:37,885 INFO Download rate 327.9K/s\n",
      "2020-02-04 15:48:39,776 INFO Sending request to https://cds.climate.copernicus.eu/api/v2/resources/reanalysis-era5-single-levels\n"
     ]
    },
    {
     "name": "stdout",
     "output_type": "stream",
     "text": [
      "processed and inserted 0 rows. 141035 duplicate rows ignored\n",
      "\n",
      "downloading ERA5_reanalysis_mean_wave_direction_2015-01-09_03h.grb2 from Copernicus Climate Data Store...\n"
     ]
    },
    {
     "name": "stderr",
     "output_type": "stream",
     "text": [
      "2020-02-04 15:48:40,706 INFO Request is completed\n",
      "2020-02-04 15:48:40,707 INFO Downloading http://136.156.133.41/cache-compute-0013/cache/data9/adaptor.mars.internal-1580759998.2859755-10501-7-faa232ce-2132-40ba-8941-cc891fc4fc89.grib to /home/matt_s/kadlu/storage/ERA5_reanalysis_mean_wave_direction_2015-01-09_03h.grb2 (307.4K)\n",
      "2020-02-04 15:48:41,704 INFO Download rate 308.3K/s\n",
      "2020-02-04 15:48:43,632 INFO Sending request to https://cds.climate.copernicus.eu/api/v2/resources/reanalysis-era5-single-levels\n"
     ]
    },
    {
     "name": "stdout",
     "output_type": "stream",
     "text": [
      "processed and inserted 0 rows. 141035 duplicate rows ignored\n",
      "\n",
      "downloading ERA5_reanalysis_mean_wave_direction_2015-01-09_04h.grb2 from Copernicus Climate Data Store...\n"
     ]
    },
    {
     "name": "stderr",
     "output_type": "stream",
     "text": [
      "2020-02-04 15:48:45,397 INFO Request is queued\n",
      "2020-02-04 15:48:46,552 INFO Request is running\n",
      "2020-02-04 15:48:48,208 INFO Request is completed\n",
      "2020-02-04 15:48:48,209 INFO Downloading http://136.156.133.37/cache-compute-0011/cache/data2/adaptor.mars.internal-1580845725.975057-13160-29-6f1eebcb-6c20-4048-b4d1-95588eac7e36.grib to /home/matt_s/kadlu/storage/ERA5_reanalysis_mean_wave_direction_2015-01-09_04h.grb2 (307.4K)\n",
      "2020-02-04 15:48:49,256 INFO Download rate 293.7K/s\n",
      "2020-02-04 15:48:50,733 INFO Sending request to https://cds.climate.copernicus.eu/api/v2/resources/reanalysis-era5-single-levels\n"
     ]
    },
    {
     "name": "stdout",
     "output_type": "stream",
     "text": [
      "processed and inserted 0 rows. 141035 duplicate rows ignored\n",
      "\n",
      "downloading ERA5_reanalysis_mean_wave_direction_2015-01-09_05h.grb2 from Copernicus Climate Data Store...\n"
     ]
    },
    {
     "name": "stderr",
     "output_type": "stream",
     "text": [
      "2020-02-04 15:48:51,620 INFO Request is completed\n",
      "2020-02-04 15:48:51,621 INFO Downloading http://136.156.132.235/cache-compute-0006/cache/data5/adaptor.mars.internal-1580760007.6841643-32759-15-d4502499-a5fe-4c33-9cab-1b89a8779cb5.grib to /home/matt_s/kadlu/storage/ERA5_reanalysis_mean_wave_direction_2015-01-09_05h.grb2 (307.4K)\n",
      "2020-02-04 15:48:52,573 INFO Download rate 323K/s  \n",
      "2020-02-04 15:48:54,508 INFO Sending request to https://cds.climate.copernicus.eu/api/v2/resources/reanalysis-era5-single-levels\n"
     ]
    },
    {
     "name": "stdout",
     "output_type": "stream",
     "text": [
      "processed and inserted 0 rows. 141035 duplicate rows ignored\n",
      "\n",
      "downloading ERA5_reanalysis_mean_wave_direction_2015-01-09_06h.grb2 from Copernicus Climate Data Store...\n"
     ]
    },
    {
     "name": "stderr",
     "output_type": "stream",
     "text": [
      "2020-02-04 15:48:55,717 INFO Request is completed\n",
      "2020-02-04 15:48:55,718 INFO Downloading http://136.156.132.105/cache-compute-0000/cache/data3/adaptor.mars.internal-1580760013.40628-18528-7-d120f3c9-1294-4372-afeb-ef172073cb3b.grib to /home/matt_s/kadlu/storage/ERA5_reanalysis_mean_wave_direction_2015-01-09_06h.grb2 (307.4K)\n",
      "2020-02-04 15:48:56,841 INFO Download rate 273.9K/s\n",
      "2020-02-04 15:48:58,247 INFO Sending request to https://cds.climate.copernicus.eu/api/v2/resources/reanalysis-era5-single-levels\n"
     ]
    },
    {
     "name": "stdout",
     "output_type": "stream",
     "text": [
      "processed and inserted 0 rows. 141035 duplicate rows ignored\n",
      "\n",
      "downloading ERA5_reanalysis_mean_wave_direction_2015-01-09_07h.grb2 from Copernicus Climate Data Store...\n"
     ]
    },
    {
     "name": "stderr",
     "output_type": "stream",
     "text": [
      "2020-02-04 15:48:59,228 INFO Request is completed\n",
      "2020-02-04 15:48:59,231 INFO Downloading http://136.156.133.42/cache-compute-0014/cache/data5/adaptor.mars.internal-1580760019.3028045-24068-24-d481117c-1044-4df4-bb6f-90f62d9e67ac.grib to /home/matt_s/kadlu/storage/ERA5_reanalysis_mean_wave_direction_2015-01-09_07h.grb2 (307.4K)\n",
      "2020-02-04 15:49:00,185 INFO Download rate 322.4K/s\n",
      "2020-02-04 15:49:01,683 INFO Sending request to https://cds.climate.copernicus.eu/api/v2/resources/reanalysis-era5-single-levels\n"
     ]
    },
    {
     "name": "stdout",
     "output_type": "stream",
     "text": [
      "processed and inserted 0 rows. 141035 duplicate rows ignored\n",
      "\n",
      "downloading ERA5_reanalysis_mean_wave_direction_2015-01-09_08h.grb2 from Copernicus Climate Data Store...\n"
     ]
    },
    {
     "name": "stderr",
     "output_type": "stream",
     "text": [
      "2020-02-04 15:49:02,924 INFO Request is completed\n",
      "2020-02-04 15:49:02,925 INFO Downloading http://136.156.132.236/cache-compute-0007/cache/data2/adaptor.mars.internal-1580760025.632565-10768-13-d67bf21c-95cd-4341-827c-d67b39e64dcb.grib to /home/matt_s/kadlu/storage/ERA5_reanalysis_mean_wave_direction_2015-01-09_08h.grb2 (307.4K)\n",
      "2020-02-04 15:49:03,877 INFO Download rate 323.1K/s\n",
      "2020-02-04 15:49:05,174 INFO Sending request to https://cds.climate.copernicus.eu/api/v2/resources/reanalysis-era5-single-levels\n"
     ]
    },
    {
     "name": "stdout",
     "output_type": "stream",
     "text": [
      "processed and inserted 0 rows. 141035 duplicate rows ignored\n",
      "\n",
      "downloading ERA5_reanalysis_mean_wave_direction_2015-01-09_09h.grb2 from Copernicus Climate Data Store...\n"
     ]
    },
    {
     "name": "stderr",
     "output_type": "stream",
     "text": [
      "2020-02-04 15:49:05,846 INFO Request is queued\n",
      "2020-02-04 15:49:07,001 INFO Request is completed\n",
      "2020-02-04 15:49:07,002 INFO Downloading http://136.156.132.110/cache-compute-0001/cache/data8/adaptor.mars.internal-1580845746.0164623-14916-29-831a1802-6391-4f33-9e2b-b8e3de96a77a.grib to /home/matt_s/kadlu/storage/ERA5_reanalysis_mean_wave_direction_2015-01-09_09h.grb2 (307.4K)\n",
      "2020-02-04 15:49:07,911 INFO Download rate 338.6K/s\n",
      "2020-02-04 15:49:09,157 INFO Sending request to https://cds.climate.copernicus.eu/api/v2/resources/reanalysis-era5-single-levels\n"
     ]
    },
    {
     "name": "stdout",
     "output_type": "stream",
     "text": [
      "processed and inserted 0 rows. 141035 duplicate rows ignored\n",
      "\n",
      "downloading ERA5_reanalysis_mean_wave_direction_2015-01-09_10h.grb2 from Copernicus Climate Data Store...\n"
     ]
    },
    {
     "name": "stderr",
     "output_type": "stream",
     "text": [
      "2020-02-04 15:49:09,848 INFO Request is completed\n",
      "2020-02-04 15:49:09,849 INFO Downloading http://136.156.132.201/cache-compute-0004/cache/data0/adaptor.mars.internal-1580760039.034026-32727-30-c23f6a31-33e9-41b0-a883-a19bbc57d390.grib to /home/matt_s/kadlu/storage/ERA5_reanalysis_mean_wave_direction_2015-01-09_10h.grb2 (307.9K)\n",
      "2020-02-04 15:49:10,791 INFO Download rate 327.1K/s\n",
      "2020-02-04 15:49:12,066 INFO Sending request to https://cds.climate.copernicus.eu/api/v2/resources/reanalysis-era5-single-levels\n"
     ]
    },
    {
     "name": "stdout",
     "output_type": "stream",
     "text": [
      "processed and inserted 0 rows. 141264 duplicate rows ignored\n",
      "\n",
      "downloading ERA5_reanalysis_mean_wave_direction_2015-01-09_11h.grb2 from Copernicus Climate Data Store...\n"
     ]
    },
    {
     "name": "stderr",
     "output_type": "stream",
     "text": [
      "2020-02-04 15:49:12,741 INFO Request is completed\n",
      "2020-02-04 15:49:12,742 INFO Downloading http://136.156.132.210/cache-compute-0005/cache/data0/adaptor.mars.internal-1580760045.4556978-14361-11-bebe890e-cbcb-466c-ad4e-924da07e4c36.grib to /home/matt_s/kadlu/storage/ERA5_reanalysis_mean_wave_direction_2015-01-09_11h.grb2 (307.9K)\n",
      "2020-02-04 15:49:13,857 INFO Download rate 276.4K/s\n",
      "2020-02-04 15:49:15,200 INFO Sending request to https://cds.climate.copernicus.eu/api/v2/resources/reanalysis-era5-single-levels\n"
     ]
    },
    {
     "name": "stdout",
     "output_type": "stream",
     "text": [
      "processed and inserted 0 rows. 141264 duplicate rows ignored\n",
      "\n",
      "downloading ERA5_reanalysis_mean_wave_direction_2015-01-09_12h.grb2 from Copernicus Climate Data Store...\n"
     ]
    },
    {
     "name": "stderr",
     "output_type": "stream",
     "text": [
      "2020-02-04 15:49:16,063 INFO Request is completed\n",
      "2020-02-04 15:49:16,065 INFO Downloading http://136.156.133.37/cache-compute-0011/cache/data1/adaptor.mars.internal-1580760051.2406023-5316-18-9f4e1ea8-f1fb-4b90-a2af-3c3e5a3242c4.grib to /home/matt_s/kadlu/storage/ERA5_reanalysis_mean_wave_direction_2015-01-09_12h.grb2 (307.9K)\n",
      "2020-02-04 15:49:17,159 INFO Download rate 281.7K/s\n",
      "2020-02-04 15:49:18,468 INFO Sending request to https://cds.climate.copernicus.eu/api/v2/resources/reanalysis-era5-single-levels\n"
     ]
    },
    {
     "name": "stdout",
     "output_type": "stream",
     "text": [
      "processed and inserted 0 rows. 141264 duplicate rows ignored\n",
      "\n",
      "downloading ERA5_reanalysis_significant_height_of_combined_wind_waves_and_swell_2015-01-09_00h.grb2 from Copernicus Climate Data Store...\n"
     ]
    },
    {
     "name": "stderr",
     "output_type": "stream",
     "text": [
      "2020-02-04 15:49:19,181 INFO Request is queued\n",
      "2020-02-04 15:49:20,335 INFO Request is running\n",
      "2020-02-04 15:49:21,991 INFO Request is completed\n",
      "2020-02-04 15:49:21,992 INFO Downloading http://136.156.132.235/cache-compute-0006/cache/data4/adaptor.mars.internal-1580845759.349958-31663-30-1265caa6-0559-4f0c-aa01-d95d5a7f6426.grib to /home/matt_s/kadlu/storage/ERA5_reanalysis_significant_height_of_combined_wind_waves_and_swell_2015-01-09_00h.grb2 (307.4K)\n",
      "2020-02-04 15:49:22,897 INFO Download rate 339.7K/s\n",
      "2020-02-04 15:49:24,321 INFO Sending request to https://cds.climate.copernicus.eu/api/v2/resources/reanalysis-era5-single-levels\n"
     ]
    },
    {
     "name": "stdout",
     "output_type": "stream",
     "text": [
      "processed and inserted 0 rows. 141035 duplicate rows ignored\n",
      "\n",
      "downloading ERA5_reanalysis_significant_height_of_combined_wind_waves_and_swell_2015-01-09_01h.grb2 from Copernicus Climate Data Store...\n"
     ]
    },
    {
     "name": "stderr",
     "output_type": "stream",
     "text": [
      "2020-02-04 15:49:25,002 INFO Request is queued\n",
      "2020-02-04 15:49:26,157 INFO Request is running\n",
      "2020-02-04 15:49:27,813 INFO Request is completed\n",
      "2020-02-04 15:49:27,814 INFO Downloading http://136.156.133.36/cache-compute-0010/cache/data7/adaptor.mars.internal-1580845765.1762831-32262-35-1c4eb3e6-9a59-4741-bd80-efd962402f85.grib to /home/matt_s/kadlu/storage/ERA5_reanalysis_significant_height_of_combined_wind_waves_and_swell_2015-01-09_01h.grb2 (307.4K)\n",
      "2020-02-04 15:49:28,864 INFO Download rate 293K/s  \n",
      "2020-02-04 15:49:30,113 INFO Sending request to https://cds.climate.copernicus.eu/api/v2/resources/reanalysis-era5-single-levels\n"
     ]
    },
    {
     "name": "stdout",
     "output_type": "stream",
     "text": [
      "processed and inserted 0 rows. 141035 duplicate rows ignored\n",
      "\n",
      "downloading ERA5_reanalysis_significant_height_of_combined_wind_waves_and_swell_2015-01-09_02h.grb2 from Copernicus Climate Data Store...\n"
     ]
    },
    {
     "name": "stderr",
     "output_type": "stream",
     "text": [
      "2020-02-04 15:49:30,966 INFO Request is queued\n",
      "2020-02-04 15:49:32,123 INFO Request is running\n",
      "2020-02-04 15:49:33,781 INFO Request is completed\n",
      "2020-02-04 15:49:33,782 INFO Downloading http://136.156.132.201/cache-compute-0004/cache/data5/adaptor.mars.internal-1580845771.1649005-12191-11-d3853601-0a6b-4452-b8c8-fccd83edc357.grib to /home/matt_s/kadlu/storage/ERA5_reanalysis_significant_height_of_combined_wind_waves_and_swell_2015-01-09_02h.grb2 (307.4K)\n",
      "2020-02-04 15:49:34,693 INFO Download rate 337.9K/s\n",
      "2020-02-04 15:49:35,911 INFO Sending request to https://cds.climate.copernicus.eu/api/v2/resources/reanalysis-era5-single-levels\n"
     ]
    },
    {
     "name": "stdout",
     "output_type": "stream",
     "text": [
      "processed and inserted 0 rows. 141035 duplicate rows ignored\n",
      "\n",
      "downloading ERA5_reanalysis_significant_height_of_combined_wind_waves_and_swell_2015-01-09_03h.grb2 from Copernicus Climate Data Store...\n"
     ]
    },
    {
     "name": "stderr",
     "output_type": "stream",
     "text": [
      "2020-02-04 15:49:36,734 INFO Request is queued\n",
      "2020-02-04 15:49:37,892 INFO Request is running\n",
      "2020-02-04 15:49:39,548 INFO Request is completed\n",
      "2020-02-04 15:49:39,549 INFO Downloading http://136.156.133.46/cache-compute-0015/cache/data6/adaptor.mars.internal-1580845777.091842-24134-36-422262f6-5119-4b1c-a51c-b4f6b445a6b0.grib to /home/matt_s/kadlu/storage/ERA5_reanalysis_significant_height_of_combined_wind_waves_and_swell_2015-01-09_03h.grb2 (307.4K)\n",
      "2020-02-04 15:49:40,600 INFO Download rate 292.6K/s\n",
      "2020-02-04 15:49:41,819 INFO Sending request to https://cds.climate.copernicus.eu/api/v2/resources/reanalysis-era5-single-levels\n"
     ]
    },
    {
     "name": "stdout",
     "output_type": "stream",
     "text": [
      "processed and inserted 0 rows. 141035 duplicate rows ignored\n",
      "\n",
      "downloading ERA5_reanalysis_significant_height_of_combined_wind_waves_and_swell_2015-01-09_04h.grb2 from Copernicus Climate Data Store...\n"
     ]
    },
    {
     "name": "stderr",
     "output_type": "stream",
     "text": [
      "2020-02-04 15:49:42,525 INFO Request is queued\n",
      "2020-02-04 15:49:43,681 INFO Request is running\n",
      "2020-02-04 15:49:45,344 INFO Request is completed\n",
      "2020-02-04 15:49:45,345 INFO Downloading http://136.156.132.110/cache-compute-0001/cache/data7/adaptor.mars.internal-1580845782.5448258-2069-27-a7b4b7ee-b76c-4b52-985e-eb118a326f0e.grib to /home/matt_s/kadlu/storage/ERA5_reanalysis_significant_height_of_combined_wind_waves_and_swell_2015-01-09_04h.grb2 (307.4K)\n",
      "2020-02-04 15:49:46,403 INFO Download rate 290.9K/s\n",
      "2020-02-04 15:49:47,624 INFO Sending request to https://cds.climate.copernicus.eu/api/v2/resources/reanalysis-era5-single-levels\n"
     ]
    },
    {
     "name": "stdout",
     "output_type": "stream",
     "text": [
      "processed and inserted 0 rows. 141035 duplicate rows ignored\n",
      "\n",
      "downloading ERA5_reanalysis_significant_height_of_combined_wind_waves_and_swell_2015-01-09_05h.grb2 from Copernicus Climate Data Store...\n"
     ]
    },
    {
     "name": "stderr",
     "output_type": "stream",
     "text": [
      "2020-02-04 15:49:48,446 INFO Request is queued\n",
      "2020-02-04 15:49:49,604 INFO Request is running\n",
      "2020-02-04 15:49:51,262 INFO Request is completed\n",
      "2020-02-04 15:49:51,263 INFO Downloading http://136.156.132.236/cache-compute-0007/cache/data9/adaptor.mars.internal-1580845788.8553503-14952-3-3dedfbde-70f2-4d93-8ecc-8e63c8d20bc2.grib to /home/matt_s/kadlu/storage/ERA5_reanalysis_significant_height_of_combined_wind_waves_and_swell_2015-01-09_05h.grb2 (307.4K)\n",
      "2020-02-04 15:49:52,317 INFO Download rate 291.8K/s\n",
      "2020-02-04 15:49:53,574 INFO Sending request to https://cds.climate.copernicus.eu/api/v2/resources/reanalysis-era5-single-levels\n"
     ]
    },
    {
     "name": "stdout",
     "output_type": "stream",
     "text": [
      "processed and inserted 0 rows. 141035 duplicate rows ignored\n",
      "\n",
      "downloading ERA5_reanalysis_significant_height_of_combined_wind_waves_and_swell_2015-01-09_06h.grb2 from Copernicus Climate Data Store...\n"
     ]
    },
    {
     "name": "stderr",
     "output_type": "stream",
     "text": [
      "2020-02-04 15:49:54,255 INFO Request is queued\n",
      "2020-02-04 15:49:55,409 INFO Request is running\n",
      "2020-02-04 15:49:57,064 INFO Request is completed\n",
      "2020-02-04 15:49:57,065 INFO Downloading http://136.156.132.236/cache-compute-0007/cache/data7/adaptor.mars.internal-1580845794.33239-30664-28-de3f584e-9fd2-4a76-bfd2-65f4849b3f31.grib to /home/matt_s/kadlu/storage/ERA5_reanalysis_significant_height_of_combined_wind_waves_and_swell_2015-01-09_06h.grb2 (307.4K)\n",
      "2020-02-04 15:49:58,114 INFO Download rate 293.2K/s\n",
      "2020-02-04 15:49:59,408 INFO Sending request to https://cds.climate.copernicus.eu/api/v2/resources/reanalysis-era5-single-levels\n"
     ]
    },
    {
     "name": "stdout",
     "output_type": "stream",
     "text": [
      "processed and inserted 0 rows. 141035 duplicate rows ignored\n",
      "\n",
      "downloading ERA5_reanalysis_significant_height_of_combined_wind_waves_and_swell_2015-01-09_07h.grb2 from Copernicus Climate Data Store...\n"
     ]
    },
    {
     "name": "stderr",
     "output_type": "stream",
     "text": [
      "2020-02-04 15:50:00,356 INFO Request is queued\n",
      "2020-02-04 15:50:01,511 INFO Request is running\n",
      "2020-02-04 15:50:03,168 INFO Request is completed\n",
      "2020-02-04 15:50:03,170 INFO Downloading http://136.156.132.198/cache-compute-0003/cache/data3/adaptor.mars.internal-1580845800.8982618-20316-23-7be3a5b4-223a-4799-8024-fb2f1a9709ae.grib to /home/matt_s/kadlu/storage/ERA5_reanalysis_significant_height_of_combined_wind_waves_and_swell_2015-01-09_07h.grb2 (307.4K)\n",
      "2020-02-04 15:50:04,224 INFO Download rate 291.8K/s\n",
      "2020-02-04 15:50:05,527 INFO Sending request to https://cds.climate.copernicus.eu/api/v2/resources/reanalysis-era5-single-levels\n"
     ]
    },
    {
     "name": "stdout",
     "output_type": "stream",
     "text": [
      "processed and inserted 0 rows. 141035 duplicate rows ignored\n",
      "\n",
      "downloading ERA5_reanalysis_significant_height_of_combined_wind_waves_and_swell_2015-01-09_08h.grb2 from Copernicus Climate Data Store...\n"
     ]
    },
    {
     "name": "stderr",
     "output_type": "stream",
     "text": [
      "2020-02-04 15:50:06,259 INFO Request is queued\n",
      "2020-02-04 15:50:07,417 INFO Request is running\n",
      "2020-02-04 15:50:09,080 INFO Request is completed\n",
      "2020-02-04 15:50:09,084 INFO Downloading http://136.156.132.198/cache-compute-0003/cache/data7/adaptor.mars.internal-1580845806.8120449-22482-9-67487059-d034-40b3-bb0f-7413458bf533.grib to /home/matt_s/kadlu/storage/ERA5_reanalysis_significant_height_of_combined_wind_waves_and_swell_2015-01-09_08h.grb2 (307.4K)\n",
      "2020-02-04 15:50:09,994 INFO Download rate 338.5K/s\n",
      "2020-02-04 15:50:11,349 INFO Sending request to https://cds.climate.copernicus.eu/api/v2/resources/reanalysis-era5-single-levels\n"
     ]
    },
    {
     "name": "stdout",
     "output_type": "stream",
     "text": [
      "processed and inserted 0 rows. 141035 duplicate rows ignored\n",
      "\n",
      "downloading ERA5_reanalysis_significant_height_of_combined_wind_waves_and_swell_2015-01-09_09h.grb2 from Copernicus Climate Data Store...\n"
     ]
    },
    {
     "name": "stderr",
     "output_type": "stream",
     "text": [
      "2020-02-04 15:50:12,029 INFO Request is queued\n",
      "2020-02-04 15:50:13,185 INFO Request is running\n",
      "2020-02-04 15:50:14,842 INFO Request is completed\n",
      "2020-02-04 15:50:14,843 INFO Downloading http://136.156.132.110/cache-compute-0001/cache/data4/adaptor.mars.internal-1580845812.0780628-14916-32-cac2400c-be33-4f66-b4e9-13e539187e8d.grib to /home/matt_s/kadlu/storage/ERA5_reanalysis_significant_height_of_combined_wind_waves_and_swell_2015-01-09_09h.grb2 (307.4K)\n",
      "2020-02-04 15:50:15,749 INFO Download rate 339.7K/s\n",
      "2020-02-04 15:50:17,027 INFO Sending request to https://cds.climate.copernicus.eu/api/v2/resources/reanalysis-era5-single-levels\n"
     ]
    },
    {
     "name": "stdout",
     "output_type": "stream",
     "text": [
      "processed and inserted 0 rows. 141035 duplicate rows ignored\n",
      "\n",
      "downloading ERA5_reanalysis_significant_height_of_combined_wind_waves_and_swell_2015-01-09_10h.grb2 from Copernicus Climate Data Store...\n"
     ]
    },
    {
     "name": "stderr",
     "output_type": "stream",
     "text": [
      "2020-02-04 15:50:17,708 INFO Request is queued\n",
      "2020-02-04 15:50:18,865 INFO Request is completed\n",
      "2020-02-04 15:50:18,866 INFO Downloading http://136.156.133.41/cache-compute-0013/cache/data1/adaptor.mars.internal-1580845817.7894824-16287-15-f3e1542d-7ec3-4ab6-a374-5c833a3426b0.grib to /home/matt_s/kadlu/storage/ERA5_reanalysis_significant_height_of_combined_wind_waves_and_swell_2015-01-09_10h.grb2 (307.9K)\n",
      "2020-02-04 15:50:21,527 INFO Download rate 115.7K/s\n"
     ]
    }
   ],
   "source": [
    "t1 = datetime.now()\n",
    "o = Ocean(load_bathymetry=load_bathymetry, cache=True, fetch=True, **kwargs)\n",
    "t2 = datetime.now()\n",
    "print(f'interpolations computed in {(t2-t1).seconds} seconds')"
   ]
  },
  {
   "cell_type": "markdown",
   "metadata": {},
   "source": [
    "the same data can then be loaded from the cache quickly"
   ]
  },
  {
   "cell_type": "code",
   "execution_count": null,
   "metadata": {},
   "outputs": [],
   "source": [
    "t1 = datetime.now()\n",
    "o = Ocean(load_bathymetry=load_bathymetry, cache=True, **kwargs)\n",
    "t2 = datetime.now()\n",
    "print(f'interpolations loaded from cache in {(t2-t1).seconds}.{int((t2-t1).microseconds/1000)} seconds')"
   ]
  },
  {
   "cell_type": "markdown",
   "metadata": {},
   "source": [
    "#### loading bathymetry data using array of 'realistic' testing data"
   ]
  },
  {
   "cell_type": "code",
   "execution_count": null,
   "metadata": {},
   "outputs": [],
   "source": [
    "load_bathymetry = np.array((\n",
    "    np.random.randint(0, 500, 100) *-1,\n",
    "    np.array([lat for lat in range(4400, 4600, 2)]) / 100,\n",
    "    np.array([lon for lon in range(-6450, -6250, 2)]) / 100\n",
    "))\n",
    "load_bathymetry.shape"
   ]
  },
  {
   "cell_type": "code",
   "execution_count": null,
   "metadata": {},
   "outputs": [],
   "source": [
    "o = Ocean(load_bathymetry=load_bathymetry, cache=True, **kwargs)"
   ]
  },
  {
   "cell_type": "code",
   "execution_count": null,
   "metadata": {},
   "outputs": [],
   "source": [
    "o.temp(lat=[45], lon=[-63], z=[100])"
   ]
  },
  {
   "cell_type": "markdown",
   "metadata": {},
   "source": [
    "#### reshaping bathymetry data is the largest bottleneck in the pipeline"
   ]
  },
  {
   "cell_type": "code",
   "execution_count": null,
   "metadata": {},
   "outputs": [],
   "source": [
    "t1 = datetime.now()\n",
    "bathy_reshaped = reshape_2D(Chs().load_bathymetry, **kwargs)\n",
    "t2 = datetime.now()\n",
    "print(f'bathymetry data prepared in {(t2-t1).seconds} seconds')"
   ]
  },
  {
   "cell_type": "code",
   "execution_count": null,
   "metadata": {},
   "outputs": [],
   "source": []
  }
 ],
 "metadata": {
  "kernelspec": {
   "display_name": "Python 3",
   "language": "python",
   "name": "python3"
  },
  "language_info": {
   "codemirror_mode": {
    "name": "ipython",
    "version": 3
   },
   "file_extension": ".py",
   "mimetype": "text/x-python",
   "name": "python",
   "nbconvert_exporter": "python",
   "pygments_lexer": "ipython3",
   "version": "3.6.9"
  }
 },
 "nbformat": 4,
 "nbformat_minor": 2
}
