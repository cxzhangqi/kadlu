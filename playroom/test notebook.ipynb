{
 "cells": [
  {
   "cell_type": "code",
   "execution_count": 2,
   "metadata": {},
   "outputs": [],
   "source": [
    "from kadlu import hycom\n",
    "import numpy as np\n",
    "from datetime import datetime"
   ]
  },
  {
   "cell_type": "code",
   "execution_count": 3,
   "metadata": {},
   "outputs": [],
   "source": [
    "source = hycom()"
   ]
  },
  {
   "cell_type": "code",
   "execution_count": 4,
   "metadata": {},
   "outputs": [],
   "source": [
    "# parameter selection\n",
    "start = datetime(2015, 3, 9, 13, 25, 0)\n",
    "end   = datetime(2015, 3, 9, 19, 0, 0)\n",
    "\n",
    "# gulf st lawrence\n",
    "south, west = 44.013, -70.429\n",
    "north, east = 51.823, -55.977\n",
    "top, bottom = 0, 0 "
   ]
  },
  {
   "cell_type": "code",
   "execution_count": 13,
   "metadata": {},
   "outputs": [
    {
     "name": "stdout",
     "output_type": "stream",
     "text": [
      "downloading 107016 salinity values from hycom...\n",
      "downloaded in 5.937s. parsed and inserted 46344 rows in 2.182s\n",
      "60672 null values removed, 0 duplicate rows ignored\n",
      "\n"
     ]
    }
   ],
   "source": [
    "source.fetch_salinity(south=south, north=north, west=west, east=east, \n",
    "                      start=start, end=end, top=top, bottom=bottom)"
   ]
  },
  {
   "cell_type": "code",
   "execution_count": 15,
   "metadata": {},
   "outputs": [
    {
     "name": "stdout",
     "output_type": "stream",
     "text": [
      "downloading 107016 water_temp values from hycom...\n",
      "downloaded in 4.988s. parsed and inserted 46344 rows in 3.611s\n",
      "60672 null values removed, 0 duplicate rows ignored\n",
      "\n"
     ]
    }
   ],
   "source": [
    "source.fetch_temp(south=south, north=north, west=west, east=east, \n",
    "                      start=start, end=end, top=top, bottom=bottom)"
   ]
  },
  {
   "cell_type": "code",
   "execution_count": 80,
   "metadata": {},
   "outputs": [],
   "source": [
    "from importlib import reload"
   ]
  },
  {
   "cell_type": "code",
   "execution_count": 7,
   "metadata": {},
   "outputs": [
    {
     "data": {
      "text/plain": [
       "<module 'kadlu.geospatial.data_sources.hycom' from '/home/matt_s/kadlu/kadlu/geospatial/data_sources/hycom.py'>"
      ]
     },
     "execution_count": 7,
     "metadata": {},
     "output_type": "execute_result"
    }
   ],
   "source": [
    "reload(kadlu.geospatial.data_sources.hycom)"
   ]
  },
  {
   "cell_type": "code",
   "execution_count": 29,
   "metadata": {},
   "outputs": [],
   "source": [
    "from kadlu.geospatial.data_sources.fetch_util import database_cfg\n",
    "from kadlu.geospatial.data_sources.fetch_util import dt_2_epoch"
   ]
  },
  {
   "cell_type": "code",
   "execution_count": 7,
   "metadata": {},
   "outputs": [],
   "source": [
    "conn, db = database_cfg()"
   ]
  },
  {
   "cell_type": "code",
   "execution_count": 111,
   "metadata": {},
   "outputs": [
    {
     "data": {
      "text/plain": [
       "array([['-5521', '-5454', '-5211', ..., '11560', '11631', '11721'],\n",
       "       ['47.15999984741211', '47.20000076293945', '47.2400016784668',\n",
       "        ..., '51.720001220703125', '51.7599983215332',\n",
       "        '51.79999923706055'],\n",
       "       ['-70.4000244140625', '-70.4000244140625', '-70.4000244140625',\n",
       "        ..., '-56.0', '-56.0', '-56.0'],\n",
       "       ...,\n",
       "       ['133119', '133119', '133119', ..., '133122', '133122', '133122'],\n",
       "       ['0', '0', '0', ..., '0', '0', '0'],\n",
       "       ['hycom', 'hycom', 'hycom', ..., 'hycom', 'hycom', 'hycom']],\n",
       "      dtype='<U32')"
      ]
     },
     "execution_count": 111,
     "metadata": {},
     "output_type": "execute_result"
    }
   ],
   "source": [
    "# get temp, salinity values within query boundaries where coordinate\n",
    "# data exists for both variables\n",
    "qry = ' AND '.join([\n",
    "        \"SELECT * FROM salinity INNER JOIN water_temp ON salinity.lat = water_temp.lat \",\n",
    "        \"salinity.lon = water_temp.lon \",\n",
    "        \"salinity.time = water_temp.time\",\n",
    "        \"salinity.depth = water_temp.depth\",\n",
    "        \"salinity.lat >= ?\",\n",
    "        \"salinity.lat <= ?\",\n",
    "        \"salinity.lon >= ?\",\n",
    "        \"salinity.lon <= ?\",\n",
    "        \"salinity.time >= ?\",\n",
    "        \"salinity.time <= ?\",\n",
    "        \"salinity.depth >= ?\",\n",
    "        \"salinity.depth <= ? LIMIT 1000000;\"])\n",
    "\n",
    "db.execute(qry, tuple(map(str, [south, north, west, east, dt_2_epoch(start)[0], \n",
    "                                dt_2_epoch(end)[0], top, bottom])))\n",
    "res = np.array(db.fetchall()).T\n",
    "res"
   ]
  },
  {
   "cell_type": "code",
   "execution_count": 112,
   "metadata": {},
   "outputs": [],
   "source": [
    "salinity = res[0]\n",
    "temp = res[6]\n",
    "lat = res[1]\n",
    "lon = res[2]"
   ]
  },
  {
   "cell_type": "code",
   "execution_count": 113,
   "metadata": {},
   "outputs": [
    {
     "data": {
      "text/plain": [
       "30668"
      ]
     },
     "execution_count": 113,
     "metadata": {},
     "output_type": "execute_result"
    }
   ],
   "source": [
    "len(temp)"
   ]
  },
  {
   "cell_type": "code",
   "execution_count": 76,
   "metadata": {},
   "outputs": [],
   "source": [
    "from kadlu import chs"
   ]
  },
  {
   "cell_type": "code",
   "execution_count": 77,
   "metadata": {},
   "outputs": [
    {
     "name": "stdout",
     "output_type": "stream",
     "text": [
      "/home/matt_s/kadlu/storage/\n",
      "Downloading CA2_4400N05600W.tif from Canadian Hydrographic Service NONNA-100...\n",
      "Downloading CA2_4400N05700W.tif from Canadian Hydrographic Service NONNA-100...\n",
      "Downloading CA2_4400N05800W.tif from Canadian Hydrographic Service NONNA-100...\n",
      "Downloading CA2_4400N05900W.tif from Canadian Hydrographic Service NONNA-100...\n",
      "Downloading CA2_4400N06000W.tif from Canadian Hydrographic Service NONNA-100...\n",
      "Downloading CA2_4400N06100W.tif from Canadian Hydrographic Service NONNA-100...\n",
      "Downloading CA2_4400N06200W.tif from Canadian Hydrographic Service NONNA-100...\n",
      "Downloading CA2_4400N06300W.tif from Canadian Hydrographic Service NONNA-100...\n",
      "Downloading CA2_4400N06400W.tif from Canadian Hydrographic Service NONNA-100...\n",
      "Downloading CA2_4400N06500W.tif from Canadian Hydrographic Service NONNA-100...\n",
      "Downloading CA2_4400N06600W.tif from Canadian Hydrographic Service NONNA-100...\n",
      "Downloading CA2_4400N06700W.tif from Canadian Hydrographic Service NONNA-100...\n",
      "Downloading CA2_4400N06800W.tif from Canadian Hydrographic Service NONNA-100...\n",
      "Downloading CA2_4500N05600W.tif from Canadian Hydrographic Service NONNA-100...\n",
      "Downloading CA2_4500N05700W.tif from Canadian Hydrographic Service NONNA-100...\n",
      "Downloading CA2_4500N05800W.tif from Canadian Hydrographic Service NONNA-100...\n",
      "Downloading CA2_4500N05900W.tif from Canadian Hydrographic Service NONNA-100...\n",
      "Downloading CA2_4500N06000W.tif from Canadian Hydrographic Service NONNA-100...\n",
      "Downloading CA2_4500N06100W.tif from Canadian Hydrographic Service NONNA-100...\n",
      "Downloading CA2_4500N06200W.tif from Canadian Hydrographic Service NONNA-100...\n",
      "Downloading CA2_4500N06300W.tif from Canadian Hydrographic Service NONNA-100...\n",
      "Downloading CA2_4500N06400W.tif from Canadian Hydrographic Service NONNA-100...\n",
      "Downloading CA2_4500N06500W.tif from Canadian Hydrographic Service NONNA-100...\n",
      "Downloading CA2_4500N06600W.tif from Canadian Hydrographic Service NONNA-100...\n",
      "Downloading CA2_4500N06700W.tif from Canadian Hydrographic Service NONNA-100...\n",
      "Downloading CA2_4500N06800W.tif from Canadian Hydrographic Service NONNA-100...\n",
      "Downloading CA2_4600N05600W.tif from Canadian Hydrographic Service NONNA-100...\n",
      "Downloading CA2_4600N05700W.tif from Canadian Hydrographic Service NONNA-100...\n",
      "Downloading CA2_4600N05800W.tif from Canadian Hydrographic Service NONNA-100...\n",
      "Downloading CA2_4600N05900W.tif from Canadian Hydrographic Service NONNA-100...\n",
      "Downloading CA2_4600N06000W.tif from Canadian Hydrographic Service NONNA-100...\n",
      "Downloading CA2_4600N06100W.tif from Canadian Hydrographic Service NONNA-100...\n",
      "Downloading CA2_4600N06200W.tif from Canadian Hydrographic Service NONNA-100...\n",
      "Downloading CA2_4600N06300W.tif from Canadian Hydrographic Service NONNA-100...\n",
      "Downloading CA2_4600N06400W.tif from Canadian Hydrographic Service NONNA-100...\n",
      "Downloading CA2_4600N06500W.tif from Canadian Hydrographic Service NONNA-100...\n",
      "Downloading CA2_4600N06600W.tif from Canadian Hydrographic Service NONNA-100...\n",
      "Downloading CA2_4600N07100W.tif from Canadian Hydrographic Service NONNA-100...\n",
      "Downloading CA2_4700N05600W.tif from Canadian Hydrographic Service NONNA-100...\n",
      "Downloading CA2_4700N05700W.tif from Canadian Hydrographic Service NONNA-100...\n",
      "Downloading CA2_4700N05800W.tif from Canadian Hydrographic Service NONNA-100...\n",
      "Downloading CA2_4700N05900W.tif from Canadian Hydrographic Service NONNA-100...\n",
      "Downloading CA2_4700N06000W.tif from Canadian Hydrographic Service NONNA-100...\n",
      "Downloading CA2_4700N06100W.tif from Canadian Hydrographic Service NONNA-100...\n",
      "Downloading CA2_4700N06200W.tif from Canadian Hydrographic Service NONNA-100...\n",
      "Downloading CA2_4700N06300W.tif from Canadian Hydrographic Service NONNA-100...\n",
      "Downloading CA2_4700N06400W.tif from Canadian Hydrographic Service NONNA-100...\n",
      "Downloading CA2_4700N06500W.tif from Canadian Hydrographic Service NONNA-100...\n",
      "Downloading CA2_4700N06600W.tif from Canadian Hydrographic Service NONNA-100...\n",
      "Downloading CA2_4700N06700W.tif from Canadian Hydrographic Service NONNA-100...\n",
      "Downloading CA2_4700N07000W.tif from Canadian Hydrographic Service NONNA-100...\n",
      "Downloading CA2_4700N07100W.tif from Canadian Hydrographic Service NONNA-100...\n",
      "Downloading CA2_4800N05800W.tif from Canadian Hydrographic Service NONNA-100...\n",
      "Downloading CA2_4800N05900W.tif from Canadian Hydrographic Service NONNA-100...\n",
      "Downloading CA2_4800N06000W.tif from Canadian Hydrographic Service NONNA-100...\n",
      "Downloading CA2_4800N06100W.tif from Canadian Hydrographic Service NONNA-100...\n",
      "Downloading CA2_4800N06200W.tif from Canadian Hydrographic Service NONNA-100...\n",
      "Downloading CA2_4800N06300W.tif from Canadian Hydrographic Service NONNA-100...\n",
      "Downloading CA2_4800N06400W.tif from Canadian Hydrographic Service NONNA-100...\n",
      "Downloading CA2_4800N06500W.tif from Canadian Hydrographic Service NONNA-100...\n",
      "Downloading CA2_4800N06600W.tif from Canadian Hydrographic Service NONNA-100...\n",
      "Downloading CA2_4800N06700W.tif from Canadian Hydrographic Service NONNA-100...\n",
      "Downloading CA2_4800N06800W.tif from Canadian Hydrographic Service NONNA-100...\n",
      "Downloading CA2_4800N06900W.tif from Canadian Hydrographic Service NONNA-100...\n",
      "Downloading CA2_4800N07000W.tif from Canadian Hydrographic Service NONNA-100...\n",
      "Downloading CA2_4800N07100W.tif from Canadian Hydrographic Service NONNA-100...\n",
      "Downloading CA2_4900N05600W.tif from Canadian Hydrographic Service NONNA-100...\n",
      "Downloading CA2_4900N05700W.tif from Canadian Hydrographic Service NONNA-100...\n",
      "Downloading CA2_4900N05800W.tif from Canadian Hydrographic Service NONNA-100...\n",
      "Downloading CA2_4900N05900W.tif from Canadian Hydrographic Service NONNA-100...\n",
      "Downloading CA2_4900N06000W.tif from Canadian Hydrographic Service NONNA-100...\n",
      "Downloading CA2_4900N06100W.tif from Canadian Hydrographic Service NONNA-100...\n",
      "Downloading CA2_4900N06200W.tif from Canadian Hydrographic Service NONNA-100...\n",
      "Downloading CA2_4900N06300W.tif from Canadian Hydrographic Service NONNA-100...\n",
      "Downloading CA2_4900N06400W.tif from Canadian Hydrographic Service NONNA-100...\n",
      "Downloading CA2_4900N06500W.tif from Canadian Hydrographic Service NONNA-100...\n",
      "Downloading CA2_4900N06600W.tif from Canadian Hydrographic Service NONNA-100...\n",
      "Downloading CA2_4900N06700W.tif from Canadian Hydrographic Service NONNA-100...\n",
      "Downloading CA2_4900N06800W.tif from Canadian Hydrographic Service NONNA-100...\n",
      "Downloading CA2_4900N06900W.tif from Canadian Hydrographic Service NONNA-100...\n",
      "Downloading CA2_5000N05600W.tif from Canadian Hydrographic Service NONNA-100...\n",
      "Downloading CA2_5000N05700W.tif from Canadian Hydrographic Service NONNA-100...\n",
      "Downloading CA2_5000N05800W.tif from Canadian Hydrographic Service NONNA-100...\n",
      "Downloading CA2_5000N05900W.tif from Canadian Hydrographic Service NONNA-100...\n",
      "Downloading CA2_5000N06000W.tif from Canadian Hydrographic Service NONNA-100...\n",
      "Downloading CA2_5000N06100W.tif from Canadian Hydrographic Service NONNA-100...\n",
      "Downloading CA2_5000N06200W.tif from Canadian Hydrographic Service NONNA-100...\n",
      "Downloading CA2_5000N06300W.tif from Canadian Hydrographic Service NONNA-100...\n",
      "Downloading CA2_5000N06400W.tif from Canadian Hydrographic Service NONNA-100...\n",
      "Downloading CA2_5000N06500W.tif from Canadian Hydrographic Service NONNA-100...\n",
      "Downloading CA2_5000N06600W.tif from Canadian Hydrographic Service NONNA-100...\n",
      "Downloading CA2_5000N06700W.tif from Canadian Hydrographic Service NONNA-100...\n",
      "Downloading CA2_5100N05600W.tif from Canadian Hydrographic Service NONNA-100...\n",
      "Downloading CA2_5100N05700W.tif from Canadian Hydrographic Service NONNA-100...\n",
      "Downloading CA2_5100N05800W.tif from Canadian Hydrographic Service NONNA-100...\n",
      "Downloading CA2_5100N05900W.tif from Canadian Hydrographic Service NONNA-100...\n"
     ]
    },
    {
     "ename": "IndexError",
     "evalue": "boolean index did not match indexed array along dimension 1; dimension is 1002 but corresponding boolean dimension is 1001",
     "output_type": "error",
     "traceback": [
      "\u001b[0;31m---------------------------------------------------------------------------\u001b[0m",
      "\u001b[0;31mIndexError\u001b[0m                                Traceback (most recent call last)",
      "\u001b[0;32m<ipython-input-77-b9b377d7ea3c>\u001b[0m in \u001b[0;36m<module>\u001b[0;34m()\u001b[0m\n\u001b[1;32m      1\u001b[0m \u001b[0mbathysource\u001b[0m \u001b[0;34m=\u001b[0m \u001b[0mchs\u001b[0m\u001b[0;34m(\u001b[0m\u001b[0;34m)\u001b[0m\u001b[0;34m\u001b[0m\u001b[0;34m\u001b[0m\u001b[0m\n\u001b[0;32m----> 2\u001b[0;31m \u001b[0mbathy\u001b[0m \u001b[0;34m=\u001b[0m \u001b[0mbathysource\u001b[0m\u001b[0;34m.\u001b[0m\u001b[0mload_bathymetry\u001b[0m\u001b[0;34m(\u001b[0m\u001b[0msouth\u001b[0m\u001b[0;34m=\u001b[0m\u001b[0msouth\u001b[0m\u001b[0;34m,\u001b[0m \u001b[0mnorth\u001b[0m\u001b[0;34m=\u001b[0m\u001b[0mnorth\u001b[0m\u001b[0;34m,\u001b[0m \u001b[0mwest\u001b[0m\u001b[0;34m=\u001b[0m\u001b[0mwest\u001b[0m\u001b[0;34m,\u001b[0m \u001b[0meast\u001b[0m\u001b[0;34m=\u001b[0m\u001b[0meast\u001b[0m\u001b[0;34m)\u001b[0m\u001b[0;34m\u001b[0m\u001b[0;34m\u001b[0m\u001b[0m\n\u001b[0m",
      "\u001b[0;32m/home/matt_s/kadlu/kadlu/geospatial/data_sources/chs.py\u001b[0m in \u001b[0;36mload_bathymetry\u001b[0;34m(self, south, north, west, east)\u001b[0m\n\u001b[1;32m    211\u001b[0m \u001b[0;32mclass\u001b[0m \u001b[0mChs\u001b[0m\u001b[0;34m(\u001b[0m\u001b[0;34m)\u001b[0m\u001b[0;34m:\u001b[0m\u001b[0;34m\u001b[0m\u001b[0;34m\u001b[0m\u001b[0m\n\u001b[1;32m    212\u001b[0m     \u001b[0;34m\"\"\" collection of module functions for fetching and loading. abstracted to include a seperate function for each variable \"\"\"\u001b[0m\u001b[0;34m\u001b[0m\u001b[0;34m\u001b[0m\u001b[0m\n\u001b[0;32m--> 213\u001b[0;31m \u001b[0;34m\u001b[0m\u001b[0m\n\u001b[0m\u001b[1;32m    214\u001b[0m     \u001b[0;32mdef\u001b[0m \u001b[0mfetch_bathymetry\u001b[0m\u001b[0;34m(\u001b[0m\u001b[0mself\u001b[0m\u001b[0;34m,\u001b[0m \u001b[0msouth\u001b[0m\u001b[0;34m=\u001b[0m\u001b[0;36m44.4\u001b[0m\u001b[0;34m,\u001b[0m \u001b[0mnorth\u001b[0m\u001b[0;34m=\u001b[0m\u001b[0;36m44.7\u001b[0m\u001b[0;34m,\u001b[0m \u001b[0mwest\u001b[0m\u001b[0;34m=\u001b[0m\u001b[0;34m-\u001b[0m\u001b[0;36m64.4\u001b[0m\u001b[0;34m,\u001b[0m \u001b[0meast\u001b[0m\u001b[0;34m=\u001b[0m\u001b[0;34m-\u001b[0m\u001b[0;36m63.8\u001b[0m\u001b[0;34m)\u001b[0m\u001b[0;34m:\u001b[0m\u001b[0;34m\u001b[0m\u001b[0;34m\u001b[0m\u001b[0m\n\u001b[1;32m    215\u001b[0m         \u001b[0;32mreturn\u001b[0m \u001b[0mfetch_chs\u001b[0m\u001b[0;34m(\u001b[0m\u001b[0msouth\u001b[0m\u001b[0;34m,\u001b[0m \u001b[0mnorth\u001b[0m\u001b[0;34m,\u001b[0m \u001b[0mwest\u001b[0m\u001b[0;34m,\u001b[0m \u001b[0meast\u001b[0m\u001b[0;34m)\u001b[0m\u001b[0;34m\u001b[0m\u001b[0;34m\u001b[0m\u001b[0m\n",
      "\u001b[0;32m/home/matt_s/kadlu/kadlu/geospatial/data_sources/chs.py\u001b[0m in \u001b[0;36mload_chs\u001b[0;34m(south, north, west, east, band_id)\u001b[0m\n\u001b[1;32m    168\u001b[0m     \u001b[0;32mfor\u001b[0m \u001b[0mfilepath\u001b[0m \u001b[0;32min\u001b[0m \u001b[0mfnames\u001b[0m\u001b[0;34m:\u001b[0m\u001b[0;34m\u001b[0m\u001b[0;34m\u001b[0m\u001b[0m\n\u001b[1;32m    169\u001b[0m         \u001b[0;32mtry\u001b[0m\u001b[0;34m:\u001b[0m\u001b[0;34m\u001b[0m\u001b[0;34m\u001b[0m\u001b[0m\n\u001b[0;32m--> 170\u001b[0;31m             \u001b[0;31m# load data from chs file (bathy,lat,lon)\u001b[0m\u001b[0;34m\u001b[0m\u001b[0;34m\u001b[0m\u001b[0;34m\u001b[0m\u001b[0m\n\u001b[0m\u001b[1;32m    171\u001b[0m             \u001b[0mz\u001b[0m\u001b[0;34m,\u001b[0m\u001b[0my\u001b[0m\u001b[0;34m,\u001b[0m\u001b[0mx\u001b[0m \u001b[0;34m=\u001b[0m \u001b[0mload_chs_file\u001b[0m\u001b[0;34m(\u001b[0m\u001b[0mfilepath\u001b[0m\u001b[0;34m,\u001b[0m \u001b[0mband_id\u001b[0m\u001b[0;34m)\u001b[0m\u001b[0;34m\u001b[0m\u001b[0;34m\u001b[0m\u001b[0m\n\u001b[1;32m    172\u001b[0m \u001b[0;34m\u001b[0m\u001b[0m\n",
      "\u001b[0;32m/home/matt_s/kadlu/kadlu/geospatial/data_sources/chs.py\u001b[0m in \u001b[0;36mload_chs_file\u001b[0;34m(filepath, band_id)\u001b[0m\n\u001b[1;32m    198\u001b[0m     \u001b[0mvalues\u001b[0m\u001b[0;34m[\u001b[0m\u001b[0mvalues\u001b[0m \u001b[0;34m==\u001b[0m \u001b[0mnodata\u001b[0m\u001b[0;34m]\u001b[0m \u001b[0;34m=\u001b[0m \u001b[0mnp\u001b[0m\u001b[0;34m.\u001b[0m\u001b[0mnan\u001b[0m\u001b[0;34m\u001b[0m\u001b[0;34m\u001b[0m\u001b[0m\n\u001b[1;32m    199\u001b[0m     \u001b[0mbathy\u001b[0m \u001b[0;34m=\u001b[0m \u001b[0mnp\u001b[0m\u001b[0;34m.\u001b[0m\u001b[0mma\u001b[0m\u001b[0;34m.\u001b[0m\u001b[0mmasked_invalid\u001b[0m\u001b[0;34m(\u001b[0m\u001b[0mvalues\u001b[0m\u001b[0;34m)\u001b[0m\u001b[0;34m\u001b[0m\u001b[0;34m\u001b[0m\u001b[0m\n\u001b[0;32m--> 200\u001b[0;31m     \u001b[0;31m# select non-masked entries\u001b[0m\u001b[0;34m\u001b[0m\u001b[0;34m\u001b[0m\u001b[0;34m\u001b[0m\u001b[0m\n\u001b[0m\u001b[1;32m    201\u001b[0m     \u001b[0mz\u001b[0m \u001b[0;34m=\u001b[0m \u001b[0mnp\u001b[0m\u001b[0;34m.\u001b[0m\u001b[0mflip\u001b[0m\u001b[0;34m(\u001b[0m\u001b[0mbathy\u001b[0m\u001b[0;34m,\u001b[0m \u001b[0maxis\u001b[0m\u001b[0;34m=\u001b[0m\u001b[0;36m0\u001b[0m\u001b[0;34m)\u001b[0m\u001b[0;34m\u001b[0m\u001b[0;34m\u001b[0m\u001b[0m\n\u001b[1;32m    202\u001b[0m     \u001b[0mlat\u001b[0m\u001b[0;34m,\u001b[0m \u001b[0mlon\u001b[0m \u001b[0;34m=\u001b[0m \u001b[0mlatlon\u001b[0m\u001b[0;34m(\u001b[0m\u001b[0mfilepath\u001b[0m\u001b[0;34m)\u001b[0m\u001b[0;34m\u001b[0m\u001b[0;34m\u001b[0m\u001b[0m\n",
      "\u001b[0;31mIndexError\u001b[0m: boolean index did not match indexed array along dimension 1; dimension is 1002 but corresponding boolean dimension is 1001"
     ]
    }
   ],
   "source": [
    "bathysource = chs()\n",
    "bathy = bathysource.load_bathymetry(south=south, north=north, west=west, east=east)"
   ]
  },
  {
   "cell_type": "code",
   "execution_count": null,
   "metadata": {},
   "outputs": [],
   "source": [
    "bathy = bathysource.load_bathymetry(south=south, north=north, west=west, east=east)"
   ]
  },
  {
   "cell_type": "code",
   "execution_count": 71,
   "metadata": {},
   "outputs": [],
   "source": [
    "from kadlu.geospatial.ocean import Ocean\n",
    "from kadlu.sound.sound_speed import SoundSpeed \n",
    "from kadlu.geospatial.data_sources.fetch_util import storage_cfg"
   ]
  },
  {
   "cell_type": "code",
   "execution_count": 85,
   "metadata": {},
   "outputs": [
    {
     "data": {
      "text/plain": [
       "<module 'kadlu.geospatial.data_sources.chs' from '/home/matt_s/kadlu/kadlu/geospatial/data_sources/chs.py'>"
      ]
     },
     "execution_count": 85,
     "metadata": {},
     "output_type": "execute_result"
    }
   ],
   "source": [
    "import kadlu\n",
    "from kadlu.geospatial.data_sources import chs\n",
    "reload(kadlu.geospatial.data_sources.chs)"
   ]
  },
  {
   "cell_type": "code",
   "execution_count": 101,
   "metadata": {},
   "outputs": [
    {
     "name": "stdout",
     "output_type": "stream",
     "text": [
      "/home/matt_s/kadlu/storage/\n",
      "Files exist, skipping retrieval...\n"
     ]
    }
   ],
   "source": [
    "bathysource = chs.Chs()\n",
    "bathy = bathysource.load_bathymetry(south=50, north=53, west=-52, east=-49)"
   ]
  },
  {
   "cell_type": "code",
   "execution_count": 102,
   "metadata": {},
   "outputs": [
    {
     "data": {
      "text/plain": [
       "(array([], dtype=float64), array([], dtype=float64), array([], dtype=float64))"
      ]
     },
     "execution_count": 102,
     "metadata": {},
     "output_type": "execute_result"
    }
   ],
   "source": [
    "bathy"
   ]
  },
  {
   "cell_type": "code",
   "execution_count": 103,
   "metadata": {
    "scrolled": true
   },
   "outputs": [
    {
     "name": "stdout",
     "output_type": "stream",
     "text": [
      "/home/matt_s/kadlu/storage/\n",
      "Downloading CA2_4400N05600W.tif from Canadian Hydrographic Service NONNA-100...\n",
      "Downloading CA2_4400N05700W.tif from Canadian Hydrographic Service NONNA-100...\n",
      "Downloading CA2_4400N05800W.tif from Canadian Hydrographic Service NONNA-100...\n",
      "Downloading CA2_4400N05900W.tif from Canadian Hydrographic Service NONNA-100...\n",
      "Downloading CA2_4400N06000W.tif from Canadian Hydrographic Service NONNA-100...\n",
      "Downloading CA2_4400N06100W.tif from Canadian Hydrographic Service NONNA-100...\n",
      "Downloading CA2_4400N06200W.tif from Canadian Hydrographic Service NONNA-100...\n",
      "Downloading CA2_4400N06300W.tif from Canadian Hydrographic Service NONNA-100...\n",
      "Downloading CA2_4400N06400W.tif from Canadian Hydrographic Service NONNA-100...\n",
      "Downloading CA2_4400N06500W.tif from Canadian Hydrographic Service NONNA-100...\n",
      "Downloading CA2_4400N06600W.tif from Canadian Hydrographic Service NONNA-100...\n",
      "Downloading CA2_4400N06700W.tif from Canadian Hydrographic Service NONNA-100...\n",
      "Downloading CA2_4400N06800W.tif from Canadian Hydrographic Service NONNA-100...\n",
      "Downloading CA2_4500N05600W.tif from Canadian Hydrographic Service NONNA-100...\n",
      "Downloading CA2_4500N05700W.tif from Canadian Hydrographic Service NONNA-100...\n",
      "Downloading CA2_4500N05800W.tif from Canadian Hydrographic Service NONNA-100...\n",
      "Downloading CA2_4500N05900W.tif from Canadian Hydrographic Service NONNA-100...\n",
      "Downloading CA2_4500N06000W.tif from Canadian Hydrographic Service NONNA-100...\n",
      "Downloading CA2_4500N06100W.tif from Canadian Hydrographic Service NONNA-100...\n",
      "Downloading CA2_4500N06200W.tif from Canadian Hydrographic Service NONNA-100...\n",
      "Downloading CA2_4500N06300W.tif from Canadian Hydrographic Service NONNA-100...\n",
      "Downloading CA2_4500N06400W.tif from Canadian Hydrographic Service NONNA-100...\n",
      "Downloading CA2_4500N06500W.tif from Canadian Hydrographic Service NONNA-100...\n",
      "Downloading CA2_4500N06600W.tif from Canadian Hydrographic Service NONNA-100...\n",
      "Downloading CA2_4500N06700W.tif from Canadian Hydrographic Service NONNA-100...\n",
      "Downloading CA2_4500N06800W.tif from Canadian Hydrographic Service NONNA-100...\n",
      "Downloading CA2_4600N05600W.tif from Canadian Hydrographic Service NONNA-100...\n",
      "Downloading CA2_4600N05700W.tif from Canadian Hydrographic Service NONNA-100...\n",
      "Downloading CA2_4600N05800W.tif from Canadian Hydrographic Service NONNA-100...\n",
      "Downloading CA2_4600N05900W.tif from Canadian Hydrographic Service NONNA-100...\n",
      "Downloading CA2_4600N06000W.tif from Canadian Hydrographic Service NONNA-100...\n",
      "Downloading CA2_4600N06100W.tif from Canadian Hydrographic Service NONNA-100...\n",
      "Downloading CA2_4600N06200W.tif from Canadian Hydrographic Service NONNA-100...\n",
      "Downloading CA2_4600N06300W.tif from Canadian Hydrographic Service NONNA-100...\n",
      "Downloading CA2_4600N06400W.tif from Canadian Hydrographic Service NONNA-100...\n",
      "Downloading CA2_4600N06500W.tif from Canadian Hydrographic Service NONNA-100...\n",
      "Downloading CA2_4600N06600W.tif from Canadian Hydrographic Service NONNA-100...\n",
      "Downloading CA2_4600N07100W.tif from Canadian Hydrographic Service NONNA-100...\n",
      "Downloading CA2_4700N05600W.tif from Canadian Hydrographic Service NONNA-100...\n",
      "Downloading CA2_4700N05700W.tif from Canadian Hydrographic Service NONNA-100...\n",
      "Downloading CA2_4700N05800W.tif from Canadian Hydrographic Service NONNA-100...\n",
      "Downloading CA2_4700N05900W.tif from Canadian Hydrographic Service NONNA-100...\n",
      "Downloading CA2_4700N06000W.tif from Canadian Hydrographic Service NONNA-100...\n",
      "Downloading CA2_4700N06100W.tif from Canadian Hydrographic Service NONNA-100...\n",
      "Downloading CA2_4700N06200W.tif from Canadian Hydrographic Service NONNA-100...\n",
      "Downloading CA2_4700N06300W.tif from Canadian Hydrographic Service NONNA-100...\n",
      "Downloading CA2_4700N06400W.tif from Canadian Hydrographic Service NONNA-100...\n",
      "Downloading CA2_4700N06500W.tif from Canadian Hydrographic Service NONNA-100...\n",
      "Downloading CA2_4700N06600W.tif from Canadian Hydrographic Service NONNA-100...\n",
      "Downloading CA2_4700N06700W.tif from Canadian Hydrographic Service NONNA-100...\n",
      "Downloading CA2_4700N07000W.tif from Canadian Hydrographic Service NONNA-100...\n",
      "Downloading CA2_4700N07100W.tif from Canadian Hydrographic Service NONNA-100...\n",
      "Downloading CA2_4800N05800W.tif from Canadian Hydrographic Service NONNA-100...\n",
      "Downloading CA2_4800N05900W.tif from Canadian Hydrographic Service NONNA-100...\n",
      "Downloading CA2_4800N06000W.tif from Canadian Hydrographic Service NONNA-100...\n",
      "Downloading CA2_4800N06100W.tif from Canadian Hydrographic Service NONNA-100...\n",
      "Downloading CA2_4800N06200W.tif from Canadian Hydrographic Service NONNA-100...\n",
      "Downloading CA2_4800N06300W.tif from Canadian Hydrographic Service NONNA-100...\n",
      "Downloading CA2_4800N06400W.tif from Canadian Hydrographic Service NONNA-100...\n",
      "Downloading CA2_4800N06500W.tif from Canadian Hydrographic Service NONNA-100...\n",
      "Downloading CA2_4800N06600W.tif from Canadian Hydrographic Service NONNA-100...\n",
      "Downloading CA2_4800N06700W.tif from Canadian Hydrographic Service NONNA-100...\n",
      "Downloading CA2_4800N06800W.tif from Canadian Hydrographic Service NONNA-100...\n",
      "Downloading CA2_4800N06900W.tif from Canadian Hydrographic Service NONNA-100...\n",
      "Downloading CA2_4800N07000W.tif from Canadian Hydrographic Service NONNA-100...\n",
      "Downloading CA2_4800N07100W.tif from Canadian Hydrographic Service NONNA-100...\n",
      "Downloading CA2_4900N05600W.tif from Canadian Hydrographic Service NONNA-100...\n",
      "Downloading CA2_4900N05700W.tif from Canadian Hydrographic Service NONNA-100...\n",
      "Downloading CA2_4900N05800W.tif from Canadian Hydrographic Service NONNA-100...\n",
      "Downloading CA2_4900N05900W.tif from Canadian Hydrographic Service NONNA-100...\n",
      "Downloading CA2_4900N06000W.tif from Canadian Hydrographic Service NONNA-100...\n",
      "Downloading CA2_4900N06100W.tif from Canadian Hydrographic Service NONNA-100...\n",
      "Downloading CA2_4900N06200W.tif from Canadian Hydrographic Service NONNA-100...\n",
      "Downloading CA2_4900N06300W.tif from Canadian Hydrographic Service NONNA-100...\n",
      "Downloading CA2_4900N06400W.tif from Canadian Hydrographic Service NONNA-100...\n",
      "Downloading CA2_4900N06500W.tif from Canadian Hydrographic Service NONNA-100...\n",
      "Downloading CA2_4900N06600W.tif from Canadian Hydrographic Service NONNA-100...\n",
      "Downloading CA2_4900N06700W.tif from Canadian Hydrographic Service NONNA-100...\n",
      "Downloading CA2_4900N06800W.tif from Canadian Hydrographic Service NONNA-100...\n",
      "Downloading CA2_4900N06900W.tif from Canadian Hydrographic Service NONNA-100...\n",
      "Downloading CA2_5000N05600W.tif from Canadian Hydrographic Service NONNA-100...\n",
      "Downloading CA2_5000N05700W.tif from Canadian Hydrographic Service NONNA-100...\n",
      "Downloading CA2_5000N05800W.tif from Canadian Hydrographic Service NONNA-100...\n",
      "Downloading CA2_5000N05900W.tif from Canadian Hydrographic Service NONNA-100...\n",
      "Downloading CA2_5000N06000W.tif from Canadian Hydrographic Service NONNA-100...\n",
      "Downloading CA2_5000N06100W.tif from Canadian Hydrographic Service NONNA-100...\n",
      "Downloading CA2_5000N06200W.tif from Canadian Hydrographic Service NONNA-100...\n",
      "Downloading CA2_5000N06300W.tif from Canadian Hydrographic Service NONNA-100...\n",
      "Downloading CA2_5000N06400W.tif from Canadian Hydrographic Service NONNA-100...\n",
      "Downloading CA2_5000N06500W.tif from Canadian Hydrographic Service NONNA-100...\n",
      "Downloading CA2_5000N06600W.tif from Canadian Hydrographic Service NONNA-100...\n",
      "Downloading CA2_5000N06700W.tif from Canadian Hydrographic Service NONNA-100...\n",
      "Downloading CA2_5100N05600W.tif from Canadian Hydrographic Service NONNA-100...\n",
      "Downloading CA2_5100N05700W.tif from Canadian Hydrographic Service NONNA-100...\n",
      "Downloading CA2_5100N05800W.tif from Canadian Hydrographic Service NONNA-100...\n",
      "Downloading CA2_5100N05900W.tif from Canadian Hydrographic Service NONNA-100...\n",
      "boolean index did not match indexed array along dimension 1; dimension is 1002 but corresponding boolean dimension is 1001\n",
      "boolean index did not match indexed array along dimension 1; dimension is 1002 but corresponding boolean dimension is 1001\n",
      "boolean index did not match indexed array along dimension 1; dimension is 1002 but corresponding boolean dimension is 1001\n",
      "boolean index did not match indexed array along dimension 1; dimension is 1002 but corresponding boolean dimension is 1001\n",
      "boolean index did not match indexed array along dimension 1; dimension is 1002 but corresponding boolean dimension is 1001\n",
      "boolean index did not match indexed array along dimension 1; dimension is 1002 but corresponding boolean dimension is 1001\n"
     ]
    },
    {
     "name": "stdout",
     "output_type": "stream",
     "text": [
      "boolean index did not match indexed array along dimension 1; dimension is 1002 but corresponding boolean dimension is 1001\n",
      "boolean index did not match indexed array along dimension 1; dimension is 1002 but corresponding boolean dimension is 1001\n",
      "boolean index did not match indexed array along dimension 1; dimension is 1002 but corresponding boolean dimension is 1001\n",
      "boolean index did not match indexed array along dimension 1; dimension is 1002 but corresponding boolean dimension is 1001\n",
      "boolean index did not match indexed array along dimension 1; dimension is 1002 but corresponding boolean dimension is 1001\n",
      "boolean index did not match indexed array along dimension 1; dimension is 1002 but corresponding boolean dimension is 1001\n",
      "boolean index did not match indexed array along dimension 1; dimension is 1002 but corresponding boolean dimension is 1001\n",
      "boolean index did not match indexed array along dimension 1; dimension is 1002 but corresponding boolean dimension is 1001\n",
      "boolean index did not match indexed array along dimension 1; dimension is 1002 but corresponding boolean dimension is 1001\n",
      "boolean index did not match indexed array along dimension 1; dimension is 1002 but corresponding boolean dimension is 1001\n",
      "boolean index did not match indexed array along dimension 1; dimension is 1002 but corresponding boolean dimension is 1001\n",
      "boolean index did not match indexed array along dimension 1; dimension is 1002 but corresponding boolean dimension is 1001\n",
      "boolean index did not match indexed array along dimension 1; dimension is 1002 but corresponding boolean dimension is 1001\n",
      "boolean index did not match indexed array along dimension 1; dimension is 1002 but corresponding boolean dimension is 1001\n",
      "boolean index did not match indexed array along dimension 1; dimension is 1002 but corresponding boolean dimension is 1001\n",
      "boolean index did not match indexed array along dimension 1; dimension is 1002 but corresponding boolean dimension is 1001\n",
      "boolean index did not match indexed array along dimension 1; dimension is 1002 but corresponding boolean dimension is 1001\n",
      "boolean index did not match indexed array along dimension 1; dimension is 1002 but corresponding boolean dimension is 1001\n"
     ]
    },
    {
     "ename": "ValueError",
     "evalue": "zero-size array to reduction operation minimum which has no identity",
     "output_type": "error",
     "traceback": [
      "\u001b[0;31m---------------------------------------------------------------------------\u001b[0m",
      "\u001b[0;31mValueError\u001b[0m                                Traceback (most recent call last)",
      "\u001b[0;32m<ipython-input-103-90312b709229>\u001b[0m in \u001b[0;36m<module>\u001b[0;34m()\u001b[0m\n\u001b[1;32m      1\u001b[0m \u001b[0moceantest\u001b[0m \u001b[0;34m=\u001b[0m \u001b[0mOcean\u001b[0m\u001b[0;34m(\u001b[0m\u001b[0msalinity\u001b[0m\u001b[0;34m=\u001b[0m\u001b[0msalinity\u001b[0m\u001b[0;34m,\u001b[0m \u001b[0mtemp\u001b[0m\u001b[0;34m=\u001b[0m\u001b[0mtemp\u001b[0m\u001b[0;34m,\u001b[0m \u001b[0mbathy\u001b[0m\u001b[0;34m=\u001b[0m\u001b[0;34m'CHS'\u001b[0m\u001b[0;34m)\u001b[0m\u001b[0;34m\u001b[0m\u001b[0;34m\u001b[0m\u001b[0m\n\u001b[0;32m----> 2\u001b[0;31m \u001b[0moceantest\u001b[0m\u001b[0;34m.\u001b[0m\u001b[0mload_bathy\u001b[0m\u001b[0;34m(\u001b[0m\u001b[0msouth\u001b[0m\u001b[0;34m=\u001b[0m\u001b[0msouth\u001b[0m\u001b[0;34m,\u001b[0m \u001b[0mnorth\u001b[0m\u001b[0;34m=\u001b[0m\u001b[0mnorth\u001b[0m\u001b[0;34m,\u001b[0m \u001b[0mwest\u001b[0m\u001b[0;34m=\u001b[0m\u001b[0mwest\u001b[0m\u001b[0;34m,\u001b[0m \u001b[0meast\u001b[0m\u001b[0;34m=\u001b[0m\u001b[0meast\u001b[0m\u001b[0;34m,\u001b[0m \u001b[0mstorage\u001b[0m\u001b[0;34m=\u001b[0m\u001b[0mstorage_cfg\u001b[0m\u001b[0;34m(\u001b[0m\u001b[0;34m)\u001b[0m\u001b[0;34m)\u001b[0m\u001b[0;34m\u001b[0m\u001b[0;34m\u001b[0m\u001b[0m\n\u001b[0m",
      "\u001b[0;32m/home/matt_s/kadlu/kadlu/geospatial/ocean.py\u001b[0m in \u001b[0;36mload_bathy\u001b[0;34m(self, south, north, west, east, storage)\u001b[0m\n\u001b[1;32m    128\u001b[0m                 self.bathy_interp = Interpolator2D(values=self.bathy_data[0],\\\n\u001b[1;32m    129\u001b[0m                         \u001b[0mlats\u001b[0m\u001b[0;34m=\u001b[0m\u001b[0mself\u001b[0m\u001b[0;34m.\u001b[0m\u001b[0mbathy_data\u001b[0m\u001b[0;34m[\u001b[0m\u001b[0;36m1\u001b[0m\u001b[0;34m]\u001b[0m\u001b[0;34m,\u001b[0m \u001b[0mlons\u001b[0m\u001b[0;34m=\u001b[0m\u001b[0mself\u001b[0m\u001b[0;34m.\u001b[0m\u001b[0mbathy_data\u001b[0m\u001b[0;34m[\u001b[0m\u001b[0;36m2\u001b[0m\u001b[0;34m]\u001b[0m\u001b[0;34m,\u001b[0m \u001b[0morigin\u001b[0m\u001b[0;34m=\u001b[0m\u001b[0mself\u001b[0m\u001b[0;34m.\u001b[0m\u001b[0morigin\u001b[0m\u001b[0;34m,\u001b[0m\u001b[0;31m\\\u001b[0m\u001b[0;34m\u001b[0m\u001b[0;34m\u001b[0m\u001b[0m\n\u001b[0;32m--> 130\u001b[0;31m                         method_irreg='regular', lats_reg=lats, lons_reg=lons)       \n\u001b[0m\u001b[1;32m    131\u001b[0m \u001b[0;34m\u001b[0m\u001b[0m\n\u001b[1;32m    132\u001b[0m             \u001b[0;32melif\u001b[0m \u001b[0mbathy\u001b[0m \u001b[0;34m==\u001b[0m \u001b[0;34m\"GEBCO\"\u001b[0m\u001b[0;34m:\u001b[0m\u001b[0;34m\u001b[0m\u001b[0;34m\u001b[0m\u001b[0m\n",
      "\u001b[0;32m/home/matt_s/kadlu/kadlu/geospatial/interpolation.py\u001b[0m in \u001b[0;36m__init__\u001b[0;34m(self, values, lats, lons, origin, method_irreg, lats_reg, lons_reg)\u001b[0m\n\u001b[1;32m    240\u001b[0m         \u001b[0;31m# necessary to resolve a mismatch between scipy and underlying Fortran code\u001b[0m\u001b[0;34m\u001b[0m\u001b[0;34m\u001b[0m\u001b[0;34m\u001b[0m\u001b[0m\n\u001b[1;32m    241\u001b[0m         \u001b[0;31m# https://github.com/scipy/scipy/issues/6556\u001b[0m\u001b[0;34m\u001b[0m\u001b[0;34m\u001b[0m\u001b[0;34m\u001b[0m\u001b[0m\n\u001b[0;32m--> 242\u001b[0;31m         \u001b[0;32mif\u001b[0m \u001b[0mnp\u001b[0m\u001b[0;34m.\u001b[0m\u001b[0mmin\u001b[0m\u001b[0;34m(\u001b[0m\u001b[0mlons_rad\u001b[0m\u001b[0;34m)\u001b[0m \u001b[0;34m<\u001b[0m \u001b[0;36m0\u001b[0m\u001b[0;34m:\u001b[0m\u001b[0;34m\u001b[0m\u001b[0;34m\u001b[0m\u001b[0m\n\u001b[0m\u001b[1;32m    243\u001b[0m             \u001b[0mself\u001b[0m\u001b[0;34m.\u001b[0m\u001b[0m_lon_corr\u001b[0m \u001b[0;34m=\u001b[0m \u001b[0mnp\u001b[0m\u001b[0;34m.\u001b[0m\u001b[0mpi\u001b[0m\u001b[0;34m\u001b[0m\u001b[0;34m\u001b[0m\u001b[0m\n\u001b[1;32m    244\u001b[0m         \u001b[0;32melse\u001b[0m\u001b[0;34m:\u001b[0m\u001b[0;34m\u001b[0m\u001b[0;34m\u001b[0m\u001b[0m\n",
      "\u001b[0;32m<__array_function__ internals>\u001b[0m in \u001b[0;36mamin\u001b[0;34m(*args, **kwargs)\u001b[0m\n",
      "\u001b[0;32m/home/matt_s/.local/lib/python3.6/site-packages/numpy/core/fromnumeric.py\u001b[0m in \u001b[0;36mamin\u001b[0;34m(a, axis, out, keepdims, initial, where)\u001b[0m\n\u001b[1;32m   2744\u001b[0m     \"\"\"\n\u001b[1;32m   2745\u001b[0m     return _wrapreduction(a, np.minimum, 'min', axis, None, out,\n\u001b[0;32m-> 2746\u001b[0;31m                           keepdims=keepdims, initial=initial, where=where)\n\u001b[0m\u001b[1;32m   2747\u001b[0m \u001b[0;34m\u001b[0m\u001b[0m\n\u001b[1;32m   2748\u001b[0m \u001b[0;34m\u001b[0m\u001b[0m\n",
      "\u001b[0;32m/home/matt_s/.local/lib/python3.6/site-packages/numpy/core/fromnumeric.py\u001b[0m in \u001b[0;36m_wrapreduction\u001b[0;34m(obj, ufunc, method, axis, dtype, out, **kwargs)\u001b[0m\n\u001b[1;32m     88\u001b[0m                 \u001b[0;32mreturn\u001b[0m \u001b[0mreduction\u001b[0m\u001b[0;34m(\u001b[0m\u001b[0maxis\u001b[0m\u001b[0;34m=\u001b[0m\u001b[0maxis\u001b[0m\u001b[0;34m,\u001b[0m \u001b[0mout\u001b[0m\u001b[0;34m=\u001b[0m\u001b[0mout\u001b[0m\u001b[0;34m,\u001b[0m \u001b[0;34m**\u001b[0m\u001b[0mpasskwargs\u001b[0m\u001b[0;34m)\u001b[0m\u001b[0;34m\u001b[0m\u001b[0;34m\u001b[0m\u001b[0m\n\u001b[1;32m     89\u001b[0m \u001b[0;34m\u001b[0m\u001b[0m\n\u001b[0;32m---> 90\u001b[0;31m     \u001b[0;32mreturn\u001b[0m \u001b[0mufunc\u001b[0m\u001b[0;34m.\u001b[0m\u001b[0mreduce\u001b[0m\u001b[0;34m(\u001b[0m\u001b[0mobj\u001b[0m\u001b[0;34m,\u001b[0m \u001b[0maxis\u001b[0m\u001b[0;34m,\u001b[0m \u001b[0mdtype\u001b[0m\u001b[0;34m,\u001b[0m \u001b[0mout\u001b[0m\u001b[0;34m,\u001b[0m \u001b[0;34m**\u001b[0m\u001b[0mpasskwargs\u001b[0m\u001b[0;34m)\u001b[0m\u001b[0;34m\u001b[0m\u001b[0;34m\u001b[0m\u001b[0m\n\u001b[0m\u001b[1;32m     91\u001b[0m \u001b[0;34m\u001b[0m\u001b[0m\n\u001b[1;32m     92\u001b[0m \u001b[0;34m\u001b[0m\u001b[0m\n",
      "\u001b[0;31mValueError\u001b[0m: zero-size array to reduction operation minimum which has no identity"
     ]
    }
   ],
   "source": [
    "oceantest = Ocean(salinity=salinity, temp=temp, bathy='CHS')\n",
    "oceantest.load_bathy(south=south, north=north, west=west, east=east, storage=storage_cfg())"
   ]
  },
  {
   "cell_type": "code",
   "execution_count": 68,
   "metadata": {},
   "outputs": [
    {
     "ename": "AssertionError",
     "evalue": "Bathymetric data have not been loaded",
     "output_type": "error",
     "traceback": [
      "\u001b[0;31m---------------------------------------------------------------------------\u001b[0m",
      "\u001b[0;31mAssertionError\u001b[0m                            Traceback (most recent call last)",
      "\u001b[0;32m<ipython-input-68-ab08d75c39fe>\u001b[0m in \u001b[0;36m<module>\u001b[0;34m()\u001b[0m\n\u001b[0;32m----> 1\u001b[0;31m \u001b[0msoundtest\u001b[0m \u001b[0;34m=\u001b[0m \u001b[0mSoundSpeed\u001b[0m\u001b[0;34m(\u001b[0m\u001b[0mocean\u001b[0m\u001b[0;34m=\u001b[0m\u001b[0moceantest\u001b[0m \u001b[0;34m)\u001b[0m\u001b[0;34m\u001b[0m\u001b[0;34m\u001b[0m\u001b[0m\n\u001b[0m",
      "\u001b[0;32m/home/matt_s/kadlu/kadlu/sound/sound_speed.py\u001b[0m in \u001b[0;36m__init__\u001b[0;34m(self, ocean, ssp, xy_res, num_depths, rel_err)\u001b[0m\n\u001b[1;32m     92\u001b[0m \u001b[0;34m\u001b[0m\u001b[0m\n\u001b[1;32m     93\u001b[0m             \u001b[0;31m# generate depth coordinates\u001b[0m\u001b[0;34m\u001b[0m\u001b[0;34m\u001b[0m\u001b[0;34m\u001b[0m\u001b[0m\n\u001b[0;32m---> 94\u001b[0;31m             \u001b[0mdepths\u001b[0m \u001b[0;34m=\u001b[0m \u001b[0mself\u001b[0m\u001b[0;34m.\u001b[0m\u001b[0m_depth_coordinates\u001b[0m\u001b[0;34m(\u001b[0m\u001b[0mocean\u001b[0m\u001b[0;34m,\u001b[0m \u001b[0mlats\u001b[0m\u001b[0;34m,\u001b[0m \u001b[0mlons\u001b[0m\u001b[0;34m,\u001b[0m \u001b[0mnum_depths\u001b[0m\u001b[0;34m=\u001b[0m\u001b[0mnum_depths\u001b[0m\u001b[0;34m,\u001b[0m \u001b[0mrel_err\u001b[0m\u001b[0;34m=\u001b[0m\u001b[0mrel_err\u001b[0m\u001b[0;34m)\u001b[0m\u001b[0;34m\u001b[0m\u001b[0;34m\u001b[0m\u001b[0m\n\u001b[0m\u001b[1;32m     95\u001b[0m \u001b[0;34m\u001b[0m\u001b[0m\n\u001b[1;32m     96\u001b[0m             \u001b[0;31m# temperature and salinity\u001b[0m\u001b[0;34m\u001b[0m\u001b[0;34m\u001b[0m\u001b[0;34m\u001b[0m\u001b[0m\n",
      "\u001b[0;32m/home/matt_s/kadlu/kadlu/sound/sound_speed.py\u001b[0m in \u001b[0;36m_depth_coordinates\u001b[0;34m(self, ocean, lats, lons, num_depths, rel_err)\u001b[0m\n\u001b[1;32m    119\u001b[0m     \u001b[0;32mdef\u001b[0m \u001b[0m_depth_coordinates\u001b[0m\u001b[0;34m(\u001b[0m\u001b[0mself\u001b[0m\u001b[0;34m,\u001b[0m \u001b[0mocean\u001b[0m\u001b[0;34m,\u001b[0m \u001b[0mlats\u001b[0m\u001b[0;34m,\u001b[0m \u001b[0mlons\u001b[0m\u001b[0;34m,\u001b[0m \u001b[0mnum_depths\u001b[0m\u001b[0;34m,\u001b[0m \u001b[0mrel_err\u001b[0m\u001b[0;34m)\u001b[0m\u001b[0;34m:\u001b[0m\u001b[0;34m\u001b[0m\u001b[0;34m\u001b[0m\u001b[0m\n\u001b[1;32m    120\u001b[0m \u001b[0;34m\u001b[0m\u001b[0m\n\u001b[0;32m--> 121\u001b[0;31m         \u001b[0mseafloor_depth\u001b[0m \u001b[0;34m=\u001b[0m \u001b[0;34m-\u001b[0m\u001b[0mocean\u001b[0m\u001b[0;34m.\u001b[0m\u001b[0mbathy\u001b[0m\u001b[0;34m(\u001b[0m\u001b[0mx\u001b[0m\u001b[0;34m=\u001b[0m\u001b[0mlons\u001b[0m\u001b[0;34m,\u001b[0m \u001b[0my\u001b[0m\u001b[0;34m=\u001b[0m\u001b[0mlats\u001b[0m\u001b[0;34m,\u001b[0m \u001b[0mgrid\u001b[0m\u001b[0;34m=\u001b[0m\u001b[0;32mTrue\u001b[0m\u001b[0;34m,\u001b[0m \u001b[0mgeometry\u001b[0m\u001b[0;34m=\u001b[0m\u001b[0;34m'spherical'\u001b[0m\u001b[0;34m)\u001b[0m\u001b[0;34m\u001b[0m\u001b[0;34m\u001b[0m\u001b[0m\n\u001b[0m\u001b[1;32m    122\u001b[0m \u001b[0;34m\u001b[0m\u001b[0m\n\u001b[1;32m    123\u001b[0m         \u001b[0;31m# find deepest point\u001b[0m\u001b[0;34m\u001b[0m\u001b[0;34m\u001b[0m\u001b[0;34m\u001b[0m\u001b[0m\n",
      "\u001b[0;32m/home/matt_s/kadlu/kadlu/geospatial/ocean.py\u001b[0m in \u001b[0;36mbathy\u001b[0;34m(self, x, y, grid, geometry)\u001b[0m\n\u001b[1;32m    277\u001b[0m                 \u001b[0mz\u001b[0m\u001b[0;34m:\u001b[0m \u001b[0mInterpolated\u001b[0m \u001b[0mbathymetry\u001b[0m \u001b[0mvalues\u001b[0m\u001b[0;34m\u001b[0m\u001b[0;34m\u001b[0m\u001b[0m\n\u001b[1;32m    278\u001b[0m         \"\"\"\n\u001b[0;32m--> 279\u001b[0;31m         \u001b[0;32massert\u001b[0m \u001b[0mself\u001b[0m\u001b[0;34m.\u001b[0m\u001b[0mbathy_data\u001b[0m \u001b[0;32mis\u001b[0m \u001b[0;32mnot\u001b[0m \u001b[0;32mNone\u001b[0m\u001b[0;34m,\u001b[0m \u001b[0;34m\"Bathymetric data have not been loaded\"\u001b[0m\u001b[0;34m\u001b[0m\u001b[0;34m\u001b[0m\u001b[0m\n\u001b[0m\u001b[1;32m    280\u001b[0m \u001b[0;34m\u001b[0m\u001b[0m\n\u001b[1;32m    281\u001b[0m         \u001b[0;32mif\u001b[0m \u001b[0mx\u001b[0m \u001b[0;32mis\u001b[0m \u001b[0;32mNone\u001b[0m \u001b[0;32mand\u001b[0m \u001b[0my\u001b[0m \u001b[0;32mis\u001b[0m \u001b[0;32mNone\u001b[0m\u001b[0;34m:\u001b[0m\u001b[0;34m\u001b[0m\u001b[0;34m\u001b[0m\u001b[0m\n",
      "\u001b[0;31mAssertionError\u001b[0m: Bathymetric data have not been loaded"
     ]
    }
   ],
   "source": [
    "soundtest = SoundSpeed(ocean=oceantest )"
   ]
  },
  {
   "cell_type": "code",
   "execution_count": null,
   "metadata": {},
   "outputs": [],
   "source": []
  }
 ],
 "metadata": {
  "kernelspec": {
   "display_name": "Python 3",
   "language": "python",
   "name": "python3"
  },
  "language_info": {
   "codemirror_mode": {
    "name": "ipython",
    "version": 3
   },
   "file_extension": ".py",
   "mimetype": "text/x-python",
   "name": "python",
   "nbconvert_exporter": "python",
   "pygments_lexer": "ipython3",
   "version": "3.6.8"
  }
 },
 "nbformat": 4,
 "nbformat_minor": 2
}
