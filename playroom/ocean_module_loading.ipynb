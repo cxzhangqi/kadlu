{
 "cells": [
  {
   "cell_type": "code",
   "execution_count": 1,
   "metadata": {},
   "outputs": [],
   "source": [
    "from kadlu.geospatial.ocean import Ocean\n",
    "from datetime import datetime\n",
    "import numpy as np"
   ]
  },
  {
   "cell_type": "code",
   "execution_count": 2,
   "metadata": {},
   "outputs": [
    {
     "data": {
      "text/plain": [
       "{'start': datetime.datetime(2015, 1, 9, 0, 0),\n",
       " 'end': datetime.datetime(2015, 1, 9, 3, 0),\n",
       " 'south': 44,\n",
       " 'west': -64.5,\n",
       " 'north': 46,\n",
       " 'east': -62.5,\n",
       " 'top': 0,\n",
       " 'bottom': 5000}"
      ]
     },
     "execution_count": 2,
     "metadata": {},
     "output_type": "execute_result"
    }
   ],
   "source": [
    "# small utility function for providing testing parameters\n",
    "from kadlu.geospatial.data_sources.data_util import gen_kwargs\n",
    "kwargs = gen_kwargs()\n",
    "kwargs"
   ]
  },
  {
   "cell_type": "markdown",
   "metadata": {},
   "source": [
    "#### fetch and load the data into ocean module"
   ]
  },
  {
   "cell_type": "code",
   "execution_count": 3,
   "metadata": {
    "scrolled": true
   },
   "outputs": [
    {
     "name": "stdout",
     "output_type": "stream",
     "text": [
      "NOTICE: data will be averaged over time frames for interpolation. for finer temporal resolution, define smaller time bounds\n",
      "preparing interpolations...\n",
      "interpolations computed in 2.971203 seconds\n"
     ]
    }
   ],
   "source": [
    "t1 = datetime.now()\n",
    "o = Ocean(cache=False, fetch=False, **kwargs)\n",
    "t2 = datetime.now()\n",
    "print(f'interpolations computed in {(t2-t1).seconds}.{(t2-t1).microseconds} seconds')"
   ]
  },
  {
   "cell_type": "markdown",
   "metadata": {},
   "source": [
    "#### loading data using uniform wave values (passed as float or int)"
   ]
  },
  {
   "cell_type": "code",
   "execution_count": 5,
   "metadata": {},
   "outputs": [
    {
     "name": "stdout",
     "output_type": "stream",
     "text": [
      "NOTICE: data will be averaged over time frames for interpolation. for finer temporal resolution, define smaller time bounds\n",
      "preparing interpolations...\n"
     ]
    }
   ],
   "source": [
    "# ocean module also accepts floats\n",
    "o = Ocean(cache=False, fetch=False, load_wavedir=0, load_waveheight=0, load_waveperiod=0, **kwargs)"
   ]
  },
  {
   "cell_type": "markdown",
   "metadata": {},
   "source": [
    "#### loading bathymetry from an array of testing values"
   ]
  },
  {
   "cell_type": "code",
   "execution_count": 6,
   "metadata": {},
   "outputs": [
    {
     "data": {
      "text/plain": [
       "(3, 100)"
      ]
     },
     "execution_count": 6,
     "metadata": {},
     "output_type": "execute_result"
    }
   ],
   "source": [
    "load_bathymetry = np.array((\n",
    "    np.random.randint(0, 500, 100) *-1,\n",
    "    np.array([lat for lat in range(4400, 4600, 2)]) / 100,\n",
    "    np.array([lon for lon in range(-6450, -6250, 2)]) / 100\n",
    "))\n",
    "load_bathymetry.shape"
   ]
  },
  {
   "cell_type": "code",
   "execution_count": 7,
   "metadata": {},
   "outputs": [
    {
     "name": "stdout",
     "output_type": "stream",
     "text": [
      "NOTICE: data will be averaged over time frames for interpolation. for finer temporal resolution, define smaller time bounds\n",
      "preparing interpolations...\n"
     ]
    }
   ],
   "source": [
    "o = Ocean(cache=False, load_bathymetry=load_bathymetry, **kwargs)"
   ]
  },
  {
   "cell_type": "markdown",
   "metadata": {},
   "source": [
    "#### loading bathymetry from strings"
   ]
  },
  {
   "cell_type": "code",
   "execution_count": 8,
   "metadata": {},
   "outputs": [
    {
     "name": "stdout",
     "output_type": "stream",
     "text": [
      "NOTICE: data will be averaged over time frames for interpolation. for finer temporal resolution, define smaller time bounds\n",
      "preparing interpolations...\n"
     ]
    }
   ],
   "source": [
    "o = Ocean(cache=False, load_wavedir='era5', load_waveheight='era5', load_waveperiod='era5', **kwargs)"
   ]
  },
  {
   "cell_type": "code",
   "execution_count": 9,
   "metadata": {},
   "outputs": [
    {
     "data": {
      "text/plain": [
       "-30000.0"
      ]
     },
     "execution_count": 9,
     "metadata": {},
     "output_type": "execute_result"
    }
   ],
   "source": [
    "o.temp(lat=[45], lon=[-63], depth=[100])"
   ]
  }
 ],
 "metadata": {
  "kernelspec": {
   "display_name": "Python 3",
   "language": "python",
   "name": "python3"
  },
  "language_info": {
   "codemirror_mode": {
    "name": "ipython",
    "version": 3
   },
   "file_extension": ".py",
   "mimetype": "text/x-python",
   "name": "python",
   "nbconvert_exporter": "python",
   "pygments_lexer": "ipython3",
   "version": "3.8.1"
  }
 },
 "nbformat": 4,
 "nbformat_minor": 2
}
