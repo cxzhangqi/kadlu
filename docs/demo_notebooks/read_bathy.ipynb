{
 "cells": [
  {
   "cell_type": "markdown",
   "metadata": {},
   "source": [
    "# Tutorial: Extract bathymetry data from a matlab file\n",
    "This tutorial shows how to extract bathymetry data from a matlab file (*.mat)"
   ]
  },
  {
   "cell_type": "markdown",
   "metadata": {},
   "source": [
    "First, we creater a 'reader' for the data file. In doind so, we must specify the file's path, and the names of the variables containing the latitude and longitude coordinates and the bathymetry values.  "
   ]
  },
  {
   "cell_type": "code",
   "execution_count": 1,
   "metadata": {},
   "outputs": [],
   "source": [
    "from pyost.bathy_reader import BathyMatReader, LatLon\n",
    "\n",
    "filename = 'assets/BathyData_Mariana_500kmx500km.mat'\n",
    "\n",
    "reader = BathyMatReader(path=filename, lat_name='latgrat', lon_name='longrat', bathy_name='mat')"
   ]
  },
  {
   "cell_type": "markdown",
   "metadata": {},
   "source": [
    "Now, we can extract all the data, like this"
   ]
  },
  {
   "cell_type": "code",
   "execution_count": 2,
   "metadata": {},
   "outputs": [
    {
     "name": "stdout",
     "output_type": "stream",
     "text": [
      "[[-4832 -4702 -4634 ... -1729 -2393 -2349]\n",
      " [-4812 -4682 -4608 ... -1771 -2401 -2375]\n",
      " [-4782 -4646 -4572 ... -2255 -2431 -2625]\n",
      " ...\n",
      " [-4940 -4797 -5041 ... -3264 -3332 -3440]\n",
      " [-4889 -4815 -4658 ... -2704 -2528 -2596]\n",
      " [-4471 -4134 -3878 ... -2110 -1640 -1576]]\n"
     ]
    }
   ],
   "source": [
    "lat, lon, bathy = reader.read()"
   ]
  },
  {
   "cell_type": "code",
   "execution_count": null,
   "metadata": {},
   "outputs": [],
   "source": []
  }
 ],
 "metadata": {
  "kernelspec": {
   "display_name": "Python 3",
   "language": "python",
   "name": "python3"
  },
  "language_info": {
   "codemirror_mode": {
    "name": "ipython",
    "version": 3
   },
   "file_extension": ".py",
   "mimetype": "text/x-python",
   "name": "python",
   "nbconvert_exporter": "python",
   "pygments_lexer": "ipython3",
   "version": "3.6.7"
  }
 },
 "nbformat": 4,
 "nbformat_minor": 2
}
