{
 "cells": [
  {
   "cell_type": "code",
   "execution_count": 11,
   "metadata": {},
   "outputs": [],
   "source": [
    "from kadlu.geospatial.ocean2 import Ocean\n",
    "from datetime import datetime\n",
    "import json"
   ]
  },
  {
   "cell_type": "markdown",
   "metadata": {},
   "source": [
    "Keyword args can either be specified individually:"
   ]
  },
  {
   "cell_type": "code",
   "execution_count": 24,
   "metadata": {},
   "outputs": [
    {
     "name": "stderr",
     "output_type": "stream",
     "text": [
      "/home/matt_s/kadlu/kadlu/geospatial/data_sources/data_util.py:215: UserWarning: query data has been averaged across the time dimension for 3D interpolation.\n",
      "to avoid this behaviour, use keyword argument 'time' instead of start/end\n",
      "  warnings.warn(\"query data has been averaged across the time dimension \"\n"
     ]
    }
   ],
   "source": [
    "o = Ocean(\n",
    "        south=44, west=-64.5, \n",
    "        north=45, east=-62.5,\n",
    "        top=0, bottom=100,\n",
    "        start=datetime(2015, 1, 9), end=datetime(2015, 1, 10, 12)\n",
    "    )"
   ]
  },
  {
   "cell_type": "markdown",
   "metadata": {},
   "source": [
    "or by supplying a dictionary containing arguments in JSON format:"
   ]
  },
  {
   "cell_type": "code",
   "execution_count": 25,
   "metadata": {},
   "outputs": [
    {
     "name": "stdout",
     "output_type": "stream",
     "text": [
      "{\"start\": \"2015-01-09 00:00:00\", \"end\": \"2015-01-10 12:00:00\", \"south\": 44, \"west\": -64.5, \"north\": 45, \"east\": -62.5, \"top\": 0, \"bottom\": 100}\n"
     ]
    },
    {
     "name": "stderr",
     "output_type": "stream",
     "text": [
      "/home/matt_s/kadlu/kadlu/geospatial/data_sources/data_util.py:215: UserWarning: query data has been averaged across the time dimension for 3D interpolation.\n",
      "to avoid this behaviour, use keyword argument 'time' instead of start/end\n",
      "  warnings.warn(\"query data has been averaged across the time dimension \"\n"
     ]
    }
   ],
   "source": [
    "kwargs = dict(\n",
    "        start=datetime(2015, 1, 9), end=datetime(2015, 1, 10, 12),\n",
    "        south=44,                   west=-64.5, \n",
    "        north=45,                   east=-62.5, \n",
    "        top=0,                      bottom=100\n",
    "    )\n",
    "print(json.dumps(kwargs, default=str))\n",
    "o = Ocean(**kwargs)"
   ]
  },
  {
   "cell_type": "code",
   "execution_count": 26,
   "metadata": {},
   "outputs": [
    {
     "data": {
      "text/plain": [
       "array([3.        , 0.25004768])"
      ]
     },
     "execution_count": 26,
     "metadata": {},
     "output_type": "execute_result"
    }
   ],
   "source": [
    "o.temp(lat=[44.25, 44.75], lon=[-63.1, -62.9], z=[0, 100])"
   ]
  },
  {
   "cell_type": "code",
   "execution_count": null,
   "metadata": {},
   "outputs": [],
   "source": []
  }
 ],
 "metadata": {
  "kernelspec": {
   "display_name": "Python 3",
   "language": "python",
   "name": "python3"
  },
  "language_info": {
   "codemirror_mode": {
    "name": "ipython",
    "version": 3
   },
   "file_extension": ".py",
   "mimetype": "text/x-python",
   "name": "python",
   "nbconvert_exporter": "python",
   "pygments_lexer": "ipython3",
   "version": "3.6.9"
  }
 },
 "nbformat": 4,
 "nbformat_minor": 2
}
