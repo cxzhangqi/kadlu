{
 "cells": [
  {
   "cell_type": "markdown",
   "metadata": {},
   "source": [
    "# Kadlu's Ocean Module"
   ]
  },
  {
   "cell_type": "markdown",
   "metadata": {},
   "source": [
    "The ocean module is an abstraction of Kadlu's loading and interpolation functions, which provides a unified interface to quickly load and interpolate many different environmental variables. In this tutorial, we will take a closer look at the key functionalities of the ocean module."
   ]
  },
  {
   "cell_type": "markdown",
   "metadata": {},
   "source": [
    "We begin by importing the necessary modules, functions, etc."
   ]
  },
  {
   "cell_type": "code",
   "execution_count": 1,
   "metadata": {},
   "outputs": [],
   "source": [
    "import numpy as np\n",
    "from datetime import datetime\n",
    "\n",
    "from kadlu import source_map\n",
    "from kadlu.geospatial.ocean import Ocean"
   ]
  },
  {
   "cell_type": "markdown",
   "metadata": {},
   "source": [
    "The geographical and temporal boundaries are specified as python dictionary, to be passed to the plotting function later. In this example, we are concerned with a rectangular area in the Gulf of St. Lawrence, which extends from $47.8^o$N to $48.8^o$N and $-63.4^o$W to $-61.8^o$W, as shown on the map below. Note, also, that we are only loading data for the first 100 m of the water column (bottom=100, top=0) on the first 12 hours of January 9, 2015."
   ]
  },
  {
   "cell_type": "code",
   "execution_count": 2,
   "metadata": {},
   "outputs": [],
   "source": [
    "# ocean boundaries:\n",
    "bounds = dict(\n",
    "        start=datetime(2015, 1, 9), end=datetime(2015, 1, 9, 12),\n",
    "        south=47.8, west=-63.4, \n",
    "        north=48.8, east=-61.8, \n",
    "        top=0, bottom=100\n",
    "    )"
   ]
  },
  {
   "cell_type": "markdown",
   "metadata": {},
   "source": [
    "![Selected region](assets/map.png)"
   ]
  },
  {
   "cell_type": "markdown",
   "metadata": {},
   "source": [
    "### Initialization and querying"
   ]
  },
  {
   "cell_type": "markdown",
   "metadata": {},
   "source": [
    "The ocean module can be instatiated without specifying any data sources. This is the simplest way of instantiating the ocean module and result in an ocean with null data everywere."
   ]
  },
  {
   "cell_type": "code",
   "execution_count": 3,
   "metadata": {},
   "outputs": [],
   "source": [
    "o = Ocean(**bounds) # instantiate ocean with null values"
   ]
  },
  {
   "cell_type": "markdown",
   "metadata": {},
   "source": [
    "The ocean module has a bunch of methods for querying various environmental data. For a full list, see the ocean module's documentation page. For example, bathymetric data can be queried with the `bathy` method as follows,"
   ]
  },
  {
   "cell_type": "code",
   "execution_count": 4,
   "metadata": {},
   "outputs": [
    {
     "data": {
      "text/plain": [
       "array([0., 0.])"
      ]
     },
     "execution_count": 4,
     "metadata": {},
     "output_type": "execute_result"
    }
   ],
   "source": [
    "o.bathy(lat=[48.5, 48.1], lon=[-63, -62.5]) # query bathymetric interpolator for values at given coordinates"
   ]
  },
  {
   "cell_type": "markdown",
   "metadata": {},
   "source": [
    "To query using planar coordinates, use the `bathy_xy` method instead,"
   ]
  },
  {
   "cell_type": "code",
   "execution_count": 5,
   "metadata": {},
   "outputs": [
    {
     "data": {
      "text/plain": [
       "array([0., 0.])"
      ]
     },
     "execution_count": 5,
     "metadata": {},
     "output_type": "execute_result"
    }
   ],
   "source": [
    "o.bathy_xy(x=[-2000, 3500], y=[10000, 15000]) # query bathymetric interpolator for values at given displacements"
   ]
  },
  {
   "cell_type": "markdown",
   "metadata": {},
   "source": [
    "Here, `x` and `y` are the horizontal (W-E) and vertical (S-N) displacements in meters, respectively, in a planar coordinate system centered at the mid-point of the geographical region under consideration."
   ]
  },
  {
   "cell_type": "markdown",
   "metadata": {},
   "source": [
    "### Automatic loading of data"
   ]
  },
  {
   "cell_type": "markdown",
   "metadata": {},
   "source": [
    "In order to use Kadlu's automated data loading functionalities, you simply have to specify one (or several) of the data sources listed in the source_map. For example,"
   ]
  },
  {
   "cell_type": "code",
   "execution_count": 6,
   "metadata": {
    "scrolled": true
   },
   "outputs": [
    {
     "name": "stderr",
     "output_type": "stream",
     "text": [
      "2020-06-15 02:46:23  HYCOM 2015-01-09 downloading 424320 salinity values in region 46.00°N,64.00°W,0m:48.00°N,62.00°W,5000m...\n",
      "2020-06-15 02:46:47  HYCOM 2015-01-09 salinity: downloaded 430 Kb in 21.800s. parsed and inserted 121544 rows in 2.218s. 302776 null values removed, 0 duplicates ignored\n",
      "2020-06-15 02:46:47  HYCOM 2015-01-09 downloading 424320 salinity values in region 48.00°N,64.00°W,0m:50.00°N,62.00°W,5000m...\n",
      "2020-06-15 02:47:07  HYCOM 2015-01-09 salinity: downloaded 426 Kb in 17.170s. parsed and inserted 172832 rows in 2.712s. 247992 null values removed, 3496 duplicates ignored\n",
      "2020-06-15 02:47:07  HYCOM 2015-01-09 downloading 424320 salinity values in region 46.00°N,62.00°W,0m:48.00°N,60.00°W,5000m...\n",
      "2020-06-15 02:47:09  HYCOM 2015-01-09 salinity: downloaded 430 Kb in 0.886s. parsed and inserted 129080 rows in 1.966s. 290400 null values removed, 4840 duplicates ignored\n",
      "2020-06-15 02:47:09  HYCOM 2015-01-09 downloading 424320 salinity values in region 48.00°N,62.00°W,0m:50.00°N,60.00°W,5000m...\n",
      "2020-06-15 02:47:20  HYCOM 2015-01-09 salinity: downloaded 418 Kb in 6.768s. parsed and inserted 227952 rows in 3.331s. 184584 null values removed, 11784 duplicates ignored\n"
     ]
    },
    {
     "data": {
      "text/plain": [
       "array([31.29669351, 31.44977994])"
      ]
     },
     "execution_count": 6,
     "metadata": {},
     "output_type": "execute_result"
    }
   ],
   "source": [
    "o = Ocean(load_salinity='hycom', **bounds)                     # instantiate interpolator with HYCOM salinity data\n",
    "o.salinity(lat=[48.5, 48.1], lon=[-64, -62.5], depth=[0, 10])  # query interpolator for values at given coordinates"
   ]
  },
  {
   "cell_type": "code",
   "execution_count": 7,
   "metadata": {},
   "outputs": [
    {
     "data": {
      "text/plain": [
       "array([0., 0.])"
      ]
     },
     "execution_count": 7,
     "metadata": {},
     "output_type": "execute_result"
    }
   ],
   "source": [
    "o.waveheight(lat=[48.5, 48.1], lon=[-64, -62.5]) # query waveheight interpolator: values remain null"
   ]
  },
  {
   "cell_type": "markdown",
   "metadata": {},
   "source": [
    "Kadlu can check for missing data and prepare interpolators for many variables at the same time"
   ]
  },
  {
   "cell_type": "code",
   "execution_count": 9,
   "metadata": {
    "scrolled": false
   },
   "outputs": [
    {
     "name": "stderr",
     "output_type": "stream",
     "text": [
      "2020-06-15 02:47:34  HYCOM 2015-01-09 downloading 424320 water_temp values in region 46.00°N,64.00°W,0m:48.00°N,62.00°W,5000m...\n",
      "2020-06-15 02:47:54  HYCOM 2015-01-09 water_temp: downloaded 448 Kb in 16.295s. parsed and inserted 121544 rows in 3.303s. 302776 null values removed, 0 duplicates ignored\n",
      "2020-06-15 02:47:54  HYCOM 2015-01-09 downloading 424320 water_temp values in region 48.00°N,64.00°W,0m:50.00°N,62.00°W,5000m...\n",
      "2020-06-15 02:48:08  HYCOM 2015-01-09 water_temp: downloaded 448 Kb in 11.152s. parsed and inserted 172832 rows in 2.751s. 247992 null values removed, 3496 duplicates ignored\n",
      "2020-06-15 02:48:08  HYCOM 2015-01-09 downloading 424320 water_temp values in region 46.00°N,62.00°W,0m:48.00°N,60.00°W,5000m...\n",
      "2020-06-15 02:48:14  HYCOM 2015-01-09 water_temp: downloaded 448 Kb in 4.961s. parsed and inserted 129080 rows in 1.845s. 290400 null values removed, 4840 duplicates ignored\n",
      "2020-06-15 02:48:14  HYCOM 2015-01-09 downloading 424320 water_temp values in region 48.00°N,62.00°W,0m:50.00°N,60.00°W,5000m...\n",
      "2020-06-15 02:48:28  HYCOM 2015-01-09 water_temp: downloaded 448 Kb in 10.328s. parsed and inserted 227952 rows in 3.152s. 184584 null values removed, 11784 duplicates ignored\n",
      "2020-06-15 02:48:31  ERA5 2015-01-09 mean_wave_direction: processed and inserted 529 rows in region 46.00°N,64.00°W,0m:48.00°N,62.00°W,5000m. 0 duplicates ignored\n",
      "2020-06-15 02:48:33  ERA5 2015-01-09 mean_wave_direction: processed and inserted 414 rows in region 48.00°N,64.00°W,0m:50.00°N,62.00°W,5000m. 115 duplicates ignored\n",
      "2020-06-15 02:48:36  ERA5 2015-01-09 mean_wave_direction: processed and inserted 368 rows in region 46.00°N,62.00°W,0m:48.00°N,60.00°W,5000m. 115 duplicates ignored\n",
      "2020-06-15 02:48:38  ERA5 2015-01-09 mean_wave_direction: processed and inserted 368 rows in region 48.00°N,62.00°W,0m:50.00°N,60.00°W,5000m. 207 duplicates ignored\n",
      "2020-06-15 02:48:50  ERA5 2015-01-09 significant_height_of_combined_wind_waves_and_swell: processed and inserted 529 rows in region 46.00°N,64.00°W,0m:48.00°N,62.00°W,5000m. 0 duplicates ignored\n",
      "2020-06-15 02:48:52  ERA5 2015-01-09 significant_height_of_combined_wind_waves_and_swell: processed and inserted 414 rows in region 48.00°N,64.00°W,0m:50.00°N,62.00°W,5000m. 115 duplicates ignored\n",
      "2020-06-15 02:48:55  ERA5 2015-01-09 significant_height_of_combined_wind_waves_and_swell: processed and inserted 368 rows in region 46.00°N,62.00°W,0m:48.00°N,60.00°W,5000m. 115 duplicates ignored\n",
      "2020-06-15 02:48:58  ERA5 2015-01-09 significant_height_of_combined_wind_waves_and_swell: processed and inserted 368 rows in region 48.00°N,62.00°W,0m:50.00°N,60.00°W,5000m. 207 duplicates ignored\n",
      "2020-06-15 02:49:01  ERA5 2015-01-09 mean_wave_period: processed and inserted 529 rows in region 46.00°N,64.00°W,0m:48.00°N,62.00°W,5000m. 0 duplicates ignored\n",
      "2020-06-15 02:49:04  ERA5 2015-01-09 mean_wave_period: processed and inserted 414 rows in region 48.00°N,64.00°W,0m:50.00°N,62.00°W,5000m. 115 duplicates ignored\n",
      "2020-06-15 02:49:07  ERA5 2015-01-09 mean_wave_period: processed and inserted 368 rows in region 46.00°N,62.00°W,0m:48.00°N,60.00°W,5000m. 115 duplicates ignored\n",
      "2020-06-15 02:49:09  ERA5 2015-01-09 mean_wave_period: processed and inserted 368 rows in region 48.00°N,62.00°W,0m:50.00°N,60.00°W,5000m. 207 duplicates ignored\n",
      "2020-06-15 02:49:09  loading elevation from The GEBCO_2020 Grid - a continuous terrain model for oceans and land at 15 arc-second intervals\n"
     ]
    }
   ],
   "source": [
    "# source strings passed as load arguments tells the ocean module where to source the data\n",
    "sources = dict(\n",
    "        load_bathymetry='gebco',\n",
    "        load_temp='hycom',\n",
    "        load_salinity='hycom',\n",
    "        load_wavedir='era5',\n",
    "        load_waveheight='era5',\n",
    "        load_waveperiod='era5',\n",
    "        load_wavedirection='era5',\n",
    "        load_windspeed='era5'\n",
    "    )\n",
    "\n",
    "o = Ocean(**sources, **bounds)"
   ]
  },
  {
   "cell_type": "markdown",
   "metadata": {},
   "source": [
    "Now we can query any of the loaded variable at any set of coordinates, e.g., wave height:"
   ]
  },
  {
   "cell_type": "code",
   "execution_count": 10,
   "metadata": {},
   "outputs": [
    {
     "data": {
      "text/plain": [
       "array([2.13783391, 2.17374152])"
      ]
     },
     "execution_count": 10,
     "metadata": {},
     "output_type": "execute_result"
    }
   ],
   "source": [
    "o.waveheight(lat=[48.5, 48.1], lon=[-64, -62.5])  # query waveheight interpolator"
   ]
  },
  {
   "cell_type": "markdown",
   "metadata": {},
   "source": [
    "### Manual loading of data"
   ]
  },
  {
   "cell_type": "markdown",
   "metadata": {},
   "source": [
    "Kadlu also supports ocean interpolation using arbitrary environmental data. An ocean can be initialized by passing a float or array of floats to the load_variable keyword argument. Arrays must be ordered by [values, lat, lon] for 2D data, or [values, lat, lon, depth] for 3D data.\n",
    "\n",
    "When a float value is used, a uniform \"interpolation\" of that value will be returned for every coordinate location"
   ]
  },
  {
   "cell_type": "code",
   "execution_count": 11,
   "metadata": {},
   "outputs": [],
   "source": [
    "bathy_arr = np.array((\n",
    "        np.random.rand(100) * 500.,  # array of length 100 with random values in the range 0-500.\n",
    "        bounds['south'] + np.random.rand(100) * (bounds['north'] - bounds['south']),  # latitudes\n",
    "        bounds['west'] + np.random.rand(100) * (bounds['east'] - bounds['west'])  # longitudes\n",
    "    ))\n",
    "temp_float = 10\n",
    "salinity_float = 35\n",
    "\n",
    "o = Ocean(load_bathymetry=bathy_arr, load_temp=temp_float, load_salinity=salinity_float, **bounds)"
   ]
  },
  {
   "cell_type": "code",
   "execution_count": 12,
   "metadata": {},
   "outputs": [],
   "source": [
    "print('bathymetry:\\t',  o.bathy(   lat=[47.5, 48.1], lon=[-64, -62.5]))\n",
    "print('temperature:\\t', o.temp(    lat=[47.5, 48.1], lon=[-64, -62.5], depth=[0, 50]))\n",
    "print('salinity:\\t',    o.salinity(lat=[47.5, 48.1], lon=[-64, -62.5], depth=[0, 50]))"
   ]
  },
  {
   "cell_type": "markdown",
   "metadata": {},
   "source": [
    "for a list of possible strings accepted as input for the load_variable arguments, choose one of the sources listed in the source_map that supports that variable:"
   ]
  },
  {
   "cell_type": "code",
   "execution_count": 16,
   "metadata": {},
   "outputs": [],
   "source": [
    "print(source_map)"
   ]
  }
 ],
 "metadata": {
  "kernelspec": {
   "display_name": "Python 3",
   "language": "python",
   "name": "python3"
  },
  "language_info": {
   "codemirror_mode": {
    "name": "ipython",
    "version": 3
   },
   "file_extension": ".py",
   "mimetype": "text/x-python",
   "name": "python",
   "nbconvert_exporter": "python",
   "pygments_lexer": "ipython3",
   "version": "3.8.2"
  }
 },
 "nbformat": 4,
 "nbformat_minor": 4
}
