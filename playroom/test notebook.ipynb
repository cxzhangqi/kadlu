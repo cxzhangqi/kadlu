{
 "cells": [
  {
   "cell_type": "code",
   "execution_count": 2,
   "metadata": {},
   "outputs": [],
   "source": [
    "import numpy as np\n",
    "from datetime import datetime\n",
    "from kadlu.geospatial.data_sources import chs\n",
    "from kadlu.geospatial.data_sources import era5\n",
    "from kadlu.geospatial.data_sources import hycom\n",
    "from kadlu.geospatial.data_sources import wwiii\n",
    "from kadlu.geospatial.data_sources.fetch_util import database_cfg\n",
    "from kadlu.geospatial.data_sources.fetch_util import dt_2_epoch\n",
    "\n",
    "#from kadlu.geospatial.data_sources import fetch_util\n",
    "\n",
    "conn, db = database_cfg()"
   ]
  },
  {
   "cell_type": "code",
   "execution_count": 3,
   "metadata": {},
   "outputs": [
    {
     "data": {
      "text/plain": [
       "<module 'kadlu.geospatial.data_sources.wwiii' from '/home/matt_s/kadlu/kadlu/geospatial/data_sources/wwiii.py'>"
      ]
     },
     "execution_count": 3,
     "metadata": {},
     "output_type": "execute_result"
    }
   ],
   "source": [
    "from importlib import reload\n",
    "reload(wwiii)\n",
    "#reload(chs)"
   ]
  },
  {
   "cell_type": "markdown",
   "metadata": {},
   "source": [
    "## Parameter Selection "
   ]
  },
  {
   "cell_type": "code",
   "execution_count": 4,
   "metadata": {},
   "outputs": [],
   "source": [
    "temp_salinity_source = hycom.Hycom()\n",
    "bathysource = chs.Chs()\n",
    "wavesource1 = era5.Era5()\n",
    "wavesource2 = wwiii.Wwiii()"
   ]
  },
  {
   "cell_type": "code",
   "execution_count": 5,
   "metadata": {},
   "outputs": [],
   "source": [
    "# parameter selection\n",
    "start = datetime(2015, 3, 9, 13, 25, 0)\n",
    "end   = datetime(2015, 3, 9, 19, 0, 0)\n",
    "top, bottom = 0, 0 \n",
    "\n",
    "# gulf st lawrence\n",
    "south, west = 44.013, -70.429\n",
    "north, east = 51.823, -55.977\n",
    "\n",
    "# hudsons bay\n",
    "#south, west = 51.388, -95.321\n",
    "#north, east = 64.068, -75.703\n",
    "# hudsons bay subset\n",
    "#north, east = 55.039, -78.740"
   ]
  },
  {
   "cell_type": "markdown",
   "metadata": {},
   "source": [
    "## Fetching"
   ]
  },
  {
   "cell_type": "code",
   "execution_count": 16,
   "metadata": {},
   "outputs": [
    {
     "name": "stdout",
     "output_type": "stream",
     "text": [
      "downloading 107016 salinity values from hycom...\n",
      "downloaded 102.4Kb in 2.472s. parsed and inserted 0 rows in 0.403s\n",
      "60672 null values removed, 46344 duplicate rows ignored\n",
      "\n",
      "downloading 107016 water_temp values from hycom...\n",
      "downloaded 108.8Kb in 1.726s. parsed and inserted 0 rows in 0.400s\n",
      "60672 null values removed, 46344 duplicate rows ignored\n",
      "\n"
     ]
    }
   ],
   "source": [
    "temp_salinity_source.fetch_salinity(south=south, north=north, west=west, east=east, \n",
    "                      start=start, end=end, top=top, bottom=bottom)\n",
    "\n",
    "temp_salinity_source.fetch_temp(south=south, north=north, west=west, east=east, \n",
    "                      start=start, end=end, top=top, bottom=bottom)"
   ]
  },
  {
   "cell_type": "code",
   "execution_count": null,
   "metadata": {
    "scrolled": true
   },
   "outputs": [],
   "source": [
    "bathysource.fetch_bathymetry(south=south, north=north, west=west, east=east)"
   ]
  },
  {
   "cell_type": "code",
   "execution_count": 4,
   "metadata": {
    "scrolled": true
   },
   "outputs": [
    {
     "name": "stderr",
     "output_type": "stream",
     "text": [
      "2019-12-18 15:30:21,338 INFO Sending request to https://cds.climate.copernicus.eu/api/v2/resources/reanalysis-era5-single-levels\n"
     ]
    },
    {
     "name": "stdout",
     "output_type": "stream",
     "text": [
      "downloading ERA5_reanalysis_significant_height_of_combined_wind_waves_and_swell_2015-03-09_13h.grb2 from Copernicus Climate Data Store...\n"
     ]
    },
    {
     "name": "stderr",
     "output_type": "stream",
     "text": [
      "2019-12-18 15:30:22,021 INFO Request is completed\n",
      "2019-12-18 15:30:22,022 INFO Downloading http://136.156.133.37/cache-compute-0011/cache/data0/adaptor.mars.internal-1576697374.0180411-7507-19-e7eb0125-19cb-49f8-baf2-3a9867aa1c33.grib to /home/matt_s/kadlu/storage/ERA5_reanalysis_significant_height_of_combined_wind_waves_and_swell_2015-03-09_13h.grb2 (312.1K)\n",
      "2019-12-18 15:30:22,932 INFO Download rate 343K/s  \n",
      "2019-12-18 15:30:26,126 INFO Sending request to https://cds.climate.copernicus.eu/api/v2/resources/reanalysis-era5-single-levels\n"
     ]
    },
    {
     "name": "stdout",
     "output_type": "stream",
     "text": [
      "processed and inserted 143420 rows. 116500 null values removed, 0 duplicate rows ignored\n",
      "\n",
      "downloading ERA5_reanalysis_significant_height_of_combined_wind_waves_and_swell_2015-03-09_14h.grb2 from Copernicus Climate Data Store...\n"
     ]
    },
    {
     "name": "stderr",
     "output_type": "stream",
     "text": [
      "2019-12-18 15:30:26,873 INFO Request is queued\n",
      "2019-12-18 15:30:28,029 INFO Request is completed\n",
      "2019-12-18 15:30:28,030 INFO Downloading http://136.156.132.110/cache-compute-0001/cache/data9/adaptor.mars.internal-1576697426.9646833-4773-3-fa182250-4fd8-40bc-8459-73465ec39619.grib to /home/matt_s/kadlu/storage/ERA5_reanalysis_significant_height_of_combined_wind_waves_and_swell_2015-03-09_14h.grb2 (312.1K)\n",
      "2019-12-18 15:30:28,932 INFO Download rate 346.3K/s\n",
      "2019-12-18 15:30:32,008 INFO Sending request to https://cds.climate.copernicus.eu/api/v2/resources/reanalysis-era5-single-levels\n"
     ]
    },
    {
     "name": "stdout",
     "output_type": "stream",
     "text": [
      "processed and inserted 143420 rows. 116500 null values removed, 0 duplicate rows ignored\n",
      "\n",
      "downloading ERA5_reanalysis_significant_height_of_combined_wind_waves_and_swell_2015-03-09_15h.grb2 from Copernicus Climate Data Store...\n"
     ]
    },
    {
     "name": "stderr",
     "output_type": "stream",
     "text": [
      "2019-12-18 15:30:32,784 INFO Request is queued\n",
      "2019-12-18 15:30:33,944 INFO Request is completed\n",
      "2019-12-18 15:30:33,945 INFO Downloading http://136.156.132.153/cache-compute-0002/cache/data4/adaptor.mars.internal-1576697432.8902225-30629-3-cfd93921-8bd2-4420-b55c-2f57218f62d5.grib to /home/matt_s/kadlu/storage/ERA5_reanalysis_significant_height_of_combined_wind_waves_and_swell_2015-03-09_15h.grb2 (312.1K)\n",
      "2019-12-18 15:30:34,843 INFO Download rate 347.8K/s\n",
      "2019-12-18 15:30:38,159 INFO Sending request to https://cds.climate.copernicus.eu/api/v2/resources/reanalysis-era5-single-levels\n"
     ]
    },
    {
     "name": "stdout",
     "output_type": "stream",
     "text": [
      "processed and inserted 143420 rows. 116500 null values removed, 0 duplicate rows ignored\n",
      "\n",
      "downloading ERA5_reanalysis_significant_height_of_combined_wind_waves_and_swell_2015-03-09_16h.grb2 from Copernicus Climate Data Store...\n"
     ]
    },
    {
     "name": "stderr",
     "output_type": "stream",
     "text": [
      "2019-12-18 15:30:38,868 INFO Request is queued\n",
      "2019-12-18 15:30:40,436 INFO Request is completed\n",
      "2019-12-18 15:30:40,437 INFO Downloading http://136.156.133.42/cache-compute-0014/cache/data8/adaptor.mars.internal-1576697438.926261-9895-21-c40da06f-3149-430b-975d-3da8a236ed4a.grib to /home/matt_s/kadlu/storage/ERA5_reanalysis_significant_height_of_combined_wind_waves_and_swell_2015-03-09_16h.grb2 (312.1K)\n",
      "2019-12-18 15:30:41,795 INFO Download rate 230.1K/s\n",
      "2019-12-18 15:30:45,382 INFO Sending request to https://cds.climate.copernicus.eu/api/v2/resources/reanalysis-era5-single-levels\n"
     ]
    },
    {
     "name": "stdout",
     "output_type": "stream",
     "text": [
      "processed and inserted 143420 rows. 116500 null values removed, 0 duplicate rows ignored\n",
      "\n",
      "downloading ERA5_reanalysis_significant_height_of_combined_wind_waves_and_swell_2015-03-09_17h.grb2 from Copernicus Climate Data Store...\n"
     ]
    },
    {
     "name": "stderr",
     "output_type": "stream",
     "text": [
      "2019-12-18 15:30:46,727 INFO Request is queued\n",
      "2019-12-18 15:30:47,885 INFO Request is completed\n",
      "2019-12-18 15:30:47,886 INFO Downloading http://136.156.132.198/cache-compute-0003/cache/data2/adaptor.mars.internal-1576697447.2148123-9297-1-185e5d93-870d-4c44-ac66-85a21e6bfadb.grib to /home/matt_s/kadlu/storage/ERA5_reanalysis_significant_height_of_combined_wind_waves_and_swell_2015-03-09_17h.grb2 (312.1K)\n",
      "2019-12-18 15:30:48,787 INFO Download rate 347K/s  \n",
      "2019-12-18 15:30:52,189 INFO Sending request to https://cds.climate.copernicus.eu/api/v2/resources/reanalysis-era5-single-levels\n"
     ]
    },
    {
     "name": "stdout",
     "output_type": "stream",
     "text": [
      "processed and inserted 143420 rows. 116500 null values removed, 0 duplicate rows ignored\n",
      "\n",
      "downloading ERA5_reanalysis_significant_height_of_combined_wind_waves_and_swell_2015-03-09_18h.grb2 from Copernicus Climate Data Store...\n"
     ]
    },
    {
     "name": "stderr",
     "output_type": "stream",
     "text": [
      "2019-12-18 15:30:52,896 INFO Request is queued\n",
      "2019-12-18 15:30:54,054 INFO Request is completed\n",
      "2019-12-18 15:30:54,055 INFO Downloading http://136.156.133.36/cache-compute-0010/cache/data8/adaptor.mars.internal-1576697453.3805776-13980-31-05a4fff1-3190-40cf-b963-6fa0a9e9780d.grib to /home/matt_s/kadlu/storage/ERA5_reanalysis_significant_height_of_combined_wind_waves_and_swell_2015-03-09_18h.grb2 (312.1K)\n",
      "2019-12-18 15:30:56,399 INFO Download rate 133.2K/s\n",
      "2019-12-18 15:30:59,764 INFO Sending request to https://cds.climate.copernicus.eu/api/v2/resources/reanalysis-era5-single-levels\n"
     ]
    },
    {
     "name": "stdout",
     "output_type": "stream",
     "text": [
      "processed and inserted 143420 rows. 116500 null values removed, 0 duplicate rows ignored\n",
      "\n",
      "downloading ERA5_reanalysis_significant_height_of_combined_wind_waves_and_swell_2015-03-09_19h.grb2 from Copernicus Climate Data Store...\n"
     ]
    },
    {
     "name": "stderr",
     "output_type": "stream",
     "text": [
      "2019-12-18 15:31:00,615 INFO Request is queued\n",
      "2019-12-18 15:31:01,775 INFO Request is completed\n",
      "2019-12-18 15:31:01,777 INFO Downloading http://136.156.132.110/cache-compute-0001/cache/data0/adaptor.mars.internal-1576697460.6607933-31658-9-e6bbea90-0e9e-4640-bad9-829754699a64.grib to /home/matt_s/kadlu/storage/ERA5_reanalysis_significant_height_of_combined_wind_waves_and_swell_2015-03-09_19h.grb2 (312.1K)\n",
      "2019-12-18 15:31:02,678 INFO Download rate 346.6K/s\n"
     ]
    },
    {
     "name": "stdout",
     "output_type": "stream",
     "text": [
      "processed and inserted 143420 rows. 116500 null values removed, 0 duplicate rows ignored\n",
      "\n"
     ]
    }
   ],
   "source": [
    "wavesource1.fetch_windwaveswellheight(start=start, end=end)"
   ]
  },
  {
   "cell_type": "code",
   "execution_count": 11,
   "metadata": {
    "scrolled": true
   },
   "outputs": [
    {
     "name": "stderr",
     "output_type": "stream",
     "text": [
      "/home/matt_s/kadlu/kadlu/geospatial/data_sources/wwiii.py:80: UserWarning: resolution selection not implemented yet. defaulting to 0.5deg resolution\n",
      "  warnings.warn(\"resolution selection not implemented yet. defaulting to 0.5deg resolution\")\n"
     ]
    },
    {
     "name": "stdout",
     "output_type": "stream",
     "text": [
      "\n",
      "downloading multi_1.glo_30m.hs.201503.grb2 from NOAA WaveWatch III...\n",
      "preparing multi_1.glo_30m.hs.201503.grb2 for the database...\n",
      "\tprocessing msg 72 of 249 monthly messages for 2015-03-09 21:00:00\n",
      "processed and inserted 73386 rows. 163558 null values removed, 210896 duplicate rows ignored\n"
     ]
    }
   ],
   "source": [
    "wavesource2.fetch_windwaveheight(south=south, north=north, \n",
    "                                 west=west, east=east, \n",
    "                                 start=start, end=end)"
   ]
  },
  {
   "cell_type": "markdown",
   "metadata": {},
   "source": [
    "## Loading (example)"
   ]
  },
  {
   "cell_type": "code",
   "execution_count": null,
   "metadata": {},
   "outputs": [],
   "source": [
    "temp, tlat, tlon, ttime, tdep = \\\n",
    "temp_salinity_source.load_temp(south=south, north=north, west=west, east=east, \n",
    "                               start=start, end=end, top=top, bottom=bottom)\n",
    "\n",
    "salinity, slat, slon, stime, sdep = \\\n",
    "temp_salinity_source.load_temp(south=south, north=north, west=west, east=east, \n",
    "                               start=start, end=end, top=top, bottom=bottom)"
   ]
  },
  {
   "cell_type": "code",
   "execution_count": null,
   "metadata": {},
   "outputs": [],
   "source": [
    "bathy, blat, blon = bathysource.load_bathymetry(south=south, north=north, west=west, east=east)"
   ]
  },
  {
   "cell_type": "code",
   "execution_count": 12,
   "metadata": {},
   "outputs": [],
   "source": [
    "wave, wlat, wlon, wtime = \\\n",
    "wavesource1.load_windwaveswellheight(south=south, north=north, \n",
    "                                     west=west, east=east, \n",
    "                                     start=start, end=end)"
   ]
  },
  {
   "cell_type": "code",
   "execution_count": 13,
   "metadata": {},
   "outputs": [],
   "source": [
    "wave, wlat, wlon, wtime = \\\n",
    "wavesource2.load_windwaveheight(south=south, north=north, \n",
    "                                west=west, east=east, \n",
    "                                start=start, end=end)"
   ]
  },
  {
   "cell_type": "markdown",
   "metadata": {},
   "source": [
    "## SoundSpeed -- loading data"
   ]
  },
  {
   "cell_type": "code",
   "execution_count": 14,
   "metadata": {},
   "outputs": [],
   "source": [
    "from kadlu.geospatial.ocean import Ocean\n",
    "from kadlu.sound.sound_speed import SoundSpeed \n",
    "from kadlu.geospatial.data_sources.fetch_util import storage_cfg"
   ]
  },
  {
   "cell_type": "code",
   "execution_count": 19,
   "metadata": {},
   "outputs": [
    {
     "name": "stderr",
     "output_type": "stream",
     "text": [
      "/home/matt_s/kadlu/kadlu/geospatial/data_sources/chs.py:158: UserWarning: no data found for query range, returning empty arrays\n",
      "  warnings.warn(\"no data found for query range, returning empty arrays\")\n"
     ]
    },
    {
     "name": "stdout",
     "output_type": "stream",
     "text": [
      "no salinity/temp data for (44.013, -70.429), skipping\n",
      "no wave data for (44.013, -69.429)\tno data found, try adjusting query bounds or fetching some\n"
     ]
    },
    {
     "ename": "TypeError",
     "evalue": "loop of ufunc does not support argument 0 of type float which has no callable cos method",
     "output_type": "error",
     "traceback": [
      "\u001b[0;31m---------------------------------------------------------------------------\u001b[0m",
      "\u001b[0;31mAttributeError\u001b[0m                            Traceback (most recent call last)",
      "\u001b[0;31mAttributeError\u001b[0m: 'float' object has no attribute 'cos'",
      "\nThe above exception was the direct cause of the following exception:\n",
      "\u001b[0;31mTypeError\u001b[0m                                 Traceback (most recent call last)",
      "\u001b[0;32m<ipython-input-19-d7fc61deac61>\u001b[0m in \u001b[0;36m<module>\u001b[0;34m()\u001b[0m\n\u001b[1;32m     42\u001b[0m         \u001b[0moceantest\u001b[0m\u001b[0;34m.\u001b[0m\u001b[0mset_origin\u001b[0m\u001b[0;34m(\u001b[0m\u001b[0mlat_ref\u001b[0m\u001b[0;34m=\u001b[0m\u001b[0mtlat\u001b[0m\u001b[0;34m,\u001b[0m \u001b[0mlon_ref\u001b[0m\u001b[0;34m=\u001b[0m\u001b[0mtlon\u001b[0m\u001b[0;34m)\u001b[0m\u001b[0;34m\u001b[0m\u001b[0;34m\u001b[0m\u001b[0m\n\u001b[1;32m     43\u001b[0m \u001b[0;34m\u001b[0m\u001b[0m\n\u001b[0;32m---> 44\u001b[0;31m         \u001b[0msndspd\u001b[0m \u001b[0;34m=\u001b[0m \u001b[0mSoundSpeed\u001b[0m\u001b[0;34m(\u001b[0m\u001b[0moceantest\u001b[0m\u001b[0;34m)\u001b[0m\u001b[0;34m.\u001b[0m\u001b[0m_sound_speed\u001b[0m\u001b[0;34m(\u001b[0m\u001b[0mtlat\u001b[0m\u001b[0;34m,\u001b[0m \u001b[0mtlon\u001b[0m\u001b[0;34m,\u001b[0m \u001b[0mtdep\u001b[0m\u001b[0;34m,\u001b[0m \u001b[0mtemp\u001b[0m\u001b[0;34m,\u001b[0m \u001b[0msalinity\u001b[0m\u001b[0;34m)\u001b[0m\u001b[0;34m\u001b[0m\u001b[0;34m\u001b[0m\u001b[0m\n\u001b[0m\u001b[1;32m     45\u001b[0m \u001b[0;34m\u001b[0m\u001b[0m\n\u001b[1;32m     46\u001b[0m         \u001b[0mprint\u001b[0m\u001b[0;34m(\u001b[0m\u001b[0msndspd\u001b[0m\u001b[0;34m,\u001b[0m \u001b[0mymin\u001b[0m\u001b[0;34m,\u001b[0m \u001b[0mxmin\u001b[0m\u001b[0;34m)\u001b[0m\u001b[0;34m\u001b[0m\u001b[0;34m\u001b[0m\u001b[0m\n",
      "\u001b[0;32m/home/matt_s/kadlu/kadlu/sound/sound_speed.py\u001b[0m in \u001b[0;36m__init__\u001b[0;34m(self, ocean, ssp, xy_res, num_depths, rel_err)\u001b[0m\n\u001b[1;32m     76\u001b[0m \u001b[0;34m\u001b[0m\u001b[0m\n\u001b[1;32m     77\u001b[0m             \u001b[0;31m# convert from meters to degrees\u001b[0m\u001b[0;34m\u001b[0m\u001b[0;34m\u001b[0m\u001b[0;34m\u001b[0m\u001b[0m\n\u001b[0;32m---> 78\u001b[0;31m             \u001b[0mlat_res\u001b[0m \u001b[0;34m=\u001b[0m \u001b[0;36m1.\u001b[0m\u001b[0;34m/\u001b[0m\u001b[0mdeg2rad\u001b[0m \u001b[0;34m*\u001b[0m \u001b[0mxy_res\u001b[0m \u001b[0;34m*\u001b[0m \u001b[0mDLDL_over_DXDY\u001b[0m\u001b[0;34m(\u001b[0m\u001b[0mlat\u001b[0m\u001b[0;34m=\u001b[0m\u001b[0mself\u001b[0m\u001b[0;34m.\u001b[0m\u001b[0morigin\u001b[0m\u001b[0;34m.\u001b[0m\u001b[0mlatitude\u001b[0m\u001b[0;34m,\u001b[0m \u001b[0mlat_deriv_order\u001b[0m\u001b[0;34m=\u001b[0m\u001b[0;36m1\u001b[0m\u001b[0;34m,\u001b[0m \u001b[0mlon_deriv_order\u001b[0m\u001b[0;34m=\u001b[0m\u001b[0;36m0\u001b[0m\u001b[0;34m)\u001b[0m\u001b[0;34m\u001b[0m\u001b[0;34m\u001b[0m\u001b[0m\n\u001b[0m\u001b[1;32m     79\u001b[0m             \u001b[0mlon_res\u001b[0m \u001b[0;34m=\u001b[0m \u001b[0;36m1.\u001b[0m\u001b[0;34m/\u001b[0m\u001b[0mdeg2rad\u001b[0m \u001b[0;34m*\u001b[0m \u001b[0mxy_res\u001b[0m \u001b[0;34m*\u001b[0m \u001b[0mDLDL_over_DXDY\u001b[0m\u001b[0;34m(\u001b[0m\u001b[0mlat\u001b[0m\u001b[0;34m=\u001b[0m\u001b[0mself\u001b[0m\u001b[0;34m.\u001b[0m\u001b[0morigin\u001b[0m\u001b[0;34m.\u001b[0m\u001b[0mlatitude\u001b[0m\u001b[0;34m,\u001b[0m \u001b[0mlat_deriv_order\u001b[0m\u001b[0;34m=\u001b[0m\u001b[0;36m0\u001b[0m\u001b[0;34m,\u001b[0m \u001b[0mlon_deriv_order\u001b[0m\u001b[0;34m=\u001b[0m\u001b[0;36m1\u001b[0m\u001b[0;34m)\u001b[0m\u001b[0;34m\u001b[0m\u001b[0;34m\u001b[0m\u001b[0m\n\u001b[1;32m     80\u001b[0m \u001b[0;34m\u001b[0m\u001b[0m\n",
      "\u001b[0;32m/home/matt_s/kadlu/kadlu/utils.py\u001b[0m in \u001b[0;36mDLDL_over_DXDY\u001b[0;34m(lat, lat_deriv_order, lon_deriv_order)\u001b[0m\n\u001b[1;32m     45\u001b[0m     \"\"\"\n\u001b[1;32m     46\u001b[0m     \u001b[0mR\u001b[0m \u001b[0;34m=\u001b[0m \u001b[0mR1_IUGG\u001b[0m\u001b[0;34m\u001b[0m\u001b[0;34m\u001b[0m\u001b[0m\n\u001b[0;32m---> 47\u001b[0;31m     \u001b[0mR2\u001b[0m \u001b[0;34m=\u001b[0m \u001b[0mR\u001b[0m \u001b[0;34m*\u001b[0m \u001b[0mnp\u001b[0m\u001b[0;34m.\u001b[0m\u001b[0mcos\u001b[0m\u001b[0;34m(\u001b[0m\u001b[0mlat\u001b[0m \u001b[0;34m*\u001b[0m \u001b[0mdeg2rad\u001b[0m\u001b[0;34m)\u001b[0m\u001b[0;34m\u001b[0m\u001b[0;34m\u001b[0m\u001b[0m\n\u001b[0m\u001b[1;32m     48\u001b[0m \u001b[0;34m\u001b[0m\u001b[0m\n\u001b[1;32m     49\u001b[0m     \u001b[0mm\u001b[0m \u001b[0;34m=\u001b[0m \u001b[0mlat_deriv_order\u001b[0m\u001b[0;34m\u001b[0m\u001b[0;34m\u001b[0m\u001b[0m\n",
      "\u001b[0;31mTypeError\u001b[0m: loop of ufunc does not support argument 0 of type float which has no callable cos method"
     ]
    }
   ],
   "source": [
    "step = 1 # 1 deg -> approx. 100km at equator \n",
    "\n",
    "# step through each 1x1 degree box in selected area \n",
    "for ymin in np.arange(south, north, step):\n",
    "    for xmin in np.arange(west, east, step):\n",
    "        xmax = xmin + step\n",
    "        ymax = ymin + step\n",
    "        \n",
    "        # load bathymetry\n",
    "        try:\n",
    "            bathy, blat, blon = bathysource.load_bathymetry(south=ymin, north=ymax, west=xmin, east=xmax)\n",
    "        except:\n",
    "            print(f\"no bathy data for {(ymin, xmin)}, skipping\")\n",
    "            continue\n",
    "        \n",
    "        \n",
    "        # load salinity and temp from hycom\n",
    "        try:\n",
    "            temp, tlat, tlon, ttime, tdep = \\\n",
    "            temp_salinity_source.load_temp(south=ymin, north=ymax, west=xmin, east=xmax, \n",
    "                                           start=start, end=end, top=top, bottom=bottom)\n",
    "\n",
    "            salinity, slat, slon, stime, sdep = \\\n",
    "            temp_salinity_source.load_temp(south=ymin, north=ymax, west=xmin, east=xmax, \n",
    "                                           start=start, end=end, top=top, bottom=bottom)\n",
    "        except:\n",
    "            print(f\"no salinity/temp data for {(ymin, xmin)}, skipping\")\n",
    "            continue\n",
    "        \n",
    "        try:\n",
    "            wave, wlat, wlon, wtime = \\\n",
    "            wavesource2.load_windwaveheight(south=ymin, north=ymax, \n",
    "                                                 west=xmin, east=xmax, \n",
    "                                                 start=start, end=end)\n",
    "        except Exception as e :\n",
    "            print(f\"no wave data for {(ymin, xmin)}\", end='\\t')\n",
    "            print(e)\n",
    "            continue\n",
    "\n",
    "        \"\"\"\n",
    "        # instead, just using 5 as a constant wave height for now\n",
    "        wave = np.array([5 for x in temp])\n",
    "        \"\"\"\n",
    "        oceantest = Ocean(salinity=salinity, temp=temp, bathy=bathy, wave=wave, wave_var='comb. wind wave swell height')\n",
    "        oceantest.set_origin(lat_ref=tlat, lon_ref=tlon)\n",
    "        \n",
    "        sndspd = SoundSpeed(oceantest)._sound_speed(tlat, tlon, tdep, temp, salinity)\n",
    "        \n",
    "        print(sndspd, ymin, xmin)\n"
   ]
  },
  {
   "cell_type": "code",
   "execution_count": 6,
   "metadata": {},
   "outputs": [
    {
     "data": {
      "text/plain": [
       "<module 'kadlu.geospatial.ocean' from '/home/matt_s/kadlu/kadlu/geospatial/ocean.py'>"
      ]
     },
     "execution_count": 6,
     "metadata": {},
     "output_type": "execute_result"
    }
   ],
   "source": [
    "from kadlu.geospatial import ocean\n",
    "from kadlu.sound import sound_speed\n",
    "from kadlu.geospatial.data_sources.fetch_util import storage_cfg\n"
   ]
  },
  {
   "cell_type": "code",
   "execution_count": 30,
   "metadata": {
    "scrolled": true
   },
   "outputs": [],
   "source": [
    "reload(ocean)\n",
    "\n",
    "south_tile, west_tile = 48.2, -62.8 # gulf st lawrence\n",
    "north_tile, east_tile = south_tile +2, west_tile +2\n",
    "testocean = ocean.Ocean(bathy='CHS', temp='HYCOM', salinity='HYCOM', wave='WWIII').load\\\n",
    "(south=south_tile, north=north_tile, west=west_tile, east=east_tile, \n",
    " top=top, bottom=bottom, start=start, end=end)\n"
   ]
  },
  {
   "cell_type": "code",
   "execution_count": 31,
   "metadata": {
    "scrolled": true
   },
   "outputs": [
    {
     "ename": "AttributeError",
     "evalue": "'NoneType' object has no attribute 'set_origin'",
     "output_type": "error",
     "traceback": [
      "\u001b[0;31m---------------------------------------------------------------------------\u001b[0m",
      "\u001b[0;31mAttributeError\u001b[0m                            Traceback (most recent call last)",
      "\u001b[0;32m<ipython-input-31-f69ba4a7c746>\u001b[0m in \u001b[0;36m<module>\u001b[0;34m()\u001b[0m\n\u001b[0;32m----> 1\u001b[0;31m \u001b[0mtestocean\u001b[0m\u001b[0;34m.\u001b[0m\u001b[0mset_origin\u001b[0m\u001b[0;34m(\u001b[0m\u001b[0mlat_ref\u001b[0m\u001b[0;34m=\u001b[0m\u001b[0mtlat\u001b[0m\u001b[0;34m,\u001b[0m \u001b[0mlon_ref\u001b[0m\u001b[0;34m=\u001b[0m\u001b[0mtlon\u001b[0m\u001b[0;34m)\u001b[0m\u001b[0;34m\u001b[0m\u001b[0;34m\u001b[0m\u001b[0m\n\u001b[0m\u001b[1;32m      2\u001b[0m \u001b[0;34m\u001b[0m\u001b[0m\n\u001b[1;32m      3\u001b[0m \u001b[0;31m#sndspd = sound_speed.SoundSpeed(testocean)._sound_speed(tlat, tlon, tdep, temp, salinity)\u001b[0m\u001b[0;34m\u001b[0m\u001b[0;34m\u001b[0m\u001b[0;34m\u001b[0m\u001b[0m\n",
      "\u001b[0;31mAttributeError\u001b[0m: 'NoneType' object has no attribute 'set_origin'"
     ]
    }
   ],
   "source": [
    "#testocean.set_origin(lat_ref=tlat, lon_ref=tlon)\n",
    "\n",
    "sndspd = sound_speed.SoundSpeed(testocean)._sound_speed(tlat, tlon, tdep, temp, salinity)"
   ]
  },
  {
   "cell_type": "code",
   "execution_count": 21,
   "metadata": {},
   "outputs": [
    {
     "data": {
      "text/plain": [
       "array([0.7686430185572692, 0.7693411662370335, 0.7700392473377705,\n",
       "       0.7707373950175348, 0.7714355426972991, 0.7721336903770634,\n",
       "       0.7686430185572692, 0.7693411662370335, 0.7700392473377705,\n",
       "       0.7707373950175348, 0.7714355426972991, 0.7686430185572692,\n",
       "       0.7693411662370335, 0.7700392473377705, 0.7707373950175348,\n",
       "       0.7714355426972991, 0.7721336903770634, 0.7686430185572692,\n",
       "       0.7693411662370335, 0.7700392473377705, 0.7707373950175348,\n",
       "       0.7714355426972991, 0.7721336903770634, 0.7728317714778004,\n",
       "       0.7735299191575646, 0.7686430185572692, 0.7693411662370335,\n",
       "       0.7700392473377705, 0.7707373950175348, 0.7714355426972991,\n",
       "       0.7721336903770634, 0.7728317714778004, 0.7735299191575646,\n",
       "       0.7686430185572692, 0.7693411662370335, 0.7700392473377705,\n",
       "       0.7707373950175348, 0.7714355426972991, 0.7721336903770634,\n",
       "       0.7728317714778004, 0.7735299191575646, 0.7742280668373289,\n",
       "       0.7686430185572692, 0.7693411662370335, 0.7700392473377705,\n",
       "       0.7707373950175348, 0.7714355426972991, 0.7721336903770634,\n",
       "       0.7728317714778004, 0.7735299191575646, 0.7742280668373289,\n",
       "       0.7686430185572692, 0.7693411662370335, 0.7700392473377705,\n",
       "       0.7707373950175348, 0.7714355426972991, 0.7721336903770634,\n",
       "       0.7728317714778004, 0.7735299191575646, 0.7742280668373289,\n",
       "       0.7749262145170932, 0.7756242956178302, 0.7686430185572692,\n",
       "       0.7693411662370335, 0.7700392473377705, 0.7707373950175348,\n",
       "       0.7714355426972991, 0.7721336903770634, 0.7728317714778004,\n",
       "       0.7735299191575646, 0.7742280668373289, 0.7749262145170932,\n",
       "       0.7756242956178302, 0.7686430185572692, 0.7693411662370335,\n",
       "       0.7700392473377705, 0.7707373950175348, 0.7714355426972991,\n",
       "       0.7721336903770634, 0.7728317714778004, 0.7735299191575646,\n",
       "       0.7742280668373289, 0.7749262145170932, 0.7756242956178302,\n",
       "       0.7686430185572692, 0.7693411662370335, 0.7700392473377705,\n",
       "       0.7707373950175348, 0.7714355426972991, 0.7721336903770634,\n",
       "       0.7728317714778004, 0.7735299191575646, 0.7742280668373289,\n",
       "       0.7749262145170932, 0.7756242956178302, 0.7686430185572692,\n",
       "       0.7693411662370335, 0.7700392473377705, 0.7707373950175348,\n",
       "       0.7714355426972991, 0.7721336903770634, 0.7728317714778004,\n",
       "       0.7735299191575646, 0.7742280668373289, 0.7749262145170932,\n",
       "       0.7756242956178302, 0.7763224432975945, 0.7770205909773588,\n",
       "       0.777718738657123, 0.7686430185572692, 0.7693411662370335,\n",
       "       0.7700392473377705, 0.7707373950175348, 0.7714355426972991,\n",
       "       0.7721336903770634, 0.7728317714778004, 0.7735299191575646,\n",
       "       0.7742280668373289, 0.7749262145170932, 0.7756242956178302,\n",
       "       0.7763224432975945, 0.7770205909773588, 0.777718738657123,\n",
       "       0.77841681975786, 0.7686430185572692, 0.7693411662370335,\n",
       "       0.7700392473377705, 0.7707373950175348, 0.7714355426972991,\n",
       "       0.7721336903770634, 0.7686430185572692, 0.7693411662370335,\n",
       "       0.7700392473377705, 0.7707373950175348, 0.7714355426972991,\n",
       "       0.7686430185572692, 0.7693411662370335, 0.7700392473377705,\n",
       "       0.7707373950175348, 0.7714355426972991, 0.7721336903770634,\n",
       "       0.7686430185572692, 0.7693411662370335, 0.7700392473377705,\n",
       "       0.7707373950175348, 0.7714355426972991, 0.7721336903770634,\n",
       "       0.7728317714778004, 0.7735299191575646, 0.7686430185572692,\n",
       "       0.7693411662370335, 0.7700392473377705, 0.7707373950175348,\n",
       "       0.7714355426972991, 0.7721336903770634, 0.7728317714778004,\n",
       "       0.7735299191575646, 0.7686430185572692, 0.7693411662370335,\n",
       "       0.7700392473377705, 0.7707373950175348, 0.7714355426972991,\n",
       "       0.7721336903770634, 0.7728317714778004, 0.7735299191575646,\n",
       "       0.7742280668373289, 0.7686430185572692, 0.7693411662370335,\n",
       "       0.7700392473377705, 0.7707373950175348, 0.7714355426972991,\n",
       "       0.7721336903770634, 0.7728317714778004, 0.7735299191575646,\n",
       "       0.7742280668373289, 0.7686430185572692, 0.7693411662370335,\n",
       "       0.7700392473377705, 0.7707373950175348, 0.7714355426972991,\n",
       "       0.7721336903770634, 0.7728317714778004, 0.7735299191575646,\n",
       "       0.7742280668373289, 0.7749262145170932, 0.7756242956178302,\n",
       "       0.7686430185572692, 0.7693411662370335, 0.7700392473377705,\n",
       "       0.7707373950175348, 0.7714355426972991, 0.7721336903770634,\n",
       "       0.7728317714778004, 0.7735299191575646, 0.7742280668373289,\n",
       "       0.7749262145170932, 0.7756242956178302, 0.7686430185572692,\n",
       "       0.7693411662370335, 0.7700392473377705, 0.7707373950175348,\n",
       "       0.7714355426972991, 0.7721336903770634, 0.7728317714778004,\n",
       "       0.7735299191575646, 0.7742280668373289, 0.7749262145170932,\n",
       "       0.7756242956178302, 0.7686430185572692, 0.7693411662370335,\n",
       "       0.7700392473377705, 0.7707373950175348, 0.7714355426972991,\n",
       "       0.7721336903770634, 0.7728317714778004, 0.7735299191575646,\n",
       "       0.7742280668373289, 0.7749262145170932, 0.7756242956178302,\n",
       "       0.7686430185572692, 0.7693411662370335, 0.7700392473377705,\n",
       "       0.7707373950175348, 0.7714355426972991, 0.7721336903770634,\n",
       "       0.7728317714778004, 0.7735299191575646, 0.7742280668373289,\n",
       "       0.7749262145170932, 0.7756242956178302, 0.7763224432975945,\n",
       "       0.7770205909773588, 0.777718738657123, 0.7686430185572692,\n",
       "       0.7693411662370335, 0.7700392473377705, 0.7707373950175348,\n",
       "       0.7714355426972991, 0.7721336903770634, 0.7728317714778004,\n",
       "       0.7735299191575646, 0.7742280668373289, 0.7749262145170932,\n",
       "       0.7756242956178302, 0.7763224432975945, 0.7770205909773588,\n",
       "       0.777718738657123, 0.77841681975786], dtype=object)"
      ]
     },
     "execution_count": 21,
     "metadata": {},
     "output_type": "execute_result"
    }
   ],
   "source": [
    "tlat * (np.pi/180)"
   ]
  },
  {
   "cell_type": "code",
   "execution_count": null,
   "metadata": {},
   "outputs": [],
   "source": []
  }
 ],
 "metadata": {
  "kernelspec": {
   "display_name": "Python 3",
   "language": "python",
   "name": "python3"
  },
  "language_info": {
   "codemirror_mode": {
    "name": "ipython",
    "version": 3
   },
   "file_extension": ".py",
   "mimetype": "text/x-python",
   "name": "python",
   "nbconvert_exporter": "python",
   "pygments_lexer": "ipython3",
   "version": "3.6.8"
  }
 },
 "nbformat": 4,
 "nbformat_minor": 2
}
