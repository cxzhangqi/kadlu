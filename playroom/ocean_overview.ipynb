{
 "cells": [
  {
   "cell_type": "markdown",
   "metadata": {},
   "source": [
    "The main purpose of the ocean module is to \n",
    "\n",
    " * collect all environmental data in one place ('one module to rule them all')\n",
    " * provide a high-level interface for loading and querying/interpolating environmental data\n",
    " \n",
    "In particular, the ocean module should allow the user to\n",
    "\n",
    " * specify data sources via simple keys (e.g. 'HYCOM')\n",
    " * load data for a specific (rectangular) geographic region and time range\n",
    " * query (interpolated) data on any given grid\n",
    " \n",
    "The current implementation of the ocean module already supports some of these uses.\n",
    "\n",
    "The ocean module is already being used by the kadlu.sound.sound_propagation module (implementation almost completed) and the kadlu.sound.geophony module (implementation partially completed). "
   ]
  },
  {
   "cell_type": "markdown",
   "metadata": {},
   "source": [
    "# 1. Initialization"
   ]
  },
  {
   "cell_type": "markdown",
   "metadata": {},
   "source": [
    "In the most common scenario, the user initializes an instance of the ocean module by simply specifying the data sources. For example,"
   ]
  },
  {
   "cell_type": "code",
   "execution_count": 1,
   "metadata": {},
   "outputs": [
    {
     "name": "stderr",
     "output_type": "stream",
     "text": [
      "/home/oliskir/src/anaconda3/envs/kadlu_env/lib/python3.6/site-packages/kadlu/geospatial/data_sources/fetch_util.py:33: UserWarning: missing kadlu/config.ini. storage location will be set to /home/oliskir/src/anaconda3/envs/kadlu_env/lib/python3.6/site-packages/storage/\n",
      "  warnings.warn(f\"{msg} storage location will be set to {storage_location}\")\n"
     ]
    }
   ],
   "source": [
    "from kadlu.geospatial.ocean import Ocean\n",
    "\n",
    "ocean = Ocean(bathy='CHS', temp='HYCOM', salinity='HYCOM', wave='WWIII')"
   ]
  },
  {
   "cell_type": "markdown",
   "metadata": {},
   "source": [
    "In a second, less common, but also relevant, scenario, the user provides the data in the form of numpy arrays. For example,"
   ]
  },
  {
   "cell_type": "code",
   "execution_count": 2,
   "metadata": {},
   "outputs": [],
   "source": [
    "import numpy as np \n",
    "\n",
    "lats = np.linspace(45, 46, 10)   # longitudes\n",
    "lons = np.linspace(120, 122, 20) # latitudes\n",
    "depths = -100 * np.ones(shape=(10,20))   # flat bathymetry (100 m depth everywhere)\n",
    "\n",
    "ocean = Ocean(bathy=(depths, lats, lons), temp='HYCOM', salinity='HYCOM', wave='WWIII')"
   ]
  },
  {
   "cell_type": "markdown",
   "metadata": {},
   "source": [
    "Finally, for testing purposes, it may convenient to allow the user to specify a constant value for any of the inputs. For example, "
   ]
  },
  {
   "cell_type": "code",
   "execution_count": 3,
   "metadata": {},
   "outputs": [],
   "source": [
    "ocean = Ocean(bathy=-100, temp='HYCOM', salinity='HYCOM', wave='WWIII')"
   ]
  },
  {
   "cell_type": "markdown",
   "metadata": {},
   "source": [
    "# 2. Loading"
   ]
  },
  {
   "cell_type": "markdown",
   "metadata": {},
   "source": [
    "In the most common scenario, the user simply loads all data for a given region and time range, as follows"
   ]
  },
  {
   "cell_type": "code",
   "execution_count": 4,
   "metadata": {},
   "outputs": [
    {
     "name": "stdout",
     "output_type": "stream",
     "text": [
      "Error: Data loading from HYCOM not yet implemented.\n",
      "Error: Data loading from HYCOM not yet implemented.\n",
      "Error: Data loading from WWIII not yet implemented.\n"
     ]
    }
   ],
   "source": [
    "ocean.load(south=44, north=45, west=120, east=122, time=None)"
   ]
  },
  {
   "cell_type": "markdown",
   "metadata": {},
   "source": [
    "The current implementation only supports a single time value. This should be changed to also provide support for a range of times, i.e., start and end time. Also note, that automatic fetching/loading of HYCOM and WWIII data has not yet been implemented."
   ]
  },
  {
   "cell_type": "markdown",
   "metadata": {},
   "source": [
    "### To-do's:\n",
    "* Implement support for time range (start and end times) in load method\n",
    "* Implement loading of HYCOM and WWIII data (as well as other sources)"
   ]
  },
  {
   "cell_type": "markdown",
   "metadata": {},
   "source": [
    "In a second, less common, but also relevant, scenario, the user will want to load only one data variable, e.g., bathymetry. For this, the ocean module has specific load methods for each of the four data types (bathy, temp, salinity, wave). For example,"
   ]
  },
  {
   "cell_type": "code",
   "execution_count": 5,
   "metadata": {},
   "outputs": [],
   "source": [
    "ocean.load_bathy(south=44, north=45, west=120, east=122)"
   ]
  },
  {
   "cell_type": "markdown",
   "metadata": {},
   "source": [
    "# Querying/interpolating ('get' methods)"
   ]
  },
  {
   "cell_type": "markdown",
   "metadata": {},
   "source": [
    "Currently, the ocean module has the following 'get' methods:\n",
    "\n",
    " * bathy \n",
    " * bathy_gradient\n",
    " * temp\n",
    " * salinity\n",
    " * wave\n",
    " \n",
    "These methods allow computation of the desired variable at a single point, on a set of points, or on a regular grid, specified either in planar (x-y) or spherical (lat-lon) geometry.\n",
    "\n",
    "The methods make use of the kadlu.geospatial.interpolation module to perform these tasks."
   ]
  },
  {
   "cell_type": "markdown",
   "metadata": {},
   "source": [
    "For example, we can query the bathymetry at two points, like this"
   ]
  },
  {
   "cell_type": "code",
   "execution_count": 6,
   "metadata": {},
   "outputs": [
    {
     "name": "stdout",
     "output_type": "stream",
     "text": [
      "[-100. -100.]\n"
     ]
    }
   ],
   "source": [
    "bathy_values = ocean.bathy(x=[0,1000], y=[0,500])\n",
    "print(bathy_values)"
   ]
  },
  {
   "cell_type": "markdown",
   "metadata": {},
   "source": [
    "### To-do's: \n",
    "* There is currently only a single generic 'get' method for wave data, even though there are multiple variables (height, period, etc). We should either implement a method for each wave variable, or allow the user to specify the variable as an input argument to the 'get' method. "
   ]
  },
  {
   "cell_type": "code",
   "execution_count": null,
   "metadata": {},
   "outputs": [],
   "source": []
  }
 ],
 "metadata": {
  "kernelspec": {
   "display_name": "Python 3",
   "language": "python",
   "name": "python3"
  },
  "language_info": {
   "codemirror_mode": {
    "name": "ipython",
    "version": 3
   },
   "file_extension": ".py",
   "mimetype": "text/x-python",
   "name": "python",
   "nbconvert_exporter": "python",
   "pygments_lexer": "ipython3",
   "version": "3.6.6"
  }
 },
 "nbformat": 4,
 "nbformat_minor": 2
}
