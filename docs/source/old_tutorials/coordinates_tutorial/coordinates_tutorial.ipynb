{
 "cells": [
  {
   "cell_type": "markdown",
   "metadata": {},
   "source": [
    "# Tutorial 2: Polar and planar coordinates\n",
    "This short tutorial shows how to switch between polar (lat,lon) and planar (x,y) coordinates, where x corresponds to longitude and y to latitude."
   ]
  },
  {
   "cell_type": "markdown",
   "metadata": {},
   "source": [
    "First, we demonstrate how to transform from polar to planar coordinates:"
   ]
  },
  {
   "cell_type": "code",
   "execution_count": 1,
   "metadata": {},
   "outputs": [
    {
     "name": "stdout",
     "output_type": "stream",
     "text": [
      "x: 0.0 km\n",
      "y: 111.2 km\n"
     ]
    }
   ],
   "source": [
    "from kadlu.utils import LLtoXY\n",
    "\n",
    "# reference location (origin of xy coordinate system)\n",
    "lat_ref = 45.0\n",
    "lon_ref = 66.0\n",
    "\n",
    "# new location\n",
    "lat = lat_ref + 1.0  # 1 degree north of reference location\n",
    "lon = lon_ref\n",
    "\n",
    "x, y = LLtoXY(lat=lat, lon=lon, lat_ref=lat_ref, lon_ref=lon_ref)  # compute x and y coordinates at new location\n",
    "\n",
    "# print x,y values in human readable format\n",
    "print('x: {0:.1f} km'.format(x))\n",
    "print('y: {0:.1f} km'.format(y/1e3))"
   ]
  },
  {
   "cell_type": "markdown",
   "metadata": {},
   "source": [
    "We can also transform multiple locations at once, like this"
   ]
  },
  {
   "cell_type": "code",
   "execution_count": 2,
   "metadata": {},
   "outputs": [
    {
     "name": "stdout",
     "output_type": "stream",
     "text": [
      "[   0.         -393.13398868 -786.26797736] \n",
      "\n",
      "[111.19508372 222.39016745 555.97541862]\n"
     ]
    }
   ],
   "source": [
    "# new locations\n",
    "lat = [lat_ref+1.0, lat_ref+2.0, lat_ref+5.0]  # 1, 2, and 5 degrees north of reference location\n",
    "lon = [lon_ref, lon_ref-5.0, lon_ref-10.0]  # 0, 5, and 10 degrees west of reference location\n",
    "\n",
    "x, y = LLtoXY(lat=lat, lon=lon, lat_ref=lat_ref, lon_ref=lon_ref)  # compute x and y coordinates at new locations\n",
    "\n",
    "print(x/1e3,'\\n')\n",
    "print(y/1e3)"
   ]
  },
  {
   "cell_type": "markdown",
   "metadata": {},
   "source": [
    "The inverse transform looks very similar:"
   ]
  },
  {
   "cell_type": "code",
   "execution_count": 3,
   "metadata": {},
   "outputs": [
    {
     "name": "stdout",
     "output_type": "stream",
     "text": [
      "lat: 46.0 deg\n",
      "lon: 66.0 deg\n"
     ]
    }
   ],
   "source": [
    "from kadlu.utils import XYtoLL\n",
    "\n",
    "# new location\n",
    "x = 0.0      \n",
    "y = 111.2E3  \n",
    "\n",
    "lat, lon = XYtoLL(x=x, y=y, lat_ref=lat_ref, lon_ref=lon_ref)  # compute latitude and longitude at new location\n",
    "\n",
    "# print latitude and longitude in human readable format\n",
    "print('lat: {0:.1f} deg'.format(lat))\n",
    "print('lon: {0:.1f} deg'.format(lon))"
   ]
  }
 ],
 "metadata": {
  "kernelspec": {
   "display_name": "Python 3",
   "language": "python",
   "name": "python3"
  },
  "language_info": {
   "codemirror_mode": {
    "name": "ipython",
    "version": 3
   },
   "file_extension": ".py",
   "mimetype": "text/x-python",
   "name": "python",
   "nbconvert_exporter": "python",
   "pygments_lexer": "ipython3",
   "version": "3.7.3"
  }
 },
 "nbformat": 4,
 "nbformat_minor": 2
}
