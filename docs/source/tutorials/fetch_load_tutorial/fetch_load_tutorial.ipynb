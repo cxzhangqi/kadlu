{
 "cells": [
  {
   "cell_type": "markdown",
   "metadata": {},
   "source": [
    "# Fetching and Loading Environmental Data"
   ]
  },
  {
   "cell_type": "markdown",
   "metadata": {},
   "source": [
    "In this tutorial, we will use Kadlu to retrieve environmental data from online sources and load the data into numpy arrays for further processing."
   ]
  },
  {
   "cell_type": "markdown",
   "metadata": {},
   "source": [
    "To start with, we import all necessary python modules, functions, etc."
   ]
  },
  {
   "cell_type": "code",
   "execution_count": 1,
   "metadata": {},
   "outputs": [
    {
     "name": "stdout",
     "output_type": "stream",
     "text": [
      "NOTICE: missing kadlu/config.ini. storage location will be set to /home/oliskir/src/anaconda3/envs/kadlu_env/lib/python3.6/site-packages/storage/\n",
      "NOTICE: missing kadlu/config.ini. storage location will be set to /home/oliskir/src/anaconda3/envs/kadlu_env/lib/python3.6/site-packages/storage/\n",
      "NOTICE: missing kadlu/config.ini. storage location will be set to /home/oliskir/src/anaconda3/envs/kadlu_env/lib/python3.6/site-packages/storage/\n",
      "NOTICE: missing kadlu/config.ini. storage location will be set to /home/oliskir/src/anaconda3/envs/kadlu_env/lib/python3.6/site-packages/storage/\n",
      "NOTICE: missing kadlu/config.ini. storage location will be set to /home/oliskir/src/anaconda3/envs/kadlu_env/lib/python3.6/site-packages/storage/\n",
      "NOTICE: missing kadlu/config.ini. storage location will be set to /home/oliskir/src/anaconda3/envs/kadlu_env/lib/python3.6/site-packages/storage/\n",
      "NOTICE: missing kadlu/config.ini. storage location will be set to /home/oliskir/src/anaconda3/envs/kadlu_env/lib/python3.6/site-packages/storage/\n",
      "NOTICE: missing kadlu/config.ini. storage location will be set to /home/oliskir/src/anaconda3/envs/kadlu_env/lib/python3.6/site-packages/storage/\n",
      "NOTICE: missing kadlu/config.ini. storage location will be set to /home/oliskir/src/anaconda3/envs/kadlu_env/lib/python3.6/site-packages/storage/\n",
      "NOTICE: missing kadlu/config.ini. storage location will be set to /home/oliskir/src/anaconda3/envs/kadlu_env/lib/python3.6/site-packages/storage/\n",
      "NOTICE: missing kadlu/config.ini. storage location will be set to /home/oliskir/src/anaconda3/envs/kadlu_env/lib/python3.6/site-packages/storage/\n",
      "NOTICE: missing kadlu/config.ini. storage location will be set to /home/oliskir/src/anaconda3/envs/kadlu_env/lib/python3.6/site-packages/storage/\n",
      "NOTICE: missing kadlu/config.ini. storage location will be set to /home/oliskir/src/anaconda3/envs/kadlu_env/lib/python3.6/site-packages/storage/\n",
      "NOTICE: missing kadlu/config.ini. storage location will be set to /home/oliskir/src/anaconda3/envs/kadlu_env/lib/python3.6/site-packages/storage/\n",
      "NOTICE: missing kadlu/config.ini. storage location will be set to /home/oliskir/src/anaconda3/envs/kadlu_env/lib/python3.6/site-packages/storage/\n",
      "NOTICE: missing kadlu/config.ini. storage location will be set to /home/oliskir/src/anaconda3/envs/kadlu_env/lib/python3.6/site-packages/storage/\n",
      "NOTICE: missing kadlu/config.ini. storage location will be set to /home/oliskir/src/anaconda3/envs/kadlu_env/lib/python3.6/site-packages/storage/\n",
      "NOTICE: missing kadlu/config.ini. storage location will be set to /home/oliskir/src/anaconda3/envs/kadlu_env/lib/python3.6/site-packages/storage/\n",
      "NOTICE: missing kadlu/config.ini. storage location will be set to /home/oliskir/src/anaconda3/envs/kadlu_env/lib/python3.6/site-packages/storage/\n",
      "NOTICE: missing kadlu/config.ini. storage location will be set to /home/oliskir/src/anaconda3/envs/kadlu_env/lib/python3.6/site-packages/storage/\n",
      "NOTICE: missing kadlu/config.ini. storage location will be set to /home/oliskir/src/anaconda3/envs/kadlu_env/lib/python3.6/site-packages/storage/\n",
      "NOTICE: missing kadlu/config.ini. storage location will be set to /home/oliskir/src/anaconda3/envs/kadlu_env/lib/python3.6/site-packages/storage/\n",
      "NOTICE: missing kadlu/config.ini. storage location will be set to /home/oliskir/src/anaconda3/envs/kadlu_env/lib/python3.6/site-packages/storage/\n",
      "NOTICE: missing kadlu/config.ini. storage location will be set to /home/oliskir/src/anaconda3/envs/kadlu_env/lib/python3.6/site-packages/storage/\n",
      "NOTICE: missing kadlu/config.ini. storage location will be set to /home/oliskir/src/anaconda3/envs/kadlu_env/lib/python3.6/site-packages/storage/\n",
      "NOTICE: missing kadlu/config.ini. storage location will be set to /home/oliskir/src/anaconda3/envs/kadlu_env/lib/python3.6/site-packages/storage/\n",
      "NOTICE: missing kadlu/config.ini. storage location will be set to /home/oliskir/src/anaconda3/envs/kadlu_env/lib/python3.6/site-packages/storage/\n",
      "NOTICE: missing kadlu/config.ini. storage location will be set to /home/oliskir/src/anaconda3/envs/kadlu_env/lib/python3.6/site-packages/storage/\n",
      "NOTICE: missing kadlu/config.ini. storage location will be set to /home/oliskir/src/anaconda3/envs/kadlu_env/lib/python3.6/site-packages/storage/\n",
      "NOTICE: missing kadlu/config.ini. storage location will be set to /home/oliskir/src/anaconda3/envs/kadlu_env/lib/python3.6/site-packages/storage/\n",
      "NOTICE: missing kadlu/config.ini. storage location will be set to /home/oliskir/src/anaconda3/envs/kadlu_env/lib/python3.6/site-packages/storage/\n",
      "NOTICE: missing kadlu/config.ini. storage location will be set to /home/oliskir/src/anaconda3/envs/kadlu_env/lib/python3.6/site-packages/storage/\n",
      "NOTICE: missing kadlu/config.ini. storage location will be set to /home/oliskir/src/anaconda3/envs/kadlu_env/lib/python3.6/site-packages/storage/\n",
      "NOTICE: missing kadlu/config.ini. storage location will be set to /home/oliskir/src/anaconda3/envs/kadlu_env/lib/python3.6/site-packages/storage/\n",
      "NOTICE: missing kadlu/config.ini. storage location will be set to /home/oliskir/src/anaconda3/envs/kadlu_env/lib/python3.6/site-packages/storage/\n",
      "NOTICE: missing kadlu/config.ini. storage location will be set to /home/oliskir/src/anaconda3/envs/kadlu_env/lib/python3.6/site-packages/storage/\n",
      "NOTICE: missing kadlu/config.ini. storage location will be set to /home/oliskir/src/anaconda3/envs/kadlu_env/lib/python3.6/site-packages/storage/\n",
      "NOTICE: missing kadlu/config.ini. storage location will be set to /home/oliskir/src/anaconda3/envs/kadlu_env/lib/python3.6/site-packages/storage/\n",
      "NOTICE: missing kadlu/config.ini. storage location will be set to /home/oliskir/src/anaconda3/envs/kadlu_env/lib/python3.6/site-packages/storage/\n",
      "NOTICE: missing kadlu/config.ini. storage location will be set to /home/oliskir/src/anaconda3/envs/kadlu_env/lib/python3.6/site-packages/storage/\n",
      "NOTICE: missing kadlu/config.ini. storage location will be set to /home/oliskir/src/anaconda3/envs/kadlu_env/lib/python3.6/site-packages/storage/\n",
      "NOTICE: missing kadlu/config.ini. storage location will be set to /home/oliskir/src/anaconda3/envs/kadlu_env/lib/python3.6/site-packages/storage/\n",
      "NOTICE: missing kadlu/config.ini. storage location will be set to /home/oliskir/src/anaconda3/envs/kadlu_env/lib/python3.6/site-packages/storage/\n",
      "NOTICE: missing kadlu/config.ini. storage location will be set to /home/oliskir/src/anaconda3/envs/kadlu_env/lib/python3.6/site-packages/storage/\n"
     ]
    }
   ],
   "source": [
    "from datetime import datetime\n",
    "from kadlu import chs, era5, hycom, wwiii, source_map, data_util"
   ]
  },
  {
   "cell_type": "markdown",
   "metadata": {},
   "source": [
    "### Quick start guide"
   ]
  },
  {
   "cell_type": "markdown",
   "metadata": {},
   "source": [
    "With Kadlu, environmental data can be retrieved and loaded with a single line of code. Here, we demonstrate how to obtain modelled, surface salinity data from HYCOM for the geographic region $47^{\\circ}$N to $49^{\\circ}$N and $-63^{\\circ}$W to $-61^{\\circ}$W for the first week of January 2013.     "
   ]
  },
  {
   "cell_type": "code",
   "execution_count": 2,
   "metadata": {
    "scrolled": true
   },
   "outputs": [
    {
     "name": "stdout",
     "output_type": "stream",
     "text": [
      "NOTICE: missing kadlu/config.ini. storage location will be set to /home/oliskir/src/anaconda3/envs/kadlu_env/lib/python3.6/site-packages/storage/\n",
      "NOTICE: missing kadlu/config.ini. storage location will be set to /home/oliskir/src/anaconda3/envs/kadlu_env/lib/python3.6/site-packages/storage/\n",
      "NOTICE: missing kadlu/config.ini. storage location will be set to /home/oliskir/src/anaconda3/envs/kadlu_env/lib/python3.6/site-packages/storage/\n",
      "NOTICE: missing kadlu/config.ini. storage location will be set to /home/oliskir/src/anaconda3/envs/kadlu_env/lib/python3.6/site-packages/storage/\n",
      "NOTICE: missing kadlu/config.ini. storage location will be set to /home/oliskir/src/anaconda3/envs/kadlu_env/lib/python3.6/site-packages/storage/\n",
      "NOTICE: missing kadlu/config.ini. storage location will be set to /home/oliskir/src/anaconda3/envs/kadlu_env/lib/python3.6/site-packages/storage/\n",
      "NOTICE: missing kadlu/config.ini. storage location will be set to /home/oliskir/src/anaconda3/envs/kadlu_env/lib/python3.6/site-packages/storage/\n",
      "NOTICE: missing kadlu/config.ini. storage location will be set to /home/oliskir/src/anaconda3/envs/kadlu_env/lib/python3.6/site-packages/storage/\n",
      "NOTICE: missing kadlu/config.ini. storage location will be set to /home/oliskir/src/anaconda3/envs/kadlu_env/lib/python3.6/site-packages/storage/\n",
      "NOTICE: missing kadlu/config.ini. storage location will be set to /home/oliskir/src/anaconda3/envs/kadlu_env/lib/python3.6/site-packages/storage/\n",
      "NOTICE: missing kadlu/config.ini. storage location will be set to /home/oliskir/src/anaconda3/envs/kadlu_env/lib/python3.6/site-packages/storage/\n"
     ]
    }
   ],
   "source": [
    "# fetch and load salinity (g/kg salt in water)\n",
    "salinity, lat, lon, time, depth = hycom().load_salinity(\n",
    "        south=47, west=-63, \n",
    "        north=49, east=-61, \n",
    "        bottom=0, top=0,\n",
    "        start=datetime(2013, 1, 1), end=datetime(2013, 1, 7))"
   ]
  },
  {
   "cell_type": "markdown",
   "metadata": {},
   "source": [
    "Note how the arguments `bottom` and `top` are both set to `0`, thereby selecting only data at a depth of 0 m, i.e., at the surface. Note also that we use the [datetime](https://docs.python.org/2/library/datetime.html) package to specify dates and times."
   ]
  },
  {
   "cell_type": "markdown",
   "metadata": {},
   "source": [
    "The `load_salinity` method produced flattened numpy arrays, the length of which corresponds to the number of data points in the selected geographic region, depth range, and temporal window. "
   ]
  },
  {
   "cell_type": "code",
   "execution_count": 3,
   "metadata": {},
   "outputs": [
    {
     "name": "stdout",
     "output_type": "stream",
     "text": [
      "[47. 47. 47. 47. 47. 47. 47. 47. 47. 47.]\n",
      "[-62.96002197 -62.88000488 -62.79998779 -62.7199707  -62.64001465\n",
      " -62.55999756 -62.47998047 -62.40002441 -62.32000732 -62.23999023]\n",
      "[0. 0. 0. 0. 0. 0. 0. 0. 0. 0.]\n",
      "[113991. 113991. 113991. 113991. 113991. 113991. 113991. 113991. 113991.\n",
      " 113991.]\n",
      "[30.791 30.886 30.92  30.903 30.874 30.853 30.817 30.747 30.714 30.636]\n"
     ]
    }
   ],
   "source": [
    "# print the first 10 values of each array\n",
    "\n",
    "print(lat[0:10])      # latitude (degrees north)\n",
    "print(lon[0:10])      # longitude (degrees west)\n",
    "print(depth[0:10])    # depth (meters)\n",
    "print(time[0:10])     # time (hours since 00:00:00 on 1 January 2000)\n",
    "print(salinity[0:10]) # ocean salt content (g/kg)"
   ]
  },
  {
   "cell_type": "markdown",
   "metadata": {},
   "source": [
    "We can use the `epoch_2_dt` function from Kadlu's `data_util` module to convert the time values into a more human-friendly date-time format, "
   ]
  },
  {
   "cell_type": "code",
   "execution_count": 8,
   "metadata": {},
   "outputs": [
    {
     "name": "stdout",
     "output_type": "stream",
     "text": [
      "[datetime.datetime(2013, 1, 1, 15, 0)]\n"
     ]
    }
   ],
   "source": [
    "print(data_util.epoch_2_dt([time[0]]))"
   ]
  },
  {
   "cell_type": "markdown",
   "metadata": {},
   "source": [
    "### Data sources\n",
    "Kadlu includes functionality to load data from a variety of different data sources. For a high level overview, print the source_map:"
   ]
  },
  {
   "cell_type": "code",
   "execution_count": 2,
   "metadata": {},
   "outputs": [
    {
     "name": "stdout",
     "output_type": "stream",
     "text": [
      "\n",
      "    CHS   (Canadian Hydrography Service)\n",
      "          load_bathymetry:          bathymetric data in Canada's waterways. variable resolution \n",
      "\n",
      "    ERA5  (Global environmental dataset from Copernicus Climate Data Store)\n",
      "          load_windwaveswellheight: combined height of wind, waves, and swell. metres\n",
      "          load_wavedirection:       mean wave direction, degrees\n",
      "          load_waveperiod:          mean wave period, seconds\n",
      "          load_wind_uv:             wind speed computed as sqrt(u^2 + v^2) / 2, where u, v are direction vectors\n",
      "          load_wind_u:              wind speed coordinate U-vector, m/s\n",
      "          load_wind_v:              wind speed coordinate V-vector, m/s \n",
      "\n",
      "    HYCOM (Hybrid Coordinate Ocean Model)\n",
      "          load_salinity:            g/kg salt in water\n",
      "          load_temp:                degrees celsius\n",
      "          load_water_uv:            ocean current computed as sqrt(u^2 + v^2) / 2, where u, v are direction vectors\n",
      "          load_water_u:             ocean current coordinate U-vector, m/s\n",
      "          load_water_v:             ocean current coordinate V-vector, m/s \n",
      "\n",
      "    WWIII (WaveWatch Ocean Model Gen 3)\n",
      "          load_wavedirection:       primary wave direction, degrees\n",
      "          load_waveperiod:          primary mean wave period, seconds\n",
      "          load_windwaveheight:      combined height of wind and waves, metres\n",
      "          load_wind_uv:             wind speed computed as sqrt(u^2 + v^2) / 2, where u, v are direction vectors\n",
      "          load_wind_u:              wind speed coordinate U-vector, m/s\n",
      "          load_wind_v:              wind speed coordinate V-vector, m/s\n",
      "    \n"
     ]
    }
   ],
   "source": [
    "print(source_map)"
   ]
  },
  {
   "cell_type": "markdown",
   "metadata": {},
   "source": [
    "for more information on a specific source, print the class object:"
   ]
  },
  {
   "cell_type": "code",
   "execution_count": 5,
   "metadata": {
    "scrolled": false
   },
   "outputs": [
    {
     "name": "stdout",
     "output_type": "stream",
     "text": [
      "Native hycom .[ab] data converted to NetCDF at the Naval\n",
      "Research Laboratory, interpolated to 0.08° grid between\n",
      "40°S-40°N (0.04° poleward) containing 40 z-levels.\n",
      "Availability: 1994 to 2015\n",
      "\thttps://www.hycom.org/data/glbv0pt08\n",
      "\n",
      "input arguments:\n",
      "\t(south, north, west, east, start, end, top, bottom)\n",
      "\n",
      "class functions:\n",
      "\tload_salinity\n",
      "\tload_temp\n",
      "\tload_water_u\n",
      "\tload_water_uv\n",
      "\tload_water_v\n",
      "\n"
     ]
    }
   ],
   "source": [
    "print(hycom())"
   ]
  },
  {
   "cell_type": "markdown",
   "metadata": {},
   "source": [
    "keyword arguments can be passed as a dictionary when using the same load arguments for multiple datatypes"
   ]
  },
  {
   "cell_type": "code",
   "execution_count": 4,
   "metadata": {
    "scrolled": true
   },
   "outputs": [
    {
     "name": "stderr",
     "output_type": "stream",
     "text": [
      "2020-02-26 12:48:35,738 INFO Welcome to the CDS\n",
      "2020-02-26 12:48:35,740 INFO Sending request to https://cds.climate.copernicus.eu/api/v2/resources/reanalysis-era5-single-levels\n",
      "2020-02-26 12:48:37,639 INFO Request is queued\n",
      "2020-02-26 12:48:40,548 INFO Request is running\n",
      "2020-02-26 12:48:46,482 INFO Request is completed\n",
      "2020-02-26 12:48:46,483 INFO Downloading http://136.156.132.198/cache-compute-0003/cache/data5/adaptor.mars.internal-1582735719.8133974-32309-18-8d1d352f-0c0e-45da-8dc2-7d9e95a5efcb.grib to /home/matt_s/kadlu/storage/ERA5_reanalysis_significant_height_of_combined_wind_waves_and_swell_2013-01-01.grb2 (7.3M)\n",
      "2020-02-26 12:48:48,386 INFO Download rate 3.8M/s\n",
      "2020-02-26 12:48:53,341 INFO Welcome to the CDS\n",
      "2020-02-26 12:48:53,342 INFO Sending request to https://cds.climate.copernicus.eu/api/v2/resources/reanalysis-era5-single-levels\n",
      "2020-02-26 12:48:53,993 INFO Request is queued\n",
      "2020-02-26 12:48:55,145 INFO Request is running\n",
      "2020-02-26 12:48:59,200 INFO Request is completed\n",
      "2020-02-26 12:48:59,201 INFO Downloading http://136.156.132.235/cache-compute-0006/cache/data8/adaptor.mars.internal-1582735735.0817978-8148-5-dd3213d9-9a35-4f3f-bb16-08c9ea218f7d.grib to /home/matt_s/kadlu/storage/ERA5_reanalysis_significant_height_of_combined_wind_waves_and_swell_2013-01-02.grb2 (7.3M)\n",
      "2020-02-26 12:49:00,828 INFO Download rate 4.5M/s\n",
      "2020-02-26 12:49:04,774 INFO Welcome to the CDS\n",
      "2020-02-26 12:49:04,775 INFO Sending request to https://cds.climate.copernicus.eu/api/v2/resources/reanalysis-era5-single-levels\n",
      "2020-02-26 12:49:05,170 INFO Request is queued\n",
      "2020-02-26 12:49:07,975 INFO Request is running\n",
      "2020-02-26 12:49:13,910 INFO Request is completed\n",
      "2020-02-26 12:49:13,912 INFO Downloading http://136.156.133.41/cache-compute-0013/cache/data5/adaptor.mars.internal-1582735747.7535355-6992-5-292cf7f4-f9ce-4cbb-b5ce-8b7f1c453112.grib to /home/matt_s/kadlu/storage/ERA5_reanalysis_significant_height_of_combined_wind_waves_and_swell_2013-01-03.grb2 (7.3M)\n",
      "2020-02-26 12:49:15,688 INFO Download rate 4.1M/s\n",
      "2020-02-26 12:49:20,102 INFO Welcome to the CDS\n",
      "2020-02-26 12:49:20,104 INFO Sending request to https://cds.climate.copernicus.eu/api/v2/resources/reanalysis-era5-single-levels\n",
      "2020-02-26 12:49:21,114 INFO Request is queued\n",
      "2020-02-26 12:49:22,267 INFO Request is running\n",
      "2020-02-26 12:49:29,853 INFO Request is completed\n",
      "2020-02-26 12:49:29,854 INFO Downloading http://136.156.132.110/cache-compute-0001/cache/data7/adaptor.mars.internal-1582735762.116274-25616-16-b45b3532-9528-407b-8491-9352353fc649.grib to /home/matt_s/kadlu/storage/ERA5_reanalysis_significant_height_of_combined_wind_waves_and_swell_2013-01-04.grb2 (7.3M)\n",
      "2020-02-26 12:49:31,485 INFO Download rate 4.5M/s\n",
      "2020-02-26 12:49:34,900 INFO Welcome to the CDS\n",
      "2020-02-26 12:49:34,902 INFO Sending request to https://cds.climate.copernicus.eu/api/v2/resources/reanalysis-era5-single-levels\n",
      "2020-02-26 12:49:35,462 INFO Request is queued\n",
      "2020-02-26 12:49:36,614 INFO Request is running\n",
      "2020-02-26 12:49:40,921 INFO Request is completed\n",
      "2020-02-26 12:49:40,922 INFO Downloading http://136.156.133.46/cache-compute-0015/cache/data8/adaptor.mars.internal-1582735776.1946988-29192-14-f5f0a877-8b49-49ac-85e4-a00b09e68b86.grib to /home/matt_s/kadlu/storage/ERA5_reanalysis_significant_height_of_combined_wind_waves_and_swell_2013-01-05.grb2 (7.3M)\n",
      "2020-02-26 12:49:42,816 INFO Download rate 3.9M/s\n",
      "2020-02-26 12:49:46,169 INFO Welcome to the CDS\n",
      "2020-02-26 12:49:46,171 INFO Sending request to https://cds.climate.copernicus.eu/api/v2/resources/reanalysis-era5-single-levels\n",
      "2020-02-26 12:49:47,564 INFO Request is queued\n",
      "2020-02-26 12:49:48,715 INFO Request is running\n",
      "2020-02-26 12:49:52,771 INFO Request is completed\n",
      "2020-02-26 12:49:52,772 INFO Downloading http://136.156.133.41/cache-compute-0013/cache/data4/adaptor.mars.internal-1582735787.7160606-25642-32-42492be2-9df7-49ee-b25a-bc3e2679f2b6.grib to /home/matt_s/kadlu/storage/ERA5_reanalysis_significant_height_of_combined_wind_waves_and_swell_2013-01-06.grb2 (7.3M)\n",
      "2020-02-26 12:49:56,253 INFO Download rate 2.1M/s\n"
     ]
    }
   ],
   "source": [
    "kwargs = dict(\n",
    "        south=47, west=-63, \n",
    "        north=49, east=-61, \n",
    "        bottom=0, top=0,\n",
    "        start=datetime(2013, 1, 1), end=datetime(2013, 1, 7))\n",
    "\n",
    "bathy, lat1, lon1 = chs().load_bathymetry(**kwargs)\n",
    "waveheight, lat2, lon2, epoch2 = era5().load_windwaveswellheight(**kwargs)"
   ]
  }
 ],
 "metadata": {
  "kernelspec": {
   "display_name": "Python 3",
   "language": "python",
   "name": "python3"
  },
  "language_info": {
   "codemirror_mode": {
    "name": "ipython",
    "version": 3
   },
   "file_extension": ".py",
   "mimetype": "text/x-python",
   "name": "python",
   "nbconvert_exporter": "python",
   "pygments_lexer": "ipython3",
   "version": "3.6.6"
  }
 },
 "nbformat": 4,
 "nbformat_minor": 4
}
