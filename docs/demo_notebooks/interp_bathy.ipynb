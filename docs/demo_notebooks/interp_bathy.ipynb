{
 "cells": [
  {
   "cell_type": "markdown",
   "metadata": {},
   "source": [
    "# Tutorial 3: Interpolate bathymetry data\n",
    "This tutorial shows how to interpolate bathymetry data in either polar (lat,lon) or planar (x,y) coordinates."
   ]
  },
  {
   "cell_type": "markdown",
   "metadata": {},
   "source": [
    "First, we creater a 'reader' for the bathymetry data file (cf. Tutorial 1). "
   ]
  },
  {
   "cell_type": "code",
   "execution_count": 1,
   "metadata": {},
   "outputs": [],
   "source": [
    "from pyost.bathy_reader import BathyReader\n",
    "\n",
    "filename = 'assets/BathyData_Mariana_500kmx500km.mat'\n",
    "\n",
    "reader = BathyReader(path=filename, lat_name='latgrat', lon_name='longrat', bathy_name='mat')"
   ]
  },
  {
   "cell_type": "markdown",
   "metadata": {},
   "source": [
    "Next, we create an 'interpolator', like this"
   ]
  },
  {
   "cell_type": "code",
   "execution_count": 2,
   "metadata": {},
   "outputs": [],
   "source": [
    "from pyost.bathy_interpolator import BathyInterpolator\n",
    "\n",
    "interp = BathyInterpolator(bathy_reader=reader)"
   ]
  },
  {
   "cell_type": "markdown",
   "metadata": {},
   "source": [
    "The interpolator has two interpolation functions, one that works in polar coordinates (latitude, longitude), and one that works in planar coordinates (x, y). These functions were interpolated on regulard grids. We can access the grid points (or, nodes) as follows,"
   ]
  },
  {
   "cell_type": "code",
   "execution_count": 3,
   "metadata": {},
   "outputs": [
    {
     "name": "stdout",
     "output_type": "stream",
     "text": [
      "Lat range: 8.68 to 13.65 degrees north (153 nodes)\n",
      "Lon range: 139.72 to 144.52 degrees east (145 nodes)\n",
      "\n",
      "x range: -261.8 to 261.8 km (145 nodes)\n",
      "y range: -276.3 to 276.3 km (153 nodes)\n"
     ]
    }
   ],
   "source": [
    "# nodes of the latitude-longitude grid\n",
    "lats = interp.lat_nodes\n",
    "lons = interp.lon_nodes\n",
    "\n",
    "# nodes of the x-y grid\n",
    "xs = interp.x_nodes\n",
    "ys = interp.y_nodes\n",
    "\n",
    "# print the min and max values and the number of nodes.\n",
    "# (note that the nodes are always strictly ascending)\n",
    "print('Lat range: {0:.2f} to {1:.2f} degrees north ({2} nodes)'.format(lats[0], lats[-1], len(lats)))\n",
    "print('Lon range: {0:.2f} to {1:.2f} degrees east ({2} nodes)'.format(lons[0], lons[-1], len(lons)))\n",
    "print('\\nx range: {0:.1f} to {1:.1f} km ({2} nodes)'.format(xs[0]/1e3, xs[-1]/1e3, len(xs)))\n",
    "print('y range: {0:.1f} to {1:.1f} km ({2} nodes)'.format(ys[0]/1e3, ys[-1]/1e3, len(ys)))"
   ]
  },
  {
   "cell_type": "markdown",
   "metadata": {},
   "source": [
    "Note that the planar coordinate system is oriented so that x corresponds to longitude and y corresponds to latitude. By default the origin of the planar coordinate system was placed at the center when the interpolator was initialized. If we had wanted to use a different location as the origin of our planar coordinate system, we could have done it this way,"
   ]
  },
  {
   "cell_type": "code",
   "execution_count": 4,
   "metadata": {},
   "outputs": [],
   "source": [
    "from pyost.bathy_reader import LatLon\n",
    "\n",
    "refloc = LatLon(9.0, 140)  # reference location at 9 deg N and 140 deg E\n",
    "\n",
    "interp = BathyInterpolator(bathy_reader=reader, origin=refloc)"
   ]
  },
  {
   "cell_type": "markdown",
   "metadata": {},
   "source": [
    "We can evaluate the bathymetry at any position we like, using either polar or planar coordinates. For example, we may evaluate the bathymetry at the reference location:"
   ]
  },
  {
   "cell_type": "code",
   "execution_count": 5,
   "metadata": {},
   "outputs": [
    {
     "name": "stdout",
     "output_type": "stream",
     "text": [
      "Polar: -3221.0 m\n",
      "Planar: -3210.8 m\n"
     ]
    }
   ],
   "source": [
    "depth_ll = interp.eval_ll(lat=9, lon=140) # using polar coordinates\n",
    "depth_xy = interp.eval_xy(x=0, y=0) # using planar coordinates\n",
    "\n",
    "# check that the two interpolation schemes agree\n",
    "print('Polar: {0:.1f} m'.format(depth_ll))\n",
    "print('Planar: {0:.1f} m'.format(depth_xy))"
   ]
  },
  {
   "cell_type": "markdown",
   "metadata": {},
   "source": [
    "Note that the depths differ by about 10 m (or 0.3%). This is a numerical artifact caused by the use of different interpolation grids. The discrepancy can be reduced by using a finer grid for the xy interpolation, like this:"
   ]
  },
  {
   "cell_type": "code",
   "execution_count": 7,
   "metadata": {},
   "outputs": [
    {
     "name": "stdout",
     "output_type": "stream",
     "text": [
      "Polar: -3221.0 m\n",
      "Planar: -3221.0 m\n"
     ]
    }
   ],
   "source": [
    "# re-initialize the interpolator with x and y grids that are 4 times finer\n",
    "interp = BathyInterpolator(bathy_reader=reader, origin=refloc, rebin_xy=4)\n",
    "\n",
    "# evaluate the bathymetry with this new interpolator\n",
    "depth_ll = interp.eval_ll(lat=9, lon=140) # using polar coordinates\n",
    "depth_xy = interp.eval_xy(x=0, y=0) # using planar coordinates\n",
    "\n",
    "# print in human readable format\n",
    "print('Polar: {0:.1f} m'.format(depth_ll))\n",
    "print('Planar: {0:.1f} m'.format(depth_xy))"
   ]
  },
  {
   "cell_type": "markdown",
   "metadata": {},
   "source": [
    "If we need to evaluate the bathymetry at multiple locations, there are two ways of doing this:"
   ]
  },
  {
   "cell_type": "code",
   "execution_count": 8,
   "metadata": {},
   "outputs": [
    {
     "name": "stdout",
     "output_type": "stream",
     "text": [
      "[-4033.23695936 -4134.27252521 -4219.10814853] \n",
      "\n",
      "[[-4033.23695936 -3998.0499424  -3946.12628954]\n",
      " [-4158.8816521  -4134.27252521 -4092.00167924]\n",
      " [-4267.04587712 -4252.67892606 -4219.10814853]]\n"
     ]
    }
   ],
   "source": [
    "x = [0, 1000, 2000]  # x coordinates in meters\n",
    "y = [6000, 7000, 8000]  # y coordinates in meters\n",
    "\n",
    "bathy_i = interp.eval_xy(x=x, y=y)  # evaluate bathymetry at positions (x[i],y[i]); i=0,1,2\n",
    "bathy_ij = interp.eval_xy(x=x, y=y, grid=True)  # evaluate bathymetry at positions (x[i],y[j]); i=0,1,2; j=0,1,2\n",
    "\n",
    "print(bathy_i,'\\n')\n",
    "print(bathy_ij)"
   ]
  },
  {
   "cell_type": "markdown",
   "metadata": {},
   "source": [
    "So, in the first case we match the elements in x and y row-by-row - this gives us 3 positions - whereas in the second case we construct all possible combinations of the elements in x and y, which gives us 9 different positions. In the first case, x and y must have the same length; in the second case, their lengths can be different."
   ]
  }
 ],
 "metadata": {
  "kernelspec": {
   "display_name": "Python 3",
   "language": "python",
   "name": "python3"
  },
  "language_info": {
   "codemirror_mode": {
    "name": "ipython",
    "version": 3
   },
   "file_extension": ".py",
   "mimetype": "text/x-python",
   "name": "python",
   "nbconvert_exporter": "python",
   "pygments_lexer": "ipython3",
   "version": "3.6.7"
  }
 },
 "nbformat": 4,
 "nbformat_minor": 2
}
