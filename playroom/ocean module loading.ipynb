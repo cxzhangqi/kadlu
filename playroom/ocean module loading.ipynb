{
 "cells": [
  {
   "cell_type": "code",
   "execution_count": 1,
   "metadata": {},
   "outputs": [],
   "source": [
    "from kadlu.geospatial.ocean import Ocean\n",
    "from kadlu.geospatial.data_sources.data_util import reshape_2D\n",
    "from kadlu.geospatial.data_sources.chs import Chs\n",
    "from datetime import datetime\n",
    "import numpy as np"
   ]
  },
  {
   "cell_type": "code",
   "execution_count": 2,
   "metadata": {},
   "outputs": [],
   "source": [
    "kwargs = dict(\n",
    "        start=datetime(2015, 1, 9), end=datetime(2015, 1, 9, 12),\n",
    "        south=44,                   west=-64.5, \n",
    "        north=46,                   east=-62.5, \n",
    "        top=0,                      bottom=5000\n",
    "    )"
   ]
  },
  {
   "cell_type": "code",
   "execution_count": 3,
   "metadata": {},
   "outputs": [
    {
     "data": {
      "text/plain": [
       "numpy.ndarray"
      ]
     },
     "execution_count": 3,
     "metadata": {},
     "output_type": "execute_result"
    }
   ],
   "source": [
    "load_bathymetry = Chs().load_bathymetry(**kwargs)\n",
    "type(load_bathymetry)"
   ]
  },
  {
   "cell_type": "markdown",
   "metadata": {},
   "source": [
    "#### loading bathymetry data from array of real values"
   ]
  },
  {
   "cell_type": "code",
   "execution_count": 7,
   "metadata": {
    "scrolled": false
   },
   "outputs": [
    {
     "name": "stderr",
     "output_type": "stream",
     "text": [
      "/home/matt_s/kadlu/kadlu/geospatial/data_sources/data_util.py:205: UserWarning: query data has been averaged across the time dimension for 3D interpolation.\n",
      "to avoid this behaviour, use keyword argument 'time' instead of start/end\n",
      "  warnings.warn(\"query data has been averaged across the time dimension \"\n",
      "/home/matt_s/kadlu/kadlu/geospatial/data_sources/data_util.py:205: UserWarning: query data has been averaged across the time dimension for 3D interpolation.\n",
      "to avoid this behaviour, use keyword argument 'time' instead of start/end\n",
      "  warnings.warn(\"query data has been averaged across the time dimension \"\n",
      "/home/matt_s/kadlu/kadlu/geospatial/data_sources/data_util.py:205: UserWarning: query data has been averaged across the time dimension for 3D interpolation.\n",
      "to avoid this behaviour, use keyword argument 'time' instead of start/end\n",
      "  warnings.warn(\"query data has been averaged across the time dimension \"\n",
      "/home/matt_s/kadlu/kadlu/geospatial/data_sources/data_util.py:205: UserWarning: query data has been averaged across the time dimension for 3D interpolation.\n",
      "to avoid this behaviour, use keyword argument 'time' instead of start/end\n",
      "  warnings.warn(\"query data has been averaged across the time dimension \"\n",
      "/home/matt_s/kadlu/kadlu/geospatial/data_sources/data_util.py:205: UserWarning: query data has been averaged across the time dimension for 3D interpolation.\n",
      "to avoid this behaviour, use keyword argument 'time' instead of start/end\n",
      "  warnings.warn(\"query data has been averaged across the time dimension \"\n"
     ]
    },
    {
     "name": "stdout",
     "output_type": "stream",
     "text": [
      "interpolations computed in 46 seconds\n"
     ]
    }
   ],
   "source": [
    "t1 = datetime.now()\n",
    "o = Ocean(load_bathymetry=load_bathymetry, cache=True, **kwargs)\n",
    "t2 = datetime.now()\n",
    "print(f'interpolations computed in {(t2-t1).seconds} seconds')"
   ]
  },
  {
   "cell_type": "markdown",
   "metadata": {},
   "source": [
    "the same data can then be loaded from the cache quickly"
   ]
  },
  {
   "cell_type": "code",
   "execution_count": 8,
   "metadata": {},
   "outputs": [
    {
     "name": "stdout",
     "output_type": "stream",
     "text": [
      "interpolations loaded from cache in 0.335 seconds\n"
     ]
    }
   ],
   "source": [
    "t1 = datetime.now()\n",
    "o = Ocean(load_bathymetry=load_bathymetry, cache=True, **kwargs)\n",
    "t2 = datetime.now()\n",
    "print(f'interpolations loaded from cache in {(t2-t1).seconds}.{int((t2-t1).microseconds/1000)} seconds')"
   ]
  },
  {
   "cell_type": "markdown",
   "metadata": {},
   "source": [
    "#### loading bathymetry data using array of 'realistic' testing data"
   ]
  },
  {
   "cell_type": "code",
   "execution_count": 39,
   "metadata": {},
   "outputs": [
    {
     "data": {
      "text/plain": [
       "(3, 100)"
      ]
     },
     "execution_count": 39,
     "metadata": {},
     "output_type": "execute_result"
    }
   ],
   "source": [
    "load_bathymetry = np.array((\n",
    "    np.random.randint(0, 500, 100) *-1,\n",
    "    np.array([lat for lat in range(4400, 4600, 2)]) / 100,\n",
    "    np.array([lon for lon in range(-6450, -6250, 2)]) / 100\n",
    "))\n",
    "load_bathymetry.shape"
   ]
  },
  {
   "cell_type": "code",
   "execution_count": 40,
   "metadata": {},
   "outputs": [
    {
     "name": "stderr",
     "output_type": "stream",
     "text": [
      "/home/matt_s/kadlu/kadlu/geospatial/data_sources/data_util.py:205: UserWarning: query data has been averaged across the time dimension for 3D interpolation.\n",
      "to avoid this behaviour, use keyword argument 'time' instead of start/end\n",
      "  warnings.warn(\"query data has been averaged across the time dimension \"\n",
      "/home/matt_s/kadlu/kadlu/geospatial/data_sources/data_util.py:205: UserWarning: query data has been averaged across the time dimension for 3D interpolation.\n",
      "to avoid this behaviour, use keyword argument 'time' instead of start/end\n",
      "  warnings.warn(\"query data has been averaged across the time dimension \"\n",
      "/home/matt_s/kadlu/kadlu/geospatial/data_sources/data_util.py:205: UserWarning: query data has been averaged across the time dimension for 3D interpolation.\n",
      "to avoid this behaviour, use keyword argument 'time' instead of start/end\n",
      "  warnings.warn(\"query data has been averaged across the time dimension \"\n",
      "/home/matt_s/kadlu/kadlu/geospatial/data_sources/data_util.py:205: UserWarning: query data has been averaged across the time dimension for 3D interpolation.\n",
      "to avoid this behaviour, use keyword argument 'time' instead of start/end\n",
      "  warnings.warn(\"query data has been averaged across the time dimension \"\n",
      "/home/matt_s/kadlu/kadlu/geospatial/data_sources/data_util.py:205: UserWarning: query data has been averaged across the time dimension for 3D interpolation.\n",
      "to avoid this behaviour, use keyword argument 'time' instead of start/end\n",
      "  warnings.warn(\"query data has been averaged across the time dimension \"\n"
     ]
    }
   ],
   "source": [
    "o = Ocean(load_bathymetry=load_bathymetry, cache=True, **kwargs)"
   ]
  },
  {
   "cell_type": "code",
   "execution_count": 41,
   "metadata": {},
   "outputs": [
    {
     "data": {
      "text/plain": [
       "-5.99980926950176"
      ]
     },
     "execution_count": 41,
     "metadata": {},
     "output_type": "execute_result"
    }
   ],
   "source": [
    "o.temp(lat=[45], lon=[-63], z=[100])"
   ]
  },
  {
   "cell_type": "markdown",
   "metadata": {},
   "source": [
    "#### reshaping bathymetry data is the largest bottleneck in the pipeline"
   ]
  },
  {
   "cell_type": "code",
   "execution_count": 42,
   "metadata": {},
   "outputs": [
    {
     "name": "stdout",
     "output_type": "stream",
     "text": [
      "bathymetry data prepared in 47 seconds\n"
     ]
    }
   ],
   "source": [
    "t1 = datetime.now()\n",
    "bathy_reshaped = reshape_2D(Chs().load_bathymetry, **kwargs)\n",
    "t2 = datetime.now()\n",
    "print(f'bathymetry data prepared in {(t2-t1).seconds} seconds')"
   ]
  }
 ],
 "metadata": {
  "kernelspec": {
   "display_name": "Python 3",
   "language": "python",
   "name": "python3"
  },
  "language_info": {
   "codemirror_mode": {
    "name": "ipython",
    "version": 3
   },
   "file_extension": ".py",
   "mimetype": "text/x-python",
   "name": "python",
   "nbconvert_exporter": "python",
   "pygments_lexer": "ipython3",
   "version": "3.6.9"
  }
 },
 "nbformat": 4,
 "nbformat_minor": 2
}
