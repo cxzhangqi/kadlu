{
 "cells": [
  {
   "cell_type": "code",
   "execution_count": 1,
   "metadata": {},
   "outputs": [
    {
     "name": "stderr",
     "output_type": "stream",
     "text": [
      "/home/oliskir/src/anaconda3/envs/kadlu_env/lib/python3.6/site-packages/kadlu/geospatial/data_sources/data_util.py:43: UserWarning: missing kadlu/config.ini. storage location will be set to /home/oliskir/src/anaconda3/envs/kadlu_env/lib/python3.6/site-packages/storage/\n",
      "  warnings.warn(f\"{msg} storage location will be set to {storage_location}\")\n",
      "/home/oliskir/src/anaconda3/envs/kadlu_env/lib/python3.6/site-packages/kadlu/geospatial/data_sources/data_util.py:43: UserWarning: missing kadlu/config.ini. storage location will be set to /home/oliskir/src/anaconda3/envs/kadlu_env/lib/python3.6/site-packages/storage/\n",
      "  warnings.warn(f\"{msg} storage location will be set to {storage_location}\")\n"
     ]
    },
    {
     "name": "stdout",
     "output_type": "stream",
     "text": [
      "fetching hycom lat/lon grid arrays...\n"
     ]
    }
   ],
   "source": [
    "from kadlu.geospatial.ocean import Ocean\n",
    "from kadlu.geospatial.data_sources.data_util import reshape_2D\n",
    "from kadlu.geospatial.data_sources.chs import Chs\n",
    "from datetime import datetime\n",
    "import numpy as np"
   ]
  },
  {
   "cell_type": "code",
   "execution_count": 2,
   "metadata": {},
   "outputs": [],
   "source": [
    "kwargs = dict(\n",
    "        start=datetime(2015, 1, 9), end=datetime(2015, 1, 9, 12),\n",
    "        south=44,                   west=-64.5, \n",
    "        north=46,                   east=-62.5, \n",
    "        top=0,                      bottom=5000\n",
    "    )"
   ]
  },
  {
   "cell_type": "code",
   "execution_count": 4,
   "metadata": {},
   "outputs": [
    {
     "name": "stdout",
     "output_type": "stream",
     "text": [
      "\n",
      "CA2_4600N06500W.tif: downloading 12/12 from CHS NONNA-100...\n",
      "CA2_4300N06300W.tif processed and inserted 19555 rows.\t982446 null values removed, 0 duplicate rows ignored\n",
      "CA2_4300N06400W.tif processed and inserted 14157 rows.\t987844 null values removed, 0 duplicate rows ignored\n",
      "CA2_4300N06500W.tif processed and inserted 76983 rows.\t925018 null values removed, 0 duplicate rows ignored\n",
      "CA2_4400N06300W.tif processed and inserted 105167 rows.\t896834 null values removed, 0 duplicate rows ignored\n",
      "CA2_4400N06400W.tif processed and inserted 208509 rows.\t793492 null values removed, 0 duplicate rows ignored\n",
      "CA2_4400N06500W.tif processed and inserted 114840 rows.\t887161 null values removed, 0 duplicate rows ignored\n",
      "CA2_4500N06300W.tif processed and inserted 120658 rows.\t881343 null values removed, 0 duplicate rows ignored\n",
      "CA2_4500N06400W.tif processed and inserted 68872 rows.\t933129 null values removed, 0 duplicate rows ignored\n",
      "CA2_4500N06500W.tif processed and inserted 142744 rows.\t859257 null values removed, 0 duplicate rows ignored\n",
      "CA2_4600N06300W.tif processed and inserted 100160 rows.\t901841 null values removed, 0 duplicate rows ignored\n",
      "CA2_4600N06400W.tif processed and inserted 157281 rows.\t844720 null values removed, 0 duplicate rows ignored\n",
      "CA2_4600N06500W.tif processed and inserted 54605 rows.\t947396 null values removed, 0 duplicate rows ignored\n"
     ]
    },
    {
     "data": {
      "text/plain": [
       "numpy.ndarray"
      ]
     },
     "execution_count": 4,
     "metadata": {},
     "output_type": "execute_result"
    }
   ],
   "source": [
    "Chs().fetch_bathymetry(**kwargs) #must fetch before loading\n",
    "load_bathymetry = Chs().load_bathymetry(**kwargs)\n",
    "type(load_bathymetry)"
   ]
  },
  {
   "cell_type": "markdown",
   "metadata": {},
   "source": [
    "#### loading bathymetry data from array of real values"
   ]
  },
  {
   "cell_type": "code",
   "execution_count": 5,
   "metadata": {
    "scrolled": false
   },
   "outputs": [
    {
     "name": "stdout",
     "output_type": "stream",
     "text": [
      "WARNING: data will be averaged over time frames for interpolation\n",
      "\n",
      "CA2_4600N06500W.tif: downloading 12/12 from CHS NONNA-100...\n",
      "CA2_4300N06300W.tif processed and inserted 0 rows.\t982446 null values removed, 19555 duplicate rows ignored\n",
      "CA2_4300N06400W.tif processed and inserted 0 rows.\t987844 null values removed, 14157 duplicate rows ignored\n",
      "CA2_4300N06500W.tif processed and inserted 0 rows.\t925018 null values removed, 76983 duplicate rows ignored\n",
      "CA2_4400N06300W.tif processed and inserted 0 rows.\t896834 null values removed, 105167 duplicate rows ignored\n",
      "CA2_4400N06400W.tif processed and inserted 0 rows.\t793492 null values removed, 208509 duplicate rows ignored\n",
      "CA2_4400N06500W.tif processed and inserted 0 rows.\t887161 null values removed, 114840 duplicate rows ignored\n",
      "CA2_4500N06300W.tif processed and inserted 0 rows.\t881343 null values removed, 120658 duplicate rows ignored\n",
      "CA2_4500N06400W.tif processed and inserted 0 rows.\t933129 null values removed, 68872 duplicate rows ignored\n",
      "CA2_4500N06500W.tif processed and inserted 0 rows.\t859257 null values removed, 142744 duplicate rows ignored\n",
      "CA2_4600N06300W.tif processed and inserted 0 rows.\t901841 null values removed, 100160 duplicate rows ignored\n",
      "CA2_4600N06400W.tif processed and inserted 0 rows.\t844720 null values removed, 157281 duplicate rows ignored\n",
      "CA2_4600N06500W.tif processed and inserted 0 rows.\t947396 null values removed, 54605 duplicate rows ignored\n",
      "downloading 265200 water_temp values from hycom...\n",
      "downloaded 280.2Kb in 156.346s. parsed and inserted 37255 rows in 0.419s\n",
      "227945 null values removed, 0 duplicate rows ignored\n",
      "\n",
      "downloading 265200 salinity values from hycom...\n"
     ]
    },
    {
     "name": "stderr",
     "output_type": "stream",
     "text": [
      "2020-02-05 13:14:29,094 INFO Sending request to https://cds.climate.copernicus.eu/api/v2/resources/reanalysis-era5-single-levels\n"
     ]
    },
    {
     "name": "stdout",
     "output_type": "stream",
     "text": [
      "downloaded 275.1Kb in 81.770s. parsed and inserted 37255 rows in 0.418s\n",
      "227945 null values removed, 0 duplicate rows ignored\n",
      "\n",
      "downloading ERA5_reanalysis_mean_wave_direction_2015-01-09_00h.grb2 from Copernicus Climate Data Store...\n"
     ]
    },
    {
     "name": "stderr",
     "output_type": "stream",
     "text": [
      "2020-02-05 13:14:29,662 INFO Request is completed\n",
      "2020-02-05 13:14:29,663 INFO Downloading http://136.156.132.236/cache-compute-0007/cache/data5/adaptor.mars.internal-1580759982.8715613-4362-23-f0106afd-185d-44d5-af33-5ce5d583021e.grib to /home/oliskir/src/anaconda3/envs/kadlu_env/lib/python3.6/site-packages/storage/ERA5_reanalysis_mean_wave_direction_2015-01-09_00h.grb2 (307.4K)\n",
      "2020-02-05 13:14:30,305 INFO Download rate 478.7K/s\n",
      "2020-02-05 13:14:31,170 INFO Sending request to https://cds.climate.copernicus.eu/api/v2/resources/reanalysis-era5-single-levels\n"
     ]
    },
    {
     "name": "stdout",
     "output_type": "stream",
     "text": [
      "processed and inserted 141035 rows. 0 duplicate rows ignored\n",
      "\n",
      "downloading ERA5_reanalysis_mean_wave_direction_2015-01-09_01h.grb2 from Copernicus Climate Data Store...\n"
     ]
    },
    {
     "name": "stderr",
     "output_type": "stream",
     "text": [
      "2020-02-05 13:14:31,686 INFO Request is completed\n",
      "2020-02-05 13:14:31,687 INFO Downloading http://136.156.133.25/cache-compute-0008/cache/data7/adaptor.mars.internal-1580759988.2797968-22846-22-c0f4f249-7373-44ed-9b21-ead34c1e2f9b.grib to /home/oliskir/src/anaconda3/envs/kadlu_env/lib/python3.6/site-packages/storage/ERA5_reanalysis_mean_wave_direction_2015-01-09_01h.grb2 (307.4K)\n",
      "2020-02-05 13:14:32,339 INFO Download rate 471.9K/s\n",
      "2020-02-05 13:14:33,215 INFO Sending request to https://cds.climate.copernicus.eu/api/v2/resources/reanalysis-era5-single-levels\n"
     ]
    },
    {
     "name": "stdout",
     "output_type": "stream",
     "text": [
      "processed and inserted 141035 rows. 0 duplicate rows ignored\n",
      "\n",
      "downloading ERA5_reanalysis_mean_wave_direction_2015-01-09_02h.grb2 from Copernicus Climate Data Store...\n"
     ]
    },
    {
     "name": "stderr",
     "output_type": "stream",
     "text": [
      "2020-02-05 13:14:33,770 INFO Request is completed\n",
      "2020-02-05 13:14:33,771 INFO Downloading http://136.156.133.25/cache-compute-0008/cache/data7/adaptor.mars.internal-1580759992.7957926-31536-15-5655cc6c-47dd-4d79-aaad-c9e507a912c3.grib to /home/oliskir/src/anaconda3/envs/kadlu_env/lib/python3.6/site-packages/storage/ERA5_reanalysis_mean_wave_direction_2015-01-09_02h.grb2 (307.4K)\n",
      "2020-02-05 13:14:34,410 INFO Download rate 483.1K/s\n",
      "2020-02-05 13:14:35,246 INFO Sending request to https://cds.climate.copernicus.eu/api/v2/resources/reanalysis-era5-single-levels\n"
     ]
    },
    {
     "name": "stdout",
     "output_type": "stream",
     "text": [
      "processed and inserted 141035 rows. 0 duplicate rows ignored\n",
      "\n",
      "downloading ERA5_reanalysis_mean_wave_direction_2015-01-09_03h.grb2 from Copernicus Climate Data Store...\n"
     ]
    },
    {
     "name": "stderr",
     "output_type": "stream",
     "text": [
      "2020-02-05 13:14:35,715 INFO Request is completed\n",
      "2020-02-05 13:14:35,717 INFO Downloading http://136.156.133.41/cache-compute-0013/cache/data9/adaptor.mars.internal-1580759998.2859755-10501-7-faa232ce-2132-40ba-8941-cc891fc4fc89.grib to /home/oliskir/src/anaconda3/envs/kadlu_env/lib/python3.6/site-packages/storage/ERA5_reanalysis_mean_wave_direction_2015-01-09_03h.grb2 (307.4K)\n",
      "2020-02-05 13:14:36,362 INFO Download rate 477.3K/s\n",
      "2020-02-05 13:14:37,240 INFO Sending request to https://cds.climate.copernicus.eu/api/v2/resources/reanalysis-era5-single-levels\n"
     ]
    },
    {
     "name": "stdout",
     "output_type": "stream",
     "text": [
      "processed and inserted 141035 rows. 0 duplicate rows ignored\n",
      "\n",
      "downloading ERA5_reanalysis_mean_wave_direction_2015-01-09_04h.grb2 from Copernicus Climate Data Store...\n"
     ]
    },
    {
     "name": "stderr",
     "output_type": "stream",
     "text": [
      "2020-02-05 13:14:37,726 INFO Request is completed\n",
      "2020-02-05 13:14:37,728 INFO Downloading http://136.156.133.37/cache-compute-0011/cache/data2/adaptor.mars.internal-1580845725.975057-13160-29-6f1eebcb-6c20-4048-b4d1-95588eac7e36.grib to /home/oliskir/src/anaconda3/envs/kadlu_env/lib/python3.6/site-packages/storage/ERA5_reanalysis_mean_wave_direction_2015-01-09_04h.grb2 (307.4K)\n",
      "2020-02-05 13:14:38,461 INFO Download rate 420.7K/s\n",
      "2020-02-05 13:14:39,418 INFO Sending request to https://cds.climate.copernicus.eu/api/v2/resources/reanalysis-era5-single-levels\n"
     ]
    },
    {
     "name": "stdout",
     "output_type": "stream",
     "text": [
      "processed and inserted 141035 rows. 0 duplicate rows ignored\n",
      "\n",
      "downloading ERA5_reanalysis_mean_wave_direction_2015-01-09_05h.grb2 from Copernicus Climate Data Store...\n"
     ]
    },
    {
     "name": "stderr",
     "output_type": "stream",
     "text": [
      "2020-02-05 13:14:39,939 INFO Request is queued\n",
      "2020-02-05 13:14:41,046 INFO Request is completed\n",
      "2020-02-05 13:14:41,048 INFO Downloading http://136.156.133.36/cache-compute-0010/cache/data0/adaptor.mars.internal-1580922880.1146579-19208-15-140fce92-057c-44c3-9143-4c2aa9738288.grib to /home/oliskir/src/anaconda3/envs/kadlu_env/lib/python3.6/site-packages/storage/ERA5_reanalysis_mean_wave_direction_2015-01-09_05h.grb2 (307.4K)\n",
      "2020-02-05 13:14:41,665 INFO Download rate 498.9K/s\n",
      "2020-02-05 13:14:42,558 INFO Sending request to https://cds.climate.copernicus.eu/api/v2/resources/reanalysis-era5-single-levels\n"
     ]
    },
    {
     "name": "stdout",
     "output_type": "stream",
     "text": [
      "processed and inserted 141035 rows. 0 duplicate rows ignored\n",
      "\n",
      "downloading ERA5_reanalysis_mean_wave_direction_2015-01-09_06h.grb2 from Copernicus Climate Data Store...\n"
     ]
    },
    {
     "name": "stderr",
     "output_type": "stream",
     "text": [
      "2020-02-05 13:14:43,100 INFO Request is completed\n",
      "2020-02-05 13:14:43,102 INFO Downloading http://136.156.132.105/cache-compute-0000/cache/data3/adaptor.mars.internal-1580760013.40628-18528-7-d120f3c9-1294-4372-afeb-ef172073cb3b.grib to /home/oliskir/src/anaconda3/envs/kadlu_env/lib/python3.6/site-packages/storage/ERA5_reanalysis_mean_wave_direction_2015-01-09_06h.grb2 (307.4K)\n",
      "2020-02-05 13:14:43,751 INFO Download rate 475K/s \n",
      "2020-02-05 13:14:44,646 INFO Sending request to https://cds.climate.copernicus.eu/api/v2/resources/reanalysis-era5-single-levels\n"
     ]
    },
    {
     "name": "stdout",
     "output_type": "stream",
     "text": [
      "processed and inserted 141035 rows. 0 duplicate rows ignored\n",
      "\n",
      "downloading ERA5_reanalysis_mean_wave_direction_2015-01-09_07h.grb2 from Copernicus Climate Data Store...\n"
     ]
    },
    {
     "name": "stderr",
     "output_type": "stream",
     "text": [
      "2020-02-05 13:14:45,091 INFO Request is completed\n",
      "2020-02-05 13:14:45,093 INFO Downloading http://136.156.133.42/cache-compute-0014/cache/data5/adaptor.mars.internal-1580760019.3028045-24068-24-d481117c-1044-4df4-bb6f-90f62d9e67ac.grib to /home/oliskir/src/anaconda3/envs/kadlu_env/lib/python3.6/site-packages/storage/ERA5_reanalysis_mean_wave_direction_2015-01-09_07h.grb2 (307.4K)\n",
      "2020-02-05 13:14:45,737 INFO Download rate 479.2K/s\n",
      "2020-02-05 13:14:46,621 INFO Sending request to https://cds.climate.copernicus.eu/api/v2/resources/reanalysis-era5-single-levels\n"
     ]
    },
    {
     "name": "stdout",
     "output_type": "stream",
     "text": [
      "processed and inserted 141035 rows. 0 duplicate rows ignored\n",
      "\n",
      "downloading ERA5_reanalysis_mean_wave_direction_2015-01-09_08h.grb2 from Copernicus Climate Data Store...\n"
     ]
    },
    {
     "name": "stderr",
     "output_type": "stream",
     "text": [
      "2020-02-05 13:14:47,105 INFO Request is completed\n",
      "2020-02-05 13:14:47,107 INFO Downloading http://136.156.132.236/cache-compute-0007/cache/data2/adaptor.mars.internal-1580760025.632565-10768-13-d67bf21c-95cd-4341-827c-d67b39e64dcb.grib to /home/oliskir/src/anaconda3/envs/kadlu_env/lib/python3.6/site-packages/storage/ERA5_reanalysis_mean_wave_direction_2015-01-09_08h.grb2 (307.4K)\n",
      "2020-02-05 13:14:47,825 INFO Download rate 429.5K/s\n",
      "2020-02-05 13:14:48,763 INFO Sending request to https://cds.climate.copernicus.eu/api/v2/resources/reanalysis-era5-single-levels\n"
     ]
    },
    {
     "name": "stdout",
     "output_type": "stream",
     "text": [
      "processed and inserted 141035 rows. 0 duplicate rows ignored\n",
      "\n",
      "downloading ERA5_reanalysis_mean_wave_direction_2015-01-09_09h.grb2 from Copernicus Climate Data Store...\n"
     ]
    },
    {
     "name": "stderr",
     "output_type": "stream",
     "text": [
      "2020-02-05 13:14:49,222 INFO Request is completed\n",
      "2020-02-05 13:14:49,223 INFO Downloading http://136.156.132.110/cache-compute-0001/cache/data8/adaptor.mars.internal-1580845746.0164623-14916-29-831a1802-6391-4f33-9e2b-b8e3de96a77a.grib to /home/oliskir/src/anaconda3/envs/kadlu_env/lib/python3.6/site-packages/storage/ERA5_reanalysis_mean_wave_direction_2015-01-09_09h.grb2 (307.4K)\n",
      "2020-02-05 13:14:50,717 INFO Download rate 206.2K/s\n",
      "2020-02-05 13:14:51,563 INFO Sending request to https://cds.climate.copernicus.eu/api/v2/resources/reanalysis-era5-single-levels\n"
     ]
    },
    {
     "name": "stdout",
     "output_type": "stream",
     "text": [
      "processed and inserted 141035 rows. 0 duplicate rows ignored\n",
      "\n",
      "downloading ERA5_reanalysis_mean_wave_direction_2015-01-09_10h.grb2 from Copernicus Climate Data Store...\n"
     ]
    },
    {
     "name": "stderr",
     "output_type": "stream",
     "text": [
      "2020-02-05 13:14:52,038 INFO Request is completed\n",
      "2020-02-05 13:14:52,040 INFO Downloading http://136.156.132.201/cache-compute-0004/cache/data0/adaptor.mars.internal-1580760039.034026-32727-30-c23f6a31-33e9-41b0-a883-a19bbc57d390.grib to /home/oliskir/src/anaconda3/envs/kadlu_env/lib/python3.6/site-packages/storage/ERA5_reanalysis_mean_wave_direction_2015-01-09_10h.grb2 (307.9K)\n",
      "2020-02-05 13:14:52,676 INFO Download rate 485.9K/s\n",
      "2020-02-05 13:14:53,576 INFO Sending request to https://cds.climate.copernicus.eu/api/v2/resources/reanalysis-era5-single-levels\n"
     ]
    },
    {
     "name": "stdout",
     "output_type": "stream",
     "text": [
      "processed and inserted 141264 rows. 0 duplicate rows ignored\n",
      "\n",
      "downloading ERA5_reanalysis_mean_wave_direction_2015-01-09_11h.grb2 from Copernicus Climate Data Store...\n"
     ]
    },
    {
     "name": "stderr",
     "output_type": "stream",
     "text": [
      "2020-02-05 13:14:54,040 INFO Request is completed\n",
      "2020-02-05 13:14:54,043 INFO Downloading http://136.156.132.210/cache-compute-0005/cache/data0/adaptor.mars.internal-1580760045.4556978-14361-11-bebe890e-cbcb-466c-ad4e-924da07e4c36.grib to /home/oliskir/src/anaconda3/envs/kadlu_env/lib/python3.6/site-packages/storage/ERA5_reanalysis_mean_wave_direction_2015-01-09_11h.grb2 (307.9K)\n",
      "2020-02-05 13:14:54,698 INFO Download rate 471.9K/s\n",
      "2020-02-05 13:14:55,598 INFO Sending request to https://cds.climate.copernicus.eu/api/v2/resources/reanalysis-era5-single-levels\n"
     ]
    },
    {
     "name": "stdout",
     "output_type": "stream",
     "text": [
      "processed and inserted 141264 rows. 0 duplicate rows ignored\n",
      "\n",
      "downloading ERA5_reanalysis_mean_wave_direction_2015-01-09_12h.grb2 from Copernicus Climate Data Store...\n"
     ]
    },
    {
     "name": "stderr",
     "output_type": "stream",
     "text": [
      "2020-02-05 13:14:56,247 INFO Request is completed\n",
      "2020-02-05 13:14:56,249 INFO Downloading http://136.156.133.37/cache-compute-0011/cache/data1/adaptor.mars.internal-1580760051.2406023-5316-18-9f4e1ea8-f1fb-4b90-a2af-3c3e5a3242c4.grib to /home/oliskir/src/anaconda3/envs/kadlu_env/lib/python3.6/site-packages/storage/ERA5_reanalysis_mean_wave_direction_2015-01-09_12h.grb2 (307.9K)\n",
      "2020-02-05 13:14:56,889 INFO Download rate 482.4K/s\n",
      "2020-02-05 13:14:57,813 INFO Sending request to https://cds.climate.copernicus.eu/api/v2/resources/reanalysis-era5-single-levels\n"
     ]
    },
    {
     "name": "stdout",
     "output_type": "stream",
     "text": [
      "processed and inserted 141264 rows. 0 duplicate rows ignored\n",
      "\n",
      "downloading ERA5_reanalysis_significant_height_of_combined_wind_waves_and_swell_2015-01-09_00h.grb2 from Copernicus Climate Data Store...\n"
     ]
    },
    {
     "name": "stderr",
     "output_type": "stream",
     "text": [
      "2020-02-05 13:14:58,335 INFO Request is completed\n",
      "2020-02-05 13:14:58,337 INFO Downloading http://136.156.132.235/cache-compute-0006/cache/data4/adaptor.mars.internal-1580845759.349958-31663-30-1265caa6-0559-4f0c-aa01-d95d5a7f6426.grib to /home/oliskir/src/anaconda3/envs/kadlu_env/lib/python3.6/site-packages/storage/ERA5_reanalysis_significant_height_of_combined_wind_waves_and_swell_2015-01-09_00h.grb2 (307.4K)\n",
      "2020-02-05 13:14:59,019 INFO Download rate 452.4K/s\n",
      "2020-02-05 13:14:59,875 INFO Sending request to https://cds.climate.copernicus.eu/api/v2/resources/reanalysis-era5-single-levels\n"
     ]
    },
    {
     "name": "stdout",
     "output_type": "stream",
     "text": [
      "processed and inserted 141035 rows. 0 duplicate rows ignored\n",
      "\n",
      "downloading ERA5_reanalysis_significant_height_of_combined_wind_waves_and_swell_2015-01-09_01h.grb2 from Copernicus Climate Data Store...\n"
     ]
    },
    {
     "name": "stderr",
     "output_type": "stream",
     "text": [
      "2020-02-05 13:15:00,318 INFO Request is completed\n",
      "2020-02-05 13:15:00,320 INFO Downloading http://136.156.133.36/cache-compute-0010/cache/data7/adaptor.mars.internal-1580845765.1762831-32262-35-1c4eb3e6-9a59-4741-bd80-efd962402f85.grib to /home/oliskir/src/anaconda3/envs/kadlu_env/lib/python3.6/site-packages/storage/ERA5_reanalysis_significant_height_of_combined_wind_waves_and_swell_2015-01-09_01h.grb2 (307.4K)\n",
      "2020-02-05 13:15:00,952 INFO Download rate 488K/s \n",
      "2020-02-05 13:15:01,902 INFO Sending request to https://cds.climate.copernicus.eu/api/v2/resources/reanalysis-era5-single-levels\n"
     ]
    },
    {
     "name": "stdout",
     "output_type": "stream",
     "text": [
      "processed and inserted 141035 rows. 0 duplicate rows ignored\n",
      "\n",
      "downloading ERA5_reanalysis_significant_height_of_combined_wind_waves_and_swell_2015-01-09_02h.grb2 from Copernicus Climate Data Store...\n"
     ]
    },
    {
     "name": "stderr",
     "output_type": "stream",
     "text": [
      "2020-02-05 13:15:02,355 INFO Request is completed\n",
      "2020-02-05 13:15:02,357 INFO Downloading http://136.156.132.201/cache-compute-0004/cache/data5/adaptor.mars.internal-1580845771.1649005-12191-11-d3853601-0a6b-4452-b8c8-fccd83edc357.grib to /home/oliskir/src/anaconda3/envs/kadlu_env/lib/python3.6/site-packages/storage/ERA5_reanalysis_significant_height_of_combined_wind_waves_and_swell_2015-01-09_02h.grb2 (307.4K)\n",
      "2020-02-05 13:15:03,012 INFO Download rate 470.9K/s\n",
      "2020-02-05 13:15:03,886 INFO Sending request to https://cds.climate.copernicus.eu/api/v2/resources/reanalysis-era5-single-levels\n"
     ]
    },
    {
     "name": "stdout",
     "output_type": "stream",
     "text": [
      "processed and inserted 141035 rows. 0 duplicate rows ignored\n",
      "\n",
      "downloading ERA5_reanalysis_significant_height_of_combined_wind_waves_and_swell_2015-01-09_03h.grb2 from Copernicus Climate Data Store...\n"
     ]
    },
    {
     "name": "stderr",
     "output_type": "stream",
     "text": [
      "2020-02-05 13:15:04,476 INFO Request is completed\n",
      "2020-02-05 13:15:04,479 INFO Downloading http://136.156.133.46/cache-compute-0015/cache/data6/adaptor.mars.internal-1580845777.091842-24134-36-422262f6-5119-4b1c-a51c-b4f6b445a6b0.grib to /home/oliskir/src/anaconda3/envs/kadlu_env/lib/python3.6/site-packages/storage/ERA5_reanalysis_significant_height_of_combined_wind_waves_and_swell_2015-01-09_03h.grb2 (307.4K)\n",
      "2020-02-05 13:15:05,146 INFO Download rate 462.4K/s\n",
      "2020-02-05 13:15:05,970 INFO Sending request to https://cds.climate.copernicus.eu/api/v2/resources/reanalysis-era5-single-levels\n"
     ]
    },
    {
     "name": "stdout",
     "output_type": "stream",
     "text": [
      "processed and inserted 141035 rows. 0 duplicate rows ignored\n",
      "\n",
      "downloading ERA5_reanalysis_significant_height_of_combined_wind_waves_and_swell_2015-01-09_04h.grb2 from Copernicus Climate Data Store...\n"
     ]
    },
    {
     "name": "stderr",
     "output_type": "stream",
     "text": [
      "2020-02-05 13:15:06,438 INFO Request is completed\n",
      "2020-02-05 13:15:06,440 INFO Downloading http://136.156.132.110/cache-compute-0001/cache/data7/adaptor.mars.internal-1580845782.5448258-2069-27-a7b4b7ee-b76c-4b52-985e-eb118a326f0e.grib to /home/oliskir/src/anaconda3/envs/kadlu_env/lib/python3.6/site-packages/storage/ERA5_reanalysis_significant_height_of_combined_wind_waves_and_swell_2015-01-09_04h.grb2 (307.4K)\n",
      "2020-02-05 13:15:07,847 INFO Download rate 218.7K/s\n",
      "2020-02-05 13:15:08,662 INFO Sending request to https://cds.climate.copernicus.eu/api/v2/resources/reanalysis-era5-single-levels\n"
     ]
    },
    {
     "name": "stdout",
     "output_type": "stream",
     "text": [
      "processed and inserted 141035 rows. 0 duplicate rows ignored\n",
      "\n",
      "downloading ERA5_reanalysis_significant_height_of_combined_wind_waves_and_swell_2015-01-09_05h.grb2 from Copernicus Climate Data Store...\n"
     ]
    },
    {
     "name": "stderr",
     "output_type": "stream",
     "text": [
      "2020-02-05 13:15:09,172 INFO Request is completed\n",
      "2020-02-05 13:15:09,174 INFO Downloading http://136.156.132.236/cache-compute-0007/cache/data9/adaptor.mars.internal-1580845788.8553503-14952-3-3dedfbde-70f2-4d93-8ecc-8e63c8d20bc2.grib to /home/oliskir/src/anaconda3/envs/kadlu_env/lib/python3.6/site-packages/storage/ERA5_reanalysis_significant_height_of_combined_wind_waves_and_swell_2015-01-09_05h.grb2 (307.4K)\n",
      "2020-02-05 13:15:09,835 INFO Download rate 465.7K/s\n",
      "2020-02-05 13:15:10,754 INFO Sending request to https://cds.climate.copernicus.eu/api/v2/resources/reanalysis-era5-single-levels\n"
     ]
    },
    {
     "name": "stdout",
     "output_type": "stream",
     "text": [
      "processed and inserted 141035 rows. 0 duplicate rows ignored\n",
      "\n",
      "downloading ERA5_reanalysis_significant_height_of_combined_wind_waves_and_swell_2015-01-09_06h.grb2 from Copernicus Climate Data Store...\n"
     ]
    },
    {
     "name": "stderr",
     "output_type": "stream",
     "text": [
      "2020-02-05 13:15:11,215 INFO Request is completed\n",
      "2020-02-05 13:15:11,217 INFO Downloading http://136.156.132.236/cache-compute-0007/cache/data7/adaptor.mars.internal-1580845794.33239-30664-28-de3f584e-9fd2-4a76-bfd2-65f4849b3f31.grib to /home/oliskir/src/anaconda3/envs/kadlu_env/lib/python3.6/site-packages/storage/ERA5_reanalysis_significant_height_of_combined_wind_waves_and_swell_2015-01-09_06h.grb2 (307.4K)\n",
      "2020-02-05 13:15:11,944 INFO Download rate 423.5K/s\n",
      "2020-02-05 13:15:12,821 INFO Sending request to https://cds.climate.copernicus.eu/api/v2/resources/reanalysis-era5-single-levels\n"
     ]
    },
    {
     "name": "stdout",
     "output_type": "stream",
     "text": [
      "processed and inserted 141035 rows. 0 duplicate rows ignored\n",
      "\n",
      "downloading ERA5_reanalysis_significant_height_of_combined_wind_waves_and_swell_2015-01-09_07h.grb2 from Copernicus Climate Data Store...\n"
     ]
    },
    {
     "name": "stderr",
     "output_type": "stream",
     "text": [
      "2020-02-05 13:15:13,282 INFO Request is completed\n",
      "2020-02-05 13:15:13,283 INFO Downloading http://136.156.132.198/cache-compute-0003/cache/data3/adaptor.mars.internal-1580845800.8982618-20316-23-7be3a5b4-223a-4799-8024-fb2f1a9709ae.grib to /home/oliskir/src/anaconda3/envs/kadlu_env/lib/python3.6/site-packages/storage/ERA5_reanalysis_significant_height_of_combined_wind_waves_and_swell_2015-01-09_07h.grb2 (307.4K)\n",
      "2020-02-05 13:15:13,919 INFO Download rate 484.6K/s\n",
      "2020-02-05 13:15:14,814 INFO Sending request to https://cds.climate.copernicus.eu/api/v2/resources/reanalysis-era5-single-levels\n"
     ]
    },
    {
     "name": "stdout",
     "output_type": "stream",
     "text": [
      "processed and inserted 141035 rows. 0 duplicate rows ignored\n",
      "\n",
      "downloading ERA5_reanalysis_significant_height_of_combined_wind_waves_and_swell_2015-01-09_08h.grb2 from Copernicus Climate Data Store...\n"
     ]
    },
    {
     "name": "stderr",
     "output_type": "stream",
     "text": [
      "2020-02-05 13:15:15,358 INFO Request is completed\n",
      "2020-02-05 13:15:15,359 INFO Downloading http://136.156.132.198/cache-compute-0003/cache/data7/adaptor.mars.internal-1580845806.8120449-22482-9-67487059-d034-40b3-bb0f-7413458bf533.grib to /home/oliskir/src/anaconda3/envs/kadlu_env/lib/python3.6/site-packages/storage/ERA5_reanalysis_significant_height_of_combined_wind_waves_and_swell_2015-01-09_08h.grb2 (307.4K)\n",
      "2020-02-05 13:15:16,010 INFO Download rate 473.7K/s\n",
      "2020-02-05 13:15:16,929 INFO Sending request to https://cds.climate.copernicus.eu/api/v2/resources/reanalysis-era5-single-levels\n"
     ]
    },
    {
     "name": "stdout",
     "output_type": "stream",
     "text": [
      "processed and inserted 141035 rows. 0 duplicate rows ignored\n",
      "\n",
      "downloading ERA5_reanalysis_significant_height_of_combined_wind_waves_and_swell_2015-01-09_09h.grb2 from Copernicus Climate Data Store...\n"
     ]
    },
    {
     "name": "stderr",
     "output_type": "stream",
     "text": [
      "2020-02-05 13:15:17,402 INFO Request is completed\n",
      "2020-02-05 13:15:17,403 INFO Downloading http://136.156.132.110/cache-compute-0001/cache/data4/adaptor.mars.internal-1580845812.0780628-14916-32-cac2400c-be33-4f66-b4e9-13e539187e8d.grib to /home/oliskir/src/anaconda3/envs/kadlu_env/lib/python3.6/site-packages/storage/ERA5_reanalysis_significant_height_of_combined_wind_waves_and_swell_2015-01-09_09h.grb2 (307.4K)\n",
      "2020-02-05 13:15:18,796 INFO Download rate 221.2K/s\n",
      "2020-02-05 13:15:19,680 INFO Sending request to https://cds.climate.copernicus.eu/api/v2/resources/reanalysis-era5-single-levels\n"
     ]
    },
    {
     "name": "stdout",
     "output_type": "stream",
     "text": [
      "processed and inserted 141035 rows. 0 duplicate rows ignored\n",
      "\n",
      "downloading ERA5_reanalysis_significant_height_of_combined_wind_waves_and_swell_2015-01-09_10h.grb2 from Copernicus Climate Data Store...\n"
     ]
    },
    {
     "name": "stderr",
     "output_type": "stream",
     "text": [
      "2020-02-05 13:15:20,130 INFO Request is completed\n",
      "2020-02-05 13:15:20,132 INFO Downloading http://136.156.133.41/cache-compute-0013/cache/data1/adaptor.mars.internal-1580845817.7894824-16287-15-f3e1542d-7ec3-4ab6-a374-5c833a3426b0.grib to /home/oliskir/src/anaconda3/envs/kadlu_env/lib/python3.6/site-packages/storage/ERA5_reanalysis_significant_height_of_combined_wind_waves_and_swell_2015-01-09_10h.grb2 (307.9K)\n",
      "2020-02-05 13:15:20,789 INFO Download rate 469.1K/s\n",
      "2020-02-05 13:15:21,674 INFO Sending request to https://cds.climate.copernicus.eu/api/v2/resources/reanalysis-era5-single-levels\n"
     ]
    },
    {
     "name": "stdout",
     "output_type": "stream",
     "text": [
      "processed and inserted 141264 rows. 0 duplicate rows ignored\n",
      "\n",
      "downloading ERA5_reanalysis_significant_height_of_combined_wind_waves_and_swell_2015-01-09_11h.grb2 from Copernicus Climate Data Store...\n"
     ]
    },
    {
     "name": "stderr",
     "output_type": "stream",
     "text": [
      "2020-02-05 13:15:22,188 INFO Request is completed\n",
      "2020-02-05 13:15:22,190 INFO Downloading http://136.156.132.235/cache-compute-0006/cache/data1/adaptor.mars.internal-1580845823.9428933-31663-32-9dd0b981-e7f1-4fe1-9066-d102377efe48.grib to /home/oliskir/src/anaconda3/envs/kadlu_env/lib/python3.6/site-packages/storage/ERA5_reanalysis_significant_height_of_combined_wind_waves_and_swell_2015-01-09_11h.grb2 (307.9K)\n",
      "2020-02-05 13:15:22,832 INFO Download rate 481.6K/s\n",
      "2020-02-05 13:15:23,727 INFO Sending request to https://cds.climate.copernicus.eu/api/v2/resources/reanalysis-era5-single-levels\n"
     ]
    },
    {
     "name": "stdout",
     "output_type": "stream",
     "text": [
      "processed and inserted 141264 rows. 0 duplicate rows ignored\n",
      "\n",
      "downloading ERA5_reanalysis_significant_height_of_combined_wind_waves_and_swell_2015-01-09_12h.grb2 from Copernicus Climate Data Store...\n"
     ]
    },
    {
     "name": "stderr",
     "output_type": "stream",
     "text": [
      "2020-02-05 13:15:24,199 INFO Request is completed\n",
      "2020-02-05 13:15:24,201 INFO Downloading http://136.156.133.39/cache-compute-0012/cache/data4/adaptor.mars.internal-1580845829.4090974-30697-18-9912c45f-2559-4a3c-afda-4d52dcb30c5a.grib to /home/oliskir/src/anaconda3/envs/kadlu_env/lib/python3.6/site-packages/storage/ERA5_reanalysis_significant_height_of_combined_wind_waves_and_swell_2015-01-09_12h.grb2 (307.9K)\n",
      "2020-02-05 13:15:24,851 INFO Download rate 474.4K/s\n",
      "2020-02-05 13:15:25,782 INFO Sending request to https://cds.climate.copernicus.eu/api/v2/resources/reanalysis-era5-single-levels\n"
     ]
    },
    {
     "name": "stdout",
     "output_type": "stream",
     "text": [
      "processed and inserted 141264 rows. 0 duplicate rows ignored\n",
      "\n",
      "downloading ERA5_reanalysis_mean_wave_period_2015-01-09_00h.grb2 from Copernicus Climate Data Store...\n"
     ]
    },
    {
     "name": "stderr",
     "output_type": "stream",
     "text": [
      "2020-02-05 13:15:26,220 INFO Request is completed\n",
      "2020-02-05 13:15:26,222 INFO Downloading http://136.156.132.235/cache-compute-0006/cache/data1/adaptor.mars.internal-1580845836.5788906-32362-21-f3f93f91-6a60-48a9-af8b-2ee4da88103f.grib to /home/oliskir/src/anaconda3/envs/kadlu_env/lib/python3.6/site-packages/storage/ERA5_reanalysis_mean_wave_period_2015-01-09_00h.grb2 (307.4K)\n",
      "2020-02-05 13:15:26,856 INFO Download rate 486.9K/s\n",
      "2020-02-05 13:15:27,798 INFO Sending request to https://cds.climate.copernicus.eu/api/v2/resources/reanalysis-era5-single-levels\n"
     ]
    },
    {
     "name": "stdout",
     "output_type": "stream",
     "text": [
      "processed and inserted 141035 rows. 0 duplicate rows ignored\n",
      "\n",
      "downloading ERA5_reanalysis_mean_wave_period_2015-01-09_01h.grb2 from Copernicus Climate Data Store...\n"
     ]
    },
    {
     "name": "stderr",
     "output_type": "stream",
     "text": [
      "2020-02-05 13:15:28,554 INFO Request is completed\n",
      "2020-02-05 13:15:28,557 INFO Downloading http://136.156.132.201/cache-compute-0004/cache/data2/adaptor.mars.internal-1580845844.1421587-15111-1-8ac7522c-b0a0-4ea6-8e38-a245d73903de.grib to /home/oliskir/src/anaconda3/envs/kadlu_env/lib/python3.6/site-packages/storage/ERA5_reanalysis_mean_wave_period_2015-01-09_01h.grb2 (307.4K)\n",
      "2020-02-05 13:15:29,198 INFO Download rate 480.6K/s\n",
      "2020-02-05 13:15:30,225 INFO Sending request to https://cds.climate.copernicus.eu/api/v2/resources/reanalysis-era5-single-levels\n"
     ]
    },
    {
     "name": "stdout",
     "output_type": "stream",
     "text": [
      "processed and inserted 141035 rows. 0 duplicate rows ignored\n",
      "\n",
      "downloading ERA5_reanalysis_mean_wave_period_2015-01-09_02h.grb2 from Copernicus Climate Data Store...\n"
     ]
    },
    {
     "name": "stderr",
     "output_type": "stream",
     "text": [
      "2020-02-05 13:15:30,709 INFO Request is completed\n",
      "2020-02-05 13:15:30,711 INFO Downloading http://136.156.133.42/cache-compute-0014/cache/data5/adaptor.mars.internal-1580845851.6517324-5328-24-4fd99210-4db8-4d6d-9e5a-25d8cfdb8cd1.grib to /home/oliskir/src/anaconda3/envs/kadlu_env/lib/python3.6/site-packages/storage/ERA5_reanalysis_mean_wave_period_2015-01-09_02h.grb2 (307.4K)\n",
      "2020-02-05 13:15:31,420 INFO Download rate 433.9K/s\n",
      "2020-02-05 13:15:32,318 INFO Sending request to https://cds.climate.copernicus.eu/api/v2/resources/reanalysis-era5-single-levels\n"
     ]
    },
    {
     "name": "stdout",
     "output_type": "stream",
     "text": [
      "processed and inserted 141035 rows. 0 duplicate rows ignored\n",
      "\n",
      "downloading ERA5_reanalysis_mean_wave_period_2015-01-09_03h.grb2 from Copernicus Climate Data Store...\n"
     ]
    },
    {
     "name": "stderr",
     "output_type": "stream",
     "text": [
      "2020-02-05 13:15:32,816 INFO Request is completed\n",
      "2020-02-05 13:15:32,818 INFO Downloading http://136.156.133.36/cache-compute-0010/cache/data5/adaptor.mars.internal-1580845857.5947108-6286-36-0d847baf-aa6e-48dc-9fe7-1fc05e7c7227.grib to /home/oliskir/src/anaconda3/envs/kadlu_env/lib/python3.6/site-packages/storage/ERA5_reanalysis_mean_wave_period_2015-01-09_03h.grb2 (307.4K)\n",
      "2020-02-05 13:15:33,468 INFO Download rate 473.7K/s\n",
      "2020-02-05 13:15:34,420 INFO Sending request to https://cds.climate.copernicus.eu/api/v2/resources/reanalysis-era5-single-levels\n"
     ]
    },
    {
     "name": "stdout",
     "output_type": "stream",
     "text": [
      "processed and inserted 141035 rows. 0 duplicate rows ignored\n",
      "\n",
      "downloading ERA5_reanalysis_mean_wave_period_2015-01-09_04h.grb2 from Copernicus Climate Data Store...\n"
     ]
    },
    {
     "name": "stderr",
     "output_type": "stream",
     "text": [
      "2020-02-05 13:15:35,017 INFO Request is completed\n",
      "2020-02-05 13:15:35,019 INFO Downloading http://136.156.133.37/cache-compute-0011/cache/data6/adaptor.mars.internal-1580845862.0218189-2777-5-0b19b1e0-2588-4e65-948c-1321f127fdd0.grib to /home/oliskir/src/anaconda3/envs/kadlu_env/lib/python3.6/site-packages/storage/ERA5_reanalysis_mean_wave_period_2015-01-09_04h.grb2 (307.4K)\n",
      "2020-02-05 13:15:35,678 INFO Download rate 467.2K/s\n",
      "2020-02-05 13:15:36,668 INFO Sending request to https://cds.climate.copernicus.eu/api/v2/resources/reanalysis-era5-single-levels\n"
     ]
    },
    {
     "name": "stdout",
     "output_type": "stream",
     "text": [
      "processed and inserted 141035 rows. 0 duplicate rows ignored\n",
      "\n",
      "downloading ERA5_reanalysis_mean_wave_period_2015-01-09_05h.grb2 from Copernicus Climate Data Store...\n"
     ]
    },
    {
     "name": "stderr",
     "output_type": "stream",
     "text": [
      "2020-02-05 13:15:37,164 INFO Request is completed\n",
      "2020-02-05 13:15:37,166 INFO Downloading http://136.156.132.236/cache-compute-0007/cache/data6/adaptor.mars.internal-1580845866.365788-12564-13-8f4d27e2-e932-48b6-843c-26ed8e2fe938.grib to /home/oliskir/src/anaconda3/envs/kadlu_env/lib/python3.6/site-packages/storage/ERA5_reanalysis_mean_wave_period_2015-01-09_05h.grb2 (307.4K)\n",
      "2020-02-05 13:15:37,794 INFO Download rate 490.4K/s\n",
      "2020-02-05 13:15:38,819 INFO Sending request to https://cds.climate.copernicus.eu/api/v2/resources/reanalysis-era5-single-levels\n"
     ]
    },
    {
     "name": "stdout",
     "output_type": "stream",
     "text": [
      "processed and inserted 141035 rows. 0 duplicate rows ignored\n",
      "\n",
      "downloading ERA5_reanalysis_mean_wave_period_2015-01-09_06h.grb2 from Copernicus Climate Data Store...\n"
     ]
    },
    {
     "name": "stderr",
     "output_type": "stream",
     "text": [
      "2020-02-05 13:15:39,458 INFO Request is completed\n",
      "2020-02-05 13:15:39,459 INFO Downloading http://136.156.132.198/cache-compute-0003/cache/data2/adaptor.mars.internal-1580845870.488391-21446-14-1502cfc6-67ce-4160-a9ea-a18e8e124cdd.grib to /home/oliskir/src/anaconda3/envs/kadlu_env/lib/python3.6/site-packages/storage/ERA5_reanalysis_mean_wave_period_2015-01-09_06h.grb2 (307.4K)\n",
      "2020-02-05 13:15:40,105 INFO Download rate 477.1K/s\n",
      "2020-02-05 13:15:40,998 INFO Sending request to https://cds.climate.copernicus.eu/api/v2/resources/reanalysis-era5-single-levels\n"
     ]
    },
    {
     "name": "stdout",
     "output_type": "stream",
     "text": [
      "processed and inserted 141035 rows. 0 duplicate rows ignored\n",
      "\n",
      "downloading ERA5_reanalysis_mean_wave_period_2015-01-09_07h.grb2 from Copernicus Climate Data Store...\n"
     ]
    },
    {
     "name": "stderr",
     "output_type": "stream",
     "text": [
      "2020-02-05 13:15:41,569 INFO Request is completed\n",
      "2020-02-05 13:15:41,571 INFO Downloading http://136.156.132.110/cache-compute-0001/cache/data3/adaptor.mars.internal-1580845874.7751567-21579-5-47dc9269-2599-4b62-b40c-3590fc985392.grib to /home/oliskir/src/anaconda3/envs/kadlu_env/lib/python3.6/site-packages/storage/ERA5_reanalysis_mean_wave_period_2015-01-09_07h.grb2 (307.4K)\n",
      "2020-02-05 13:15:42,951 INFO Download rate 222.9K/s\n",
      "2020-02-05 13:15:43,842 INFO Sending request to https://cds.climate.copernicus.eu/api/v2/resources/reanalysis-era5-single-levels\n"
     ]
    },
    {
     "name": "stdout",
     "output_type": "stream",
     "text": [
      "processed and inserted 141035 rows. 0 duplicate rows ignored\n",
      "\n",
      "downloading ERA5_reanalysis_mean_wave_period_2015-01-09_08h.grb2 from Copernicus Climate Data Store...\n"
     ]
    },
    {
     "name": "stderr",
     "output_type": "stream",
     "text": [
      "2020-02-05 13:15:44,449 INFO Request is completed\n",
      "2020-02-05 13:15:44,452 INFO Downloading http://136.156.132.236/cache-compute-0007/cache/data6/adaptor.mars.internal-1580845881.0776315-11099-20-b337f932-d418-4c3a-ab71-1b732a17ab92.grib to /home/oliskir/src/anaconda3/envs/kadlu_env/lib/python3.6/site-packages/storage/ERA5_reanalysis_mean_wave_period_2015-01-09_08h.grb2 (307.4K)\n",
      "2020-02-05 13:15:45,111 INFO Download rate 467.1K/s\n",
      "2020-02-05 13:15:46,561 INFO Sending request to https://cds.climate.copernicus.eu/api/v2/resources/reanalysis-era5-single-levels\n"
     ]
    },
    {
     "name": "stdout",
     "output_type": "stream",
     "text": [
      "processed and inserted 141035 rows. 0 duplicate rows ignored\n",
      "\n",
      "downloading ERA5_reanalysis_mean_wave_period_2015-01-09_09h.grb2 from Copernicus Climate Data Store...\n"
     ]
    },
    {
     "name": "stderr",
     "output_type": "stream",
     "text": [
      "2020-02-05 13:15:47,624 INFO Request is completed\n",
      "2020-02-05 13:15:47,626 INFO Downloading http://136.156.132.235/cache-compute-0006/cache/data8/adaptor.mars.internal-1580845886.974186-32092-23-82ec5f54-f59c-4eb4-8a5e-b1b7064371c7.grib to /home/oliskir/src/anaconda3/envs/kadlu_env/lib/python3.6/site-packages/storage/ERA5_reanalysis_mean_wave_period_2015-01-09_09h.grb2 (307.4K)\n",
      "2020-02-05 13:15:48,273 INFO Download rate 476.4K/s\n",
      "2020-02-05 13:15:49,243 INFO Sending request to https://cds.climate.copernicus.eu/api/v2/resources/reanalysis-era5-single-levels\n"
     ]
    },
    {
     "name": "stdout",
     "output_type": "stream",
     "text": [
      "processed and inserted 141035 rows. 0 duplicate rows ignored\n",
      "\n",
      "downloading ERA5_reanalysis_mean_wave_period_2015-01-09_10h.grb2 from Copernicus Climate Data Store...\n"
     ]
    },
    {
     "name": "stderr",
     "output_type": "stream",
     "text": [
      "2020-02-05 13:15:50,179 INFO Request is completed\n",
      "2020-02-05 13:15:50,181 INFO Downloading http://136.156.133.25/cache-compute-0008/cache/data3/adaptor.mars.internal-1580845892.768661-32652-32-45847878-a500-47ab-ac2a-6489678f644c.grib to /home/oliskir/src/anaconda3/envs/kadlu_env/lib/python3.6/site-packages/storage/ERA5_reanalysis_mean_wave_period_2015-01-09_10h.grb2 (307.9K)\n",
      "2020-02-05 13:15:50,809 INFO Download rate 491.3K/s\n",
      "2020-02-05 13:15:51,867 INFO Sending request to https://cds.climate.copernicus.eu/api/v2/resources/reanalysis-era5-single-levels\n"
     ]
    },
    {
     "name": "stdout",
     "output_type": "stream",
     "text": [
      "processed and inserted 141264 rows. 0 duplicate rows ignored\n",
      "\n",
      "downloading ERA5_reanalysis_mean_wave_period_2015-01-09_11h.grb2 from Copernicus Climate Data Store...\n"
     ]
    },
    {
     "name": "stderr",
     "output_type": "stream",
     "text": [
      "2020-02-05 13:15:52,742 INFO Request is completed\n",
      "2020-02-05 13:15:52,744 INFO Downloading http://136.156.132.105/cache-compute-0000/cache/data7/adaptor.mars.internal-1580845899.0706208-26734-27-b13cc6ad-cdc2-4972-9f79-036a0e38b7ca.grib to /home/oliskir/src/anaconda3/envs/kadlu_env/lib/python3.6/site-packages/storage/ERA5_reanalysis_mean_wave_period_2015-01-09_11h.grb2 (307.9K)\n",
      "2020-02-05 13:15:53,372 INFO Download rate 492K/s \n",
      "2020-02-05 13:15:54,588 INFO Sending request to https://cds.climate.copernicus.eu/api/v2/resources/reanalysis-era5-single-levels\n"
     ]
    },
    {
     "name": "stdout",
     "output_type": "stream",
     "text": [
      "processed and inserted 141264 rows. 0 duplicate rows ignored\n",
      "\n",
      "downloading ERA5_reanalysis_mean_wave_period_2015-01-09_12h.grb2 from Copernicus Climate Data Store...\n"
     ]
    },
    {
     "name": "stderr",
     "output_type": "stream",
     "text": [
      "2020-02-05 13:15:55,409 INFO Request is completed\n",
      "2020-02-05 13:15:55,410 INFO Downloading http://136.156.133.36/cache-compute-0010/cache/data1/adaptor.mars.internal-1580845904.500503-5832-11-97728070-5da1-48d0-becb-a7f7575ebb25.grib to /home/oliskir/src/anaconda3/envs/kadlu_env/lib/python3.6/site-packages/storage/ERA5_reanalysis_mean_wave_period_2015-01-09_12h.grb2 (307.9K)\n",
      "2020-02-05 13:15:56,534 INFO Download rate 274.5K/s\n",
      "2020-02-05 13:15:57,715 INFO Sending request to https://cds.climate.copernicus.eu/api/v2/resources/reanalysis-era5-single-levels\n"
     ]
    },
    {
     "name": "stdout",
     "output_type": "stream",
     "text": [
      "processed and inserted 141264 rows. 0 duplicate rows ignored\n",
      "\n",
      "downloading ERA5_reanalysis_10m_u_component_of_wind_2015-01-09_00h.grb2 from Copernicus Climate Data Store...\n"
     ]
    },
    {
     "name": "stderr",
     "output_type": "stream",
     "text": [
      "2020-02-05 13:15:58,292 INFO Request is completed\n",
      "2020-02-05 13:15:58,294 INFO Downloading http://136.156.133.41/cache-compute-0013/cache/data1/adaptor.mars.internal-1580845910.5323732-18326-9-9879a8a4-24ed-4184-9c1b-4da005466dd3.grib to /home/oliskir/src/anaconda3/envs/kadlu_env/lib/python3.6/site-packages/storage/ERA5_reanalysis_10m_u_component_of_wind_2015-01-09_00h.grb2 (2M)\n",
      "2020-02-05 13:15:59,293 INFO Download rate 2M/s    \n",
      "2020-02-05 13:16:07,836 INFO Sending request to https://cds.climate.copernicus.eu/api/v2/resources/reanalysis-era5-single-levels\n"
     ]
    },
    {
     "name": "stdout",
     "output_type": "stream",
     "text": [
      "processed and inserted 1038240 rows. 0 duplicate rows ignored\n",
      "\n",
      "downloading ERA5_reanalysis_10m_u_component_of_wind_2015-01-09_01h.grb2 from Copernicus Climate Data Store...\n"
     ]
    },
    {
     "name": "stderr",
     "output_type": "stream",
     "text": [
      "2020-02-05 13:16:08,810 INFO Request is completed\n",
      "2020-02-05 13:16:08,812 INFO Downloading http://136.156.133.36/cache-compute-0010/cache/data5/adaptor.mars.internal-1580845928.7825272-6286-38-4f86c325-d6fc-4a39-8071-ff6e277c1f42.grib to /home/oliskir/src/anaconda3/envs/kadlu_env/lib/python3.6/site-packages/storage/ERA5_reanalysis_10m_u_component_of_wind_2015-01-09_01h.grb2 (2M)\n",
      "2020-02-05 13:16:09,835 INFO Download rate 1.9M/s  \n",
      "2020-02-05 13:16:19,557 INFO Sending request to https://cds.climate.copernicus.eu/api/v2/resources/reanalysis-era5-single-levels\n"
     ]
    },
    {
     "name": "stdout",
     "output_type": "stream",
     "text": [
      "processed and inserted 1038240 rows. 0 duplicate rows ignored\n",
      "\n",
      "downloading ERA5_reanalysis_10m_u_component_of_wind_2015-01-09_02h.grb2 from Copernicus Climate Data Store...\n"
     ]
    },
    {
     "name": "stderr",
     "output_type": "stream",
     "text": [
      "2020-02-05 13:16:20,035 INFO Request is completed\n",
      "2020-02-05 13:16:20,037 INFO Downloading http://136.156.132.198/cache-compute-0003/cache/data1/adaptor.mars.internal-1580845948.382106-21446-16-7723c24d-aa9d-4f6d-a359-fa9c601e4ea5.grib to /home/oliskir/src/anaconda3/envs/kadlu_env/lib/python3.6/site-packages/storage/ERA5_reanalysis_10m_u_component_of_wind_2015-01-09_02h.grb2 (2M)\n",
      "2020-02-05 13:16:21,082 INFO Download rate 1.9M/s  \n",
      "2020-02-05 13:16:29,530 INFO Sending request to https://cds.climate.copernicus.eu/api/v2/resources/reanalysis-era5-single-levels\n"
     ]
    },
    {
     "name": "stdout",
     "output_type": "stream",
     "text": [
      "processed and inserted 1038240 rows. 0 duplicate rows ignored\n",
      "\n",
      "downloading ERA5_reanalysis_10m_u_component_of_wind_2015-01-09_03h.grb2 from Copernicus Climate Data Store...\n"
     ]
    },
    {
     "name": "stderr",
     "output_type": "stream",
     "text": [
      "2020-02-05 13:16:30,648 INFO Request is completed\n",
      "2020-02-05 13:16:30,650 INFO Downloading http://136.156.132.201/cache-compute-0004/cache/data2/adaptor.mars.internal-1580845967.455236-9012-35-e95d4fdc-d3c0-4574-b0a8-71778e02ffd6.grib to /home/oliskir/src/anaconda3/envs/kadlu_env/lib/python3.6/site-packages/storage/ERA5_reanalysis_10m_u_component_of_wind_2015-01-09_03h.grb2 (2M)\n",
      "2020-02-05 13:16:31,665 INFO Download rate 2M/s    \n",
      "2020-02-05 13:16:40,389 INFO Sending request to https://cds.climate.copernicus.eu/api/v2/resources/reanalysis-era5-single-levels\n"
     ]
    },
    {
     "name": "stdout",
     "output_type": "stream",
     "text": [
      "processed and inserted 1038240 rows. 0 duplicate rows ignored\n",
      "\n",
      "downloading ERA5_reanalysis_10m_u_component_of_wind_2015-01-09_04h.grb2 from Copernicus Climate Data Store...\n"
     ]
    },
    {
     "name": "stderr",
     "output_type": "stream",
     "text": [
      "2020-02-05 13:16:41,000 INFO Request is completed\n",
      "2020-02-05 13:16:41,001 INFO Downloading http://136.156.132.105/cache-compute-0000/cache/data5/adaptor.mars.internal-1580845986.608354-27153-8-0bdc1d27-c71a-461e-9eeb-a14af9c1d4da.grib to /home/oliskir/src/anaconda3/envs/kadlu_env/lib/python3.6/site-packages/storage/ERA5_reanalysis_10m_u_component_of_wind_2015-01-09_04h.grb2 (2M)\n",
      "2020-02-05 13:16:42,033 INFO Download rate 1.9M/s  \n",
      "2020-02-05 13:16:49,891 INFO Sending request to https://cds.climate.copernicus.eu/api/v2/resources/reanalysis-era5-single-levels\n"
     ]
    },
    {
     "name": "stdout",
     "output_type": "stream",
     "text": [
      "processed and inserted 1038240 rows. 0 duplicate rows ignored\n",
      "\n",
      "downloading ERA5_reanalysis_10m_u_component_of_wind_2015-01-09_05h.grb2 from Copernicus Climate Data Store...\n"
     ]
    },
    {
     "name": "stderr",
     "output_type": "stream",
     "text": [
      "2020-02-05 13:16:50,694 INFO Request is completed\n",
      "2020-02-05 13:16:50,696 INFO Downloading http://136.156.133.42/cache-compute-0014/cache/data7/adaptor.mars.internal-1580846004.931198-14938-1-1f5cacf7-996a-4db1-86c7-20acde754e43.grib to /home/oliskir/src/anaconda3/envs/kadlu_env/lib/python3.6/site-packages/storage/ERA5_reanalysis_10m_u_component_of_wind_2015-01-09_05h.grb2 (2M)\n",
      "2020-02-05 13:16:51,727 INFO Download rate 1.9M/s  \n",
      "2020-02-05 13:17:00,488 INFO Sending request to https://cds.climate.copernicus.eu/api/v2/resources/reanalysis-era5-single-levels\n"
     ]
    },
    {
     "name": "stdout",
     "output_type": "stream",
     "text": [
      "processed and inserted 1038240 rows. 0 duplicate rows ignored\n",
      "\n",
      "downloading ERA5_reanalysis_10m_u_component_of_wind_2015-01-09_06h.grb2 from Copernicus Climate Data Store...\n"
     ]
    },
    {
     "name": "stderr",
     "output_type": "stream",
     "text": [
      "2020-02-05 13:17:01,139 INFO Request is completed\n",
      "2020-02-05 13:17:01,141 INFO Downloading http://136.156.132.210/cache-compute-0005/cache/data0/adaptor.mars.internal-1580846023.1089282-32515-15-da7e9762-b954-4dec-b79b-8df267d298a8.grib to /home/oliskir/src/anaconda3/envs/kadlu_env/lib/python3.6/site-packages/storage/ERA5_reanalysis_10m_u_component_of_wind_2015-01-09_06h.grb2 (2M)\n",
      "2020-02-05 13:17:02,112 INFO Download rate 2M/s    \n",
      "2020-02-05 13:17:10,538 INFO Sending request to https://cds.climate.copernicus.eu/api/v2/resources/reanalysis-era5-single-levels\n"
     ]
    },
    {
     "name": "stdout",
     "output_type": "stream",
     "text": [
      "processed and inserted 1038240 rows. 0 duplicate rows ignored\n",
      "\n",
      "downloading ERA5_reanalysis_10m_u_component_of_wind_2015-01-09_07h.grb2 from Copernicus Climate Data Store...\n"
     ]
    },
    {
     "name": "stderr",
     "output_type": "stream",
     "text": [
      "2020-02-05 13:17:11,210 INFO Request is completed\n",
      "2020-02-05 13:17:11,210 INFO Downloading http://136.156.133.32/cache-compute-0009/cache/data2/adaptor.mars.internal-1580846041.7903647-11375-3-621d4716-9910-419c-acff-eaac8286af0b.grib to /home/oliskir/src/anaconda3/envs/kadlu_env/lib/python3.6/site-packages/storage/ERA5_reanalysis_10m_u_component_of_wind_2015-01-09_07h.grb2 (2M)\n",
      "2020-02-05 13:17:12,622 INFO Download rate 1.4M/s   \n",
      "2020-02-05 13:17:22,374 INFO Sending request to https://cds.climate.copernicus.eu/api/v2/resources/reanalysis-era5-single-levels\n"
     ]
    },
    {
     "name": "stdout",
     "output_type": "stream",
     "text": [
      "processed and inserted 1038240 rows. 0 duplicate rows ignored\n",
      "\n",
      "downloading ERA5_reanalysis_10m_u_component_of_wind_2015-01-09_08h.grb2 from Copernicus Climate Data Store...\n"
     ]
    },
    {
     "name": "stderr",
     "output_type": "stream",
     "text": [
      "2020-02-05 13:17:23,151 INFO Request is completed\n",
      "2020-02-05 13:17:23,153 INFO Downloading http://136.156.132.198/cache-compute-0003/cache/data8/adaptor.mars.internal-1580846060.8137364-19182-37-a63255dc-30e4-4b71-b3d9-75e4761ebcf2.grib to /home/oliskir/src/anaconda3/envs/kadlu_env/lib/python3.6/site-packages/storage/ERA5_reanalysis_10m_u_component_of_wind_2015-01-09_08h.grb2 (2M)\n",
      "2020-02-05 13:17:24,169 INFO Download rate 2M/s    \n",
      "2020-02-05 13:17:32,557 INFO Sending request to https://cds.climate.copernicus.eu/api/v2/resources/reanalysis-era5-single-levels\n"
     ]
    },
    {
     "name": "stdout",
     "output_type": "stream",
     "text": [
      "processed and inserted 1038240 rows. 0 duplicate rows ignored\n",
      "\n",
      "downloading ERA5_reanalysis_10m_u_component_of_wind_2015-01-09_09h.grb2 from Copernicus Climate Data Store...\n"
     ]
    },
    {
     "name": "stderr",
     "output_type": "stream",
     "text": [
      "2020-02-05 13:17:33,348 INFO Request is completed\n",
      "2020-02-05 13:17:33,350 INFO Downloading http://136.156.132.198/cache-compute-0003/cache/data1/adaptor.mars.internal-1580846078.1829314-22111-16-9b82c4f6-0c85-4c2d-b6bc-a8e6924b8fec.grib to /home/oliskir/src/anaconda3/envs/kadlu_env/lib/python3.6/site-packages/storage/ERA5_reanalysis_10m_u_component_of_wind_2015-01-09_09h.grb2 (2M)\n",
      "2020-02-05 13:17:34,355 INFO Download rate 2M/s    \n",
      "2020-02-05 13:17:42,563 INFO Sending request to https://cds.climate.copernicus.eu/api/v2/resources/reanalysis-era5-single-levels\n"
     ]
    },
    {
     "name": "stdout",
     "output_type": "stream",
     "text": [
      "processed and inserted 1038240 rows. 0 duplicate rows ignored\n",
      "\n",
      "downloading ERA5_reanalysis_10m_u_component_of_wind_2015-01-09_10h.grb2 from Copernicus Climate Data Store...\n"
     ]
    },
    {
     "name": "stderr",
     "output_type": "stream",
     "text": [
      "2020-02-05 13:17:43,573 INFO Request is queued\n",
      "2020-02-05 13:17:44,677 INFO Request is completed\n",
      "2020-02-05 13:17:44,678 INFO Downloading http://136.156.132.235/cache-compute-0006/cache/data4/adaptor.mars.internal-1580923063.7410917-1886-23-2f368788-eb97-4207-9f92-64f1da48d54b.grib to /home/oliskir/src/anaconda3/envs/kadlu_env/lib/python3.6/site-packages/storage/ERA5_reanalysis_10m_u_component_of_wind_2015-01-09_10h.grb2 (2M)\n",
      "2020-02-05 13:17:45,624 INFO Download rate 2.1M/s  \n",
      "2020-02-05 13:17:55,567 INFO Sending request to https://cds.climate.copernicus.eu/api/v2/resources/reanalysis-era5-single-levels\n"
     ]
    },
    {
     "name": "stdout",
     "output_type": "stream",
     "text": [
      "processed and inserted 1038240 rows. 0 duplicate rows ignored\n",
      "\n",
      "downloading ERA5_reanalysis_10m_u_component_of_wind_2015-01-09_11h.grb2 from Copernicus Climate Data Store...\n"
     ]
    },
    {
     "name": "stderr",
     "output_type": "stream",
     "text": [
      "2020-02-05 13:17:59,616 INFO Request is completed\n",
      "2020-02-05 13:17:59,618 INFO Downloading http://136.156.133.41/cache-compute-0013/cache/data9/adaptor.mars.internal-1580846112.5717218-21242-1-2fff6998-e1d1-484f-9400-86d97d939eed.grib to /home/oliskir/src/anaconda3/envs/kadlu_env/lib/python3.6/site-packages/storage/ERA5_reanalysis_10m_u_component_of_wind_2015-01-09_11h.grb2 (2M)\n",
      "2020-02-05 13:18:00,620 INFO Download rate 2M/s    \n",
      "2020-02-05 13:18:09,606 INFO Sending request to https://cds.climate.copernicus.eu/api/v2/resources/reanalysis-era5-single-levels\n"
     ]
    },
    {
     "name": "stdout",
     "output_type": "stream",
     "text": [
      "processed and inserted 1038240 rows. 0 duplicate rows ignored\n",
      "\n",
      "downloading ERA5_reanalysis_10m_u_component_of_wind_2015-01-09_12h.grb2 from Copernicus Climate Data Store...\n"
     ]
    },
    {
     "name": "stderr",
     "output_type": "stream",
     "text": [
      "2020-02-05 13:18:10,193 INFO Request is completed\n",
      "2020-02-05 13:18:10,195 INFO Downloading http://136.156.132.105/cache-compute-0000/cache/data8/adaptor.mars.internal-1580846131.2899373-28456-22-1c7e70d6-1fe8-418f-af28-fe5953f673b1.grib to /home/oliskir/src/anaconda3/envs/kadlu_env/lib/python3.6/site-packages/storage/ERA5_reanalysis_10m_u_component_of_wind_2015-01-09_12h.grb2 (2M)\n",
      "2020-02-05 13:18:11,268 INFO Download rate 1.8M/s  \n",
      "2020-02-05 13:18:19,704 INFO Sending request to https://cds.climate.copernicus.eu/api/v2/resources/reanalysis-era5-single-levels\n"
     ]
    },
    {
     "name": "stdout",
     "output_type": "stream",
     "text": [
      "processed and inserted 1038240 rows. 0 duplicate rows ignored\n",
      "\n",
      "downloading ERA5_reanalysis_10m_v_component_of_wind_2015-01-09_00h.grb2 from Copernicus Climate Data Store...\n"
     ]
    },
    {
     "name": "stderr",
     "output_type": "stream",
     "text": [
      "2020-02-05 13:18:20,204 INFO Request is completed\n",
      "2020-02-05 13:18:20,206 INFO Downloading http://136.156.132.210/cache-compute-0005/cache/data0/adaptor.mars.internal-1580846150.4620705-30670-29-6970f4e6-7f3e-487a-9156-a6fe43c8fc47.grib to /home/oliskir/src/anaconda3/envs/kadlu_env/lib/python3.6/site-packages/storage/ERA5_reanalysis_10m_v_component_of_wind_2015-01-09_00h.grb2 (2M)\n",
      "2020-02-05 13:18:21,204 INFO Download rate 2M/s    \n",
      "2020-02-05 13:18:29,208 INFO Sending request to https://cds.climate.copernicus.eu/api/v2/resources/reanalysis-era5-single-levels\n"
     ]
    },
    {
     "name": "stdout",
     "output_type": "stream",
     "text": [
      "processed and inserted 1038240 rows. 0 duplicate rows ignored\n",
      "\n",
      "downloading ERA5_reanalysis_10m_v_component_of_wind_2015-01-09_01h.grb2 from Copernicus Climate Data Store...\n"
     ]
    },
    {
     "name": "stderr",
     "output_type": "stream",
     "text": [
      "2020-02-05 13:18:29,711 INFO Request is completed\n",
      "2020-02-05 13:18:29,712 INFO Downloading http://136.156.132.153/cache-compute-0002/cache/data8/adaptor.mars.internal-1580846176.7578843-25938-16-b57f802a-87eb-412d-967d-9eb2c1f833e8.grib to /home/oliskir/src/anaconda3/envs/kadlu_env/lib/python3.6/site-packages/storage/ERA5_reanalysis_10m_v_component_of_wind_2015-01-09_01h.grb2 (2M)\n",
      "2020-02-05 13:18:30,715 INFO Download rate 2M/s    \n",
      "2020-02-05 13:18:38,839 INFO Sending request to https://cds.climate.copernicus.eu/api/v2/resources/reanalysis-era5-single-levels\n"
     ]
    },
    {
     "name": "stdout",
     "output_type": "stream",
     "text": [
      "processed and inserted 1038240 rows. 0 duplicate rows ignored\n",
      "\n",
      "downloading ERA5_reanalysis_10m_v_component_of_wind_2015-01-09_02h.grb2 from Copernicus Climate Data Store...\n"
     ]
    },
    {
     "name": "stderr",
     "output_type": "stream",
     "text": [
      "2020-02-05 13:18:39,347 INFO Request is queued\n",
      "2020-02-05 13:18:40,454 INFO Request is completed\n",
      "2020-02-05 13:18:40,456 INFO Downloading http://136.156.133.39/cache-compute-0012/cache/data6/adaptor.mars.internal-1580923119.3834524-9314-9-2de54865-9a3e-4fdd-9be2-bdb20b3709ec.grib to /home/oliskir/src/anaconda3/envs/kadlu_env/lib/python3.6/site-packages/storage/ERA5_reanalysis_10m_v_component_of_wind_2015-01-09_02h.grb2 (2M)\n",
      "2020-02-05 13:18:41,439 INFO Download rate 2M/s    \n",
      "2020-02-05 13:18:49,423 INFO Sending request to https://cds.climate.copernicus.eu/api/v2/resources/reanalysis-era5-single-levels\n"
     ]
    },
    {
     "name": "stdout",
     "output_type": "stream",
     "text": [
      "processed and inserted 1038240 rows. 0 duplicate rows ignored\n",
      "\n",
      "downloading ERA5_reanalysis_10m_v_component_of_wind_2015-01-09_03h.grb2 from Copernicus Climate Data Store...\n"
     ]
    },
    {
     "name": "stderr",
     "output_type": "stream",
     "text": [
      "2020-02-05 13:18:49,856 INFO Request is completed\n",
      "2020-02-05 13:18:49,858 INFO Downloading http://136.156.133.37/cache-compute-0011/cache/data7/adaptor.mars.internal-1580846221.0167837-28302-35-f2f00b70-6c97-43b0-bc1e-195e22f6e481.grib to /home/oliskir/src/anaconda3/envs/kadlu_env/lib/python3.6/site-packages/storage/ERA5_reanalysis_10m_v_component_of_wind_2015-01-09_03h.grb2 (2M)\n",
      "2020-02-05 13:18:50,881 INFO Download rate 1.9M/s  \n",
      "2020-02-05 13:18:58,905 INFO Sending request to https://cds.climate.copernicus.eu/api/v2/resources/reanalysis-era5-single-levels\n"
     ]
    },
    {
     "name": "stdout",
     "output_type": "stream",
     "text": [
      "processed and inserted 1038240 rows. 0 duplicate rows ignored\n",
      "\n",
      "downloading ERA5_reanalysis_10m_v_component_of_wind_2015-01-09_04h.grb2 from Copernicus Climate Data Store...\n"
     ]
    },
    {
     "name": "stderr",
     "output_type": "stream",
     "text": [
      "2020-02-05 13:18:59,497 INFO Request is completed\n",
      "2020-02-05 13:18:59,497 INFO Downloading http://136.156.132.235/cache-compute-0006/cache/data6/adaptor.mars.internal-1580846235.3264134-10449-3-50a63e39-ce57-460b-97e3-b59ac691c53d.grib to /home/oliskir/src/anaconda3/envs/kadlu_env/lib/python3.6/site-packages/storage/ERA5_reanalysis_10m_v_component_of_wind_2015-01-09_04h.grb2 (2M)\n",
      "2020-02-05 13:19:00,466 INFO Download rate 2M/s    \n",
      "2020-02-05 13:19:09,144 INFO Sending request to https://cds.climate.copernicus.eu/api/v2/resources/reanalysis-era5-single-levels\n"
     ]
    },
    {
     "name": "stdout",
     "output_type": "stream",
     "text": [
      "processed and inserted 1038240 rows. 0 duplicate rows ignored\n",
      "\n",
      "downloading ERA5_reanalysis_10m_v_component_of_wind_2015-01-09_05h.grb2 from Copernicus Climate Data Store...\n"
     ]
    },
    {
     "name": "stderr",
     "output_type": "stream",
     "text": [
      "2020-02-05 13:19:09,579 INFO Request is completed\n",
      "2020-02-05 13:19:09,582 INFO Downloading http://136.156.132.198/cache-compute-0003/cache/data1/adaptor.mars.internal-1580846247.6435874-23112-20-39ce3c59-d1e9-40f9-88e3-6e6c331be4ef.grib to /home/oliskir/src/anaconda3/envs/kadlu_env/lib/python3.6/site-packages/storage/ERA5_reanalysis_10m_v_component_of_wind_2015-01-09_05h.grb2 (2M)\n",
      "2020-02-05 13:19:10,714 INFO Download rate 1.8M/s  \n",
      "2020-02-05 13:19:18,768 INFO Sending request to https://cds.climate.copernicus.eu/api/v2/resources/reanalysis-era5-single-levels\n"
     ]
    },
    {
     "name": "stdout",
     "output_type": "stream",
     "text": [
      "processed and inserted 1038240 rows. 0 duplicate rows ignored\n",
      "\n",
      "downloading ERA5_reanalysis_10m_v_component_of_wind_2015-01-09_06h.grb2 from Copernicus Climate Data Store...\n"
     ]
    },
    {
     "name": "stderr",
     "output_type": "stream",
     "text": [
      "2020-02-05 13:19:19,540 INFO Request is completed\n",
      "2020-02-05 13:19:19,542 INFO Downloading http://136.156.132.235/cache-compute-0006/cache/data3/adaptor.mars.internal-1580846259.5847728-7489-20-9ce33902-cc7c-4c92-939f-06c48a160416.grib to /home/oliskir/src/anaconda3/envs/kadlu_env/lib/python3.6/site-packages/storage/ERA5_reanalysis_10m_v_component_of_wind_2015-01-09_06h.grb2 (2M)\n",
      "2020-02-05 13:19:21,085 INFO Download rate 1.3M/s  \n",
      "2020-02-05 13:19:29,725 INFO Sending request to https://cds.climate.copernicus.eu/api/v2/resources/reanalysis-era5-single-levels\n"
     ]
    },
    {
     "name": "stdout",
     "output_type": "stream",
     "text": [
      "processed and inserted 1038240 rows. 0 duplicate rows ignored\n",
      "\n",
      "downloading ERA5_reanalysis_10m_v_component_of_wind_2015-01-09_07h.grb2 from Copernicus Climate Data Store...\n"
     ]
    },
    {
     "name": "stderr",
     "output_type": "stream",
     "text": [
      "2020-02-05 13:19:30,152 INFO Request is completed\n",
      "2020-02-05 13:19:30,153 INFO Downloading http://136.156.133.39/cache-compute-0012/cache/data5/adaptor.mars.internal-1580846272.2161155-2324-15-98805ce1-5204-4a45-b41f-20c76b726983.grib to /home/oliskir/src/anaconda3/envs/kadlu_env/lib/python3.6/site-packages/storage/ERA5_reanalysis_10m_v_component_of_wind_2015-01-09_07h.grb2 (2M)\n",
      "2020-02-05 13:19:31,203 INFO Download rate 1.9M/s  \n",
      "2020-02-05 13:19:39,903 INFO Sending request to https://cds.climate.copernicus.eu/api/v2/resources/reanalysis-era5-single-levels\n"
     ]
    },
    {
     "name": "stdout",
     "output_type": "stream",
     "text": [
      "processed and inserted 1038240 rows. 0 duplicate rows ignored\n",
      "\n",
      "downloading ERA5_reanalysis_10m_v_component_of_wind_2015-01-09_08h.grb2 from Copernicus Climate Data Store...\n"
     ]
    },
    {
     "name": "stderr",
     "output_type": "stream",
     "text": [
      "2020-02-05 13:19:40,337 INFO Request is completed\n",
      "2020-02-05 13:19:40,339 INFO Downloading http://136.156.133.25/cache-compute-0008/cache/data3/adaptor.mars.internal-1580846284.5866797-6706-7-6ee52afe-c71e-4bef-9849-77cf5a9d0553.grib to /home/oliskir/src/anaconda3/envs/kadlu_env/lib/python3.6/site-packages/storage/ERA5_reanalysis_10m_v_component_of_wind_2015-01-09_08h.grb2 (2M)\n",
      "2020-02-05 13:19:41,368 INFO Download rate 1.9M/s  \n",
      "2020-02-05 13:19:50,238 INFO Sending request to https://cds.climate.copernicus.eu/api/v2/resources/reanalysis-era5-single-levels\n"
     ]
    },
    {
     "name": "stdout",
     "output_type": "stream",
     "text": [
      "processed and inserted 1038240 rows. 0 duplicate rows ignored\n",
      "\n",
      "downloading ERA5_reanalysis_10m_v_component_of_wind_2015-01-09_09h.grb2 from Copernicus Climate Data Store...\n"
     ]
    },
    {
     "name": "stderr",
     "output_type": "stream",
     "text": [
      "2020-02-05 13:19:50,705 INFO Request is completed\n",
      "2020-02-05 13:19:50,707 INFO Downloading http://136.156.133.25/cache-compute-0008/cache/data7/adaptor.mars.internal-1580846297.131817-22648-37-31574d40-d58f-4aa6-a2aa-2dd539be1513.grib to /home/oliskir/src/anaconda3/envs/kadlu_env/lib/python3.6/site-packages/storage/ERA5_reanalysis_10m_v_component_of_wind_2015-01-09_09h.grb2 (2M)\n",
      "2020-02-05 13:19:51,686 INFO Download rate 2M/s    \n",
      "2020-02-05 13:20:01,248 INFO Sending request to https://cds.climate.copernicus.eu/api/v2/resources/reanalysis-era5-single-levels\n"
     ]
    },
    {
     "name": "stdout",
     "output_type": "stream",
     "text": [
      "processed and inserted 1038240 rows. 0 duplicate rows ignored\n",
      "\n",
      "downloading ERA5_reanalysis_10m_v_component_of_wind_2015-01-09_10h.grb2 from Copernicus Climate Data Store...\n"
     ]
    },
    {
     "name": "stderr",
     "output_type": "stream",
     "text": [
      "2020-02-05 13:20:01,719 INFO Request is completed\n",
      "2020-02-05 13:20:01,721 INFO Downloading http://136.156.133.42/cache-compute-0014/cache/data4/adaptor.mars.internal-1580846309.8159957-14938-9-31f07c12-7599-441d-95a9-082c967e17df.grib to /home/oliskir/src/anaconda3/envs/kadlu_env/lib/python3.6/site-packages/storage/ERA5_reanalysis_10m_v_component_of_wind_2015-01-09_10h.grb2 (2M)\n",
      "2020-02-05 13:20:02,905 INFO Download rate 1.7M/s   \n",
      "2020-02-05 13:20:11,584 INFO Sending request to https://cds.climate.copernicus.eu/api/v2/resources/reanalysis-era5-single-levels\n"
     ]
    },
    {
     "name": "stdout",
     "output_type": "stream",
     "text": [
      "processed and inserted 1038240 rows. 0 duplicate rows ignored\n",
      "\n",
      "downloading ERA5_reanalysis_10m_v_component_of_wind_2015-01-09_11h.grb2 from Copernicus Climate Data Store...\n"
     ]
    },
    {
     "name": "stderr",
     "output_type": "stream",
     "text": [
      "2020-02-05 13:20:12,112 INFO Request is queued\n",
      "2020-02-05 13:20:13,219 INFO Request is completed\n",
      "2020-02-05 13:20:13,221 INFO Downloading http://136.156.132.201/cache-compute-0004/cache/data2/adaptor.mars.internal-1580923212.1552846-18007-27-51947d54-9eaf-495a-8e41-469e783744c5.grib to /home/oliskir/src/anaconda3/envs/kadlu_env/lib/python3.6/site-packages/storage/ERA5_reanalysis_10m_v_component_of_wind_2015-01-09_11h.grb2 (2M)\n",
      "2020-02-05 13:20:14,187 INFO Download rate 2.1M/s  \n",
      "2020-02-05 13:20:22,522 INFO Sending request to https://cds.climate.copernicus.eu/api/v2/resources/reanalysis-era5-single-levels\n"
     ]
    },
    {
     "name": "stdout",
     "output_type": "stream",
     "text": [
      "processed and inserted 1038240 rows. 0 duplicate rows ignored\n",
      "\n",
      "downloading ERA5_reanalysis_10m_v_component_of_wind_2015-01-09_12h.grb2 from Copernicus Climate Data Store...\n"
     ]
    },
    {
     "name": "stderr",
     "output_type": "stream",
     "text": [
      "2020-02-05 13:20:23,023 INFO Request is completed\n",
      "2020-02-05 13:20:23,024 INFO Downloading http://136.156.132.235/cache-compute-0006/cache/data3/adaptor.mars.internal-1580846333.2019424-7125-20-a0b40138-e325-4053-841a-116e14c612f7.grib to /home/oliskir/src/anaconda3/envs/kadlu_env/lib/python3.6/site-packages/storage/ERA5_reanalysis_10m_v_component_of_wind_2015-01-09_12h.grb2 (2M)\n",
      "2020-02-05 13:20:24,435 INFO Download rate 1.4M/s   \n"
     ]
    },
    {
     "name": "stdout",
     "output_type": "stream",
     "text": [
      "processed and inserted 1038240 rows. 0 duplicate rows ignored\n",
      "\n"
     ]
    },
    {
     "name": "stderr",
     "output_type": "stream",
     "text": [
      "Process Process-4:\n",
      "Traceback (most recent call last):\n",
      "  File \"/home/oliskir/src/anaconda3/envs/kadlu_env/lib/python3.6/multiprocessing/process.py\", line 258, in _bootstrap\n",
      "    self.run()\n",
      "  File \"/home/oliskir/src/anaconda3/envs/kadlu_env/lib/python3.6/multiprocessing/process.py\", line 93, in run\n",
      "    self._target(*self._args, **self._kwargs)\n",
      "Process Process-5:\n",
      "  File \"/home/oliskir/src/anaconda3/envs/kadlu_env/lib/python3.6/site-packages/kadlu/geospatial/ocean.py\", line 74, in serialize_interp\n",
      "    obj = interpfcn(**reshapefcn(loadfcn, **kwargs))\n",
      "Traceback (most recent call last):\n",
      "  File \"/home/oliskir/src/anaconda3/envs/kadlu_env/lib/python3.6/site-packages/kadlu/geospatial/data_sources/data_util.py\", line 190, in reshape_2D\n",
      "    cols = callback(**kwargs)\n",
      "  File \"/home/oliskir/src/anaconda3/envs/kadlu_env/lib/python3.6/site-packages/kadlu/geospatial/data_sources/era5.py\", line 176, in load_wavedirection\n",
      "    return load_era5('mean_wave_direction', kwargs)\n",
      "  File \"/home/oliskir/src/anaconda3/envs/kadlu_env/lib/python3.6/multiprocessing/process.py\", line 258, in _bootstrap\n",
      "    self.run()\n",
      "  File \"/home/oliskir/src/anaconda3/envs/kadlu_env/lib/python3.6/multiprocessing/process.py\", line 93, in run\n",
      "    self._target(*self._args, **self._kwargs)\n",
      "  File \"/home/oliskir/src/anaconda3/envs/kadlu_env/lib/python3.6/site-packages/kadlu/geospatial/ocean.py\", line 74, in serialize_interp\n",
      "    obj = interpfcn(**reshapefcn(loadfcn, **kwargs))\n",
      "  File \"/home/oliskir/src/anaconda3/envs/kadlu_env/lib/python3.6/site-packages/kadlu/geospatial/data_sources/data_util.py\", line 190, in reshape_2D\n",
      "    cols = callback(**kwargs)\n",
      "  File \"/home/oliskir/src/anaconda3/envs/kadlu_env/lib/python3.6/site-packages/kadlu/geospatial/data_sources/era5.py\", line 174, in load_windwaveswellheight\n",
      "    return load_era5('significant_height_of_combined_wind_waves_and_swell', kwargs)\n",
      "  File \"/home/oliskir/src/anaconda3/envs/kadlu_env/lib/python3.6/site-packages/kadlu/geospatial/data_sources/era5.py\", line 125, in load_era5\n",
      "    dt_2_epoch(kwargs['start'])[0], dt_2_epoch(kwargs['end'])[0]\n",
      "  File \"/home/oliskir/src/anaconda3/envs/kadlu_env/lib/python3.6/site-packages/kadlu/geospatial/data_sources/era5.py\", line 125, in load_era5\n",
      "    dt_2_epoch(kwargs['start'])[0], dt_2_epoch(kwargs['end'])[0]\n",
      "sqlite3.DatabaseError: database disk image is malformed\n",
      "sqlite3.DatabaseError: database disk image is malformed\n",
      "/home/oliskir/src/anaconda3/envs/kadlu_env/lib/python3.6/site-packages/kadlu/geospatial/data_sources/era5.py:130: UserWarning: no records found, returning empty arrays\n",
      "  warnings.warn('no records found, returning empty arrays')\n",
      "Process Process-7:\n",
      "Traceback (most recent call last):\n",
      "  File \"/home/oliskir/src/anaconda3/envs/kadlu_env/lib/python3.6/multiprocessing/process.py\", line 258, in _bootstrap\n",
      "    self.run()\n",
      "  File \"/home/oliskir/src/anaconda3/envs/kadlu_env/lib/python3.6/multiprocessing/process.py\", line 93, in run\n",
      "    self._target(*self._args, **self._kwargs)\n",
      "  File \"/home/oliskir/src/anaconda3/envs/kadlu_env/lib/python3.6/site-packages/kadlu/geospatial/ocean.py\", line 74, in serialize_interp\n",
      "    obj = interpfcn(**reshapefcn(loadfcn, **kwargs))\n",
      "  File \"/home/oliskir/src/anaconda3/envs/kadlu_env/lib/python3.6/site-packages/kadlu/geospatial/data_sources/data_util.py\", line 190, in reshape_2D\n",
      "    cols = callback(**kwargs)\n",
      "  File \"/home/oliskir/src/anaconda3/envs/kadlu_env/lib/python3.6/site-packages/kadlu/geospatial/data_sources/era5.py\", line 185, in load_wind\n",
      "    wind_v = load_era5('10m_v_component_of_wind', kwargs)\n",
      "  File \"/home/oliskir/src/anaconda3/envs/kadlu_env/lib/python3.6/site-packages/kadlu/geospatial/data_sources/era5.py\", line 125, in load_era5\n",
      "    dt_2_epoch(kwargs['start'])[0], dt_2_epoch(kwargs['end'])[0]\n",
      "sqlite3.DatabaseError: database disk image is malformed\n",
      "Process Process-3:\n",
      "Traceback (most recent call last):\n",
      "  File \"/home/oliskir/src/anaconda3/envs/kadlu_env/lib/python3.6/multiprocessing/process.py\", line 258, in _bootstrap\n",
      "    self.run()\n",
      "  File \"/home/oliskir/src/anaconda3/envs/kadlu_env/lib/python3.6/multiprocessing/process.py\", line 93, in run\n",
      "    self._target(*self._args, **self._kwargs)\n",
      "  File \"/home/oliskir/src/anaconda3/envs/kadlu_env/lib/python3.6/site-packages/kadlu/geospatial/ocean.py\", line 74, in serialize_interp\n",
      "    obj = interpfcn(**reshapefcn(loadfcn, **kwargs))\n",
      "  File \"/home/oliskir/src/anaconda3/envs/kadlu_env/lib/python3.6/site-packages/kadlu/geospatial/data_sources/data_util.py\", line 232, in reshape_3D\n",
      "    cols = callback(**kwargs)#.astype(np.float)\n",
      "  File \"/home/oliskir/src/anaconda3/envs/kadlu_env/lib/python3.6/site-packages/kadlu/geospatial/data_sources/hycom.py\", line 368, in load_salinity\n",
      "    def load_salinity (self, **kwargs): return load_hycom(self, 'salinity',   kwargs)\n",
      "  File \"/home/oliskir/src/anaconda3/envs/kadlu_env/lib/python3.6/site-packages/kadlu/geospatial/data_sources/hycom.py\", line 274, in load_hycom\n",
      "    rowdata = np.array(db.fetchall(), dtype=object).T\n",
      "sqlite3.DatabaseError: database disk image is malformed\n"
     ]
    },
    {
     "ename": "KeyError",
     "evalue": "'no data found for query'",
     "output_type": "error",
     "traceback": [
      "\u001b[0;31m------------------------------------------\u001b[0m",
      "\u001b[0;31mKeyError\u001b[0m Traceback (most recent call last)",
      "\u001b[0;32m<ipython-input-5-f64bbd4a3f55>\u001b[0m in \u001b[0;36m<module>\u001b[0;34m\u001b[0m\n\u001b[1;32m      1\u001b[0m \u001b[0mt1\u001b[0m \u001b[0;34m=\u001b[0m \u001b[0mdatetime\u001b[0m\u001b[0;34m.\u001b[0m\u001b[0mnow\u001b[0m\u001b[0;34m(\u001b[0m\u001b[0;34m)\u001b[0m\u001b[0;34m\u001b[0m\u001b[0m\n\u001b[0;32m----> 2\u001b[0;31m \u001b[0mo\u001b[0m \u001b[0;34m=\u001b[0m \u001b[0mOcean\u001b[0m\u001b[0;34m(\u001b[0m\u001b[0mcache\u001b[0m\u001b[0;34m=\u001b[0m\u001b[0;32mTrue\u001b[0m\u001b[0;34m,\u001b[0m \u001b[0mfetch\u001b[0m\u001b[0;34m=\u001b[0m\u001b[0;32mTrue\u001b[0m\u001b[0;34m,\u001b[0m \u001b[0;34m**\u001b[0m\u001b[0mkwargs\u001b[0m\u001b[0;34m)\u001b[0m\u001b[0;34m\u001b[0m\u001b[0m\n\u001b[0m\u001b[1;32m      3\u001b[0m \u001b[0;31m#o = Ocean(load_bathymetry=load_bathymetry, cache=True, fetch=True, **kwargs)\u001b[0m\u001b[0;34m\u001b[0m\u001b[0;34m\u001b[0m\u001b[0m\n\u001b[1;32m      4\u001b[0m \u001b[0mt2\u001b[0m \u001b[0;34m=\u001b[0m \u001b[0mdatetime\u001b[0m\u001b[0;34m.\u001b[0m\u001b[0mnow\u001b[0m\u001b[0;34m(\u001b[0m\u001b[0;34m)\u001b[0m\u001b[0;34m\u001b[0m\u001b[0m\n\u001b[1;32m      5\u001b[0m \u001b[0mprint\u001b[0m\u001b[0;34m(\u001b[0m\u001b[0;34mf'interpolations computed in {(t2-t1).seconds} seconds'\u001b[0m\u001b[0;34m)\u001b[0m\u001b[0;34m\u001b[0m\u001b[0m\n",
      "\u001b[0;32m~/src/anaconda3/envs/kadlu_env/lib/python3.6/site-packages/kadlu/geospatial/ocean.py\u001b[0m in \u001b[0;36m__init__\u001b[0;34m(self, cache, fetch, load_bathymetry, load_temp, load_salinity, load_wavedir, load_waveheight, load_waveperiod, load_windspeed, **kwargs)\u001b[0m\n\u001b[1;32m    212\u001b[0m         \u001b[0mself\u001b[0m\u001b[0;34m.\u001b[0m\u001b[0minterp_bathy\u001b[0m      \u001b[0;34m=\u001b[0m \u001b[0mdeserialize\u001b[0m\u001b[0;34m(\u001b[0m\u001b[0mkwargs\u001b[0m\u001b[0;34m,\u001b[0m \u001b[0mcache\u001b[0m\u001b[0;34m,\u001b[0m \u001b[0;34m'interp_bathy'\u001b[0m\u001b[0;34m)\u001b[0m\u001b[0;34m\u001b[0m\u001b[0m\n\u001b[1;32m    213\u001b[0m         \u001b[0mself\u001b[0m\u001b[0;34m.\u001b[0m\u001b[0minterp_temp\u001b[0m       \u001b[0;34m=\u001b[0m \u001b[0mdeserialize\u001b[0m\u001b[0;34m(\u001b[0m\u001b[0mkwargs\u001b[0m\u001b[0;34m,\u001b[0m \u001b[0mcache\u001b[0m\u001b[0;34m,\u001b[0m \u001b[0;34m'interp_temp'\u001b[0m\u001b[0;34m)\u001b[0m\u001b[0;34m\u001b[0m\u001b[0m\n\u001b[0;32m--> 214\u001b[0;31m         \u001b[0mself\u001b[0m\u001b[0;34m.\u001b[0m\u001b[0minterp_salinity\u001b[0m   \u001b[0;34m=\u001b[0m \u001b[0mdeserialize\u001b[0m\u001b[0;34m(\u001b[0m\u001b[0mkwargs\u001b[0m\u001b[0;34m,\u001b[0m \u001b[0mcache\u001b[0m\u001b[0;34m,\u001b[0m \u001b[0;34m'interp_salinity'\u001b[0m\u001b[0;34m)\u001b[0m\u001b[0;34m\u001b[0m\u001b[0m\n\u001b[0m\u001b[1;32m    215\u001b[0m         \u001b[0mself\u001b[0m\u001b[0;34m.\u001b[0m\u001b[0minterp_wavedir\u001b[0m    \u001b[0;34m=\u001b[0m \u001b[0mdeserialize\u001b[0m\u001b[0;34m(\u001b[0m\u001b[0mkwargs\u001b[0m\u001b[0;34m,\u001b[0m \u001b[0mcache\u001b[0m\u001b[0;34m,\u001b[0m \u001b[0;34m'interp_wavedir'\u001b[0m\u001b[0;34m)\u001b[0m\u001b[0;34m\u001b[0m\u001b[0m\n\u001b[1;32m    216\u001b[0m         \u001b[0mself\u001b[0m\u001b[0;34m.\u001b[0m\u001b[0minterp_waveheight\u001b[0m \u001b[0;34m=\u001b[0m \u001b[0mdeserialize\u001b[0m\u001b[0;34m(\u001b[0m\u001b[0mkwargs\u001b[0m\u001b[0;34m,\u001b[0m \u001b[0mcache\u001b[0m\u001b[0;34m,\u001b[0m \u001b[0;34m'interp_waveheight'\u001b[0m\u001b[0;34m)\u001b[0m\u001b[0;34m\u001b[0m\u001b[0m\n",
      "\u001b[0;32m~/src/anaconda3/envs/kadlu_env/lib/python3.6/site-packages/kadlu/geospatial/data_sources/data_util.py\u001b[0m in \u001b[0;36mdeserialize\u001b[0;34m(kwargs, persisting, seed)\u001b[0m\n\u001b[1;32m    136\u001b[0m     \u001b[0mdb\u001b[0m\u001b[0;34m.\u001b[0m\u001b[0mexecute\u001b[0m\u001b[0;34m(\u001b[0m\u001b[0;34m'SELECT * FROM bin WHERE hash == ? LIMIT 1'\u001b[0m\u001b[0;34m,\u001b[0m \u001b[0;34m(\u001b[0m\u001b[0mkey\u001b[0m\u001b[0;34m,\u001b[0m\u001b[0;34m)\u001b[0m\u001b[0;34m)\u001b[0m\u001b[0;34m\u001b[0m\u001b[0m\n\u001b[1;32m    137\u001b[0m     \u001b[0mres\u001b[0m \u001b[0;34m=\u001b[0m \u001b[0mdb\u001b[0m\u001b[0;34m.\u001b[0m\u001b[0mfetchone\u001b[0m\u001b[0;34m(\u001b[0m\u001b[0;34m)\u001b[0m\u001b[0;34m\u001b[0m\u001b[0m\n\u001b[0;32m--> 138\u001b[0;31m     \u001b[0;32mif\u001b[0m \u001b[0mres\u001b[0m \u001b[0;32mis\u001b[0m \u001b[0;32mNone\u001b[0m\u001b[0;34m:\u001b[0m \u001b[0;32mraise\u001b[0m \u001b[0mKeyError\u001b[0m\u001b[0;34m(\u001b[0m\u001b[0;34m'no data found for query'\u001b[0m\u001b[0;34m)\u001b[0m\u001b[0;34m\u001b[0m\u001b[0m\n\u001b[0m\u001b[1;32m    139\u001b[0m     \u001b[0;32mif\u001b[0m \u001b[0;32mnot\u001b[0m \u001b[0mpersisting\u001b[0m\u001b[0;34m:\u001b[0m\u001b[0;34m\u001b[0m\u001b[0m\n\u001b[1;32m    140\u001b[0m         \u001b[0mdb\u001b[0m\u001b[0;34m.\u001b[0m\u001b[0mexecute\u001b[0m\u001b[0;34m(\u001b[0m\u001b[0;34m'DELETE FROM bin WHERE hash == ?'\u001b[0m\u001b[0;34m,\u001b[0m \u001b[0;34m(\u001b[0m\u001b[0mkey\u001b[0m\u001b[0;34m,\u001b[0m\u001b[0;34m)\u001b[0m\u001b[0;34m)\u001b[0m\u001b[0;34m\u001b[0m\u001b[0m\n",
      "\u001b[0;31mKeyError\u001b[0m: 'no data found for query'"
     ]
    }
   ],
   "source": [
    "t1 = datetime.now()\n",
    "o = Ocean(cache=True, fetch=True, **kwargs)\n",
    "#o = Ocean(load_bathymetry=load_bathymetry, cache=True, fetch=True, **kwargs)\n",
    "t2 = datetime.now()\n",
    "print(f'interpolations computed in {(t2-t1).seconds} seconds')"
   ]
  },
  {
   "cell_type": "markdown",
   "metadata": {},
   "source": [
    "the same data can then be loaded from the cache quickly"
   ]
  },
  {
   "cell_type": "code",
   "execution_count": null,
   "metadata": {},
   "outputs": [],
   "source": [
    "t1 = datetime.now()\n",
    "o = Ocean(load_bathymetry=load_bathymetry, cache=True, **kwargs)\n",
    "t2 = datetime.now()\n",
    "print(f'interpolations loaded from cache in {(t2-t1).seconds}.{int((t2-t1).microseconds/1000)} seconds')"
   ]
  },
  {
   "cell_type": "markdown",
   "metadata": {},
   "source": [
    "#### loading bathymetry data using array of 'realistic' testing data"
   ]
  },
  {
   "cell_type": "code",
   "execution_count": null,
   "metadata": {},
   "outputs": [],
   "source": [
    "load_bathymetry = np.array((\n",
    "    np.random.randint(0, 500, 100) *-1,\n",
    "    np.array([lat for lat in range(4400, 4600, 2)]) / 100,\n",
    "    np.array([lon for lon in range(-6450, -6250, 2)]) / 100\n",
    "))\n",
    "load_bathymetry.shape"
   ]
  },
  {
   "cell_type": "code",
   "execution_count": null,
   "metadata": {},
   "outputs": [],
   "source": [
    "o = Ocean(load_bathymetry=load_bathymetry, cache=True, **kwargs)"
   ]
  },
  {
   "cell_type": "code",
   "execution_count": null,
   "metadata": {},
   "outputs": [],
   "source": [
    "o.temp(lat=[45], lon=[-63], z=[100])"
   ]
  },
  {
   "cell_type": "markdown",
   "metadata": {},
   "source": [
    "#### reshaping bathymetry data is the largest bottleneck in the pipeline"
   ]
  },
  {
   "cell_type": "code",
   "execution_count": null,
   "metadata": {},
   "outputs": [],
   "source": [
    "t1 = datetime.now()\n",
    "bathy_reshaped = reshape_2D(Chs().load_bathymetry, **kwargs)\n",
    "t2 = datetime.now()\n",
    "print(f'bathymetry data prepared in {(t2-t1).seconds} seconds')"
   ]
  },
  {
   "cell_type": "code",
   "execution_count": null,
   "metadata": {},
   "outputs": [],
   "source": []
  }
 ],
 "metadata": {
  "kernelspec": {
   "display_name": "Python 3",
   "language": "python",
   "name": "python3"
  },
  "language_info": {
   "codemirror_mode": {
    "name": "ipython",
    "version": 3
   },
   "file_extension": ".py",
   "mimetype": "text/x-python",
   "name": "python",
   "nbconvert_exporter": "python",
   "pygments_lexer": "ipython3",
   "version": "3.6.6"
  }
 },
 "nbformat": 4,
 "nbformat_minor": 2
}
