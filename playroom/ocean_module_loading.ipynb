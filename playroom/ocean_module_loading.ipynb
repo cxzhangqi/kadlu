{
 "cells": [
  {
   "cell_type": "code",
   "execution_count": 1,
   "metadata": {},
   "outputs": [],
   "source": [
    "from kadlu.geospatial.ocean import Ocean\n",
    "from datetime import datetime\n",
    "import numpy as np"
   ]
  },
  {
   "cell_type": "code",
   "execution_count": 2,
   "metadata": {},
   "outputs": [],
   "source": [
    "sources = dict(\n",
    "    load_bathymetry='chs', \n",
    "    load_temp='hycom',\n",
    "    load_salinity='hycom',\n",
    "    load_wavedir='era5',\n",
    "    load_waveheight='era5',\n",
    "    load_waveperiod='era5',\n",
    "    load_wavedirection='era5',\n",
    "    load_windspeed='era5'\n",
    ")\n",
    "bounds = dict(\n",
    "    start=datetime(2015, 1, 9), end=datetime(2015, 1, 9, 3),\n",
    "    south=44,                   west=-64.5, \n",
    "    north=46,                   east=-62.5, \n",
    "    top=0,                      bottom=5000\n",
    ")\n"
   ]
  },
  {
   "cell_type": "markdown",
   "metadata": {},
   "source": [
    "#### fetch and load the data into ocean module\n",
    "environmental data will be set to uniform null values unless explicitly stated"
   ]
  },
  {
   "cell_type": "code",
   "execution_count": 3,
   "metadata": {},
   "outputs": [],
   "source": [
    "null_ocean = Ocean(**bounds)"
   ]
  },
  {
   "cell_type": "code",
   "execution_count": 4,
   "metadata": {
    "scrolled": true
   },
   "outputs": [
    {
     "name": "stdout",
     "output_type": "stream",
     "text": [
      "CHS CA2_4300N06200W.tif bathymetry: file found, skipping download\n",
      "CHS CA2_4300N06300W.tif bathymetry: file found, skipping download\n",
      "CHS CA2_4300N06400W.tif bathymetry: file found, skipping download\n",
      "CHS CA2_4300N06500W.tif bathymetry: file found, skipping download\n",
      "CHS CA2_4300N06600W.tif bathymetry: file found, skipping download\n",
      "CHS CA2_4400N06200W.tif bathymetry: file found, skipping download\n",
      "CHS CA2_4400N06300W.tif bathymetry: file found, skipping download\n",
      "CHS CA2_4400N06400W.tif bathymetry: file found, skipping download\n",
      "CHS CA2_4400N06500W.tif bathymetry: file found, skipping download\n",
      "CHS CA2_4400N06600W.tif bathymetry: file found, skipping download\n",
      "CHS CA2_4500N06200W.tif bathymetry: file found, skipping download\n",
      "CHS CA2_4500N06300W.tif bathymetry: file found, skipping download\n",
      "CHS CA2_4500N06400W.tif bathymetry: file found, skipping download\n",
      "CHS CA2_4500N06500W.tif bathymetry: file found, skipping download\n",
      "CHS CA2_4500N06600W.tif bathymetry: file found, skipping download\n",
      "CHS CA2_4600N06200W.tif bathymetry: file found, skipping download\n",
      "CHS CA2_4600N06300W.tif bathymetry: file found, skipping download\n",
      "CHS CA2_4600N06400W.tif bathymetry: file found, skipping download\n",
      "CHS CA2_4600N06500W.tif bathymetry: file found, skipping download\n",
      "CHS CA2_4600N06600W.tif bathymetry: file found, skipping download\n",
      "CHS bathymetry: processing 20 files\n",
      "CHS CA2_4300N06200W.tif bathymetry: processed and inserted 0 rows. 987882 null values removed, 14119 duplicate rows ignored\n",
      "CHS CA2_4300N06300W.tif bathymetry: processed and inserted 0 rows. 982446 null values removed, 19555 duplicate rows ignored\n",
      "CHS CA2_4300N06400W.tif bathymetry: processed and inserted 0 rows. 987844 null values removed, 14157 duplicate rows ignored\n",
      "CHS CA2_4300N06500W.tif bathymetry: processed and inserted 0 rows. 925018 null values removed, 76983 duplicate rows ignored\n",
      "CHS CA2_4300N06600W.tif bathymetry: processed and inserted 0 rows. 770785 null values removed, 231216 duplicate rows ignored\n",
      "CHS CA2_4400N06200W.tif bathymetry: processed and inserted 0 rows. 957473 null values removed, 44528 duplicate rows ignored\n",
      "CHS CA2_4400N06300W.tif bathymetry: processed and inserted 0 rows. 896834 null values removed, 105167 duplicate rows ignored\n",
      "CHS CA2_4400N06400W.tif bathymetry: processed and inserted 0 rows. 793492 null values removed, 208509 duplicate rows ignored\n",
      "CHS CA2_4400N06500W.tif bathymetry: processed and inserted 0 rows. 887161 null values removed, 114840 duplicate rows ignored\n",
      "CHS CA2_4400N06600W.tif bathymetry: processed and inserted 0 rows. 852363 null values removed, 149638 duplicate rows ignored\n",
      "CHS CA2_4500N06200W.tif bathymetry: processed and inserted 0 rows. 804220 null values removed, 197781 duplicate rows ignored\n",
      "CHS CA2_4500N06300W.tif bathymetry: processed and inserted 0 rows. 881343 null values removed, 120658 duplicate rows ignored\n",
      "CHS CA2_4500N06400W.tif bathymetry: processed and inserted 0 rows. 933129 null values removed, 68872 duplicate rows ignored\n",
      "CHS CA2_4500N06500W.tif bathymetry: processed and inserted 0 rows. 859257 null values removed, 142744 duplicate rows ignored\n",
      "CHS CA2_4500N06600W.tif bathymetry: processed and inserted 0 rows. 656700 null values removed, 345301 duplicate rows ignored\n",
      "CHS CA2_4600N06200W.tif bathymetry: processed and inserted 0 rows. 938631 null values removed, 63370 duplicate rows ignored\n",
      "CHS CA2_4600N06300W.tif bathymetry: processed and inserted 0 rows. 901841 null values removed, 100160 duplicate rows ignored\n",
      "CHS CA2_4600N06400W.tif bathymetry: processed and inserted 0 rows. 844720 null values removed, 157281 duplicate rows ignored\n",
      "CHS CA2_4600N06500W.tif bathymetry: processed and inserted 0 rows. 947396 null values removed, 54605 duplicate rows ignored\n",
      "CHS CA2_4600N06600W.tif bathymetry: processed and inserted 0 rows. 1001980 null values removed, 21 duplicate rows ignored\n",
      "HYCOM 2015-01-09 water_temp: downloading 620160 values...\n",
      "HYCOM 2015-01-09 water_temp: downloaded 644 Kb in 15.199s. parsed and inserted 86552 rows in 1.718s. 533608 null values removed, 0 duplicate rows ignored\n",
      "HYCOM 2015-01-09 salinity: downloading 620160 values...\n",
      "HYCOM 2015-01-09 salinity: downloaded 632 Kb in 13.340s. parsed and inserted 86552 rows in 1.810s. 533608 null values removed, 0 duplicate rows ignored\n",
      "ERA5 2015-01-09 mean_wave_direction: processed and inserted 414 rows. 0 duplicates ignored\n",
      "ERA5 2015-01-09 significant_height_of_combined_wind_waves_and_swell: processed and inserted 414 rows. 0 duplicates ignored\n",
      "ERA5 2015-01-09 mean_wave_period: processed and inserted 414 rows. 0 duplicates ignored\n",
      "ERA5 2015-01-09 10m_u_component_of_wind: processed and inserted 2691 rows. 0 duplicates ignored\n",
      "ERA5 2015-01-09 10m_v_component_of_wind: processed and inserted 2691 rows. 0 duplicates ignored\n",
      "interpolations fetched and computed in 88.708 seconds\n"
     ]
    }
   ],
   "source": [
    "t1 = datetime.now()\n",
    "full_ocean = Ocean(**sources, **bounds)  # use dictionary as keyword args\n",
    "t2 = datetime.now()\n",
    "print(f'interpolations fetched and computed in {(t2-t1).seconds}.{str((t2-t1).microseconds)[0:3]} seconds')"
   ]
  },
  {
   "cell_type": "code",
   "execution_count": 3,
   "metadata": {},
   "outputs": [
    {
     "name": "stdout",
     "output_type": "stream",
     "text": [
      "FETCH_PROCESS DEBUG MSG: fetch function returned false, skipping fetch request\n",
      "debug: {'load_wavedirection': 'era5', 'start': datetime.datetime(2015, 1, 9, 0, 0), 'end': datetime.datetime(2015, 1, 10, 0, 0), 'south': 44.0, 'west': -65.0, 'north': 46.0, 'east': -62.0, 'top': 0, 'bottom': 5000}\n",
      "interpolations computed in 1.688 seconds\n"
     ]
    }
   ],
   "source": [
    "t1 = datetime.now()\n",
    "full_ocean = Ocean(**sources, **bounds)  # use dictionary as keyword args\n",
    "t2 = datetime.now()\n",
    "print(f'interpolations computed in {(t2-t1).seconds}.{str((t2-t1).microseconds)[0:3]} seconds')"
   ]
  },
  {
   "cell_type": "markdown",
   "metadata": {},
   "source": [
    "#### loading data using uniform wave values (passed as float or int)"
   ]
  },
  {
   "cell_type": "code",
   "execution_count": null,
   "metadata": {},
   "outputs": [],
   "source": [
    "o = Ocean(load_wavedir=180, load_waveheight=10, load_waveperiod=5, **bounds)"
   ]
  },
  {
   "cell_type": "markdown",
   "metadata": {},
   "source": [
    "#### loading bathymetry from an array"
   ]
  },
  {
   "cell_type": "code",
   "execution_count": null,
   "metadata": {},
   "outputs": [],
   "source": [
    "bathy_arr = np.array((\n",
    "    np.random.randint(0, 500, 100) *-1,\n",
    "    np.linspace(bounds['south'], bounds['north']),\n",
    "    np.linspace(bounds['west'],  bounds['east'])\n",
    "))\n",
    "o = Ocean(load_bathymetry=bathy_arr, **bounds)"
   ]
  },
  {
   "cell_type": "markdown",
   "metadata": {},
   "source": [
    "#### loading bathymetry via fetch and load module with automatic fetching\n",
    "passed as a string."
   ]
  },
  {
   "cell_type": "code",
   "execution_count": null,
   "metadata": {},
   "outputs": [],
   "source": [
    "o = Ocean(load_bathymetry='chs', **bounds)"
   ]
  },
  {
   "cell_type": "code",
   "execution_count": null,
   "metadata": {},
   "outputs": [],
   "source": []
  }
 ],
 "metadata": {
  "kernelspec": {
   "display_name": "Python 3",
   "language": "python",
   "name": "python3"
  },
  "language_info": {
   "codemirror_mode": {
    "name": "ipython",
    "version": 3
   },
   "file_extension": ".py",
   "mimetype": "text/x-python",
   "name": "python",
   "nbconvert_exporter": "python",
   "pygments_lexer": "ipython3",
   "version": "3.8.1"
  }
 },
 "nbformat": 4,
 "nbformat_minor": 2
}
