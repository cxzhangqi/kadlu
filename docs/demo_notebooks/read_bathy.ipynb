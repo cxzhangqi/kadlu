{
 "cells": [
  {
   "cell_type": "markdown",
   "metadata": {},
   "source": [
    "# Tutorial 1: Extract bathymetry data from a matlab file\n",
    "This tutorial shows how to extract bathymetry data from a matlab file (*.mat)"
   ]
  },
  {
   "cell_type": "markdown",
   "metadata": {},
   "source": [
    "First, we creater a 'reader' for the data file. In doind so, we must specify the file's path, and the names of the variables containing the latitude and longitude coordinates and the bathymetry values.  "
   ]
  },
  {
   "cell_type": "code",
   "execution_count": 1,
   "metadata": {},
   "outputs": [],
   "source": [
    "from kadlu.bathy_reader import BathyReader\n",
    "\n",
    "filename = 'assets/BathyData_Mariana_500kmx500km.mat'\n",
    "\n",
    "reader = BathyReader(path=filename, lat_name='latgrat', lon_name='longrat', bathy_name='mat')"
   ]
  },
  {
   "cell_type": "markdown",
   "metadata": {},
   "source": [
    "Now, we can extract all the data, like this"
   ]
  },
  {
   "cell_type": "code",
   "execution_count": 2,
   "metadata": {},
   "outputs": [],
   "source": [
    "lat, lon, bathy = reader.read()"
   ]
  },
  {
   "cell_type": "markdown",
   "metadata": {},
   "source": [
    "lat, lon, and bathy are all numpy arrays. We can therefore use standard numpy methods to obtain, for example, min and max values for each,"
   ]
  },
  {
   "cell_type": "code",
   "execution_count": 3,
   "metadata": {},
   "outputs": [
    {
     "name": "stdout",
     "output_type": "stream",
     "text": [
      "Latitudes: 8.68-13.65 degrees north\n",
      "Longitudes: 139.72-144.52 degress east\n",
      "Deepest point: 10747.0 meters below sea surface\n"
     ]
    }
   ],
   "source": [
    "import numpy as np\n",
    "\n",
    "# obtain min and max values\n",
    "lat_min = np.min(lat)\n",
    "lat_max = np.max(lat)\n",
    "lon_min = np.min(lon)\n",
    "lon_max = np.max(lon)\n",
    "bathy_min = np.min(bathy)\n",
    "\n",
    "# print in an easily readable format\n",
    "print('Latitudes: {0:.2f}-{1:.2f} degrees north'.format(lat_min, lat_max))\n",
    "print('Longitudes: {0:.2f}-{1:.2f} degress east'.format(lon_min, lon_max))\n",
    "print('Deepest point: {0:.1f} meters below sea surface'.format(-bathy_min))"
   ]
  },
  {
   "cell_type": "markdown",
   "metadata": {},
   "source": [
    "We can all extract only a subset of the data, within a rectangular region bounded by geographical coordinates to the north-east and south-west. For example, we may want to only extract data between 10.0-11.0 degrees N and 141.0-142.0 degrees E,"
   ]
  },
  {
   "cell_type": "code",
   "execution_count": 4,
   "metadata": {},
   "outputs": [
    {
     "name": "stdout",
     "output_type": "stream",
     "text": [
      "Deepest point: 8874.0 meters below sea surface\n"
     ]
    }
   ],
   "source": [
    "from kadlu.bathy_reader import LatLon\n",
    "\n",
    "# specify rectangular bounding box\n",
    "SW = LatLon(10.0, 141.0)\n",
    "NE = LatLon(11.0, 142.0)\n",
    "\n",
    "# read data for selected region\n",
    "lat, lon, bathy = reader.read(SW, NE)\n",
    "\n",
    "# print deepest point for selected region\n",
    "print('Deepest point: {0:.1f} meters below sea surface'.format(-np.min(bathy)))"
   ]
  }
 ],
 "metadata": {
  "kernelspec": {
   "display_name": "Python 3",
   "language": "python",
   "name": "python3"
  },
  "language_info": {
   "codemirror_mode": {
    "name": "ipython",
    "version": 3
   },
   "file_extension": ".py",
   "mimetype": "text/x-python",
   "name": "python",
   "nbconvert_exporter": "python",
   "pygments_lexer": "ipython3",
   "version": "3.6.7"
  }
 },
 "nbformat": 4,
 "nbformat_minor": 2
}
