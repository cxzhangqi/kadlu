{
 "cells": [
  {
   "cell_type": "code",
   "execution_count": 51,
   "metadata": {},
   "outputs": [],
   "source": [
    "import numpy as np\n",
    "from datetime import datetime\n",
    "from kadlu.geospatial.data_sources import chs\n",
    "from kadlu.geospatial.data_sources import era5\n",
    "from kadlu.geospatial.data_sources import hycom\n",
    "from kadlu.geospatial.data_sources import wwiii\n",
    "from kadlu.geospatial.data_sources.fetch_util import database_cfg\n",
    "from kadlu.geospatial.data_sources.fetch_util import dt_2_epoch\n",
    "\n",
    "#from kadlu.geospatial.data_sources import fetch_util\n",
    "\n",
    "conn, db = database_cfg()"
   ]
  },
  {
   "cell_type": "code",
   "execution_count": null,
   "metadata": {},
   "outputs": [],
   "source": [
    "from importlib import reload\n",
    "reload(wwiii)\n",
    "reload(chs)"
   ]
  },
  {
   "cell_type": "markdown",
   "metadata": {},
   "source": [
    "## Parameter Selection "
   ]
  },
  {
   "cell_type": "code",
   "execution_count": 52,
   "metadata": {},
   "outputs": [],
   "source": [
    "temp_salinity_source = hycom.Hycom()\n",
    "bathysource = chs.Chs()\n",
    "wavesource1 = era5.Era5()\n",
    "wavesource2 = wwiii.Wwiii()"
   ]
  },
  {
   "cell_type": "code",
   "execution_count": 53,
   "metadata": {},
   "outputs": [],
   "source": [
    "# parameter selection\n",
    "start = datetime(2015, 3, 9, 13, 25, 0)\n",
    "end   = datetime(2015, 3, 9, 19, 0, 0)\n",
    "top, bottom = 0, 0 \n",
    "\n",
    "# gulf st lawrence\n",
    "south, west = 44.013, -70.429\n",
    "north, east = 51.823, -55.977\n",
    "\n",
    "# no wave data for gulf st lawrence :( \n",
    "\n",
    "# hudsons bay\n",
    "#south, west = 51.388, -95.321\n",
    "#north, east = 64.068, -75.703\n",
    "# hudsons bay subset\n",
    "#north, east = 55.039, -78.740"
   ]
  },
  {
   "cell_type": "markdown",
   "metadata": {},
   "source": [
    "## Fetching"
   ]
  },
  {
   "cell_type": "code",
   "execution_count": null,
   "metadata": {},
   "outputs": [],
   "source": [
    "temp_salinity_source.fetch_salinity(south=south, north=north, west=west, east=east, \n",
    "                      start=start, end=end, top=top, bottom=bottom)\n",
    "\n",
    "temp_salinity_source.fetch_temp(south=south, north=north, west=west, east=east, \n",
    "                      start=start, end=end, top=top, bottom=bottom)"
   ]
  },
  {
   "cell_type": "code",
   "execution_count": null,
   "metadata": {
    "scrolled": true
   },
   "outputs": [
    {
     "name": "stdout",
     "output_type": "stream",
     "text": [
      "CA2_4500N06300W.tif: downloading 21/96 from CHS NONNA-100...\r"
     ]
    }
   ],
   "source": [
    "bathysource.fetch_bathymetry(south=south, north=north, west=west, east=east)"
   ]
  },
  {
   "cell_type": "code",
   "execution_count": null,
   "metadata": {
    "scrolled": false
   },
   "outputs": [],
   "source": [
    "wavesource1.fetch_windwaveswellheight(south=south, north=north, \n",
    "                                      west=west, east=east, \n",
    "                                      start=start, end=end)"
   ]
  },
  {
   "cell_type": "code",
   "execution_count": 54,
   "metadata": {
    "scrolled": true
   },
   "outputs": [
    {
     "name": "stdout",
     "output_type": "stream",
     "text": [
      "downloading multi_1.at_4m.hs.201503.grb2 from NOAA WaveWatch III...\n",
      "preparing multi_1.at_4m.hs.201503.grb2 for the database...\n",
      "formatting and inserting... from 2015-04-01 00:00:00...\n",
      "processed and inserted 0 rows. 64723764 null values removed, 5460870 duplicate rows ignored\n"
     ]
    }
   ],
   "source": [
    "wavesource2.fetch_windwaveheight(south=south, north=north, \n",
    "                                 west=west, east=east, \n",
    "                                 start=start, end=end)"
   ]
  },
  {
   "cell_type": "markdown",
   "metadata": {},
   "source": [
    "## Loading (example)"
   ]
  },
  {
   "cell_type": "code",
   "execution_count": null,
   "metadata": {},
   "outputs": [],
   "source": [
    "temp, tlat, tlon, ttime, tdep = \\\n",
    "temp_salinity_source.load_temp(south=south, north=north, west=west, east=east, \n",
    "                               start=start, end=end, top=top, bottom=bottom)\n",
    "\n",
    "salinity, slat, slon, stime, sdep = \\\n",
    "temp_salinity_source.load_temp(south=south, north=north, west=west, east=east, \n",
    "                               start=start, end=end, top=top, bottom=bottom)"
   ]
  },
  {
   "cell_type": "code",
   "execution_count": null,
   "metadata": {},
   "outputs": [],
   "source": [
    "bathy, blat, blon = bathysource.load_bathymetry(south=south, north=north, west=west, east=east)"
   ]
  },
  {
   "cell_type": "code",
   "execution_count": null,
   "metadata": {},
   "outputs": [],
   "source": [
    "wave, wlat, wlon, wtime = \\\n",
    "wavesource1.load_windwaveswellheight(south=south, north=north, \n",
    "                                     west=west, east=east, \n",
    "                                     start=start, end=end)"
   ]
  },
  {
   "cell_type": "code",
   "execution_count": null,
   "metadata": {},
   "outputs": [],
   "source": [
    "wave, wlat, wlon, wtime = \\\n",
    "wavesource2.load_windwaveheight(south=south, north=north, \n",
    "                                west=west, east=east, \n",
    "                                start=start, end=end)"
   ]
  },
  {
   "cell_type": "markdown",
   "metadata": {},
   "source": [
    "## SoundSpeed -- loading data"
   ]
  },
  {
   "cell_type": "code",
   "execution_count": null,
   "metadata": {},
   "outputs": [],
   "source": [
    "from kadlu.geospatial.ocean import Ocean\n",
    "from kadlu.sound.sound_speed import SoundSpeed \n",
    "from kadlu.geospatial.data_sources.fetch_util import storage_cfg"
   ]
  },
  {
   "cell_type": "code",
   "execution_count": null,
   "metadata": {},
   "outputs": [],
   "source": [
    "step = 1 # 1 deg -> approx. 100km at equator \n",
    "\n",
    "# step through each 1x1 degree box in selected area \n",
    "for ymin in np.arange(south, north, step):\n",
    "    for xmin in np.arange(west, east, step):\n",
    "        xmax = xmin + step\n",
    "        ymax = ymin + step\n",
    "        \n",
    "        # load bathymetry\n",
    "        try:\n",
    "            bathy, blat, blon = bathysource.load_bathymetry(south=ymin, north=ymax, west=xmin, east=xmax)\n",
    "        except:\n",
    "            print(f\"no bathy data for {(ymin, xmin)}, skipping\")\n",
    "            continue\n",
    "        \n",
    "        \n",
    "        # load salinity and temp from hycom\n",
    "        temp, tlat, tlon, ttime, tdep = \\\n",
    "        temp_salinity_source.load_temp(south=ymin, north=ymax, west=xmin, east=xmax, \n",
    "                                       start=start, end=end, top=top, bottom=bottom)\n",
    "\n",
    "        salinity, slat, slon, stime, sdep = \\\n",
    "        temp_salinity_source.load_temp(south=ymin, north=ymax, west=xmin, east=xmax, \n",
    "                                       start=start, end=end, top=top, bottom=bottom)\n",
    "        \n",
    "        # need more wave data\n",
    "        \"\"\"\n",
    "        try:\n",
    "            wave, wlat, wlon, wtime = \\\n",
    "            wavesource2.load_windwaveheight(south=ymin, north=ymax, \n",
    "                                                 west=xmin, east=xmax, \n",
    "                                                 start=start, end=end)\n",
    "        except Exception as e :\n",
    "            print(f\"no wave data for {(ymin, xmin)}\", end='\\t')\n",
    "            print(e)\n",
    "            continue\n",
    "        \"\"\"\n",
    "        \n",
    "        # instead, just using 5 as a constant wave height for now\n",
    "        wave = np.array([5 for x in temp])\n",
    "        \n",
    "        oceantest = Ocean(salinity=salinity, temp=temp, bathy=bathy, wave=wave, wave_var='comb. wind wave swell height')\n",
    "        oceantest.set_origin(lat_ref=tlat, lon_ref=tlon)\n",
    "        \n",
    "        sndspd = SoundSpeed(oceantest)._sound_speed(tlat, tlon, tdep, temp, salinity)\n",
    "        \n",
    "        print(sndspd, ymin, xmin)\n"
   ]
  }
 ],
 "metadata": {
  "kernelspec": {
   "display_name": "Python 3",
   "language": "python",
   "name": "python3"
  },
  "language_info": {
   "codemirror_mode": {
    "name": "ipython",
    "version": 3
   },
   "file_extension": ".py",
   "mimetype": "text/x-python",
   "name": "python",
   "nbconvert_exporter": "python",
   "pygments_lexer": "ipython3",
   "version": "3.6.6"
  }
 },
 "nbformat": 4,
 "nbformat_minor": 2
}
