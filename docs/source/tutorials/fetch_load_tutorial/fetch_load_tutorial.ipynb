{
 "cells": [
  {
   "cell_type": "markdown",
   "metadata": {},
   "source": [
    "# Fetching and Loading Environmental Data"
   ]
  },
  {
   "cell_type": "markdown",
   "metadata": {},
   "source": [
    "In this tutorial, we will use Kadlu to retrieve environmental data from online sources and load the data into numpy arrays for further processing."
   ]
  },
  {
   "cell_type": "markdown",
   "metadata": {},
   "source": [
    "The first step is to import kadlu. Note that the [datetime](https://docs.python.org/3/library/datetime.html) package is used to specify dates and times"
   ]
  },
  {
   "cell_type": "code",
   "execution_count": 3,
   "metadata": {},
   "outputs": [],
   "source": [
    "from datetime import datetime\n",
    "\n",
    "import kadlu"
   ]
  },
  {
   "cell_type": "markdown",
   "metadata": {},
   "source": [
    "### Quick start guide"
   ]
  },
  {
   "cell_type": "markdown",
   "metadata": {},
   "source": [
    "With Kadlu, environmental data can be downloaded and stored in one step. Here, we demonstrate how to obtain modeled surface salinity data from HYCOM for the geographic region $47^{\\circ}$N to $49^{\\circ}$N and $-63^{\\circ}$W to $-61^{\\circ}$W for the first week of January 2013.     "
   ]
  },
  {
   "cell_type": "code",
   "execution_count": 4,
   "metadata": {
    "scrolled": true
   },
   "outputs": [],
   "source": [
    "# fetch and load salinity (g/kg salt in water)\n",
    "salinity, lat, lon, epoch, depth = kadlu.load(\n",
    "        source='hycom', var='salinity',\n",
    "        south=47, west=-63, \n",
    "        north=49, east=-61, \n",
    "        bottom=0, top=0,\n",
    "        start=datetime(2013, 1, 1), end=datetime(2013, 1, 7))"
   ]
  },
  {
   "cell_type": "markdown",
   "metadata": {},
   "source": [
    "Note how the arguments `bottom` and `top` are both set to `0`, thereby selecting only data at a depth of 0 m, i.e., at the surface. "
   ]
  },
  {
   "cell_type": "markdown",
   "metadata": {},
   "source": [
    "The `load` function produced flattened numpy arrays, the length of which corresponds to the number of data points in the selected geographic region, depth range, and temporal window. "
   ]
  },
  {
   "cell_type": "code",
   "execution_count": 5,
   "metadata": {
    "scrolled": true
   },
   "outputs": [
    {
     "name": "stdout",
     "output_type": "stream",
     "text": [
      "[47. 47. 47. 47. 47. 47. 47. 47. 47. 47.]\n",
      "[-62.96002197 -62.88000488 -62.79998779 -62.7199707  -62.64001465\n",
      " -62.55999756 -62.47998047 -62.40002441 -62.32000732 -62.23999023]\n",
      "[0. 0. 0. 0. 0. 0. 0. 0. 0. 0.]\n",
      "[113991. 113991. 113991. 113991. 113991. 113991. 113991. 113991. 113991.\n",
      " 113991.]\n",
      "[30.791 30.886 30.92  30.903 30.874 30.853 30.817 30.747 30.714 30.636]\n"
     ]
    }
   ],
   "source": [
    "# print the first 10 values of each array\n",
    "print(lat[0:10])      # latitude (degrees north)\n",
    "print(lon[0:10])      # longitude (degrees west)\n",
    "print(depth[0:10])    # depth (meters)\n",
    "print(epoch[0:10])    # time (hours since 00:00:00 on 1 January 2000)\n",
    "print(salinity[0:10]) # ocean salt content (g/kg)"
   ]
  },
  {
   "cell_type": "markdown",
   "metadata": {},
   "source": [
    "We can use the `epoch_2_dt` function to convert the time values into a more human-friendly date-time format, "
   ]
  },
  {
   "cell_type": "code",
   "execution_count": 6,
   "metadata": {},
   "outputs": [
    {
     "name": "stdout",
     "output_type": "stream",
     "text": [
      "2013-01-01 15:00:00\n"
     ]
    }
   ],
   "source": [
    "print(kadlu.epoch_2_dt(epoch[0]))"
   ]
  },
  {
   "cell_type": "markdown",
   "metadata": {},
   "source": [
    "### Data sources\n",
    "Kadlu includes functionality to load data from a variety of different data sources. For a high level overview, print the source_map:"
   ]
  },
  {
   "cell_type": "code",
   "execution_count": 7,
   "metadata": {},
   "outputs": [
    {
     "name": "stdout",
     "output_type": "stream",
     "text": [
      "\n",
      "    CHS   (Canadian Hydrography Service)\n",
      "          load_bathymetry:          bathymetric data in Canada's waterways. metres, variable resolution \n",
      "\n",
      "    GEBCO (General Bathymetric Chart of the Oceans)\n",
      "          load_bathymetry:          global bathymetric and topographic data. metres below sea level \n",
      "\n",
      "    ERA5  (Global environmental dataset from Copernicus Climate Data Store)\n",
      "          load_windwaveswellheight: combined height of wind, waves, and swell. metres\n",
      "          load_wavedirection:       mean wave direction, degrees\n",
      "          load_waveperiod:          mean wave period, seconds\n",
      "          load_wind_uv:             wind speed computed as sqrt(u^2 + v^2) / 2, where u, v are direction vectors\n",
      "          load_wind_u:              wind speed coordinate U-vector, m/s\n",
      "          load_wind_v:              wind speed coordinate V-vector, m/s \n",
      "\n",
      "    HYCOM (Hybrid Coordinate Ocean Model)\n",
      "          load_salinity:            g/kg salt in water\n",
      "          load_temp:                degrees celsius\n",
      "          load_water_uv:            ocean current computed as sqrt(u^2 + v^2) / 2, where u, v are direction vectors\n",
      "          load_water_u:             ocean current coordinate U-vector, m/s\n",
      "          load_water_v:             ocean current coordinate V-vector, m/s \n",
      "\n",
      "    WWIII (WaveWatch Ocean Model Gen 3)\n",
      "          load_wavedirection:       primary wave direction, degrees\n",
      "          load_waveperiod:          primary mean wave period, seconds\n",
      "          load_windwaveheight:      combined height of wind and waves, metres\n",
      "          load_wind_uv:             wind speed computed as sqrt(u^2 + v^2) / 2, where u, v are direction vectors\n",
      "          load_wind_u:              wind speed coordinate U-vector, m/s\n",
      "          load_wind_v:              wind speed coordinate V-vector, m/s\n",
      "    \n"
     ]
    }
   ],
   "source": [
    "print(kadlu.source_map)"
   ]
  },
  {
   "cell_type": "markdown",
   "metadata": {},
   "source": [
    "for more information on a specific source, print the class:"
   ]
  },
  {
   "cell_type": "code",
   "execution_count": 11,
   "metadata": {
    "scrolled": false
   },
   "outputs": [
    {
     "name": "stdout",
     "output_type": "stream",
     "text": [
      "Native hycom .[ab] data converted to NetCDF at the Naval\n",
      "Research Laboratory, interpolated to 0.08° grid between\n",
      "40°S-40°N (0.04° poleward) containing 40 z-levels.\n",
      "Availability: 1994 to 2015\n",
      "\thttps://www.hycom.org/data/glbv0pt08\n",
      "\n",
      "function input arguments:\n",
      "\t(south, north, west, east, start, end, top, bottom)\n",
      "\n",
      "class functions:\n",
      "\tload_salinity\n",
      "\tload_temp\n",
      "\tload_water_u\n",
      "\tload_water_uv\n",
      "\tload_water_v\n",
      "\n"
     ]
    }
   ],
   "source": [
    "print(kadlu.hycom())"
   ]
  },
  {
   "cell_type": "markdown",
   "metadata": {},
   "source": [
    "keyword arguments can be passed as a dictionary when using the same load arguments for multiple datatypes"
   ]
  },
  {
   "cell_type": "code",
   "execution_count": 13,
   "metadata": {
    "scrolled": true
   },
   "outputs": [
    {
     "name": "stderr",
     "output_type": "stream",
     "text": [
      "2020-06-17 03:01:05  loading elevation from The GEBCO_2020 Grid - a continuous terrain model for oceans and land at 15 arc-second intervals\n"
     ]
    }
   ],
   "source": [
    "kwargs = dict(\n",
    "        south=47, west=-63, \n",
    "        north=49, east=-61, \n",
    "        bottom=0, top=0,\n",
    "        start=datetime(2013, 1, 1), end=datetime(2013, 1, 7))\n",
    "\n",
    "bathy1, lat1, lon1 = kadlu.load(source='gebco', var='bathymetry', **kwargs)\n",
    "\n",
    "waveheight2, lat2, lon2, epoch2 = kadlu.load(source='era5', var='waveheight', **kwargs)"
   ]
  },
  {
   "cell_type": "markdown",
   "metadata": {},
   "source": [
    "### Manual loading from netcdf and geotiff \n",
    "Kadlu can load from arbitrary netcdf- and geotiff-formatted data using the functions 'load_netcdf_2D' and 'load_geotiff_2D'. In the case of netcdf databases, the data must contain three variables, two of which are 'lat' and 'lon'. Kadlu will make an assumption that the X and Y axis are specified in coordinate degrees. "
   ]
  },
  {
   "cell_type": "code",
   "execution_count": 14,
   "metadata": {},
   "outputs": [
    {
     "name": "stderr",
     "output_type": "stream",
     "text": [
      "2020-06-17 03:02:08  loading elevation from The GEBCO_2020 Grid - a continuous terrain model for oceans and land at 15 arc-second intervals\n"
     ]
    }
   ],
   "source": [
    "kwargs = dict(south=47, west=-63, north=49, east=-61)\n",
    "\n",
    "bathy3, lat3, lon3 = kadlu.load_netcdf_2D(filename='/storage/gebco_bathy.nc', **kwargs)"
   ]
  },
  {
   "cell_type": "markdown",
   "metadata": {},
   "source": [
    "When loading from an arbitrary netcdf database, data transformation must be done by the user. For example, when loading GEBCO netcdf data directly from the file instead of the gebco().load_bathymetry function, bathymetric values will be returned as a measure of elevation (equal to depth * -1)"
   ]
  },
  {
   "cell_type": "code",
   "execution_count": 15,
   "metadata": {},
   "outputs": [
    {
     "data": {
      "text/plain": [
       "array([[-4339, -4339, -4340, ..., -4902, -4902, -4901],\n",
       "       [-4345, -4343, -4343, ..., -4905, -4903, -4903],\n",
       "       [-4345, -4349, -4349, ..., -4905, -4905, -4906],\n",
       "       ...,\n",
       "       [-5253, -5253, -5254, ..., -5252, -5252, -5252],\n",
       "       [-5248, -5250, -5250, ..., -5252, -5252, -5252],\n",
       "       [-5248, -5240, -5246, ..., -5254, -5253, -5253]], dtype=int16)"
      ]
     },
     "execution_count": 15,
     "metadata": {},
     "output_type": "execute_result"
    }
   ],
   "source": [
    "# returns a 2D array of elevation values\n",
    "bathy3"
   ]
  }
 ],
 "metadata": {
  "kernelspec": {
   "display_name": "Python 3",
   "language": "python",
   "name": "python3"
  },
  "language_info": {
   "codemirror_mode": {
    "name": "ipython",
    "version": 3
   },
   "file_extension": ".py",
   "mimetype": "text/x-python",
   "name": "python",
   "nbconvert_exporter": "python",
   "pygments_lexer": "ipython3",
   "version": "3.8.2"
  }
 },
 "nbformat": 4,
 "nbformat_minor": 4
}
