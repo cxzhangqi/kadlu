{
 "cells": [
  {
   "cell_type": "markdown",
   "metadata": {},
   "source": [
    "Import all the necessary stuff,"
   ]
  },
  {
   "cell_type": "code",
   "execution_count": 4,
   "metadata": {},
   "outputs": [],
   "source": [
    "import matplotlib.pyplot as plt\n",
    "from kadlu.sound.sound_propagation import TLCalculator, Seafloor\n",
    "from kadlu.geospatial.ocean import Ocean"
   ]
  },
  {
   "cell_type": "markdown",
   "metadata": {},
   "source": [
    "Create a simplified, uniform, seabed with the following properties: \n",
    "  \n",
    "  * thickness of 2 km\n",
    "  * sound speed of 1,700 m/s\n",
    "  * density of 1.5 g/cm^3\n",
    "  * attenuation of 0.5 dB per wavelength,"
   ]
  },
  {
   "cell_type": "code",
   "execution_count": 5,
   "metadata": {},
   "outputs": [],
   "source": [
    "seaflo = Seafloor(thickness=2000, c=1700, density=1.5, loss=0.5)"
   ]
  },
  {
   "cell_type": "markdown",
   "metadata": {},
   "source": [
    "Create a simplified, uniform, ocean volume which is 5 km deep everywhere"
   ]
  },
  {
   "cell_type": "code",
   "execution_count": null,
   "metadata": {},
   "outputs": [],
   "source": [
    "o = Ocean(bathy=-10000)"
   ]
  },
  {
   "cell_type": "code",
   "execution_count": null,
   "metadata": {},
   "outputs": [],
   "source": [
    "tl = TLCalculator(ocean=o, seafloor=s, sound_speed=1500,\\\n",
    "    radial_bin=1000, radial_range=10e3, angular_bin=45, vertical_bin=1000,\\\n",
    "    verbose=True, progress_bar=False)"
   ]
  },
  {
   "cell_type": "code",
   "execution_count": null,
   "metadata": {},
   "outputs": [],
   "source": [
    "tl.run(frequency=10, source_depth=-9900, source_lat=45, source_lon=60)"
   ]
  },
  {
   "cell_type": "code",
   "execution_count": null,
   "metadata": {},
   "outputs": [],
   "source": [
    "fig = tl.plot()"
   ]
  }
 ],
 "metadata": {
  "kernelspec": {
   "display_name": "Python 3",
   "language": "python",
   "name": "python3"
  },
  "language_info": {
   "codemirror_mode": {
    "name": "ipython",
    "version": 3
   },
   "file_extension": ".py",
   "mimetype": "text/x-python",
   "name": "python",
   "nbconvert_exporter": "python",
   "pygments_lexer": "ipython3",
   "version": "3.6.6"
  }
 },
 "nbformat": 4,
 "nbformat_minor": 2
}
