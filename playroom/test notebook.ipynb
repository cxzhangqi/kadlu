{
 "cells": [
  {
   "cell_type": "code",
   "execution_count": 2,
   "metadata": {},
   "outputs": [],
   "source": [
    "from kadlu import hycom\n",
    "import numpy as np\n",
    "from datetime import datetime"
   ]
  },
  {
   "cell_type": "code",
   "execution_count": 3,
   "metadata": {},
   "outputs": [],
   "source": [
    "source = hycom()"
   ]
  },
  {
   "cell_type": "code",
   "execution_count": 4,
   "metadata": {},
   "outputs": [],
   "source": [
    "# parameter selection\n",
    "start = datetime(2015, 3, 9, 13, 25, 0)\n",
    "end   = datetime(2015, 3, 9, 19, 0, 0)\n",
    "\n",
    "# gulf st lawrence\n",
    "south, west = 44.013, -70.429\n",
    "north, east = 51.823, -55.977\n",
    "top, bottom = 0, 0 "
   ]
  },
  {
   "cell_type": "code",
   "execution_count": 9,
   "metadata": {},
   "outputs": [
    {
     "name": "stdout",
     "output_type": "stream",
     "text": [
      "downloading 107016 salinity values from hycom...\n",
      "downloaded 102.4Kb in 2.595s. parsed and inserted 46344 rows in 0.576s\n",
      "60672 null values removed, 0 duplicate rows ignored\n",
      "\n"
     ]
    }
   ],
   "source": [
    "source.fetch_salinity(south=south, north=north, west=west, east=east, \n",
    "                      start=start, end=end, top=top, bottom=bottom)"
   ]
  },
  {
   "cell_type": "code",
   "execution_count": 10,
   "metadata": {},
   "outputs": [
    {
     "name": "stdout",
     "output_type": "stream",
     "text": [
      "downloading 107016 water_temp values from hycom...\n",
      "downloaded 108.8Kb in 5.138s. parsed and inserted 46344 rows in 0.593s\n",
      "60672 null values removed, 0 duplicate rows ignored\n",
      "\n"
     ]
    }
   ],
   "source": [
    "source.fetch_temp(south=south, north=north, west=west, east=east, \n",
    "                      start=start, end=end, top=top, bottom=bottom)"
   ]
  },
  {
   "cell_type": "code",
   "execution_count": 5,
   "metadata": {},
   "outputs": [],
   "source": [
    "from importlib import reload"
   ]
  },
  {
   "cell_type": "code",
   "execution_count": 5,
   "metadata": {},
   "outputs": [
    {
     "ename": "NameError",
     "evalue": "name 'kadlu' is not defined",
     "output_type": "error",
     "traceback": [
      "\u001b[0;31m---------------------------------------------------------------------------\u001b[0m",
      "\u001b[0;31mNameError\u001b[0m                                 Traceback (most recent call last)",
      "\u001b[0;32m<ipython-input-5-72c48628f456>\u001b[0m in \u001b[0;36m<module>\u001b[0;34m()\u001b[0m\n\u001b[0;32m----> 1\u001b[0;31m \u001b[0mreload\u001b[0m\u001b[0;34m(\u001b[0m\u001b[0mkadlu\u001b[0m\u001b[0;34m.\u001b[0m\u001b[0mgeospatial\u001b[0m\u001b[0;34m.\u001b[0m\u001b[0mdata_sources\u001b[0m\u001b[0;34m.\u001b[0m\u001b[0mhycom\u001b[0m\u001b[0;34m)\u001b[0m\u001b[0;34m\u001b[0m\u001b[0;34m\u001b[0m\u001b[0m\n\u001b[0m",
      "\u001b[0;31mNameError\u001b[0m: name 'kadlu' is not defined"
     ]
    }
   ],
   "source": [
    "reload(kadlu.geospatial.data_sources.hycom)"
   ]
  },
  {
   "cell_type": "code",
   "execution_count": 6,
   "metadata": {},
   "outputs": [],
   "source": [
    "from kadlu.geospatial.data_sources.fetch_util import database_cfg\n",
    "from kadlu.geospatial.data_sources.fetch_util import dt_2_epoch"
   ]
  },
  {
   "cell_type": "code",
   "execution_count": 7,
   "metadata": {},
   "outputs": [],
   "source": [
    "conn, db = database_cfg()"
   ]
  },
  {
   "cell_type": "code",
   "execution_count": 8,
   "metadata": {},
   "outputs": [
    {
     "data": {
      "text/plain": [
       "array([['-5521', '-5454', '-5211', ..., '11560', '11631', '11721'],\n",
       "       ['47.15999984741211', '47.20000076293945', '47.2400016784668',\n",
       "        ..., '51.720001220703125', '51.7599983215332',\n",
       "        '51.79999923706055'],\n",
       "       ['-70.4000244140625', '-70.4000244140625', '-70.4000244140625',\n",
       "        ..., '-56.0', '-56.0', '-56.0'],\n",
       "       ...,\n",
       "       ['133119', '133119', '133119', ..., '133122', '133122', '133122'],\n",
       "       ['0', '0', '0', ..., '0', '0', '0'],\n",
       "       ['hycom', 'hycom', 'hycom', ..., 'hycom', 'hycom', 'hycom']],\n",
       "      dtype='<U32')"
      ]
     },
     "execution_count": 8,
     "metadata": {},
     "output_type": "execute_result"
    }
   ],
   "source": [
    "# get temp, salinity values within query boundaries where coordinate\n",
    "# data exists for both variables\n",
    "qry = ' AND '.join([\n",
    "        \"SELECT * FROM salinity INNER JOIN water_temp ON salinity.lat = water_temp.lat \",\n",
    "        \"salinity.lon = water_temp.lon \",\n",
    "        \"salinity.time = water_temp.time\",\n",
    "        \"salinity.depth = water_temp.depth\",\n",
    "        \"salinity.lat >= ?\",\n",
    "        \"salinity.lat <= ?\",\n",
    "        \"salinity.lon >= ?\",\n",
    "        \"salinity.lon <= ?\",\n",
    "        \"salinity.time >= ?\",\n",
    "        \"salinity.time <= ?\",\n",
    "        \"salinity.depth >= ?\",\n",
    "        \"salinity.depth <= ? LIMIT 1000000;\"])\n",
    "\n",
    "db.execute(qry, tuple(map(str, [south, north, west, east, dt_2_epoch(start)[0], \n",
    "                                dt_2_epoch(end)[0], top, bottom])))\n",
    "res = np.array(db.fetchall()).T\n",
    "res"
   ]
  },
  {
   "cell_type": "code",
   "execution_count": 9,
   "metadata": {},
   "outputs": [],
   "source": [
    "salinity = res[0]\n",
    "temp = res[6]\n",
    "lat = res[1]\n",
    "lon = res[2]"
   ]
  },
  {
   "cell_type": "code",
   "execution_count": 10,
   "metadata": {},
   "outputs": [
    {
     "data": {
      "text/plain": [
       "30668"
      ]
     },
     "execution_count": 10,
     "metadata": {},
     "output_type": "execute_result"
    }
   ],
   "source": [
    "len(temp)"
   ]
  },
  {
   "cell_type": "code",
   "execution_count": 12,
   "metadata": {},
   "outputs": [],
   "source": [
    "import kadlu\n",
    "from kadlu.geospatial.data_sources import chs"
   ]
  },
  {
   "cell_type": "code",
   "execution_count": 13,
   "metadata": {},
   "outputs": [],
   "source": [
    "from importlib import reload\n",
    "reload(kadlu.geospatial.data_sources.chs)\n",
    "bathysource = chs.Chs()"
   ]
  },
  {
   "cell_type": "code",
   "execution_count": 19,
   "metadata": {
    "scrolled": false
   },
   "outputs": [
    {
     "name": "stdout",
     "output_type": "stream",
     "text": [
      "Downloading CA2_4400N05600W.tif from Canadian Hydrographic Service NONNA-100...\n",
      "Downloading CA2_4400N05700W.tif from Canadian Hydrographic Service NONNA-100...\n",
      "Downloading CA2_4400N05800W.tif from Canadian Hydrographic Service NONNA-100...\n",
      "Downloading CA2_4400N05900W.tif from Canadian Hydrographic Service NONNA-100...\n",
      "Downloading CA2_4400N06000W.tif from Canadian Hydrographic Service NONNA-100...\n",
      "Downloading CA2_4400N06100W.tif from Canadian Hydrographic Service NONNA-100...\n",
      "Downloading CA2_4400N06200W.tif from Canadian Hydrographic Service NONNA-100...\n",
      "Downloading CA2_4400N06300W.tif from Canadian Hydrographic Service NONNA-100...\n",
      "Downloading CA2_4400N06400W.tif from Canadian Hydrographic Service NONNA-100...\n",
      "Downloading CA2_4400N06500W.tif from Canadian Hydrographic Service NONNA-100...\n",
      "Downloading CA2_4400N06600W.tif from Canadian Hydrographic Service NONNA-100...\n",
      "Downloading CA2_4400N06700W.tif from Canadian Hydrographic Service NONNA-100...\n",
      "Downloading CA2_4400N06800W.tif from Canadian Hydrographic Service NONNA-100...\n",
      "Downloading CA2_4500N05600W.tif from Canadian Hydrographic Service NONNA-100...\n",
      "Downloading CA2_4500N05700W.tif from Canadian Hydrographic Service NONNA-100...\n",
      "Downloading CA2_4500N05800W.tif from Canadian Hydrographic Service NONNA-100...\n",
      "Downloading CA2_4500N05900W.tif from Canadian Hydrographic Service NONNA-100...\n",
      "Downloading CA2_4500N06000W.tif from Canadian Hydrographic Service NONNA-100...\n",
      "Downloading CA2_4500N06100W.tif from Canadian Hydrographic Service NONNA-100...\n",
      "Downloading CA2_4500N06200W.tif from Canadian Hydrographic Service NONNA-100...\n",
      "Downloading CA2_4500N06300W.tif from Canadian Hydrographic Service NONNA-100...\n",
      "Downloading CA2_4500N06400W.tif from Canadian Hydrographic Service NONNA-100...\n",
      "Downloading CA2_4500N06500W.tif from Canadian Hydrographic Service NONNA-100...\n",
      "Downloading CA2_4500N06600W.tif from Canadian Hydrographic Service NONNA-100...\n",
      "Downloading CA2_4500N06700W.tif from Canadian Hydrographic Service NONNA-100...\n",
      "Downloading CA2_4500N06800W.tif from Canadian Hydrographic Service NONNA-100...\n",
      "Downloading CA2_4600N05600W.tif from Canadian Hydrographic Service NONNA-100...\n",
      "Downloading CA2_4600N05700W.tif from Canadian Hydrographic Service NONNA-100...\n",
      "Downloading CA2_4600N05800W.tif from Canadian Hydrographic Service NONNA-100...\n",
      "Downloading CA2_4600N05900W.tif from Canadian Hydrographic Service NONNA-100...\n",
      "Downloading CA2_4600N06000W.tif from Canadian Hydrographic Service NONNA-100...\n",
      "Downloading CA2_4600N06100W.tif from Canadian Hydrographic Service NONNA-100...\n",
      "Downloading CA2_4600N06200W.tif from Canadian Hydrographic Service NONNA-100...\n",
      "Downloading CA2_4600N06300W.tif from Canadian Hydrographic Service NONNA-100...\n",
      "Downloading CA2_4600N06400W.tif from Canadian Hydrographic Service NONNA-100...\n",
      "Downloading CA2_4600N06500W.tif from Canadian Hydrographic Service NONNA-100...\n",
      "Downloading CA2_4600N06600W.tif from Canadian Hydrographic Service NONNA-100...\n",
      "Downloading CA2_4600N07100W.tif from Canadian Hydrographic Service NONNA-100...\n",
      "Downloading CA2_4700N05600W.tif from Canadian Hydrographic Service NONNA-100...\n",
      "Downloading CA2_4700N05700W.tif from Canadian Hydrographic Service NONNA-100...\n",
      "Downloading CA2_4700N05800W.tif from Canadian Hydrographic Service NONNA-100...\n",
      "Downloading CA2_4700N05900W.tif from Canadian Hydrographic Service NONNA-100...\n",
      "Downloading CA2_4700N06000W.tif from Canadian Hydrographic Service NONNA-100...\n",
      "Downloading CA2_4700N06100W.tif from Canadian Hydrographic Service NONNA-100...\n",
      "Downloading CA2_4700N06200W.tif from Canadian Hydrographic Service NONNA-100...\n",
      "Downloading CA2_4700N06300W.tif from Canadian Hydrographic Service NONNA-100...\n",
      "Downloading CA2_4700N06400W.tif from Canadian Hydrographic Service NONNA-100...\n",
      "Downloading CA2_4700N06500W.tif from Canadian Hydrographic Service NONNA-100...\n",
      "Downloading CA2_4700N06600W.tif from Canadian Hydrographic Service NONNA-100...\n",
      "Downloading CA2_4700N06700W.tif from Canadian Hydrographic Service NONNA-100...\n",
      "Downloading CA2_4700N07000W.tif from Canadian Hydrographic Service NONNA-100...\n",
      "Downloading CA2_4700N07100W.tif from Canadian Hydrographic Service NONNA-100...\n",
      "Downloading CA2_4800N05800W.tif from Canadian Hydrographic Service NONNA-100...\n",
      "Downloading CA2_4800N05900W.tif from Canadian Hydrographic Service NONNA-100...\n",
      "Downloading CA2_4800N06000W.tif from Canadian Hydrographic Service NONNA-100...\n",
      "Downloading CA2_4800N06100W.tif from Canadian Hydrographic Service NONNA-100...\n",
      "Downloading CA2_4800N06200W.tif from Canadian Hydrographic Service NONNA-100...\n",
      "Downloading CA2_4800N06300W.tif from Canadian Hydrographic Service NONNA-100...\n",
      "Downloading CA2_4800N06400W.tif from Canadian Hydrographic Service NONNA-100...\n",
      "Downloading CA2_4800N06500W.tif from Canadian Hydrographic Service NONNA-100...\n",
      "Downloading CA2_4800N06600W.tif from Canadian Hydrographic Service NONNA-100...\n",
      "Downloading CA2_4800N06700W.tif from Canadian Hydrographic Service NONNA-100...\n",
      "Downloading CA2_4800N06800W.tif from Canadian Hydrographic Service NONNA-100...\n",
      "Downloading CA2_4800N06900W.tif from Canadian Hydrographic Service NONNA-100...\n",
      "Downloading CA2_4800N07000W.tif from Canadian Hydrographic Service NONNA-100...\n",
      "Downloading CA2_4800N07100W.tif from Canadian Hydrographic Service NONNA-100...\n",
      "Downloading CA2_4900N05600W.tif from Canadian Hydrographic Service NONNA-100...\n",
      "Downloading CA2_4900N05700W.tif from Canadian Hydrographic Service NONNA-100...\n",
      "Downloading CA2_4900N05800W.tif from Canadian Hydrographic Service NONNA-100...\n",
      "Downloading CA2_4900N05900W.tif from Canadian Hydrographic Service NONNA-100...\n",
      "Downloading CA2_4900N06000W.tif from Canadian Hydrographic Service NONNA-100...\n",
      "Downloading CA2_4900N06100W.tif from Canadian Hydrographic Service NONNA-100...\n",
      "Downloading CA2_4900N06200W.tif from Canadian Hydrographic Service NONNA-100...\n",
      "Downloading CA2_4900N06300W.tif from Canadian Hydrographic Service NONNA-100...\n",
      "Downloading CA2_4900N06400W.tif from Canadian Hydrographic Service NONNA-100...\n",
      "Downloading CA2_4900N06500W.tif from Canadian Hydrographic Service NONNA-100...\n",
      "Downloading CA2_4900N06600W.tif from Canadian Hydrographic Service NONNA-100...\n",
      "Downloading CA2_4900N06700W.tif from Canadian Hydrographic Service NONNA-100...\n",
      "Downloading CA2_4900N06800W.tif from Canadian Hydrographic Service NONNA-100...\n",
      "Downloading CA2_4900N06900W.tif from Canadian Hydrographic Service NONNA-100...\n",
      "Downloading CA2_5000N05600W.tif from Canadian Hydrographic Service NONNA-100...\n",
      "Downloading CA2_5000N05700W.tif from Canadian Hydrographic Service NONNA-100...\n",
      "Downloading CA2_5000N05800W.tif from Canadian Hydrographic Service NONNA-100...\n",
      "Downloading CA2_5000N05900W.tif from Canadian Hydrographic Service NONNA-100...\n",
      "Downloading CA2_5000N06000W.tif from Canadian Hydrographic Service NONNA-100...\n",
      "Downloading CA2_5000N06100W.tif from Canadian Hydrographic Service NONNA-100...\n",
      "Downloading CA2_5000N06200W.tif from Canadian Hydrographic Service NONNA-100...\n",
      "Downloading CA2_5000N06300W.tif from Canadian Hydrographic Service NONNA-100...\n",
      "Downloading CA2_5000N06400W.tif from Canadian Hydrographic Service NONNA-100...\n",
      "Downloading CA2_5000N06500W.tif from Canadian Hydrographic Service NONNA-100...\n",
      "Downloading CA2_5000N06600W.tif from Canadian Hydrographic Service NONNA-100...\n",
      "Downloading CA2_5000N06700W.tif from Canadian Hydrographic Service NONNA-100...\n",
      "Downloading CA2_5100N05600W.tif from Canadian Hydrographic Service NONNA-100...\n",
      "Downloading CA2_5100N05700W.tif from Canadian Hydrographic Service NONNA-100...\n",
      "Downloading CA2_5100N05800W.tif from Canadian Hydrographic Service NONNA-100...\n",
      "Downloading CA2_5100N05900W.tif from Canadian Hydrographic Service NONNA-100...\n",
      "CA2_4400N05600W.tif\tprocessed and inserted 36063 rows. 965938 null values removed, 0 duplicate rows ignored\n",
      "CA2_4400N05700W.tif\tprocessed and inserted 28015 rows. 973986 null values removed, 0 duplicate rows ignored\n",
      "CA2_4400N05800W.tif\tprocessed and inserted 18737 rows. 983264 null values removed, 0 duplicate rows ignored\n",
      "CA2_4400N05900W.tif\tprocessed and inserted 28291 rows. 973710 null values removed, 0 duplicate rows ignored\n",
      "CA2_4400N06000W.tif\tprocessed and inserted 47439 rows. 954562 null values removed, 0 duplicate rows ignored\n"
     ]
    },
    {
     "name": "stdout",
     "output_type": "stream",
     "text": [
      "CA2_4400N06100W.tif\tprocessed and inserted 38067 rows. 963934 null values removed, 0 duplicate rows ignored\n",
      "CA2_4400N06200W.tif\tprocessed and inserted 44528 rows. 957473 null values removed, 0 duplicate rows ignored\n",
      "CA2_4400N06300W.tif\tprocessed and inserted 105167 rows. 896834 null values removed, 0 duplicate rows ignored\n",
      "CA2_4400N06400W.tif\tprocessed and inserted 208509 rows. 793492 null values removed, 0 duplicate rows ignored\n",
      "CA2_4400N06500W.tif\tprocessed and inserted 114840 rows. 887161 null values removed, 0 duplicate rows ignored\n",
      "CA2_4400N06600W.tif\tprocessed and inserted 149638 rows. 852363 null values removed, 0 duplicate rows ignored\n",
      "CA2_4400N06700W.tif\tprocessed and inserted 726973 rows. 275028 null values removed, 0 duplicate rows ignored\n",
      "CA2_4400N06800W.tif\tprocessed and inserted 76707 rows. 925294 null values removed, 0 duplicate rows ignored\n",
      "CA2_4500N05600W.tif\tprocessed and inserted 15514 rows. 986487 null values removed, 0 duplicate rows ignored\n",
      "CA2_4500N05700W.tif\tprocessed and inserted 12112 rows. 989889 null values removed, 0 duplicate rows ignored\n",
      "CA2_4500N05800W.tif\tprocessed and inserted 6894 rows. 995107 null values removed, 0 duplicate rows ignored\n",
      "CA2_4500N05900W.tif\tprocessed and inserted 58463 rows. 943538 null values removed, 0 duplicate rows ignored\n",
      "CA2_4500N06000W.tif\tprocessed and inserted 141628 rows. 860373 null values removed, 0 duplicate rows ignored\n",
      "CA2_4500N06100W.tif\tprocessed and inserted 170582 rows. 831419 null values removed, 0 duplicate rows ignored\n",
      "CA2_4500N06200W.tif\tprocessed and inserted 197781 rows. 804220 null values removed, 0 duplicate rows ignored\n",
      "CA2_4500N06300W.tif\tprocessed and inserted 120658 rows. 881343 null values removed, 0 duplicate rows ignored\n",
      "CA2_4500N06400W.tif\tprocessed and inserted 68872 rows. 933129 null values removed, 0 duplicate rows ignored\n",
      "CA2_4500N06500W.tif\tprocessed and inserted 142744 rows. 859257 null values removed, 0 duplicate rows ignored\n",
      "CA2_4500N06600W.tif\tprocessed and inserted 345301 rows. 656700 null values removed, 0 duplicate rows ignored\n",
      "CA2_4500N06700W.tif\tprocessed and inserted 128792 rows. 873209 null values removed, 0 duplicate rows ignored\n",
      "CA2_4500N06800W.tif\tprocessed and inserted 15529 rows. 986472 null values removed, 0 duplicate rows ignored\n",
      "CA2_4600N05600W.tif\tprocessed and inserted 25538 rows. 976463 null values removed, 0 duplicate rows ignored\n",
      "CA2_4600N05700W.tif\tprocessed and inserted 48033 rows. 953968 null values removed, 0 duplicate rows ignored\n",
      "CA2_4600N05800W.tif\tprocessed and inserted 10930 rows. 991071 null values removed, 0 duplicate rows ignored\n",
      "CA2_4600N05900W.tif\tprocessed and inserted 75951 rows. 926050 null values removed, 0 duplicate rows ignored\n",
      "CA2_4600N06000W.tif\tprocessed and inserted 78846 rows. 923155 null values removed, 0 duplicate rows ignored\n",
      "CA2_4600N06100W.tif\tprocessed and inserted 73596 rows. 928405 null values removed, 0 duplicate rows ignored\n",
      "CA2_4600N06200W.tif\tprocessed and inserted 63370 rows. 938631 null values removed, 0 duplicate rows ignored\n",
      "CA2_4600N06300W.tif\tprocessed and inserted 100160 rows. 901841 null values removed, 0 duplicate rows ignored\n",
      "CA2_4600N06400W.tif\tprocessed and inserted 157281 rows. 844720 null values removed, 0 duplicate rows ignored\n",
      "CA2_4600N06500W.tif\tprocessed and inserted 54605 rows. 947396 null values removed, 0 duplicate rows ignored\n",
      "CA2_4600N06600W.tif\tprocessed and inserted 21 rows. 1001980 null values removed, 0 duplicate rows ignored\n",
      "CA2_4600N07100W.tif\tprocessed and inserted 20033 rows. 981968 null values removed, 0 duplicate rows ignored\n",
      "CA2_4700N05600W.tif\tprocessed and inserted 158958 rows. 843043 null values removed, 0 duplicate rows ignored\n",
      "CA2_4700N05700W.tif\tprocessed and inserted 207185 rows. 794816 null values removed, 0 duplicate rows ignored\n",
      "CA2_4700N05800W.tif\tprocessed and inserted 199392 rows. 802609 null values removed, 0 duplicate rows ignored\n",
      "CA2_4700N05900W.tif\tprocessed and inserted 69371 rows. 932630 null values removed, 0 duplicate rows ignored\n",
      "CA2_4700N06000W.tif\tprocessed and inserted 57545 rows. 944456 null values removed, 0 duplicate rows ignored\n",
      "CA2_4700N06100W.tif\tprocessed and inserted 23357 rows. 978644 null values removed, 0 duplicate rows ignored\n",
      "CA2_4700N06200W.tif\tprocessed and inserted 473780 rows. 528221 null values removed, 0 duplicate rows ignored\n",
      "CA2_4700N06300W.tif\tprocessed and inserted 91383 rows. 910618 null values removed, 0 duplicate rows ignored\n",
      "CA2_4700N06400W.tif\tprocessed and inserted 7018 rows. 994983 null values removed, 0 duplicate rows ignored\n",
      "CA2_4700N06500W.tif\tprocessed and inserted 54352 rows. 947649 null values removed, 0 duplicate rows ignored\n",
      "CA2_4700N06600W.tif\tprocessed and inserted 63396 rows. 938605 null values removed, 0 duplicate rows ignored\n",
      "CA2_4700N06700W.tif\tprocessed and inserted 1644 rows. 1000357 null values removed, 0 duplicate rows ignored\n",
      "CA2_4700N07000W.tif\tprocessed and inserted 100692 rows. 901309 null values removed, 0 duplicate rows ignored\n",
      "CA2_4700N07100W.tif\tprocessed and inserted 163814 rows. 838187 null values removed, 0 duplicate rows ignored\n",
      "CA2_4800N05800W.tif\tprocessed and inserted 1964 rows. 1000037 null values removed, 0 duplicate rows ignored\n",
      "CA2_4800N05900W.tif\tprocessed and inserted 70180 rows. 931821 null values removed, 0 duplicate rows ignored\n",
      "CA2_4800N06000W.tif\tprocessed and inserted 226402 rows. 775599 null values removed, 0 duplicate rows ignored\n",
      "CA2_4800N06100W.tif\tprocessed and inserted 8554 rows. 993447 null values removed, 0 duplicate rows ignored\n",
      "CA2_4800N06200W.tif\tprocessed and inserted 18814 rows. 983187 null values removed, 0 duplicate rows ignored\n",
      "CA2_4800N06300W.tif\tprocessed and inserted 20293 rows. 981708 null values removed, 0 duplicate rows ignored\n",
      "CA2_4800N06400W.tif\tprocessed and inserted 338216 rows. 663785 null values removed, 0 duplicate rows ignored\n",
      "CA2_4800N06500W.tif\tprocessed and inserted 230482 rows. 771519 null values removed, 0 duplicate rows ignored\n",
      "CA2_4800N06600W.tif\tprocessed and inserted 15672 rows. 986329 null values removed, 0 duplicate rows ignored\n",
      "CA2_4800N06700W.tif\tprocessed and inserted 7363 rows. 994638 null values removed, 0 duplicate rows ignored\n",
      "CA2_4800N06800W.tif\tprocessed and inserted 139761 rows. 862240 null values removed, 0 duplicate rows ignored\n",
      "CA2_4800N06900W.tif\tprocessed and inserted 391806 rows. 610195 null values removed, 0 duplicate rows ignored\n",
      "CA2_4800N07000W.tif\tprocessed and inserted 205746 rows. 796255 null values removed, 0 duplicate rows ignored\n",
      "CA2_4800N07100W.tif\tprocessed and inserted 32457 rows. 969544 null values removed, 0 duplicate rows ignored\n",
      "CA2_4900N05600W.tif\tprocessed and inserted 201904 rows. 800097 null values removed, 0 duplicate rows ignored\n",
      "CA2_4900N05700W.tif\tprocessed and inserted 16635 rows. 985366 null values removed, 0 duplicate rows ignored\n",
      "CA2_4900N05800W.tif\tprocessed and inserted 17321 rows. 984680 null values removed, 0 duplicate rows ignored\n",
      "CA2_4900N05900W.tif\tprocessed and inserted 188009 rows. 813992 null values removed, 0 duplicate rows ignored\n",
      "CA2_4900N06000W.tif\tprocessed and inserted 56935 rows. 945066 null values removed, 0 duplicate rows ignored\n",
      "CA2_4900N06100W.tif\tprocessed and inserted 50555 rows. 951446 null values removed, 0 duplicate rows ignored\n",
      "CA2_4900N06200W.tif\tprocessed and inserted 68593 rows. 933408 null values removed, 0 duplicate rows ignored\n",
      "CA2_4900N06300W.tif\tprocessed and inserted 85018 rows. 916983 null values removed, 0 duplicate rows ignored\n",
      "CA2_4900N06400W.tif\tprocessed and inserted 265057 rows. 736944 null values removed, 0 duplicate rows ignored\n",
      "CA2_4900N06500W.tif\tprocessed and inserted 462885 rows. 539116 null values removed, 0 duplicate rows ignored\n",
      "CA2_4900N06600W.tif\tprocessed and inserted 142661 rows. 859340 null values removed, 0 duplicate rows ignored\n",
      "CA2_4900N06700W.tif\tprocessed and inserted 226462 rows. 775539 null values removed, 0 duplicate rows ignored\n",
      "CA2_4900N06800W.tif\tprocessed and inserted 364575 rows. 637426 null values removed, 0 duplicate rows ignored\n",
      "CA2_4900N06900W.tif\tprocessed and inserted 93409 rows. 908592 null values removed, 0 duplicate rows ignored\n",
      "CA2_5000N05600W.tif\tprocessed and inserted 44931 rows. 957070 null values removed, 0 duplicate rows ignored\n"
     ]
    },
    {
     "name": "stdout",
     "output_type": "stream",
     "text": [
      "CA2_5000N05700W.tif\tprocessed and inserted 47513 rows. 954488 null values removed, 0 duplicate rows ignored\n",
      "CA2_5000N05800W.tif\tprocessed and inserted 29117 rows. 972884 null values removed, 0 duplicate rows ignored\n",
      "CA2_5000N05900W.tif\tprocessed and inserted 139318 rows. 862683 null values removed, 0 duplicate rows ignored\n",
      "CA2_5000N06000W.tif\tprocessed and inserted 337142 rows. 664859 null values removed, 0 duplicate rows ignored\n",
      "CA2_5000N06100W.tif\tprocessed and inserted 150945 rows. 851056 null values removed, 0 duplicate rows ignored\n",
      "CA2_5000N06200W.tif\tprocessed and inserted 102756 rows. 899245 null values removed, 0 duplicate rows ignored\n",
      "CA2_5000N06300W.tif\tprocessed and inserted 83176 rows. 918825 null values removed, 0 duplicate rows ignored\n",
      "CA2_5000N06400W.tif\tprocessed and inserted 127056 rows. 874945 null values removed, 0 duplicate rows ignored\n",
      "CA2_5000N06500W.tif\tprocessed and inserted 211260 rows. 790741 null values removed, 0 duplicate rows ignored\n",
      "CA2_5000N06600W.tif\tprocessed and inserted 249969 rows. 752032 null values removed, 0 duplicate rows ignored\n",
      "CA2_5000N06700W.tif\tprocessed and inserted 177570 rows. 824431 null values removed, 0 duplicate rows ignored\n",
      "CA2_5100N05600W.tif\tprocessed and inserted 55934 rows. 946067 null values removed, 0 duplicate rows ignored\n",
      "CA2_5100N05700W.tif\tprocessed and inserted 47141 rows. 954860 null values removed, 0 duplicate rows ignored\n",
      "CA2_5100N05800W.tif\tprocessed and inserted 120838 rows. 881163 null values removed, 0 duplicate rows ignored\n",
      "CA2_5100N05900W.tif\tprocessed and inserted 183622 rows. 818379 null values removed, 0 duplicate rows ignored\n"
     ]
    }
   ],
   "source": [
    "bathysource.fetch_bathymetry(south=south, north=north, west=west, east=east)"
   ]
  },
  {
   "cell_type": "code",
   "execution_count": 14,
   "metadata": {},
   "outputs": [
    {
     "ename": "ValueError",
     "evalue": "not enough values to unpack (expected 4, got 3)",
     "output_type": "error",
     "traceback": [
      "\u001b[0;31m---------------------------------------------------------------------------\u001b[0m",
      "\u001b[0;31mValueError\u001b[0m                                Traceback (most recent call last)",
      "\u001b[0;32m<ipython-input-14-0d177ac027b6>\u001b[0m in \u001b[0;36m<module>\u001b[0;34m()\u001b[0m\n\u001b[0;32m----> 1\u001b[0;31m \u001b[0mbathy\u001b[0m\u001b[0;34m,\u001b[0m \u001b[0mblat\u001b[0m\u001b[0;34m,\u001b[0m \u001b[0mblon\u001b[0m\u001b[0;34m,\u001b[0m \u001b[0mbathysource\u001b[0m \u001b[0;34m=\u001b[0m \u001b[0mbathysource\u001b[0m\u001b[0;34m.\u001b[0m\u001b[0mload_bathymetry\u001b[0m\u001b[0;34m(\u001b[0m\u001b[0msouth\u001b[0m\u001b[0;34m=\u001b[0m\u001b[0msouth\u001b[0m\u001b[0;34m,\u001b[0m \u001b[0mnorth\u001b[0m\u001b[0;34m=\u001b[0m\u001b[0mnorth\u001b[0m\u001b[0;34m,\u001b[0m \u001b[0mwest\u001b[0m\u001b[0;34m=\u001b[0m\u001b[0mwest\u001b[0m\u001b[0;34m,\u001b[0m \u001b[0meast\u001b[0m\u001b[0;34m=\u001b[0m\u001b[0meast\u001b[0m\u001b[0;34m)\u001b[0m\u001b[0;34m\u001b[0m\u001b[0;34m\u001b[0m\u001b[0m\n\u001b[0m",
      "\u001b[0;31mValueError\u001b[0m: not enough values to unpack (expected 4, got 3)"
     ]
    }
   ],
   "source": [
    "bathy, blat, blon = bathysource.load_bathymetry(south=south, north=north, west=west, east=east)"
   ]
  },
  {
   "cell_type": "code",
   "execution_count": null,
   "metadata": {},
   "outputs": [],
   "source": [
    "len(bathy[0])"
   ]
  },
  {
   "cell_type": "code",
   "execution_count": 43,
   "metadata": {},
   "outputs": [],
   "source": [
    "from kadlu.geospatial.data_sources import era5\n",
    "reload(era5)\n",
    "wavesource = era5.Era5()"
   ]
  },
  {
   "cell_type": "code",
   "execution_count": 41,
   "metadata": {},
   "outputs": [
    {
     "name": "stderr",
     "output_type": "stream",
     "text": [
      "2019-11-13 13:38:28,876 INFO Sending request to https://cds.climate.copernicus.eu/api/v2/resources/reanalysis-era5-single-levels\n"
     ]
    },
    {
     "name": "stdout",
     "output_type": "stream",
     "text": [
      "Downloading ERA5_reanalysis_significant_height_of_combined_wind_waves_and_swell_2015-03-09_13h.grb2 from Copernicus Climate Data Store...\n"
     ]
    },
    {
     "name": "stderr",
     "output_type": "stream",
     "text": [
      "2019-11-13 13:38:29,539 INFO Request is completed\n",
      "2019-11-13 13:38:29,540 INFO Downloading http://136.156.133.39/cache-compute-0012/cache/data7/adaptor.mars.internal-1573659649.4384108-16255-4-ffc6e405-d559-45ac-afd5-d199c6aa9c57.grib to /home/matt_s/kadlu/storage/ERA5_reanalysis_significant_height_of_combined_wind_waves_and_swell_2015-03-09_13h.grb2 (312.1K)\n",
      "2019-11-13 13:38:30,456 INFO Download rate 340.9K/s\n",
      "2019-11-13 13:38:33,666 INFO Sending request to https://cds.climate.copernicus.eu/api/v2/resources/reanalysis-era5-single-levels\n"
     ]
    },
    {
     "name": "stdout",
     "output_type": "stream",
     "text": [
      "ERA5_reanalysis_significant_height_of_combined_wind_waves_and_swell_2015-03-09_13h.grb2 processed and inserted 143420 rows. 116500 null values removed, 0 duplicate rows ignored\n",
      "Downloading ERA5_reanalysis_significant_height_of_combined_wind_waves_and_swell_2015-03-09_14h.grb2 from Copernicus Climate Data Store...\n"
     ]
    },
    {
     "name": "stderr",
     "output_type": "stream",
     "text": [
      "2019-11-13 13:38:34,371 INFO Request is completed\n",
      "2019-11-13 13:38:34,372 INFO Downloading http://136.156.133.25/cache-compute-0008/cache/data1/adaptor.mars.internal-1573659655.3909836-2545-2-2f08b238-57ac-47d4-8771-5c95b5475fe4.grib to /home/matt_s/kadlu/storage/ERA5_reanalysis_significant_height_of_combined_wind_waves_and_swell_2015-03-09_14h.grb2 (312.1K)\n",
      "2019-11-13 13:38:35,277 INFO Download rate 345.1K/s\n",
      "2019-11-13 13:38:38,672 INFO Sending request to https://cds.climate.copernicus.eu/api/v2/resources/reanalysis-era5-single-levels\n"
     ]
    },
    {
     "name": "stdout",
     "output_type": "stream",
     "text": [
      "ERA5_reanalysis_significant_height_of_combined_wind_waves_and_swell_2015-03-09_14h.grb2 processed and inserted 143420 rows. 116500 null values removed, 0 duplicate rows ignored\n",
      "Downloading ERA5_reanalysis_significant_height_of_combined_wind_waves_and_swell_2015-03-09_15h.grb2 from Copernicus Climate Data Store...\n"
     ]
    },
    {
     "name": "stderr",
     "output_type": "stream",
     "text": [
      "2019-11-13 13:38:39,627 INFO Request is completed\n",
      "2019-11-13 13:38:39,628 INFO Downloading http://136.156.132.153/cache-compute-0002/cache/data7/adaptor.mars.internal-1573660011.140673-13839-2-2e7ff96c-982f-44fc-83e6-71211e7c99e4.grib to /home/matt_s/kadlu/storage/ERA5_reanalysis_significant_height_of_combined_wind_waves_and_swell_2015-03-09_15h.grb2 (312.1K)\n",
      "2019-11-13 13:38:40,529 INFO Download rate 346.8K/s\n",
      "2019-11-13 13:38:43,739 INFO Sending request to https://cds.climate.copernicus.eu/api/v2/resources/reanalysis-era5-single-levels\n"
     ]
    },
    {
     "name": "stdout",
     "output_type": "stream",
     "text": [
      "ERA5_reanalysis_significant_height_of_combined_wind_waves_and_swell_2015-03-09_15h.grb2 processed and inserted 143420 rows. 116500 null values removed, 0 duplicate rows ignored\n",
      "Downloading ERA5_reanalysis_significant_height_of_combined_wind_waves_and_swell_2015-03-09_16h.grb2 from Copernicus Climate Data Store...\n"
     ]
    },
    {
     "name": "stderr",
     "output_type": "stream",
     "text": [
      "2019-11-13 13:38:44,415 INFO Request is completed\n",
      "2019-11-13 13:38:44,416 INFO Downloading http://136.156.132.201/cache-compute-0004/cache/data5/adaptor.mars.internal-1573660483.713739-27565-4-ca97a20d-8401-4ddd-9e3f-a39097cbd4b5.grib to /home/matt_s/kadlu/storage/ERA5_reanalysis_significant_height_of_combined_wind_waves_and_swell_2015-03-09_16h.grb2 (312.1K)\n",
      "2019-11-13 13:38:45,302 INFO Download rate 352.6K/s\n",
      "2019-11-13 13:38:49,101 INFO Sending request to https://cds.climate.copernicus.eu/api/v2/resources/reanalysis-era5-single-levels\n"
     ]
    },
    {
     "name": "stdout",
     "output_type": "stream",
     "text": [
      "ERA5_reanalysis_significant_height_of_combined_wind_waves_and_swell_2015-03-09_16h.grb2 processed and inserted 143420 rows. 116500 null values removed, 0 duplicate rows ignored\n",
      "Downloading ERA5_reanalysis_significant_height_of_combined_wind_waves_and_swell_2015-03-09_17h.grb2 from Copernicus Climate Data Store...\n"
     ]
    },
    {
     "name": "stderr",
     "output_type": "stream",
     "text": [
      "2019-11-13 13:38:50,081 INFO Request is completed\n",
      "2019-11-13 13:38:50,082 INFO Downloading http://136.156.133.42/cache-compute-0014/cache/data0/adaptor.mars.internal-1573660557.6406338-27438-15-d33a8e2f-1206-487b-91ce-272c0b3a9055.grib to /home/matt_s/kadlu/storage/ERA5_reanalysis_significant_height_of_combined_wind_waves_and_swell_2015-03-09_17h.grb2 (312.1K)\n",
      "2019-11-13 13:38:51,219 INFO Download rate 274.6K/s\n",
      "2019-11-13 13:38:54,413 INFO Sending request to https://cds.climate.copernicus.eu/api/v2/resources/reanalysis-era5-single-levels\n"
     ]
    },
    {
     "name": "stdout",
     "output_type": "stream",
     "text": [
      "ERA5_reanalysis_significant_height_of_combined_wind_waves_and_swell_2015-03-09_17h.grb2 processed and inserted 143420 rows. 116500 null values removed, 0 duplicate rows ignored\n",
      "Downloading ERA5_reanalysis_significant_height_of_combined_wind_waves_and_swell_2015-03-09_18h.grb2 from Copernicus Climate Data Store...\n"
     ]
    },
    {
     "name": "stderr",
     "output_type": "stream",
     "text": [
      "2019-11-13 13:38:55,136 INFO Request is completed\n",
      "2019-11-13 13:38:55,138 INFO Downloading http://136.156.132.198/cache-compute-0003/cache/data3/adaptor.mars.internal-1573660574.7192633-13313-3-308e7de4-ea2a-4862-bb60-bc087a6b1ad4.grib to /home/matt_s/kadlu/storage/ERA5_reanalysis_significant_height_of_combined_wind_waves_and_swell_2015-03-09_18h.grb2 (312.1K)\n",
      "2019-11-13 13:38:56,030 INFO Download rate 350K/s \n",
      "2019-11-13 13:38:59,279 INFO Sending request to https://cds.climate.copernicus.eu/api/v2/resources/reanalysis-era5-single-levels\n"
     ]
    },
    {
     "name": "stdout",
     "output_type": "stream",
     "text": [
      "ERA5_reanalysis_significant_height_of_combined_wind_waves_and_swell_2015-03-09_18h.grb2 processed and inserted 143420 rows. 116500 null values removed, 0 duplicate rows ignored\n",
      "Downloading ERA5_reanalysis_significant_height_of_combined_wind_waves_and_swell_2015-03-09_19h.grb2 from Copernicus Climate Data Store...\n"
     ]
    },
    {
     "name": "stderr",
     "output_type": "stream",
     "text": [
      "2019-11-13 13:38:59,921 INFO Request is completed\n",
      "2019-11-13 13:38:59,922 INFO Downloading http://136.156.132.153/cache-compute-0002/cache/data8/adaptor.mars.internal-1573660580.6612635-12075-16-5152f152-4222-47a4-ad8b-b965d44d0ce4.grib to /home/matt_s/kadlu/storage/ERA5_reanalysis_significant_height_of_combined_wind_waves_and_swell_2015-03-09_19h.grb2 (312.1K)\n",
      "2019-11-13 13:39:00,820 INFO Download rate 348.2K/s\n"
     ]
    },
    {
     "name": "stdout",
     "output_type": "stream",
     "text": [
      "ERA5_reanalysis_significant_height_of_combined_wind_waves_and_swell_2015-03-09_19h.grb2 processed and inserted 143420 rows. 116500 null values removed, 0 duplicate rows ignored\n"
     ]
    }
   ],
   "source": [
    "wavesource.fetch_windwaveswellheight(south=south, north=north, \n",
    "                                    west=west, east=east, \n",
    "                                    start=start, end=end)"
   ]
  },
  {
   "cell_type": "code",
   "execution_count": 47,
   "metadata": {},
   "outputs": [],
   "source": [
    "from kadlu.geospatial.data_sources import wwiii\n",
    "reload(wwiii)\n",
    "wavesource2 = wwiii.Wwiii()"
   ]
  },
  {
   "cell_type": "code",
   "execution_count": null,
   "metadata": {},
   "outputs": [],
   "source": [
    "wavesource2.fetch_windwaveheight(south=south, north=north, \n",
    "                                      west=west, east=east, \n",
    "                                      start=start, end=end)"
   ]
  },
  {
   "cell_type": "code",
   "execution_count": 25,
   "metadata": {},
   "outputs": [],
   "source": [
    "from kadlu.geospatial.ocean import Ocean\n",
    "from kadlu.sound.sound_speed import SoundSpeed \n",
    "from kadlu.geospatial.data_sources.fetch_util import storage_cfg"
   ]
  },
  {
   "cell_type": "code",
   "execution_count": 38,
   "metadata": {},
   "outputs": [
    {
     "data": {
      "text/plain": [
       "array(['11277', '50.08000183105469', '-56.4000244140625', '133119', '0',\n",
       "       'hycom', '-21641', '50.08000183105469', '-56.4000244140625',\n",
       "       '133119', '0', 'hycom'], dtype='<U32')"
      ]
     },
     "execution_count": 38,
     "metadata": {},
     "output_type": "execute_result"
    }
   ],
   "source": [
    "res[:,1]"
   ]
  },
  {
   "cell_type": "code",
   "execution_count": 51,
   "metadata": {},
   "outputs": [
    {
     "name": "stdout",
     "output_type": "stream",
     "text": [
      "no bathy data for (44.013, -70.429), skipping\n",
      "no era5 data for (44.013, -68.429)\n",
      "no era5 data for (44.013, -66.429)\n",
      "no era5 data for (44.013, -64.429)\n",
      "no era5 data for (44.013, -62.429)\n",
      "no era5 data for (44.013, -60.429)\n",
      "no era5 data for (44.013, -58.429)\n",
      "no era5 data for (44.013, -56.429)\n",
      "no era5 data for (46.013, -70.429)\n",
      "no temp / salinity data for (46.013, -68.429), skipping\n",
      "no era5 data for (46.013, -66.429)\n",
      "no era5 data for (46.013, -64.429)\n",
      "no era5 data for (46.013, -62.429)\n",
      "no era5 data for (46.013, -60.429)\n",
      "no era5 data for (46.013, -58.429)\n",
      "no era5 data for (46.013, -56.429)\n",
      "no era5 data for (48.013, -70.429)\n",
      "no era5 data for (48.013, -68.429)\n",
      "no era5 data for (48.013, -66.429)\n",
      "no era5 data for (48.013, -64.429)\n",
      "no era5 data for (48.013, -62.429)\n",
      "no era5 data for (48.013, -60.429)\n",
      "no era5 data for (48.013, -58.429)\n",
      "no era5 data for (48.013, -56.429)\n",
      "no bathy data for (50.013, -70.429), skipping\n",
      "no era5 data for (50.013, -68.429)\n",
      "no era5 data for (50.013, -66.429)\n",
      "no era5 data for (50.013, -64.429)\n",
      "no era5 data for (50.013, -62.429)\n",
      "no era5 data for (50.013, -60.429)\n",
      "no era5 data for (50.013, -58.429)\n",
      "no era5 data for (50.013, -56.429)\n"
     ]
    }
   ],
   "source": [
    "# parameter selection\n",
    "start = datetime(2015, 3, 9, 13, 25, 0)\n",
    "end   = datetime(2015, 3, 9, 19, 0, 0)\n",
    "\n",
    "# gulf st lawrence\n",
    "south, west = 44.013, -70.429\n",
    "north, east = 51.823, -55.977\n",
    "top, bottom = 0, 0 \n",
    "\n",
    "step = 2\n",
    "for ymin in np.arange(south, north, step):\n",
    "    for xmin in np.arange(west, east, step):\n",
    "        xmax = xmin + step\n",
    "        ymax = ymin + step\n",
    "        \n",
    "        try:\n",
    "            bathy, blat, blon = bathysource.load_bathymetry(south=ymin, north=ymax, west=xmin, east=xmax)\n",
    "        except:\n",
    "            print(f\"no bathy data for {(ymin, xmin)}, skipping\")\n",
    "            continue\n",
    "        \n",
    "        qry = ' AND '.join([\n",
    "            \"SELECT * FROM salinity INNER JOIN water_temp ON salinity.lat = water_temp.lat \",\n",
    "            \"salinity.lon = water_temp.lon \",\n",
    "            \"salinity.time = water_temp.time\",\n",
    "            \"salinity.depth = water_temp.depth\",\n",
    "            \"salinity.lat >= ?\",\n",
    "            \"salinity.lat <= ?\",\n",
    "            \"salinity.lon >= ?\",\n",
    "            \"salinity.lon <= ?\",\n",
    "            \"salinity.time >= ?\",\n",
    "            \"salinity.time <= ?\",\n",
    "            \"salinity.depth >= ?\",\n",
    "            \"salinity.depth <= ? LIMIT 1000000;\"])\n",
    "\n",
    "        db.execute(qry, tuple(map(str, [ymin, ymax, xmin, xmax,\n",
    "                                        dt_2_epoch(start)[0], dt_2_epoch(end)[0],\n",
    "                                        top, bottom])))\n",
    "        res = np.array(db.fetchall()).T\n",
    "        if len(res) == 0: \n",
    "            print(f\"no temp / salinity data for {(ymin, xmin)}, skipping\")\n",
    "            continue\n",
    "        salinity = res[0]\n",
    "        temp = res[6]\n",
    "        tlat = res[1]\n",
    "        tlon = res[2]\n",
    "        tdep = res[4]\n",
    "        \n",
    "        try:\n",
    "            wave, wlat, wlon, wtime = \\\n",
    "            wavesource.load_windwaveswellheight(south=ymin, north=ymax, \n",
    "                                                west=xmin, east=xmax, \n",
    "                                                start=start, end=end)\n",
    "        except:\n",
    "            print(f\"no era5 data for {(ymin, xmin)}\")\n",
    "            continue\n",
    "            \n",
    "        oceantest = Ocean(salinity=salinity, temp=temp, bathy=bathy, wave=wave, wave_var='comb. wind wave swell height')\n",
    "        oceantest.set_origin(lat_ref=tlat, lon_ref=tlon)\n",
    "        \n",
    "        sndspd = SoundSpeed(oceantest)._sound_speed(tlat, tlon, tdep, temp, salinity)\n",
    "        \n",
    "        print(sndspd, ymin, xmin)\n"
   ]
  }
 ],
 "metadata": {
  "kernelspec": {
   "display_name": "Python 3",
   "language": "python",
   "name": "python3"
  },
  "language_info": {
   "codemirror_mode": {
    "name": "ipython",
    "version": 3
   },
   "file_extension": ".py",
   "mimetype": "text/x-python",
   "name": "python",
   "nbconvert_exporter": "python",
   "pygments_lexer": "ipython3",
   "version": "3.6.8"
  }
 },
 "nbformat": 4,
 "nbformat_minor": 2
}
