{
 "cells": [
  {
   "cell_type": "markdown",
   "metadata": {},
   "source": [
    "# Kadlu's Ocean Module"
   ]
  },
  {
   "cell_type": "markdown",
   "metadata": {},
   "source": [
    "The ocean module is an abstraction of Kadlu's loading and interpolation functions, which provides a unified interface to quickly load and interpolate many different environmental variables. In this tutorial, we will take a closer look at the key functionalities of the ocean module."
   ]
  },
  {
   "cell_type": "markdown",
   "metadata": {},
   "source": [
    "We begin by importing the necessary modules, functions, etc."
   ]
  },
  {
   "cell_type": "code",
   "execution_count": 1,
   "metadata": {},
   "outputs": [],
   "source": [
    "import numpy as np\n",
    "from datetime import datetime\n",
    "\n",
    "from kadlu import source_map\n",
    "from kadlu.geospatial.ocean import Ocean"
   ]
  },
  {
   "cell_type": "markdown",
   "metadata": {},
   "source": [
    "The geographical and temporal boundaries are specified as python dictionary, to be passed to the plotting function later. In this example, we are concerned with first 100 m below the sea surface (bottom=100, top=0) of the waters in the Gulf of St. Lawrence ($44^o$N to $51^o$N and $-68.5^o$W to $-56.5^o$W) on the first 12 hours of January 9, 2015."
   ]
  },
  {
   "cell_type": "code",
   "execution_count": 2,
   "metadata": {},
   "outputs": [],
   "source": [
    "# ocean boundaries: gulf of st lawrence (top 100m from the surface)\n",
    "bounds = dict(\n",
    "        start=datetime(2015, 1, 9), end=datetime(2015, 1, 9, 12),\n",
    "        south=44,                   west=-68.5, \n",
    "        north=51,                   east=-56.5, \n",
    "        top=0,                      bottom=100\n",
    "    )"
   ]
  },
  {
   "cell_type": "markdown",
   "metadata": {},
   "source": [
    "### Initialization and querying"
   ]
  },
  {
   "cell_type": "markdown",
   "metadata": {},
   "source": [
    "The ocean module can be instatiated without specifying any data sources. This is the simplest way of instantiating the ocean module and result in an ocean with null data everywere."
   ]
  },
  {
   "cell_type": "code",
   "execution_count": 3,
   "metadata": {},
   "outputs": [],
   "source": [
    "o = Ocean(**bounds) # instantiate ocean with null values"
   ]
  },
  {
   "cell_type": "markdown",
   "metadata": {},
   "source": [
    "The ocean module has a bunch of methods for querying various environmental data. For a full list, see the ocean module's documentation page. For example, bathymetric data can be queried with the `bathy` method as follows,"
   ]
  },
  {
   "cell_type": "code",
   "execution_count": 4,
   "metadata": {},
   "outputs": [
    {
     "data": {
      "text/plain": [
       "array([0., 0.])"
      ]
     },
     "execution_count": 4,
     "metadata": {},
     "output_type": "execute_result"
    }
   ],
   "source": [
    "o.bathy(lat=[47.5, 48.1], lon=[-64, -62.5]) # query bathymetric interpolator for values at given coordinates"
   ]
  },
  {
   "cell_type": "markdown",
   "metadata": {},
   "source": [
    "To query using planar coordinates, use the `bathy_xy` method instead,"
   ]
  },
  {
   "cell_type": "code",
   "execution_count": 6,
   "metadata": {},
   "outputs": [
    {
     "ename": "NameError",
     "evalue": "name 'z' is not defined",
     "output_type": "error",
     "traceback": [
      "\u001b[0;31m---------------------------------------------------------------------------\u001b[0m",
      "\u001b[0;31mNameError\u001b[0m                                 Traceback (most recent call last)",
      "\u001b[0;32m<ipython-input-6-22a796608ec9>\u001b[0m in \u001b[0;36m<module>\u001b[0;34m\u001b[0m\n\u001b[0;32m----> 1\u001b[0;31m \u001b[0mo\u001b[0m\u001b[0;34m.\u001b[0m\u001b[0mbathy_xy\u001b[0m\u001b[0;34m(\u001b[0m\u001b[0mx\u001b[0m\u001b[0;34m=\u001b[0m\u001b[0;34m[\u001b[0m\u001b[0;34m-\u001b[0m\u001b[0;36m2000\u001b[0m\u001b[0;34m,\u001b[0m \u001b[0;36m3500\u001b[0m\u001b[0;34m]\u001b[0m\u001b[0;34m,\u001b[0m \u001b[0my\u001b[0m\u001b[0;34m=\u001b[0m\u001b[0;34m[\u001b[0m\u001b[0;36m10000\u001b[0m\u001b[0;34m,\u001b[0m \u001b[0;36m15000\u001b[0m\u001b[0;34m]\u001b[0m\u001b[0;34m)\u001b[0m \u001b[0;31m# query bathymetric interpolator for values at given displacements\u001b[0m\u001b[0;34m\u001b[0m\u001b[0m\n\u001b[0m",
      "\u001b[0;32m~/src/anaconda3/envs/kadlu_env/lib/python3.6/site-packages/kadlu/geospatial/ocean.py\u001b[0m in \u001b[0;36mbathy_xy\u001b[0;34m(self, x, y, grid)\u001b[0m\n\u001b[1;32m    195\u001b[0m \u001b[0;34m\u001b[0m\u001b[0m\n\u001b[1;32m    196\u001b[0m     \u001b[0;32mdef\u001b[0m \u001b[0mbathy_xy\u001b[0m\u001b[0;34m(\u001b[0m\u001b[0mself\u001b[0m\u001b[0;34m,\u001b[0m \u001b[0mx\u001b[0m\u001b[0;34m,\u001b[0m \u001b[0my\u001b[0m\u001b[0;34m,\u001b[0m \u001b[0mgrid\u001b[0m\u001b[0;34m=\u001b[0m\u001b[0;32mFalse\u001b[0m\u001b[0;34m)\u001b[0m\u001b[0;34m:\u001b[0m\u001b[0;34m\u001b[0m\u001b[0m\n\u001b[0;32m--> 197\u001b[0;31m         \u001b[0;32mreturn\u001b[0m \u001b[0mself\u001b[0m\u001b[0;34m.\u001b[0m\u001b[0minterps\u001b[0m\u001b[0;34m[\u001b[0m\u001b[0;34m'bathy'\u001b[0m\u001b[0;34m]\u001b[0m\u001b[0;34m.\u001b[0m\u001b[0minterp_xy\u001b[0m\u001b[0;34m(\u001b[0m\u001b[0mx\u001b[0m\u001b[0;34m,\u001b[0m \u001b[0my\u001b[0m\u001b[0;34m,\u001b[0m \u001b[0mz\u001b[0m\u001b[0;34m,\u001b[0m \u001b[0mgrid\u001b[0m\u001b[0;34m)\u001b[0m\u001b[0;34m\u001b[0m\u001b[0m\n\u001b[0m\u001b[1;32m    198\u001b[0m \u001b[0;34m\u001b[0m\u001b[0m\n\u001b[1;32m    199\u001b[0m     \u001b[0;32mdef\u001b[0m \u001b[0mbathy_deriv\u001b[0m\u001b[0;34m(\u001b[0m\u001b[0mself\u001b[0m\u001b[0;34m,\u001b[0m \u001b[0mlat\u001b[0m\u001b[0;34m,\u001b[0m \u001b[0mlon\u001b[0m\u001b[0;34m,\u001b[0m \u001b[0maxis\u001b[0m\u001b[0;34m=\u001b[0m\u001b[0;34m'lon'\u001b[0m\u001b[0;34m,\u001b[0m \u001b[0mgrid\u001b[0m\u001b[0;34m=\u001b[0m\u001b[0;32mFalse\u001b[0m\u001b[0;34m)\u001b[0m\u001b[0;34m:\u001b[0m\u001b[0;34m\u001b[0m\u001b[0m\n",
      "\u001b[0;31mNameError\u001b[0m: name 'z' is not defined"
     ]
    }
   ],
   "source": [
    "o.bathy_xy(x=[-2000, 3500], y=[10000, 15000]) # query bathymetric interpolator for values at given displacements"
   ]
  },
  {
   "cell_type": "markdown",
   "metadata": {},
   "source": [
    "Here, `x` and `y` are the horizontal (W-E) and vertical (S-N) displacements in meters, respectively, in a planar coordinate system centered at the mid-point of the geographical region under consideration."
   ]
  },
  {
   "cell_type": "markdown",
   "metadata": {},
   "source": [
    "### Automatic loading of data"
   ]
  },
  {
   "cell_type": "markdown",
   "metadata": {},
   "source": [
    "In order to use Kadlu's automated data loading functionalities, you simply have to specify one (or several) of the data sources listed in the source_map. For example,"
   ]
  },
  {
   "cell_type": "code",
   "execution_count": 13,
   "metadata": {
    "scrolled": true
   },
   "outputs": [
    {
     "name": "stdout",
     "output_type": "stream",
     "text": [
      "HYCOM 2015-01-09 salinity: downloading 4590080 values...\n",
      "HYCOM 2015-01-09 salinity: downloaded 4360 Kb in 83.892s. parsed and inserted 120648 rows in 19.724s. 2469864 null values removed, 1999568 duplicates ignored\n"
     ]
    },
    {
     "name": "stderr",
     "output_type": "stream",
     "text": [
      "/home/oliskir/src/anaconda3/envs/kadlu_env/lib/python3.6/site-packages/scipy/interpolate/interpolate.py:2537: RuntimeWarning: divide by zero encountered in true_divide\n",
      "  (grid[i + 1] - grid[i]))\n",
      "/home/oliskir/src/anaconda3/envs/kadlu_env/lib/python3.6/site-packages/scipy/interpolate/interpolate.py:2537: RuntimeWarning: invalid value encountered in true_divide\n",
      "  (grid[i + 1] - grid[i]))\n",
      "/home/oliskir/src/anaconda3/envs/kadlu_env/lib/python3.6/site-packages/scipy/interpolate/interpolate.py:2515: RuntimeWarning: invalid value encountered in add\n",
      "  values += np.asarray(self.values[edge_indices]) * weight[vslice]\n"
     ]
    },
    {
     "data": {
      "text/plain": [
       "array([nan, nan])"
      ]
     },
     "execution_count": 13,
     "metadata": {},
     "output_type": "execute_result"
    }
   ],
   "source": [
    "o = Ocean(load_salinity='hycom', **bounds)                     # instantiate interpolator with HYCOM salinity data\n",
    "o.salinity(lat=[47.5, 48.1], lon=[-64, -62.5], depth=[0, 10])  # query interpolator for values at given coordinates"
   ]
  },
  {
   "cell_type": "code",
   "execution_count": 5,
   "metadata": {},
   "outputs": [
    {
     "data": {
      "text/plain": [
       "array([0., 0.])"
      ]
     },
     "execution_count": 5,
     "metadata": {},
     "output_type": "execute_result"
    }
   ],
   "source": [
    "o.waveheight(lat=[47.5, 48.1], lon=[-64, -62.5]) # query waveheight interpolator: values remain null"
   ]
  },
  {
   "cell_type": "markdown",
   "metadata": {},
   "source": [
    "Kadlu can check for missing data and prepare interpolators for many variables at the same time"
   ]
  },
  {
   "cell_type": "code",
   "execution_count": 6,
   "metadata": {
    "scrolled": false
   },
   "outputs": [],
   "source": [
    "# source strings passed as load arguments tells the ocean module where to source the data\n",
    "sources = dict(\n",
    "        load_bathymetry=0, # dont load bathymetry \n",
    "        load_temp='hycom',\n",
    "        load_salinity='hycom',\n",
    "        load_wavedir='era5',\n",
    "        load_waveheight='era5',\n",
    "        load_waveperiod='era5',\n",
    "        load_wavedirection='era5',\n",
    "        load_windspeed='era5'\n",
    "    )\n",
    "\n",
    "o = Ocean(**sources, **bounds)"
   ]
  },
  {
   "cell_type": "code",
   "execution_count": 7,
   "metadata": {},
   "outputs": [
    {
     "data": {
      "text/plain": [
       "array([1.80722759, 2.43859011])"
      ]
     },
     "execution_count": 7,
     "metadata": {},
     "output_type": "execute_result"
    }
   ],
   "source": [
    "o.waveheight(lat=[47.5, 48.1], lon=[-64, -62.5])  # query waveheight interpolator"
   ]
  },
  {
   "cell_type": "markdown",
   "metadata": {},
   "source": [
    "Kadlu also supports ocean interpolation using arbitrary environmental data. An ocean can be initialized by passing a float or array of floats to the load_variable keyword argument. Arrays must be ordered by [values, lat, lon] for 2D data, or [values, lat, lon, depth] for 3D data.\n",
    "\n",
    "When a float value is used, a uniform \"interpolation\" of that value will be returned for every coordinate location"
   ]
  },
  {
   "cell_type": "code",
   "execution_count": 8,
   "metadata": {},
   "outputs": [],
   "source": [
    "bathy_arr = np.array((\n",
    "        np.random.randint(0, 500, 100),                            # array of length 100 with random values in the range 0-500.\n",
    "        np.random.randint(bounds['south'], bounds['north'], 100),  # latitudes\n",
    "        np.random.randint(bounds['west'],  bounds['east'], 100)    # longitudes\n",
    "    ))\n",
    "temp_float = 10\n",
    "salinity_float = 35\n",
    "\n",
    "o = Ocean(load_bathymetry=bathy_arr, load_temp=temp_float, load_salinity=salinity_float, **bounds)"
   ]
  },
  {
   "cell_type": "code",
   "execution_count": 9,
   "metadata": {},
   "outputs": [
    {
     "name": "stdout",
     "output_type": "stream",
     "text": [
      "bathymetry:\t [398.16666667 346.1       ]\n",
      "temperature:\t [10. 10.]\n",
      "salinity:\t [35. 35.]\n"
     ]
    }
   ],
   "source": [
    "print('bathymetry:\\t',  o.bathy(   lat=[47.5, 48.1], lon=[-64, -62.5]))\n",
    "print('temperature:\\t', o.temp(    lat=[47.5, 48.1], lon=[-64, -62.5], depth=[0, 50]))\n",
    "print('salinity:\\t',    o.salinity(lat=[47.5, 48.1], lon=[-64, -62.5], depth=[0, 50]))"
   ]
  },
  {
   "cell_type": "markdown",
   "metadata": {},
   "source": [
    "for a list of possible strings accepted as input for the load_variable arguments, choose one of the sources listed in the source_map that supports that variable:"
   ]
  },
  {
   "cell_type": "code",
   "execution_count": 10,
   "metadata": {},
   "outputs": [
    {
     "name": "stdout",
     "output_type": "stream",
     "text": [
      "\n",
      "    CHS   (Canadian Hydrography Service)\n",
      "          load_bathymetry:          bathymetric data in Canada's waterways. variable resolution \n",
      "\n",
      "    ERA5  (Global environmental dataset from Copernicus Climate Data Store)\n",
      "          load_windwaveswellheight: combined height of wind, waves, and swell. metres\n",
      "          load_wavedirection:       mean wave direction, degrees\n",
      "          load_waveperiod:          mean wave period, seconds\n",
      "          load_wind_uv:             wind speed computed as sqrt(u^2 + v^2) / 2, where u, v are direction vectors\n",
      "          load_wind_u:              wind speed coordinate U-vector, m/s\n",
      "          load_wind_v:              wind speed coordinate V-vector, m/s \n",
      "\n",
      "    HYCOM (Hybrid Coordinate Ocean Model)\n",
      "          load_salinity:            g/kg salt in water\n",
      "          load_temp:                degrees celsius\n",
      "          load_water_uv:            ocean current computed as sqrt(u^2 + v^2) / 2, where u, v are direction vectors\n",
      "          load_water_u:             ocean current coordinate U-vector, m/s\n",
      "          load_water_v:             ocean current coordinate V-vector, m/s \n",
      "\n",
      "    WWIII (WaveWatch Ocean Model Gen 3)\n",
      "          load_wavedirection:       primary wave direction, degrees\n",
      "          load_waveperiod:          primary mean wave period, seconds\n",
      "          load_windwaveheight:      combined height of wind and waves, metres\n",
      "          load_wind_uv:             wind speed computed as sqrt(u^2 + v^2) / 2, where u, v are direction vectors\n",
      "          load_wind_u:              wind speed coordinate U-vector, m/s\n",
      "          load_wind_v:              wind speed coordinate V-vector, m/s\n",
      "    \n"
     ]
    }
   ],
   "source": [
    "print(source_map)"
   ]
  }
 ],
 "metadata": {
  "kernelspec": {
   "display_name": "Python 3",
   "language": "python",
   "name": "python3"
  },
  "language_info": {
   "codemirror_mode": {
    "name": "ipython",
    "version": 3
   },
   "file_extension": ".py",
   "mimetype": "text/x-python",
   "name": "python",
   "nbconvert_exporter": "python",
   "pygments_lexer": "ipython3",
   "version": "3.6.6"
  }
 },
 "nbformat": 4,
 "nbformat_minor": 4
}
