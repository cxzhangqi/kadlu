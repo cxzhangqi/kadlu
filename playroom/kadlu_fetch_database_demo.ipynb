{
 "cells": [
  {
   "cell_type": "code",
   "execution_count": 1,
   "metadata": {},
   "outputs": [],
   "source": [
    "import sqlite3  # builtin library\n",
    "import numpy as np\n",
    "from kadlu.geospatial.data_sources.fetch_util import storage_cfg\n",
    "from datetime import datetime"
   ]
  },
  {
   "cell_type": "code",
   "execution_count": 2,
   "metadata": {},
   "outputs": [],
   "source": [
    "conn = sqlite3.connect(f\"{storage_cfg()}kadlu_fetch.db\")  # location of database on the disk\n",
    "c = conn.cursor()  # database connection as python object"
   ]
  },
  {
   "cell_type": "code",
   "execution_count": 3,
   "metadata": {},
   "outputs": [
    {
     "data": {
      "text/plain": [
       "<sqlite3.Cursor at 0x7fd6c20ac570>"
      ]
     },
     "execution_count": 3,
     "metadata": {},
     "output_type": "execute_result"
    }
   ],
   "source": [
    "# create table\n",
    "c.execute(\"DROP TABLE salinity\")\n",
    "c.execute(\"CREATE TABLE IF NOT EXISTS salinity(val int, lat int, lon int, time int, depth int)\")\n",
    "\n",
    "# build an index on temporospatial params for faster querying\n",
    "c.execute(\"CREATE INDEX idx_salinity on salinity (lat, lon, time)\")\n",
    "# note that SQLite has a \"unique\" index option as well to prevent duplicate entries from multiple queries"
   ]
  },
  {
   "cell_type": "markdown",
   "metadata": {},
   "source": [
    "write some data to the db"
   ]
  },
  {
   "cell_type": "code",
   "execution_count": 4,
   "metadata": {},
   "outputs": [],
   "source": [
    "salinity_array = np.array([4, 5], dtype=int)\n",
    "lats = np.array([44, 50], dtype=int)\n",
    "lons = np.array([-70, -65], dtype=int)\n",
    "times = np.array([1000, 1001], dtype=int)\n",
    "depths = np.array([100, 100], dtype=int)\n",
    "\n",
    "for ix in range(0, len(salinity_array)):\n",
    "    c.execute(f\"INSERT INTO salinity VALUES ({salinity_array[ix]}, {lats[ix]}, {lons[ix]}, {times[ix]}, {depths[ix]})\")\n",
    "\n",
    "# batch insert is also possible: \n",
    "\n",
    "#c.executemany(f\"INSERT INTO salinity VALUES (?, ?, ?, ?, ?)\", \n",
    "#              np.vstack((salinity_array, lats, lons, times, depths)).T)\n"
   ]
  },
  {
   "cell_type": "code",
   "execution_count": 5,
   "metadata": {},
   "outputs": [],
   "source": [
    "# update the db with changes made\n",
    "conn.commit()"
   ]
  },
  {
   "cell_type": "code",
   "execution_count": 6,
   "metadata": {},
   "outputs": [
    {
     "name": "stdout",
     "output_type": "stream",
     "text": [
      "[[   4   44  -70 1000  100]\n",
      " [   5   50  -65 1001  100]]\n"
     ]
    }
   ],
   "source": [
    "# read some data out of the database\n",
    "query = \"SELECT * FROM salinity WHERE lat BETWEEN 40 AND 54 AND lon BETWEEN -72 and -55;\"  # gulf st lawrence\n",
    "c.execute(query)\n",
    "res = np.array(c.fetchall())\n",
    "print(res)"
   ]
  },
  {
   "cell_type": "code",
   "execution_count": 7,
   "metadata": {},
   "outputs": [],
   "source": [
    "# commit the changes made to the database and close connection when done\n",
    "conn.commit()\n",
    "c.close()\n",
    "conn.close()"
   ]
  }
 ],
 "metadata": {
  "kernelspec": {
   "display_name": "Python 3",
   "language": "python",
   "name": "python3"
  },
  "language_info": {
   "codemirror_mode": {
    "name": "ipython",
    "version": 3
   },
   "file_extension": ".py",
   "mimetype": "text/x-python",
   "name": "python",
   "nbconvert_exporter": "python",
   "pygments_lexer": "ipython3",
   "version": "3.6.8"
  }
 },
 "nbformat": 4,
 "nbformat_minor": 2
}
