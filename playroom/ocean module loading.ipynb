{
 "cells": [
  {
   "cell_type": "markdown",
   "metadata": {},
   "source": [
    "## loading data for ocean module"
   ]
  },
  {
   "cell_type": "code",
   "execution_count": 1,
   "metadata": {},
   "outputs": [],
   "source": [
    "import numpy as np\n",
    "from kadlu.geospatial.data_sources import hycom\n",
    "from kadlu.geospatial.data_sources.fetch_util import index\n",
    "from kadlu.geospatial import ocean\n",
    "from kadlu.geospatial.interpolation import Interpolator3D\n",
    "from importlib import reload\n",
    "from datetime import datetime\n",
    "from functools import reduce\n",
    "reload(hycom)\n",
    "self = ocean.Ocean()"
   ]
  },
  {
   "cell_type": "code",
   "execution_count": 2,
   "metadata": {},
   "outputs": [],
   "source": [
    "south, west = 46, -60\n",
    "north, east = 48, -58\n",
    "top, bottom = 0, 5000\n",
    "start,  end = datetime(2015, 1, 10), datetime(2015, 1, 10, 12)"
   ]
  },
  {
   "cell_type": "code",
   "execution_count": 3,
   "metadata": {},
   "outputs": [
    {
     "name": "stdout",
     "output_type": "stream",
     "text": [
      "downloading 265200 water_temp values from hycom...\n",
      "downloaded 280.2Kb in 74.697s. parsed and inserted 0 rows in 1.275s\n",
      "128605 null values removed, 136595 duplicate rows ignored\n",
      "\n"
     ]
    }
   ],
   "source": [
    "hycom.Hycom().fetch_temp(\n",
    "        south=south, north=north, west=west, east=east,\n",
    "        start=start, end=end, top=top, bottom=bottom\n",
    "    )"
   ]
  },
  {
   "cell_type": "code",
   "execution_count": 4,
   "metadata": {},
   "outputs": [],
   "source": [
    "self.temp_data = hycom.Hycom().load_temp(\n",
    "        south=south, north=north, west=west, east=east,\n",
    "        start=start, end=end, top=top, bottom=bottom\n",
    "    )"
   ]
  },
  {
   "cell_type": "code",
   "execution_count": 5,
   "metadata": {},
   "outputs": [
    {
     "data": {
      "text/plain": [
       "(5, 136595)"
      ]
     },
     "execution_count": 5,
     "metadata": {},
     "output_type": "execute_result"
    }
   ],
   "source": [
    "self.temp_data.shape"
   ]
  },
  {
   "cell_type": "code",
   "execution_count": 6,
   "metadata": {},
   "outputs": [],
   "source": [
    "# build split index, reduce 4th dimension to 3D avg\n",
    "splidx = np.append(\n",
    "        np.nonzero(\n",
    "            self.temp_data[3][1:] > self.temp_data[3][:-1]\n",
    "        )[0] + 1,  \n",
    "        len(self.temp_data[3])\n",
    "    )\n",
    "if len(splidx) > 1:  # if fourth dimension exists, take avg and reduce to 3D\n",
    "    \"\"\"\n",
    "    assert (self.temp_data[1][splidx[0]:splidx[1]] == self.temp_data[1][splidx[1]:splidx[2]]).all()\n",
    "    assert (self.temp_data[2][splidx[0]:splidx[1]] == self.temp_data[2][splidx[1]:splidx[2]]).all()\n",
    "    \"\"\"\n",
    "    splitd = np.array([self.temp_data[0][splidx[d]:splidx[d+1]] for d in range(0, len(splidx)-1)])\n",
    "    vals = (reduce(np.add, splitd) / len(splitd)).astype(float) \n",
    "    x = self.temp_data[2] [splidx[0] : splidx[1]].astype(float) \n",
    "    y = self.temp_data[1] [splidx[0] : splidx[1]].astype(float) \n",
    "    z = self.temp_data[4] [splidx[0] : splidx[1]].astype(float) \n",
    "    #warnings.warn(\"query data has been averaged across the time dimension for 3D interpolation\"\n",
    "    #        + \"\\nto avoid this behaviour, use keyword argument 'time' instead of start/end\")\n",
    "else:   # if data is already 3 dimensional, just leave as is\n",
    "    vals = self.temp_data[0].astype(float)\n",
    "    x = self.temp_data[2].astype(float)\n",
    "    y = self.temp_data[1].astype(float)\n",
    "    z = self.temp_data[4].astype(float)\n",
    "\n",
    "xgrid = np.unique(x)\n",
    "ygrid = np.unique(y)\n",
    "zgrid = np.unique(z)\n",
    "\n",
    "# reshape row data to 3D array\n",
    "rowdata = np.array((vals, y, x, z)).T\n",
    "gridspace = np.full((len(ygrid), len(xgrid), len(zgrid)), fill_value=-30000)\n",
    "# this could probably be optimized to avoid an index lookup cost\n",
    "# for every value by using a map, but i havent figured out how yet\n",
    "for row in rowdata:\n",
    "    x_ix = index(row[2], xgrid)\n",
    "    y_ix = index(row[1], ygrid)\n",
    "    z_ix = index(row[3], zgrid)\n",
    "    gridspace[y_ix, x_ix, z_ix] = row[0]\n",
    "\n",
    "self.temp_interp = Interpolator3D(\n",
    "        values=gridspace,\n",
    "        lats=ygrid, lons=xgrid,\n",
    "        depths=zgrid, origin=self.origin,\n",
    "        method='linear')\n"
   ]
  },
  {
   "cell_type": "code",
   "execution_count": 7,
   "metadata": {},
   "outputs": [
    {
     "data": {
      "text/plain": [
       "(51, 26, 28)"
      ]
     },
     "execution_count": 7,
     "metadata": {},
     "output_type": "execute_result"
    }
   ],
   "source": [
    "gridspace.shape"
   ]
  },
  {
   "cell_type": "code",
   "execution_count": 8,
   "metadata": {},
   "outputs": [
    {
     "data": {
      "text/plain": [
       "array([[[-30000, -30000, -30000, ..., -30000, -30000, -30000],\n",
       "        [-30000, -30000, -30000, ..., -30000, -30000, -30000],\n",
       "        [-30000, -30000, -30000, ..., -30000, -30000, -30000],\n",
       "        ...,\n",
       "        [-17310, -17303, -17300, ..., -14951, -30000, -30000],\n",
       "        [-17208, -17203, -17202, ..., -14934, -15094, -30000],\n",
       "        [-17276, -17272, -17271, ..., -14836, -15092, -30000]],\n",
       "\n",
       "       [[-30000, -30000, -30000, ..., -30000, -30000, -30000],\n",
       "        [-30000, -30000, -30000, ..., -30000, -30000, -30000],\n",
       "        [-30000, -30000, -30000, ..., -30000, -30000, -30000],\n",
       "        ...,\n",
       "        [-17350, -17343, -17340, ..., -14931, -15076, -30000],\n",
       "        [-17228, -17223, -17221, ..., -14858, -15091, -30000],\n",
       "        [-17301, -17297, -17296, ..., -14801, -15095, -30000]],\n",
       "\n",
       "       [[-30000, -30000, -30000, ..., -30000, -30000, -30000],\n",
       "        [-30000, -30000, -30000, ..., -30000, -30000, -30000],\n",
       "        [-30000, -30000, -30000, ..., -30000, -30000, -30000],\n",
       "        ...,\n",
       "        [-17439, -17431, -17428, ..., -14886, -15090, -30000],\n",
       "        [-17255, -17249, -17247, ..., -14815, -15098, -30000],\n",
       "        [-17309, -17304, -17303, ..., -14792, -15081, -30000]],\n",
       "\n",
       "       ...,\n",
       "\n",
       "       [[-19284, -19274, -19272, ..., -14647, -14863, -30000],\n",
       "        [-19351, -19341, -19338, ..., -14619, -14821, -30000],\n",
       "        [-19400, -19390, -19387, ..., -14592, -14771, -30000],\n",
       "        ...,\n",
       "        [-30000, -30000, -30000, ..., -30000, -30000, -30000],\n",
       "        [-30000, -30000, -30000, ..., -30000, -30000, -30000],\n",
       "        [-30000, -30000, -30000, ..., -30000, -30000, -30000]],\n",
       "\n",
       "       [[-19249, -19240, -19237, ..., -14629, -14846, -30000],\n",
       "        [-19364, -19355, -19352, ..., -14601, -14797, -30000],\n",
       "        [-19460, -19450, -19448, ..., -14593, -14766, -30000],\n",
       "        ...,\n",
       "        [-30000, -30000, -30000, ..., -30000, -30000, -30000],\n",
       "        [-30000, -30000, -30000, ..., -30000, -30000, -30000],\n",
       "        [-30000, -30000, -30000, ..., -30000, -30000, -30000]],\n",
       "\n",
       "       [[-19236, -19227, -19225, ..., -14603, -14824, -30000],\n",
       "        [-19397, -19388, -19386, ..., -14597, -14788, -30000],\n",
       "        [-19548, -19539, -19537, ..., -14694, -14747, -30000],\n",
       "        ...,\n",
       "        [-30000, -30000, -30000, ..., -30000, -30000, -30000],\n",
       "        [-30000, -30000, -30000, ..., -30000, -30000, -30000],\n",
       "        [-30000, -30000, -30000, ..., -30000, -30000, -30000]]])"
      ]
     },
     "execution_count": 8,
     "metadata": {},
     "output_type": "execute_result"
    }
   ],
   "source": [
    "gridspace"
   ]
  },
  {
   "cell_type": "code",
   "execution_count": null,
   "metadata": {},
   "outputs": [],
   "source": []
  }
 ],
 "metadata": {
  "kernelspec": {
   "display_name": "Python 3",
   "language": "python",
   "name": "python3"
  },
  "language_info": {
   "codemirror_mode": {
    "name": "ipython",
    "version": 3
   },
   "file_extension": ".py",
   "mimetype": "text/x-python",
   "name": "python",
   "nbconvert_exporter": "python",
   "pygments_lexer": "ipython3",
   "version": "3.6.9"
  }
 },
 "nbformat": 4,
 "nbformat_minor": 2
}
