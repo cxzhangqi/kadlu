{
 "cells": [
  {
   "cell_type": "code",
   "execution_count": 51,
   "metadata": {},
   "outputs": [],
   "source": [
    "import numpy as np\n",
    "from datetime import datetime\n",
    "from kadlu.geospatial.data_sources import chs\n",
    "from kadlu.geospatial.data_sources import era5\n",
    "from kadlu.geospatial.data_sources import hycom\n",
    "from kadlu.geospatial.data_sources import wwiii\n",
    "from kadlu.geospatial.data_sources.fetch_util import database_cfg\n",
    "from kadlu.geospatial.data_sources.fetch_util import dt_2_epoch\n",
    "\n",
    "#from kadlu.geospatial.data_sources import fetch_util\n",
    "\n",
    "conn, db = database_cfg()"
   ]
  },
  {
   "cell_type": "code",
   "execution_count": null,
   "metadata": {},
   "outputs": [],
   "source": [
    "from importlib import reload\n",
    "reload(wwiii)\n",
    "reload(chs)"
   ]
  },
  {
   "cell_type": "markdown",
   "metadata": {},
   "source": [
    "## Parameter Selection "
   ]
  },
  {
   "cell_type": "code",
   "execution_count": 52,
   "metadata": {},
   "outputs": [],
   "source": [
    "temp_salinity_source = hycom.Hycom()\n",
    "bathysource = chs.Chs()\n",
    "wavesource1 = era5.Era5()\n",
    "wavesource2 = wwiii.Wwiii()"
   ]
  },
  {
   "cell_type": "code",
   "execution_count": 53,
   "metadata": {},
   "outputs": [],
   "source": [
    "# parameter selection\n",
    "start = datetime(2015, 3, 9, 13, 25, 0)\n",
    "end   = datetime(2015, 3, 9, 19, 0, 0)\n",
    "top, bottom = 0, 0 \n",
    "\n",
    "# gulf st lawrence\n",
    "south, west = 44.013, -70.429\n",
    "north, east = 51.823, -55.977\n",
    "\n",
    "# no wave data for gulf st lawrence :( \n",
    "\n",
    "# hudsons bay\n",
    "#south, west = 51.388, -95.321\n",
    "#north, east = 64.068, -75.703\n",
    "# hudsons bay subset\n",
    "#north, east = 55.039, -78.740"
   ]
  },
  {
   "cell_type": "markdown",
   "metadata": {},
   "source": [
    "## Fetching"
   ]
  },
  {
   "cell_type": "code",
   "execution_count": null,
   "metadata": {},
   "outputs": [],
   "source": [
    "temp_salinity_source.fetch_salinity(south=south, north=north, west=west, east=east, \n",
    "                      start=start, end=end, top=top, bottom=bottom)\n",
    "\n",
    "temp_salinity_source.fetch_temp(south=south, north=north, west=west, east=east, \n",
    "                      start=start, end=end, top=top, bottom=bottom)"
   ]
  },
  {
   "cell_type": "code",
   "execution_count": 56,
   "metadata": {
    "scrolled": true
   },
   "outputs": [
    {
     "name": "stdout",
     "output_type": "stream",
     "text": [
      "CA2_5100N05900W.tif: downloading 96/96 from CHS NONNA-100...\n",
      "CA2_4400N05600W.tif processed and inserted 0 rows. 965938 null values removed, 36063 duplicate rows ignored\n",
      "CA2_4400N05700W.tif processed and inserted 0 rows. 973986 null values removed, 28015 duplicate rows ignored\n",
      "CA2_4400N05800W.tif processed and inserted 0 rows. 983264 null values removed, 18737 duplicate rows ignored\n",
      "CA2_4400N05900W.tif processed and inserted 0 rows. 973710 null values removed, 28291 duplicate rows ignored\n",
      "CA2_4400N06000W.tif processed and inserted 0 rows. 954562 null values removed, 47439 duplicate rows ignored\n",
      "CA2_4400N06100W.tif processed and inserted 0 rows. 963934 null values removed, 38067 duplicate rows ignored\n",
      "CA2_4400N06200W.tif processed and inserted 0 rows. 957473 null values removed, 44528 duplicate rows ignored\n",
      "CA2_4400N06300W.tif processed and inserted 0 rows. 896834 null values removed, 105167 duplicate rows ignored\n",
      "CA2_4400N06400W.tif processed and inserted 0 rows. 793492 null values removed, 208509 duplicate rows ignored\n",
      "CA2_4400N06500W.tif processed and inserted 0 rows. 887161 null values removed, 114840 duplicate rows ignored\n",
      "CA2_4400N06600W.tif processed and inserted 0 rows. 852363 null values removed, 149638 duplicate rows ignored\n",
      "CA2_4400N06700W.tif processed and inserted 0 rows. 275028 null values removed, 726973 duplicate rows ignored\n",
      "CA2_4400N06800W.tif processed and inserted 0 rows. 925294 null values removed, 76707 duplicate rows ignored\n",
      "CA2_4500N05600W.tif processed and inserted 0 rows. 986487 null values removed, 15514 duplicate rows ignored\n",
      "CA2_4500N05700W.tif processed and inserted 0 rows. 989889 null values removed, 12112 duplicate rows ignored\n",
      "CA2_4500N05800W.tif processed and inserted 0 rows. 995107 null values removed, 6894 duplicate rows ignored\n",
      "CA2_4500N05900W.tif processed and inserted 0 rows. 943538 null values removed, 58463 duplicate rows ignored\n",
      "CA2_4500N06000W.tif processed and inserted 0 rows. 860373 null values removed, 141628 duplicate rows ignored\n",
      "CA2_4500N06100W.tif processed and inserted 0 rows. 831419 null values removed, 170582 duplicate rows ignored\n",
      "CA2_4500N06200W.tif processed and inserted 0 rows. 804220 null values removed, 197781 duplicate rows ignored\n",
      "CA2_4500N06300W.tif processed and inserted 0 rows. 881343 null values removed, 120658 duplicate rows ignored\n",
      "CA2_4500N06400W.tif processed and inserted 0 rows. 933129 null values removed, 68872 duplicate rows ignored\n",
      "CA2_4500N06500W.tif processed and inserted 0 rows. 859257 null values removed, 142744 duplicate rows ignored\n",
      "CA2_4500N06600W.tif processed and inserted 0 rows. 656700 null values removed, 345301 duplicate rows ignored\n",
      "CA2_4500N06700W.tif processed and inserted 0 rows. 873209 null values removed, 128792 duplicate rows ignored\n",
      "CA2_4500N06800W.tif processed and inserted 0 rows. 986472 null values removed, 15529 duplicate rows ignored\n",
      "CA2_4600N05600W.tif processed and inserted 0 rows. 976463 null values removed, 25538 duplicate rows ignored\n",
      "CA2_4600N05700W.tif processed and inserted 0 rows. 953968 null values removed, 48033 duplicate rows ignored\n",
      "CA2_4600N05800W.tif processed and inserted 0 rows. 991071 null values removed, 10930 duplicate rows ignored\n",
      "CA2_4600N05900W.tif processed and inserted 0 rows. 926050 null values removed, 75951 duplicate rows ignored\n",
      "CA2_4600N06000W.tif processed and inserted 0 rows. 923155 null values removed, 78846 duplicate rows ignored\n",
      "CA2_4600N06100W.tif processed and inserted 0 rows. 928405 null values removed, 73596 duplicate rows ignored\n",
      "CA2_4600N06200W.tif processed and inserted 0 rows. 938631 null values removed, 63370 duplicate rows ignored\n",
      "CA2_4600N06300W.tif processed and inserted 0 rows. 901841 null values removed, 100160 duplicate rows ignored\n",
      "CA2_4600N06400W.tif processed and inserted 0 rows. 844720 null values removed, 157281 duplicate rows ignored\n",
      "CA2_4600N06500W.tif processed and inserted 0 rows. 947396 null values removed, 54605 duplicate rows ignored\n",
      "CA2_4600N06600W.tif processed and inserted 0 rows. 1001980 null values removed, 21 duplicate rows ignored\n",
      "CA2_4600N07100W.tif processed and inserted 0 rows. 981968 null values removed, 20033 duplicate rows ignored\n",
      "CA2_4700N05600W.tif processed and inserted 0 rows. 843043 null values removed, 158958 duplicate rows ignored\n",
      "CA2_4700N05700W.tif processed and inserted 0 rows. 794816 null values removed, 207185 duplicate rows ignored\n",
      "CA2_4700N05800W.tif processed and inserted 0 rows. 802609 null values removed, 199392 duplicate rows ignored\n",
      "CA2_4700N05900W.tif processed and inserted 0 rows. 932630 null values removed, 69371 duplicate rows ignored\n",
      "CA2_4700N06000W.tif processed and inserted 0 rows. 944456 null values removed, 57545 duplicate rows ignored\n",
      "CA2_4700N06100W.tif processed and inserted 0 rows. 978644 null values removed, 23357 duplicate rows ignored\n",
      "CA2_4700N06200W.tif processed and inserted 0 rows. 528221 null values removed, 473780 duplicate rows ignored\n",
      "CA2_4700N06300W.tif processed and inserted 0 rows. 910618 null values removed, 91383 duplicate rows ignored\n",
      "CA2_4700N06400W.tif processed and inserted 0 rows. 994983 null values removed, 7018 duplicate rows ignored\n",
      "CA2_4700N06500W.tif processed and inserted 0 rows. 947649 null values removed, 54352 duplicate rows ignored\n",
      "CA2_4700N06600W.tif processed and inserted 0 rows. 938605 null values removed, 63396 duplicate rows ignored\n",
      "CA2_4700N06700W.tif processed and inserted 0 rows. 1000357 null values removed, 1644 duplicate rows ignored\n",
      "CA2_4700N07000W.tif processed and inserted 0 rows. 901309 null values removed, 100692 duplicate rows ignored\n",
      "CA2_4700N07100W.tif processed and inserted 0 rows. 838187 null values removed, 163814 duplicate rows ignored\n",
      "CA2_4800N05800W.tif processed and inserted 0 rows. 1000037 null values removed, 1964 duplicate rows ignored\n",
      "CA2_4800N05900W.tif processed and inserted 0 rows. 931821 null values removed, 70180 duplicate rows ignored\n",
      "CA2_4800N06000W.tif processed and inserted 0 rows. 775599 null values removed, 226402 duplicate rows ignored\n",
      "CA2_4800N06100W.tif processed and inserted 0 rows. 993447 null values removed, 8554 duplicate rows ignored\n",
      "CA2_4800N06200W.tif processed and inserted 0 rows. 983187 null values removed, 18814 duplicate rows ignored\n",
      "CA2_4800N06300W.tif processed and inserted 0 rows. 981708 null values removed, 20293 duplicate rows ignored\n",
      "CA2_4800N06400W.tif processed and inserted 0 rows. 663785 null values removed, 338216 duplicate rows ignored\n",
      "CA2_4800N06500W.tif processed and inserted 0 rows. 771519 null values removed, 230482 duplicate rows ignored\n",
      "CA2_4800N06600W.tif processed and inserted 0 rows. 986329 null values removed, 15672 duplicate rows ignored\n",
      "CA2_4800N06700W.tif processed and inserted 0 rows. 994638 null values removed, 7363 duplicate rows ignored\n",
      "CA2_4800N06800W.tif processed and inserted 0 rows. 862240 null values removed, 139761 duplicate rows ignored\n",
      "CA2_4800N06900W.tif processed and inserted 0 rows. 610195 null values removed, 391806 duplicate rows ignored\n",
      "CA2_4800N07000W.tif processed and inserted 0 rows. 796255 null values removed, 205746 duplicate rows ignored\n",
      "CA2_4800N07100W.tif processed and inserted 0 rows. 969544 null values removed, 32457 duplicate rows ignored\n",
      "CA2_4900N05600W.tif processed and inserted 0 rows. 800097 null values removed, 201904 duplicate rows ignored\n",
      "CA2_4900N05700W.tif processed and inserted 0 rows. 985366 null values removed, 16635 duplicate rows ignored\n",
      "CA2_4900N05800W.tif processed and inserted 0 rows. 984680 null values removed, 17321 duplicate rows ignored\n",
      "CA2_4900N05900W.tif processed and inserted 0 rows. 813992 null values removed, 188009 duplicate rows ignored\n",
      "CA2_4900N06000W.tif processed and inserted 0 rows. 945066 null values removed, 56935 duplicate rows ignored\n",
      "CA2_4900N06100W.tif processed and inserted 0 rows. 951446 null values removed, 50555 duplicate rows ignored\n",
      "CA2_4900N06200W.tif processed and inserted 0 rows. 933408 null values removed, 68593 duplicate rows ignored\n",
      "CA2_4900N06300W.tif processed and inserted 0 rows. 916983 null values removed, 85018 duplicate rows ignored\n",
      "CA2_4900N06400W.tif processed and inserted 0 rows. 736944 null values removed, 265057 duplicate rows ignored\n",
      "CA2_4900N06500W.tif processed and inserted 0 rows. 539116 null values removed, 462885 duplicate rows ignored\n"
     ]
    },
    {
     "name": "stdout",
     "output_type": "stream",
     "text": [
      "CA2_4900N06600W.tif processed and inserted 0 rows. 859340 null values removed, 142661 duplicate rows ignored\n",
      "CA2_4900N06700W.tif processed and inserted 0 rows. 775539 null values removed, 226462 duplicate rows ignored\n",
      "CA2_4900N06800W.tif processed and inserted 0 rows. 637426 null values removed, 364575 duplicate rows ignored\n",
      "CA2_4900N06900W.tif processed and inserted 0 rows. 908592 null values removed, 93409 duplicate rows ignored\n",
      "CA2_5000N05600W.tif processed and inserted 0 rows. 957070 null values removed, 44931 duplicate rows ignored\n",
      "CA2_5000N05700W.tif processed and inserted 0 rows. 954488 null values removed, 47513 duplicate rows ignored\n",
      "CA2_5000N05800W.tif processed and inserted 0 rows. 972884 null values removed, 29117 duplicate rows ignored\n",
      "CA2_5000N05900W.tif processed and inserted 0 rows. 862683 null values removed, 139318 duplicate rows ignored\n",
      "CA2_5000N06000W.tif processed and inserted 0 rows. 664859 null values removed, 337142 duplicate rows ignored\n",
      "CA2_5000N06100W.tif processed and inserted 0 rows. 851056 null values removed, 150945 duplicate rows ignored\n",
      "CA2_5000N06200W.tif processed and inserted 0 rows. 899245 null values removed, 102756 duplicate rows ignored\n",
      "CA2_5000N06300W.tif processed and inserted 0 rows. 918825 null values removed, 83176 duplicate rows ignored\n",
      "CA2_5000N06400W.tif processed and inserted 0 rows. 874945 null values removed, 127056 duplicate rows ignored\n",
      "CA2_5000N06500W.tif processed and inserted 0 rows. 790741 null values removed, 211260 duplicate rows ignored\n",
      "CA2_5000N06600W.tif processed and inserted 0 rows. 752032 null values removed, 249969 duplicate rows ignored\n",
      "CA2_5000N06700W.tif processed and inserted 0 rows. 824431 null values removed, 177570 duplicate rows ignored\n",
      "CA2_5100N05600W.tif processed and inserted 0 rows. 946067 null values removed, 55934 duplicate rows ignored\n",
      "CA2_5100N05700W.tif processed and inserted 0 rows. 954860 null values removed, 47141 duplicate rows ignored\n",
      "CA2_5100N05800W.tif processed and inserted 0 rows. 881163 null values removed, 120838 duplicate rows ignored\n",
      "CA2_5100N05900W.tif processed and inserted 0 rows. 818379 null values removed, 183622 duplicate rows ignored\n"
     ]
    }
   ],
   "source": [
    "bathysource.fetch_bathymetry(south=south, north=north, west=west, east=east)"
   ]
  },
  {
   "cell_type": "code",
   "execution_count": null,
   "metadata": {
    "scrolled": false
   },
   "outputs": [],
   "source": [
    "wavesource1.fetch_windwaveswellheight(south=south, north=north, \n",
    "                                      west=west, east=east, \n",
    "                                      start=start, end=end)"
   ]
  },
  {
   "cell_type": "code",
   "execution_count": 54,
   "metadata": {
    "scrolled": true
   },
   "outputs": [
    {
     "name": "stdout",
     "output_type": "stream",
     "text": [
      "downloading multi_1.at_4m.hs.201503.grb2 from NOAA WaveWatch III...\n",
      "preparing multi_1.at_4m.hs.201503.grb2 for the database...\n",
      "formatting and inserting... from 2015-04-01 00:00:00...\n",
      "processed and inserted 0 rows. 64723764 null values removed, 5460870 duplicate rows ignored\n"
     ]
    }
   ],
   "source": [
    "wavesource2.fetch_windwaveheight(south=south, north=north, \n",
    "                                 west=west, east=east, \n",
    "                                 start=start, end=end)"
   ]
  },
  {
   "cell_type": "markdown",
   "metadata": {},
   "source": [
    "## Loading (example)"
   ]
  },
  {
   "cell_type": "code",
   "execution_count": null,
   "metadata": {},
   "outputs": [],
   "source": [
    "temp, tlat, tlon, ttime, tdep = \\\n",
    "temp_salinity_source.load_temp(south=south, north=north, west=west, east=east, \n",
    "                               start=start, end=end, top=top, bottom=bottom)\n",
    "\n",
    "salinity, slat, slon, stime, sdep = \\\n",
    "temp_salinity_source.load_temp(south=south, north=north, west=west, east=east, \n",
    "                               start=start, end=end, top=top, bottom=bottom)"
   ]
  },
  {
   "cell_type": "code",
   "execution_count": null,
   "metadata": {},
   "outputs": [],
   "source": [
    "bathy, blat, blon = bathysource.load_bathymetry(south=south, north=north, west=west, east=east)"
   ]
  },
  {
   "cell_type": "code",
   "execution_count": null,
   "metadata": {},
   "outputs": [],
   "source": [
    "wave, wlat, wlon, wtime = \\\n",
    "wavesource1.load_windwaveswellheight(south=south, north=north, \n",
    "                                     west=west, east=east, \n",
    "                                     start=start, end=end)"
   ]
  },
  {
   "cell_type": "code",
   "execution_count": null,
   "metadata": {},
   "outputs": [],
   "source": [
    "wave, wlat, wlon, wtime = \\\n",
    "wavesource2.load_windwaveheight(south=south, north=north, \n",
    "                                west=west, east=east, \n",
    "                                start=start, end=end)"
   ]
  },
  {
   "cell_type": "markdown",
   "metadata": {},
   "source": [
    "## SoundSpeed -- loading data"
   ]
  },
  {
   "cell_type": "code",
   "execution_count": 57,
   "metadata": {},
   "outputs": [],
   "source": [
    "from kadlu.geospatial.ocean import Ocean\n",
    "from kadlu.sound.sound_speed import SoundSpeed \n",
    "from kadlu.geospatial.data_sources.fetch_util import storage_cfg"
   ]
  },
  {
   "cell_type": "code",
   "execution_count": 58,
   "metadata": {},
   "outputs": [
    {
     "name": "stdout",
     "output_type": "stream",
     "text": [
      "no bathy data for (44.013, -70.429), skipping\n",
      "no bathy data for (44.013, -69.429), skipping\n",
      "no bathy data for (44.013, -68.429), skipping\n"
     ]
    },
    {
     "ename": "TypeError",
     "evalue": "loop of ufunc does not support argument 0 of type float which has no callable cos method",
     "output_type": "error",
     "traceback": [
      "\u001b[0;31m---------------------------------------------------------------------------\u001b[0m",
      "\u001b[0;31mAttributeError\u001b[0m                            Traceback (most recent call last)",
      "\u001b[0;31mAttributeError\u001b[0m: 'float' object has no attribute 'cos'",
      "\nThe above exception was the direct cause of the following exception:\n",
      "\u001b[0;31mTypeError\u001b[0m                                 Traceback (most recent call last)",
      "\u001b[0;32m<ipython-input-58-87122f12562f>\u001b[0m in \u001b[0;36m<module>\u001b[0;34m()\u001b[0m\n\u001b[1;32m     41\u001b[0m         \u001b[0moceantest\u001b[0m\u001b[0;34m.\u001b[0m\u001b[0mset_origin\u001b[0m\u001b[0;34m(\u001b[0m\u001b[0mlat_ref\u001b[0m\u001b[0;34m=\u001b[0m\u001b[0mtlat\u001b[0m\u001b[0;34m,\u001b[0m \u001b[0mlon_ref\u001b[0m\u001b[0;34m=\u001b[0m\u001b[0mtlon\u001b[0m\u001b[0;34m)\u001b[0m\u001b[0;34m\u001b[0m\u001b[0;34m\u001b[0m\u001b[0m\n\u001b[1;32m     42\u001b[0m \u001b[0;34m\u001b[0m\u001b[0m\n\u001b[0;32m---> 43\u001b[0;31m         \u001b[0msndspd\u001b[0m \u001b[0;34m=\u001b[0m \u001b[0mSoundSpeed\u001b[0m\u001b[0;34m(\u001b[0m\u001b[0moceantest\u001b[0m\u001b[0;34m)\u001b[0m\u001b[0;34m.\u001b[0m\u001b[0m_sound_speed\u001b[0m\u001b[0;34m(\u001b[0m\u001b[0mtlat\u001b[0m\u001b[0;34m,\u001b[0m \u001b[0mtlon\u001b[0m\u001b[0;34m,\u001b[0m \u001b[0mtdep\u001b[0m\u001b[0;34m,\u001b[0m \u001b[0mtemp\u001b[0m\u001b[0;34m,\u001b[0m \u001b[0msalinity\u001b[0m\u001b[0;34m)\u001b[0m\u001b[0;34m\u001b[0m\u001b[0;34m\u001b[0m\u001b[0m\n\u001b[0m\u001b[1;32m     44\u001b[0m \u001b[0;34m\u001b[0m\u001b[0m\n\u001b[1;32m     45\u001b[0m         \u001b[0mprint\u001b[0m\u001b[0;34m(\u001b[0m\u001b[0msndspd\u001b[0m\u001b[0;34m,\u001b[0m \u001b[0mymin\u001b[0m\u001b[0;34m,\u001b[0m \u001b[0mxmin\u001b[0m\u001b[0;34m)\u001b[0m\u001b[0;34m\u001b[0m\u001b[0;34m\u001b[0m\u001b[0m\n",
      "\u001b[0;32m/home/matt_s/kadlu/kadlu/sound/sound_speed.py\u001b[0m in \u001b[0;36m__init__\u001b[0;34m(self, ocean, ssp, xy_res, num_depths, rel_err)\u001b[0m\n\u001b[1;32m     76\u001b[0m \u001b[0;34m\u001b[0m\u001b[0m\n\u001b[1;32m     77\u001b[0m             \u001b[0;31m# convert from meters to degrees\u001b[0m\u001b[0;34m\u001b[0m\u001b[0;34m\u001b[0m\u001b[0;34m\u001b[0m\u001b[0m\n\u001b[0;32m---> 78\u001b[0;31m             \u001b[0mlat_res\u001b[0m \u001b[0;34m=\u001b[0m \u001b[0;36m1.\u001b[0m\u001b[0;34m/\u001b[0m\u001b[0mdeg2rad\u001b[0m \u001b[0;34m*\u001b[0m \u001b[0mxy_res\u001b[0m \u001b[0;34m*\u001b[0m \u001b[0mDLDL_over_DXDY\u001b[0m\u001b[0;34m(\u001b[0m\u001b[0mlat\u001b[0m\u001b[0;34m=\u001b[0m\u001b[0mself\u001b[0m\u001b[0;34m.\u001b[0m\u001b[0morigin\u001b[0m\u001b[0;34m.\u001b[0m\u001b[0mlatitude\u001b[0m\u001b[0;34m,\u001b[0m \u001b[0mlat_deriv_order\u001b[0m\u001b[0;34m=\u001b[0m\u001b[0;36m1\u001b[0m\u001b[0;34m,\u001b[0m \u001b[0mlon_deriv_order\u001b[0m\u001b[0;34m=\u001b[0m\u001b[0;36m0\u001b[0m\u001b[0;34m)\u001b[0m\u001b[0;34m\u001b[0m\u001b[0;34m\u001b[0m\u001b[0m\n\u001b[0m\u001b[1;32m     79\u001b[0m             \u001b[0mlon_res\u001b[0m \u001b[0;34m=\u001b[0m \u001b[0;36m1.\u001b[0m\u001b[0;34m/\u001b[0m\u001b[0mdeg2rad\u001b[0m \u001b[0;34m*\u001b[0m \u001b[0mxy_res\u001b[0m \u001b[0;34m*\u001b[0m \u001b[0mDLDL_over_DXDY\u001b[0m\u001b[0;34m(\u001b[0m\u001b[0mlat\u001b[0m\u001b[0;34m=\u001b[0m\u001b[0mself\u001b[0m\u001b[0;34m.\u001b[0m\u001b[0morigin\u001b[0m\u001b[0;34m.\u001b[0m\u001b[0mlatitude\u001b[0m\u001b[0;34m,\u001b[0m \u001b[0mlat_deriv_order\u001b[0m\u001b[0;34m=\u001b[0m\u001b[0;36m0\u001b[0m\u001b[0;34m,\u001b[0m \u001b[0mlon_deriv_order\u001b[0m\u001b[0;34m=\u001b[0m\u001b[0;36m1\u001b[0m\u001b[0;34m)\u001b[0m\u001b[0;34m\u001b[0m\u001b[0;34m\u001b[0m\u001b[0m\n\u001b[1;32m     80\u001b[0m \u001b[0;34m\u001b[0m\u001b[0m\n",
      "\u001b[0;32m/home/matt_s/kadlu/kadlu/utils.py\u001b[0m in \u001b[0;36mDLDL_over_DXDY\u001b[0;34m(lat, lat_deriv_order, lon_deriv_order)\u001b[0m\n\u001b[1;32m     45\u001b[0m     \"\"\"\n\u001b[1;32m     46\u001b[0m     \u001b[0mR\u001b[0m \u001b[0;34m=\u001b[0m \u001b[0mR1_IUGG\u001b[0m\u001b[0;34m\u001b[0m\u001b[0;34m\u001b[0m\u001b[0m\n\u001b[0;32m---> 47\u001b[0;31m     \u001b[0mR2\u001b[0m \u001b[0;34m=\u001b[0m \u001b[0mR\u001b[0m \u001b[0;34m*\u001b[0m \u001b[0mnp\u001b[0m\u001b[0;34m.\u001b[0m\u001b[0mcos\u001b[0m\u001b[0;34m(\u001b[0m\u001b[0mlat\u001b[0m \u001b[0;34m*\u001b[0m \u001b[0mdeg2rad\u001b[0m\u001b[0;34m)\u001b[0m\u001b[0;34m\u001b[0m\u001b[0;34m\u001b[0m\u001b[0m\n\u001b[0m\u001b[1;32m     48\u001b[0m \u001b[0;34m\u001b[0m\u001b[0m\n\u001b[1;32m     49\u001b[0m     \u001b[0mm\u001b[0m \u001b[0;34m=\u001b[0m \u001b[0mlat_deriv_order\u001b[0m\u001b[0;34m\u001b[0m\u001b[0;34m\u001b[0m\u001b[0m\n",
      "\u001b[0;31mTypeError\u001b[0m: loop of ufunc does not support argument 0 of type float which has no callable cos method"
     ]
    }
   ],
   "source": [
    "step = 1 # 1 deg -> approx. 100km at equator \n",
    "\n",
    "# step through each 1x1 degree box in selected area \n",
    "for ymin in np.arange(south, north, step):\n",
    "    for xmin in np.arange(west, east, step):\n",
    "        xmax = xmin + step\n",
    "        ymax = ymin + step\n",
    "        \n",
    "        # load bathymetry\n",
    "        try:\n",
    "            bathy, blat, blon = bathysource.load_bathymetry(south=ymin, north=ymax, west=xmin, east=xmax)\n",
    "        except:\n",
    "            print(f\"no bathy data for {(ymin, xmin)}, skipping\")\n",
    "            continue\n",
    "        \n",
    "        \n",
    "        # load salinity and temp from hycom\n",
    "        temp, tlat, tlon, ttime, tdep = \\\n",
    "        temp_salinity_source.load_temp(south=ymin, north=ymax, west=xmin, east=xmax, \n",
    "                                       start=start, end=end, top=top, bottom=bottom)\n",
    "\n",
    "        salinity, slat, slon, stime, sdep = \\\n",
    "        temp_salinity_source.load_temp(south=ymin, north=ymax, west=xmin, east=xmax, \n",
    "                                       start=start, end=end, top=top, bottom=bottom)\n",
    "        \n",
    "        # need more wave data\n",
    "        \"\"\"\n",
    "        try:\n",
    "            wave, wlat, wlon, wtime = \\\n",
    "            wavesource2.load_windwaveheight(south=ymin, north=ymax, \n",
    "                                                 west=xmin, east=xmax, \n",
    "                                                 start=start, end=end)\n",
    "        except Exception as e :\n",
    "            print(f\"no wave data for {(ymin, xmin)}\", end='\\t')\n",
    "            print(e)\n",
    "            continue\n",
    "        \"\"\"\n",
    "        \n",
    "        # instead, just using 5 as a constant wave height for now\n",
    "        wave = np.array([5 for x in temp])\n",
    "        \n",
    "        oceantest = Ocean(salinity=salinity, temp=temp, bathy=bathy, wave=wave, wave_var='comb. wind wave swell height')\n",
    "        oceantest.set_origin(lat_ref=tlat, lon_ref=tlon)\n",
    "        \n",
    "        sndspd = SoundSpeed(oceantest)._sound_speed(tlat, tlon, tdep, temp, salinity)\n",
    "        \n",
    "        print(sndspd, ymin, xmin)\n"
   ]
  }
 ],
 "metadata": {
  "kernelspec": {
   "display_name": "Python 3",
   "language": "python",
   "name": "python3"
  },
  "language_info": {
   "codemirror_mode": {
    "name": "ipython",
    "version": 3
   },
   "file_extension": ".py",
   "mimetype": "text/x-python",
   "name": "python",
   "nbconvert_exporter": "python",
   "pygments_lexer": "ipython3",
   "version": "3.6.8"
  }
 },
 "nbformat": 4,
 "nbformat_minor": 2
}
