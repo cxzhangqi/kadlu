{
 "cells": [
  {
   "cell_type": "markdown",
   "metadata": {},
   "source": [
    "The main purpose of the ocean module is to \n",
    "\n",
    " * collect all environmental data in one place ('one module to rule them all')\n",
    " * provide a high-level interface for loading and querying/interpolating environmental data\n",
    " \n",
    "In particular, the ocean module should allow the user to\n",
    "\n",
    " * specify data sources via simple keys (e.g. 'HYCOM')\n",
    " * load data for a specific (rectangular) geographic region and time range\n",
    " * query (interpolated) data on any given grid\n",
    " \n",
    "The current implementation of the ocean module already supports some of these uses.\n",
    "\n",
    "The ocean module is already being used by the kadlu.sound.sound_propagation module (implementation almost completed) and the kadlu.sound.geophony module (implementation partially completed). "
   ]
  },
  {
   "cell_type": "markdown",
   "metadata": {},
   "source": [
    "# 1. Initialization"
   ]
  },
  {
   "cell_type": "markdown",
   "metadata": {},
   "source": [
    "In the most common scenario, the user initializes an instance of the ocean module by simply specifying the data sources. For example,"
   ]
  },
  {
   "cell_type": "code",
   "execution_count": 18,
   "metadata": {},
   "outputs": [],
   "source": [
    "from importlib import reload\n",
    "from kadlu.geospatial import ocean as oceanmodule\n",
    "from datetime import datetime\n",
    "from kadlu.geospatial.data_sources import hycom"
   ]
  },
  {
   "cell_type": "code",
   "execution_count": 8,
   "metadata": {},
   "outputs": [],
   "source": [
    "reload(oceanmodule)\n",
    "Ocean = oceanmodule.Ocean\n",
    "\n",
    "ocean = Ocean(bathy='CHS', temp='HYCOM', salinity='HYCOM', wave='WWIII')"
   ]
  },
  {
   "cell_type": "markdown",
   "metadata": {},
   "source": [
    "In a second, less common, but also relevant, scenario, the user provides the data in the form of numpy arrays. For example,"
   ]
  },
  {
   "cell_type": "code",
   "execution_count": 9,
   "metadata": {},
   "outputs": [],
   "source": [
    "import numpy as np \n",
    "\n",
    "lats = np.linspace(45, 46, 10)   # longitudes\n",
    "lons = np.linspace(120, 122, 20) # latitudes\n",
    "depths = -100 * np.ones(shape=(10,20))   # flat bathymetry (100 m depth everywhere)\n",
    "\n",
    "ocean = Ocean(bathy=(depths, lats, lons), temp='HYCOM', salinity='HYCOM', wave='WWIII')"
   ]
  },
  {
   "cell_type": "markdown",
   "metadata": {},
   "source": [
    "Finally, for testing purposes, it may convenient to allow the user to specify a constant value for any of the inputs. For example, "
   ]
  },
  {
   "cell_type": "code",
   "execution_count": 10,
   "metadata": {},
   "outputs": [],
   "source": [
    "ocean = Ocean(bathy=-100, temp='HYCOM', salinity='HYCOM', wave='WWIII')"
   ]
  },
  {
   "cell_type": "markdown",
   "metadata": {},
   "source": [
    "# 1.5 Fetching"
   ]
  },
  {
   "cell_type": "code",
   "execution_count": 25,
   "metadata": {},
   "outputs": [],
   "source": [
    "south, west = 44,-60\n",
    "north, east = 45,-59\n",
    "top, bottom = 0,5000\n",
    "start=datetime(2015, 10, 1)\n",
    "end=datetime(2015, 10, 1, 12)"
   ]
  },
  {
   "cell_type": "code",
   "execution_count": 26,
   "metadata": {},
   "outputs": [
    {
     "name": "stdout",
     "output_type": "stream",
     "text": [
      "downloading 72800 salinity values from hycom...\n",
      "downloaded 75.9Kb in 111.259s. parsed and inserted 1820 rows in 0.512s\n",
      "36985 null values removed, 33995 duplicate rows ignored\n",
      "\n",
      "downloading 72800 water_temp values from hycom...\n",
      "downloaded 77.6Kb in 121.156s. parsed and inserted 1820 rows in 0.514s\n",
      "36985 null values removed, 33995 duplicate rows ignored\n",
      "\n"
     ]
    }
   ],
   "source": [
    "hycom.Hycom().fetch_salinity(south=south, north=north, west=west, east=east, \n",
    "                             start=start, end=end, top=top, bottom=bottom)\n",
    "hycom.Hycom().fetch_temp(south=south, north=north, west=west, east=east,\n",
    "                         start=start, end=end, top=top, bottom=bottom)"
   ]
  },
  {
   "cell_type": "markdown",
   "metadata": {},
   "source": [
    "# 2. Loading"
   ]
  },
  {
   "cell_type": "markdown",
   "metadata": {},
   "source": [
    "In the most common scenario, the user simply loads all data for a given region and time range, as follows"
   ]
  },
  {
   "cell_type": "code",
   "execution_count": 27,
   "metadata": {},
   "outputs": [
    {
     "ename": "AssertionError",
     "evalue": "values must be a 3d array",
     "output_type": "error",
     "traceback": [
      "\u001b[0;31m---------------------------------------------------------------------------\u001b[0m",
      "\u001b[0;31mAssertionError\u001b[0m                            Traceback (most recent call last)",
      "\u001b[0;32m<ipython-input-27-6f8b8f43e6f5>\u001b[0m in \u001b[0;36m<module>\u001b[0;34m()\u001b[0m\n\u001b[1;32m      1\u001b[0m ocean.load(south=south, north=north, west=west, east=east, \n\u001b[0;32m----> 2\u001b[0;31m            start=start, end=end, top=top, bottom=bottom) #, time=None)\n\u001b[0m",
      "\u001b[0;32m/home/matt_s/kadlu/kadlu/geospatial/ocean.py\u001b[0m in \u001b[0;36mload\u001b[0;34m(self, south, north, west, east, start, end, top, bottom)\u001b[0m\n\u001b[1;32m     85\u001b[0m         \u001b[0;31m# load data and initialize interpolation tables\u001b[0m\u001b[0;34m\u001b[0m\u001b[0;34m\u001b[0m\u001b[0;34m\u001b[0m\u001b[0m\n\u001b[1;32m     86\u001b[0m         \u001b[0mself\u001b[0m\u001b[0;34m.\u001b[0m\u001b[0mload_bathy\u001b[0m\u001b[0;34m(\u001b[0m\u001b[0msouth\u001b[0m\u001b[0;34m,\u001b[0m \u001b[0mnorth\u001b[0m\u001b[0;34m,\u001b[0m \u001b[0mwest\u001b[0m\u001b[0;34m,\u001b[0m \u001b[0meast\u001b[0m\u001b[0;34m)\u001b[0m\u001b[0;34m\u001b[0m\u001b[0;34m\u001b[0m\u001b[0m\n\u001b[0;32m---> 87\u001b[0;31m         \u001b[0mself\u001b[0m\u001b[0;34m.\u001b[0m\u001b[0mload_temp\u001b[0m\u001b[0;34m(\u001b[0m\u001b[0msouth\u001b[0m\u001b[0;34m,\u001b[0m \u001b[0mnorth\u001b[0m\u001b[0;34m,\u001b[0m \u001b[0mwest\u001b[0m\u001b[0;34m,\u001b[0m \u001b[0meast\u001b[0m\u001b[0;34m,\u001b[0m \u001b[0mstart\u001b[0m\u001b[0;34m,\u001b[0m \u001b[0mend\u001b[0m\u001b[0;34m,\u001b[0m \u001b[0mtop\u001b[0m\u001b[0;34m,\u001b[0m \u001b[0mbottom\u001b[0m\u001b[0;34m)\u001b[0m\u001b[0;34m\u001b[0m\u001b[0;34m\u001b[0m\u001b[0m\n\u001b[0m\u001b[1;32m     88\u001b[0m         \u001b[0mself\u001b[0m\u001b[0;34m.\u001b[0m\u001b[0mload_salinity\u001b[0m\u001b[0;34m(\u001b[0m\u001b[0msouth\u001b[0m\u001b[0;34m,\u001b[0m \u001b[0mnorth\u001b[0m\u001b[0;34m,\u001b[0m \u001b[0mwest\u001b[0m\u001b[0;34m,\u001b[0m \u001b[0meast\u001b[0m\u001b[0;34m,\u001b[0m \u001b[0mstart\u001b[0m\u001b[0;34m,\u001b[0m \u001b[0mend\u001b[0m\u001b[0;34m,\u001b[0m \u001b[0mtop\u001b[0m\u001b[0;34m,\u001b[0m \u001b[0mbottom\u001b[0m\u001b[0;34m)\u001b[0m\u001b[0;34m\u001b[0m\u001b[0;34m\u001b[0m\u001b[0m\n\u001b[1;32m     89\u001b[0m         \u001b[0mself\u001b[0m\u001b[0;34m.\u001b[0m\u001b[0mload_wave\u001b[0m\u001b[0;34m(\u001b[0m\u001b[0msouth\u001b[0m\u001b[0;34m,\u001b[0m \u001b[0mnorth\u001b[0m\u001b[0;34m,\u001b[0m \u001b[0mwest\u001b[0m\u001b[0;34m,\u001b[0m \u001b[0meast\u001b[0m\u001b[0;34m,\u001b[0m \u001b[0mstart\u001b[0m\u001b[0;34m,\u001b[0m \u001b[0mend\u001b[0m\u001b[0;34m)\u001b[0m\u001b[0;34m\u001b[0m\u001b[0;34m\u001b[0m\u001b[0m\n",
      "\u001b[0;32m/home/matt_s/kadlu/kadlu/geospatial/ocean.py\u001b[0m in \u001b[0;36mload_temp\u001b[0;34m(self, south, north, west, east, start, end, top, bottom)\u001b[0m\n\u001b[1;32m    186\u001b[0m                         \u001b[0mlats\u001b[0m\u001b[0;34m=\u001b[0m\u001b[0mself\u001b[0m\u001b[0;34m.\u001b[0m\u001b[0mtemp_data\u001b[0m\u001b[0;34m[\u001b[0m\u001b[0;36m1\u001b[0m\u001b[0;34m]\u001b[0m\u001b[0;34m,\u001b[0m \u001b[0mlons\u001b[0m\u001b[0;34m=\u001b[0m\u001b[0mself\u001b[0m\u001b[0;34m.\u001b[0m\u001b[0mtemp_data\u001b[0m\u001b[0;34m[\u001b[0m\u001b[0;36m2\u001b[0m\u001b[0;34m]\u001b[0m\u001b[0;34m,\u001b[0m\u001b[0;34m\u001b[0m\u001b[0;34m\u001b[0m\u001b[0m\n\u001b[1;32m    187\u001b[0m                         \u001b[0mdepths\u001b[0m\u001b[0;34m=\u001b[0m\u001b[0mself\u001b[0m\u001b[0;34m.\u001b[0m\u001b[0mtemp_data\u001b[0m\u001b[0;34m[\u001b[0m\u001b[0;36m4\u001b[0m\u001b[0;34m]\u001b[0m\u001b[0;34m,\u001b[0m \u001b[0morigin\u001b[0m\u001b[0;34m=\u001b[0m\u001b[0mself\u001b[0m\u001b[0;34m.\u001b[0m\u001b[0morigin\u001b[0m\u001b[0;34m,\u001b[0m\u001b[0;34m\u001b[0m\u001b[0;34m\u001b[0m\u001b[0m\n\u001b[0;32m--> 188\u001b[0;31m                         method='linear')\n\u001b[0m\u001b[1;32m    189\u001b[0m \u001b[0;34m\u001b[0m\u001b[0m\n\u001b[1;32m    190\u001b[0m             \u001b[0;32melse\u001b[0m\u001b[0;34m:\u001b[0m\u001b[0;34m\u001b[0m\u001b[0;34m\u001b[0m\u001b[0m\n",
      "\u001b[0;32m/home/matt_s/kadlu/kadlu/geospatial/interpolation.py\u001b[0m in \u001b[0;36m__init__\u001b[0;34m(self, values, lats, lons, depths, origin, method)\u001b[0m\n\u001b[1;32m    425\u001b[0m \u001b[0;34m\u001b[0m\u001b[0m\n\u001b[1;32m    426\u001b[0m         \u001b[0;31m# check if bathymetry data are on a regular or irregular grid\u001b[0m\u001b[0;34m\u001b[0m\u001b[0;34m\u001b[0m\u001b[0;34m\u001b[0m\u001b[0m\n\u001b[0;32m--> 427\u001b[0;31m         \u001b[0;32massert\u001b[0m \u001b[0mnp\u001b[0m\u001b[0;34m.\u001b[0m\u001b[0mndim\u001b[0m\u001b[0;34m(\u001b[0m\u001b[0mvalues\u001b[0m\u001b[0;34m)\u001b[0m \u001b[0;34m==\u001b[0m \u001b[0;36m3\u001b[0m\u001b[0;34m,\u001b[0m \u001b[0;34m'values must be a 3d array'\u001b[0m\u001b[0;34m\u001b[0m\u001b[0;34m\u001b[0m\u001b[0m\n\u001b[0m\u001b[1;32m    428\u001b[0m \u001b[0;34m\u001b[0m\u001b[0m\n\u001b[1;32m    429\u001b[0m         \u001b[0;31m# convert to radians\u001b[0m\u001b[0;34m\u001b[0m\u001b[0;34m\u001b[0m\u001b[0;34m\u001b[0m\u001b[0m\n",
      "\u001b[0;31mAssertionError\u001b[0m: values must be a 3d array"
     ]
    }
   ],
   "source": [
    "ocean.load(south=south, north=north, west=west, east=east, \n",
    "           start=start, end=end, top=top, bottom=bottom) #, time=None)"
   ]
  },
  {
   "cell_type": "markdown",
   "metadata": {},
   "source": [
    "The current implementation only supports a single time value. This should be changed to also provide support for a range of times, i.e., start and end time. Also note, that automatic fetching/loading of HYCOM and WWIII data has not yet been implemented."
   ]
  },
  {
   "cell_type": "markdown",
   "metadata": {},
   "source": [
    "### To-do's:\n",
    "* Implement support for time range (start and end times) in load method\n",
    "* Implement loading of HYCOM and WWIII data (as well as other sources)"
   ]
  },
  {
   "cell_type": "markdown",
   "metadata": {},
   "source": [
    "In a second, less common, but also relevant, scenario, the user will want to load only one data variable, e.g., bathymetry. For this, the ocean module has specific load methods for each of the four data types (bathy, temp, salinity, wave). For example,"
   ]
  },
  {
   "cell_type": "code",
   "execution_count": 5,
   "metadata": {},
   "outputs": [],
   "source": [
    "ocean.load_bathy(south=44, north=45, west=120, east=122)"
   ]
  },
  {
   "cell_type": "markdown",
   "metadata": {},
   "source": [
    "# Querying/interpolating ('get' methods)"
   ]
  },
  {
   "cell_type": "markdown",
   "metadata": {},
   "source": [
    "Currently, the ocean module has the following 'get' methods:\n",
    "\n",
    " * bathy \n",
    " * bathy_gradient\n",
    " * temp\n",
    " * salinity\n",
    " * wave\n",
    " \n",
    "These methods allow computation of the desired variable at a single point, on a set of points, or on a regular grid, specified either in planar (x-y) or spherical (lat-lon) geometry.\n",
    "\n",
    "The methods make use of the kadlu.geospatial.interpolation module to perform these tasks."
   ]
  },
  {
   "cell_type": "markdown",
   "metadata": {},
   "source": [
    "For example, we can query the bathymetry at two points, like this"
   ]
  },
  {
   "cell_type": "code",
   "execution_count": 6,
   "metadata": {},
   "outputs": [
    {
     "name": "stdout",
     "output_type": "stream",
     "text": [
      "[-100. -100.]\n"
     ]
    }
   ],
   "source": [
    "bathy_values = ocean.bathy(x=[0,1000], y=[0,500])\n",
    "print(bathy_values)"
   ]
  },
  {
   "cell_type": "markdown",
   "metadata": {},
   "source": [
    "### To-do's: \n",
    "* There is currently only a single generic 'get' method for wave data, even though there are multiple variables (height, period, etc). We should either implement a method for each wave variable, or allow the user to specify the variable as an input argument to the 'get' method. "
   ]
  },
  {
   "cell_type": "code",
   "execution_count": null,
   "metadata": {},
   "outputs": [],
   "source": []
  }
 ],
 "metadata": {
  "kernelspec": {
   "display_name": "Python 3",
   "language": "python",
   "name": "python3"
  },
  "language_info": {
   "codemirror_mode": {
    "name": "ipython",
    "version": 3
   },
   "file_extension": ".py",
   "mimetype": "text/x-python",
   "name": "python",
   "nbconvert_exporter": "python",
   "pygments_lexer": "ipython3",
   "version": "3.6.8"
  }
 },
 "nbformat": 4,
 "nbformat_minor": 2
}
