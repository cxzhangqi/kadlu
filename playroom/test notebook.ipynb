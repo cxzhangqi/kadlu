{
 "cells": [
  {
   "cell_type": "code",
   "execution_count": 37,
   "metadata": {},
   "outputs": [],
   "source": [
    "import numpy as np\n",
    "from datetime import datetime\n",
    "from kadlu.geospatial.data_sources import chs\n",
    "from kadlu.geospatial.data_sources import era5\n",
    "from kadlu.geospatial.data_sources import hycom\n",
    "from kadlu.geospatial.data_sources import wwiii\n",
    "from kadlu.geospatial.data_sources.fetch_util import database_cfg\n",
    "from kadlu.geospatial.data_sources.fetch_util import dt_2_epoch\n",
    "\n",
    "#from kadlu.geospatial.data_sources import fetch_util\n",
    "\n",
    "conn, db = database_cfg()"
   ]
  },
  {
   "cell_type": "code",
   "execution_count": 38,
   "metadata": {},
   "outputs": [
    {
     "data": {
      "text/plain": [
       "<module 'kadlu.geospatial.data_sources.chs' from '/home/matt_s/kadlu/kadlu/geospatial/data_sources/chs.py'>"
      ]
     },
     "execution_count": 38,
     "metadata": {},
     "output_type": "execute_result"
    }
   ],
   "source": [
    "from importlib import reload\n",
    "reload(wwiii)\n",
    "reload(chs)"
   ]
  },
  {
   "cell_type": "code",
   "execution_count": 43,
   "metadata": {},
   "outputs": [],
   "source": [
    "temp_salinity_source = hycom.Hycom()\n",
    "bathysource = chs.Chs()\n",
    "wavesource1 = era5.Era5()\n",
    "wavesource2 = wwiii.Wwiii()"
   ]
  },
  {
   "cell_type": "code",
   "execution_count": 44,
   "metadata": {},
   "outputs": [],
   "source": [
    "# parameter selection\n",
    "start = datetime(2015, 3, 9, 13, 25, 0)\n",
    "end   = datetime(2015, 3, 9, 19, 0, 0)\n",
    "top, bottom = 0, 0 \n",
    "\n",
    "# gulf st lawrence\n",
    "#south, west = 44.013, -70.429\n",
    "#north, east = 51.823, -55.977\n",
    "# no wave data for gulf st lawrence :( \n",
    "\n",
    "# hudsons bay\n",
    "south, west = 51.388, -95.321\n",
    "north, east = 64.068, -75.703\n",
    "# hudsons bay subset\n",
    "north, east = 55.039, -78.740"
   ]
  },
  {
   "cell_type": "markdown",
   "metadata": {},
   "source": [
    "## Fetching"
   ]
  },
  {
   "cell_type": "code",
   "execution_count": 41,
   "metadata": {},
   "outputs": [
    {
     "name": "stdout",
     "output_type": "stream",
     "text": [
      "downloading 57408 salinity values from hycom...\n",
      "downloaded 56.2Kb in 1.364s. parsed and inserted 0 rows in 3.305s\n",
      "48228 null values removed, 9180 duplicate rows ignored\n",
      "\n",
      "downloading 57408 water_temp values from hycom...\n",
      "downloaded 58.5Kb in 1.178s. parsed and inserted 0 rows in 3.196s\n",
      "48228 null values removed, 9180 duplicate rows ignored\n",
      "\n"
     ]
    }
   ],
   "source": [
    "temp_salinity_source.fetch_salinity(south=south, north=north, west=west, east=east, \n",
    "                      start=start, end=end, top=top, bottom=bottom)\n",
    "\n",
    "temp_salinity_source.fetch_temp(south=south, north=north, west=west, east=east, \n",
    "                      start=start, end=end, top=top, bottom=bottom)"
   ]
  },
  {
   "cell_type": "code",
   "execution_count": 36,
   "metadata": {
    "scrolled": true
   },
   "outputs": [
    {
     "name": "stdout",
     "output_type": "stream",
     "text": [
      "CA2_5500N08600W.tif: downloading 22/22 from CHS NONNA-100...\n",
      "CA2_5100N07900W.tif processed and inserted 0 rows. 1001960 null values removed, 41 duplicate rows ignored\n",
      "CA2_5100N08000W.tif processed and inserted 0 rows. 1001840 null values removed, 161 duplicate rows ignored\n",
      "CA2_5100N08100W.tif processed and inserted 0 rows. 988733 null values removed, 13268 duplicate rows ignored\n",
      "CA2_5200N07900W.tif processed and inserted 0 rows. 1001987 null values removed, 14 duplicate rows ignored\n",
      "CA2_5200N08000W.tif processed and inserted 0 rows. 1001602 null values removed, 399 duplicate rows ignored\n",
      "CA2_5200N08100W.tif processed and inserted 0 rows. 1001707 null values removed, 294 duplicate rows ignored\n",
      "CA2_5200N08200W.tif processed and inserted 0 rows. 1001953 null values removed, 48 duplicate rows ignored\n",
      "CA2_5300N08000W.tif processed and inserted 0 rows. 999628 null values removed, 2373 duplicate rows ignored\n",
      "CA2_5300N08100W.tif processed and inserted 0 rows. 1001609 null values removed, 392 duplicate rows ignored\n",
      "CA2_5300N08200W.tif processed and inserted 0 rows. 1001891 null values removed, 110 duplicate rows ignored\n",
      "CA2_5400N08000W.tif processed and inserted 0 rows. 980807 null values removed, 21194 duplicate rows ignored\n",
      "CA2_5400N08100W.tif processed and inserted 0 rows. 983449 null values removed, 18552 duplicate rows ignored\n",
      "CA2_5400N08200W.tif processed and inserted 0 rows. 987004 null values removed, 14997 duplicate rows ignored\n",
      "CA2_5400N08300W.tif processed and inserted 0 rows. 1001962 null values removed, 39 duplicate rows ignored\n",
      "CA2_5500N07900W.tif processed and inserted 0 rows. 949134 null values removed, 52867 duplicate rows ignored\n",
      "CA2_5500N08000W.tif processed and inserted 0 rows. 972950 null values removed, 29051 duplicate rows ignored\n",
      "CA2_5500N08100W.tif processed and inserted 0 rows. 977574 null values removed, 24427 duplicate rows ignored\n",
      "CA2_5500N08200W.tif processed and inserted 0 rows. 990559 null values removed, 11442 duplicate rows ignored\n",
      "CA2_5500N08300W.tif processed and inserted 0 rows. 995293 null values removed, 6708 duplicate rows ignored\n",
      "CA2_5500N08400W.tif processed and inserted 0 rows. 998563 null values removed, 3438 duplicate rows ignored\n",
      "CA2_5500N08500W.tif processed and inserted 0 rows. 988976 null values removed, 13025 duplicate rows ignored\n",
      "CA2_5500N08600W.tif processed and inserted 0 rows. 999293 null values removed, 2708 duplicate rows ignored\n"
     ]
    }
   ],
   "source": [
    "bathysource.fetch_bathymetry(south=south, north=north, west=west, east=east)"
   ]
  },
  {
   "cell_type": "code",
   "execution_count": 107,
   "metadata": {
    "scrolled": true
   },
   "outputs": [
    {
     "name": "stderr",
     "output_type": "stream",
     "text": [
      "2019-11-14 15:39:41,213 INFO Sending request to https://cds.climate.copernicus.eu/api/v2/resources/reanalysis-era5-single-levels\n"
     ]
    },
    {
     "name": "stdout",
     "output_type": "stream",
     "text": [
      "Downloading ERA5_reanalysis_significant_height_of_combined_wind_waves_and_swell_2015-03-09_13h.grb2 from Copernicus Climate Data Store...\n"
     ]
    },
    {
     "name": "stderr",
     "output_type": "stream",
     "text": [
      "2019-11-14 15:39:42,769 INFO Request is completed\n",
      "2019-11-14 15:39:42,771 INFO Downloading http://136.156.133.39/cache-compute-0012/cache/data7/adaptor.mars.internal-1573659649.4384108-16255-4-ffc6e405-d559-45ac-afd5-d199c6aa9c57.grib to /home/matt_s/kadlu/storage/ERA5_reanalysis_significant_height_of_combined_wind_waves_and_swell_2015-03-09_13h.grb2 (312.1K)\n",
      "2019-11-14 15:39:43,660 INFO Download rate 351.2K/s\n",
      "2019-11-14 15:39:46,720 INFO Sending request to https://cds.climate.copernicus.eu/api/v2/resources/reanalysis-era5-single-levels\n"
     ]
    },
    {
     "name": "stdout",
     "output_type": "stream",
     "text": [
      "ERA5_reanalysis_significant_height_of_combined_wind_waves_and_swell_2015-03-09_13h.grb2 processed and inserted 0 rows. 116500 null values removed, 143420 duplicate rows ignored\n",
      "Downloading ERA5_reanalysis_significant_height_of_combined_wind_waves_and_swell_2015-03-09_14h.grb2 from Copernicus Climate Data Store...\n"
     ]
    },
    {
     "name": "stderr",
     "output_type": "stream",
     "text": [
      "2019-11-14 15:39:47,652 INFO Request is queued\n",
      "2019-11-14 15:39:48,805 INFO Request is running\n",
      "2019-11-14 15:39:50,458 INFO Request is completed\n",
      "2019-11-14 15:39:50,459 INFO Downloading http://136.156.133.25/cache-compute-0008/cache/data4/adaptor.mars.internal-1573760388.1020927-14347-12-e6bf212f-048c-4202-acef-e4544f962909.grib to /home/matt_s/kadlu/storage/ERA5_reanalysis_significant_height_of_combined_wind_waves_and_swell_2015-03-09_14h.grb2 (312.1K)\n",
      "2019-11-14 15:39:51,313 INFO Download rate 365.6K/s\n",
      "2019-11-14 15:39:54,353 INFO Sending request to https://cds.climate.copernicus.eu/api/v2/resources/reanalysis-era5-single-levels\n"
     ]
    },
    {
     "name": "stdout",
     "output_type": "stream",
     "text": [
      "ERA5_reanalysis_significant_height_of_combined_wind_waves_and_swell_2015-03-09_14h.grb2 processed and inserted 0 rows. 116500 null values removed, 143420 duplicate rows ignored\n",
      "Downloading ERA5_reanalysis_significant_height_of_combined_wind_waves_and_swell_2015-03-09_15h.grb2 from Copernicus Climate Data Store...\n"
     ]
    },
    {
     "name": "stderr",
     "output_type": "stream",
     "text": [
      "2019-11-14 15:39:55,100 INFO Request is queued\n",
      "2019-11-14 15:39:56,252 INFO Request is running\n",
      "2019-11-14 15:39:57,904 INFO Request is completed\n",
      "2019-11-14 15:39:57,905 INFO Downloading http://136.156.133.46/cache-compute-0015/cache/data1/adaptor.mars.internal-1573760395.537334-6713-4-251ad4ee-77f4-4e77-bbf6-0ac2ded806a2.grib to /home/matt_s/kadlu/storage/ERA5_reanalysis_significant_height_of_combined_wind_waves_and_swell_2015-03-09_15h.grb2 (312.1K)\n",
      "2019-11-14 15:39:58,760 INFO Download rate 365.5K/s\n",
      "2019-11-14 15:40:01,768 INFO Sending request to https://cds.climate.copernicus.eu/api/v2/resources/reanalysis-era5-single-levels\n"
     ]
    },
    {
     "name": "stdout",
     "output_type": "stream",
     "text": [
      "ERA5_reanalysis_significant_height_of_combined_wind_waves_and_swell_2015-03-09_15h.grb2 processed and inserted 0 rows. 116500 null values removed, 143420 duplicate rows ignored\n",
      "Downloading ERA5_reanalysis_significant_height_of_combined_wind_waves_and_swell_2015-03-09_16h.grb2 from Copernicus Climate Data Store...\n"
     ]
    },
    {
     "name": "stderr",
     "output_type": "stream",
     "text": [
      "2019-11-14 15:40:02,836 INFO Request is completed\n",
      "2019-11-14 15:40:02,837 INFO Downloading http://136.156.132.201/cache-compute-0004/cache/data5/adaptor.mars.internal-1573660483.713739-27565-4-ca97a20d-8401-4ddd-9e3f-a39097cbd4b5.grib to /home/matt_s/kadlu/storage/ERA5_reanalysis_significant_height_of_combined_wind_waves_and_swell_2015-03-09_16h.grb2 (312.1K)\n",
      "2019-11-14 15:40:03,744 INFO Download rate 344.2K/s\n",
      "2019-11-14 15:40:06,735 INFO Sending request to https://cds.climate.copernicus.eu/api/v2/resources/reanalysis-era5-single-levels\n"
     ]
    },
    {
     "name": "stdout",
     "output_type": "stream",
     "text": [
      "ERA5_reanalysis_significant_height_of_combined_wind_waves_and_swell_2015-03-09_16h.grb2 processed and inserted 0 rows. 116500 null values removed, 143420 duplicate rows ignored\n",
      "Downloading ERA5_reanalysis_significant_height_of_combined_wind_waves_and_swell_2015-03-09_17h.grb2 from Copernicus Climate Data Store...\n"
     ]
    },
    {
     "name": "stderr",
     "output_type": "stream",
     "text": [
      "2019-11-14 15:40:07,955 INFO Request is completed\n",
      "2019-11-14 15:40:07,957 INFO Downloading http://136.156.133.42/cache-compute-0014/cache/data0/adaptor.mars.internal-1573660557.6406338-27438-15-d33a8e2f-1206-487b-91ce-272c0b3a9055.grib to /home/matt_s/kadlu/storage/ERA5_reanalysis_significant_height_of_combined_wind_waves_and_swell_2015-03-09_17h.grb2 (312.1K)\n",
      "2019-11-14 15:40:08,878 INFO Download rate 338.9K/s\n",
      "2019-11-14 15:40:11,998 INFO Sending request to https://cds.climate.copernicus.eu/api/v2/resources/reanalysis-era5-single-levels\n"
     ]
    },
    {
     "name": "stdout",
     "output_type": "stream",
     "text": [
      "ERA5_reanalysis_significant_height_of_combined_wind_waves_and_swell_2015-03-09_17h.grb2 processed and inserted 0 rows. 116500 null values removed, 143420 duplicate rows ignored\n",
      "Downloading ERA5_reanalysis_significant_height_of_combined_wind_waves_and_swell_2015-03-09_18h.grb2 from Copernicus Climate Data Store...\n"
     ]
    },
    {
     "name": "stderr",
     "output_type": "stream",
     "text": [
      "2019-11-14 15:40:12,698 INFO Request is completed\n",
      "2019-11-14 15:40:12,699 INFO Downloading http://136.156.132.198/cache-compute-0003/cache/data3/adaptor.mars.internal-1573660574.7192633-13313-3-308e7de4-ea2a-4862-bb60-bc087a6b1ad4.grib to /home/matt_s/kadlu/storage/ERA5_reanalysis_significant_height_of_combined_wind_waves_and_swell_2015-03-09_18h.grb2 (312.1K)\n",
      "2019-11-14 15:40:13,592 INFO Download rate 349.6K/s\n",
      "2019-11-14 15:40:16,912 INFO Sending request to https://cds.climate.copernicus.eu/api/v2/resources/reanalysis-era5-single-levels\n"
     ]
    },
    {
     "name": "stdout",
     "output_type": "stream",
     "text": [
      "ERA5_reanalysis_significant_height_of_combined_wind_waves_and_swell_2015-03-09_18h.grb2 processed and inserted 0 rows. 116500 null values removed, 143420 duplicate rows ignored\n",
      "Downloading ERA5_reanalysis_significant_height_of_combined_wind_waves_and_swell_2015-03-09_19h.grb2 from Copernicus Climate Data Store...\n"
     ]
    },
    {
     "name": "stderr",
     "output_type": "stream",
     "text": [
      "2019-11-14 15:40:23,152 INFO Request is completed\n",
      "2019-11-14 15:40:23,153 INFO Downloading http://136.156.132.153/cache-compute-0002/cache/data8/adaptor.mars.internal-1573660580.6612635-12075-16-5152f152-4222-47a4-ad8b-b965d44d0ce4.grib to /home/matt_s/kadlu/storage/ERA5_reanalysis_significant_height_of_combined_wind_waves_and_swell_2015-03-09_19h.grb2 (312.1K)\n",
      "2019-11-14 15:40:24,060 INFO Download rate 344.3K/s\n"
     ]
    },
    {
     "name": "stdout",
     "output_type": "stream",
     "text": [
      "ERA5_reanalysis_significant_height_of_combined_wind_waves_and_swell_2015-03-09_19h.grb2 processed and inserted 0 rows. 116500 null values removed, 143420 duplicate rows ignored\n"
     ]
    }
   ],
   "source": [
    "wavesource1.fetch_windwaveswellheight(south=south, north=north, \n",
    "                                      west=west, east=east, \n",
    "                                      start=start, end=end)"
   ]
  },
  {
   "cell_type": "code",
   "execution_count": 9,
   "metadata": {
    "scrolled": true
   },
   "outputs": [
    {
     "name": "stderr",
     "output_type": "stream",
     "text": [
      "/home/matt_s/kadlu/kadlu/geospatial/data_sources/fetch_util.py:133: UserWarning: No regions matched for query. Defaulting to ['glo_30m'] (1 regions)\n",
      "  warnings.warn(f\"No regions matched for query. Defaulting to {default} ({len(default)} regions)\")\n"
     ]
    },
    {
     "name": "stdout",
     "output_type": "stream",
     "text": [
      "downloading multi_1.glo_30m.hs.201503.grb2 from NOAA WaveWatch III...\n",
      "preparing multi_1.glo_30m.hs.201503.grb2 for the database...\n",
      "\tprocessing message 78/249 from 2015-03-10 15:00:00...\r"
     ]
    },
    {
     "ename": "KeyboardInterrupt",
     "evalue": "",
     "output_type": "error",
     "traceback": [
      "\u001b[0;31m---------------------------------------------------------------------------\u001b[0m",
      "\u001b[0;31mKeyboardInterrupt\u001b[0m                         Traceback (most recent call last)",
      "\u001b[0;32m<ipython-input-9-589f218cb30e>\u001b[0m in \u001b[0;36m<module>\u001b[0;34m()\u001b[0m\n\u001b[1;32m      1\u001b[0m wavesource2.fetch_windwaveheight(south=south, north=north, \n\u001b[1;32m      2\u001b[0m                                  \u001b[0mwest\u001b[0m\u001b[0;34m=\u001b[0m\u001b[0mwest\u001b[0m\u001b[0;34m,\u001b[0m \u001b[0meast\u001b[0m\u001b[0;34m=\u001b[0m\u001b[0meast\u001b[0m\u001b[0;34m,\u001b[0m\u001b[0;34m\u001b[0m\u001b[0;34m\u001b[0m\u001b[0m\n\u001b[0;32m----> 3\u001b[0;31m                                  start=start, end=end)\n\u001b[0m",
      "\u001b[0;32m/home/matt_s/kadlu/kadlu/geospatial/data_sources/wwiii.py\u001b[0m in \u001b[0;36mfetch_windwaveheight\u001b[0;34m(self, south, north, west, east, start, end)\u001b[0m\n\u001b[1;32m    160\u001b[0m \u001b[0;34m\u001b[0m\u001b[0m\n\u001b[1;32m    161\u001b[0m     \u001b[0;32mdef\u001b[0m \u001b[0mfetch_windwaveheight\u001b[0m\u001b[0;34m(\u001b[0m\u001b[0mself\u001b[0m\u001b[0;34m,\u001b[0m \u001b[0msouth\u001b[0m\u001b[0;34m=\u001b[0m\u001b[0;34m-\u001b[0m\u001b[0;36m90\u001b[0m\u001b[0;34m,\u001b[0m \u001b[0mnorth\u001b[0m\u001b[0;34m=\u001b[0m\u001b[0;36m90\u001b[0m\u001b[0;34m,\u001b[0m \u001b[0mwest\u001b[0m\u001b[0;34m=\u001b[0m\u001b[0;34m-\u001b[0m\u001b[0;36m180\u001b[0m\u001b[0;34m,\u001b[0m \u001b[0meast\u001b[0m\u001b[0;34m=\u001b[0m\u001b[0;36m180\u001b[0m\u001b[0;34m,\u001b[0m \u001b[0mstart\u001b[0m\u001b[0;34m=\u001b[0m\u001b[0mdatetime\u001b[0m\u001b[0;34m.\u001b[0m\u001b[0mnow\u001b[0m\u001b[0;34m(\u001b[0m\u001b[0;34m)\u001b[0m\u001b[0;34m-\u001b[0m\u001b[0mtimedelta\u001b[0m\u001b[0;34m(\u001b[0m\u001b[0mhours\u001b[0m\u001b[0;34m=\u001b[0m\u001b[0;36m24\u001b[0m\u001b[0;34m)\u001b[0m\u001b[0;34m,\u001b[0m \u001b[0mend\u001b[0m\u001b[0;34m=\u001b[0m\u001b[0mdatetime\u001b[0m\u001b[0;34m.\u001b[0m\u001b[0mnow\u001b[0m\u001b[0;34m(\u001b[0m\u001b[0;34m)\u001b[0m\u001b[0;34m)\u001b[0m\u001b[0;34m:\u001b[0m\u001b[0;34m\u001b[0m\u001b[0;34m\u001b[0m\u001b[0m\n\u001b[0;32m--> 162\u001b[0;31m         \u001b[0;32mreturn\u001b[0m \u001b[0mfetch_wwiii\u001b[0m\u001b[0;34m(\u001b[0m\u001b[0;34m'hs'\u001b[0m\u001b[0;34m,\u001b[0m \u001b[0msouth\u001b[0m\u001b[0;34m,\u001b[0m \u001b[0mnorth\u001b[0m\u001b[0;34m,\u001b[0m \u001b[0mwest\u001b[0m\u001b[0;34m,\u001b[0m \u001b[0meast\u001b[0m\u001b[0;34m,\u001b[0m \u001b[0mstart\u001b[0m\u001b[0;34m,\u001b[0m \u001b[0mend\u001b[0m\u001b[0;34m)\u001b[0m\u001b[0;34m\u001b[0m\u001b[0;34m\u001b[0m\u001b[0m\n\u001b[0m\u001b[1;32m    163\u001b[0m \u001b[0;34m\u001b[0m\u001b[0m\n\u001b[1;32m    164\u001b[0m     \u001b[0;32mdef\u001b[0m \u001b[0mfetch_wavedirection\u001b[0m\u001b[0;34m(\u001b[0m\u001b[0mself\u001b[0m\u001b[0;34m,\u001b[0m \u001b[0msouth\u001b[0m\u001b[0;34m=\u001b[0m\u001b[0;34m-\u001b[0m\u001b[0;36m90\u001b[0m\u001b[0;34m,\u001b[0m \u001b[0mnorth\u001b[0m\u001b[0;34m=\u001b[0m\u001b[0;36m90\u001b[0m\u001b[0;34m,\u001b[0m \u001b[0mwest\u001b[0m\u001b[0;34m=\u001b[0m\u001b[0;34m-\u001b[0m\u001b[0;36m180\u001b[0m\u001b[0;34m,\u001b[0m \u001b[0meast\u001b[0m\u001b[0;34m=\u001b[0m\u001b[0;36m180\u001b[0m\u001b[0;34m,\u001b[0m \u001b[0mstart\u001b[0m\u001b[0;34m=\u001b[0m\u001b[0mdatetime\u001b[0m\u001b[0;34m.\u001b[0m\u001b[0mnow\u001b[0m\u001b[0;34m(\u001b[0m\u001b[0;34m)\u001b[0m\u001b[0;34m-\u001b[0m\u001b[0mtimedelta\u001b[0m\u001b[0;34m(\u001b[0m\u001b[0mhours\u001b[0m\u001b[0;34m=\u001b[0m\u001b[0;36m24\u001b[0m\u001b[0;34m)\u001b[0m\u001b[0;34m,\u001b[0m \u001b[0mend\u001b[0m\u001b[0;34m=\u001b[0m\u001b[0mdatetime\u001b[0m\u001b[0;34m.\u001b[0m\u001b[0mnow\u001b[0m\u001b[0;34m(\u001b[0m\u001b[0;34m)\u001b[0m\u001b[0;34m)\u001b[0m\u001b[0;34m:\u001b[0m\u001b[0;34m\u001b[0m\u001b[0;34m\u001b[0m\u001b[0m\n",
      "\u001b[0;32m/home/matt_s/kadlu/kadlu/geospatial/data_sources/wwiii.py\u001b[0m in \u001b[0;36mfetch_wwiii\u001b[0;34m(wavevar, south, north, west, east, start, end)\u001b[0m\n\u001b[1;32m     99\u001b[0m         \u001b[0;32mfor\u001b[0m \u001b[0mmsg\u001b[0m \u001b[0;32min\u001b[0m \u001b[0mgrib\u001b[0m\u001b[0;34m:\u001b[0m\u001b[0;34m\u001b[0m\u001b[0;34m\u001b[0m\u001b[0m\n\u001b[1;32m    100\u001b[0m             \u001b[0mprint\u001b[0m\u001b[0;34m(\u001b[0m\u001b[0;34mf\"\\tprocessing message {msg.messagenumber}/{grib.messages} from {msg.validDate}...\"\u001b[0m\u001b[0;34m,\u001b[0m \u001b[0mend\u001b[0m\u001b[0;34m=\u001b[0m\u001b[0;34m'\\r'\u001b[0m\u001b[0;34m)\u001b[0m\u001b[0;34m\u001b[0m\u001b[0;34m\u001b[0m\u001b[0m\n\u001b[0;32m--> 101\u001b[0;31m             \u001b[0mz\u001b[0m\u001b[0;34m,\u001b[0m \u001b[0my\u001b[0m\u001b[0;34m,\u001b[0m \u001b[0mx\u001b[0m \u001b[0;34m=\u001b[0m \u001b[0mmsg\u001b[0m\u001b[0;34m.\u001b[0m\u001b[0mdata\u001b[0m\u001b[0;34m(\u001b[0m\u001b[0;34m)\u001b[0m\u001b[0;34m\u001b[0m\u001b[0;34m\u001b[0m\u001b[0m\n\u001b[0m\u001b[1;32m    102\u001b[0m             \u001b[0mval\u001b[0m \u001b[0;34m=\u001b[0m \u001b[0mnp\u001b[0m\u001b[0;34m.\u001b[0m\u001b[0mappend\u001b[0m\u001b[0;34m(\u001b[0m\u001b[0mval\u001b[0m\u001b[0;34m,\u001b[0m \u001b[0mz\u001b[0m\u001b[0;34m[\u001b[0m\u001b[0;34m~\u001b[0m\u001b[0mz\u001b[0m\u001b[0;34m.\u001b[0m\u001b[0mmask\u001b[0m\u001b[0;34m]\u001b[0m\u001b[0;34m.\u001b[0m\u001b[0mdata\u001b[0m\u001b[0;34m)\u001b[0m\u001b[0;34m\u001b[0m\u001b[0;34m\u001b[0m\u001b[0m\n\u001b[1;32m    103\u001b[0m             \u001b[0mlat\u001b[0m \u001b[0;34m=\u001b[0m \u001b[0mnp\u001b[0m\u001b[0;34m.\u001b[0m\u001b[0mappend\u001b[0m\u001b[0;34m(\u001b[0m\u001b[0mlat\u001b[0m\u001b[0;34m,\u001b[0m \u001b[0my\u001b[0m\u001b[0;34m[\u001b[0m\u001b[0;34m~\u001b[0m\u001b[0mz\u001b[0m\u001b[0;34m.\u001b[0m\u001b[0mmask\u001b[0m\u001b[0;34m]\u001b[0m\u001b[0;34m)\u001b[0m\u001b[0;34m\u001b[0m\u001b[0;34m\u001b[0m\u001b[0m\n",
      "\u001b[0;32mpygrib.pyx\u001b[0m in \u001b[0;36mpygrib.gribmessage.data\u001b[0;34m()\u001b[0m\n",
      "\u001b[0;32mpygrib.pyx\u001b[0m in \u001b[0;36mpygrib.gribmessage.latlons\u001b[0;34m()\u001b[0m\n",
      "\u001b[0;32m<__array_function__ internals>\u001b[0m in \u001b[0;36mmeshgrid\u001b[0;34m(*args, **kwargs)\u001b[0m\n",
      "\u001b[0;31mKeyboardInterrupt\u001b[0m: "
     ]
    }
   ],
   "source": [
    "wavesource2.fetch_windwaveheight(south=south, north=north, \n",
    "                                 west=west, east=east, \n",
    "                                 start=start, end=end)"
   ]
  },
  {
   "cell_type": "markdown",
   "metadata": {},
   "source": [
    "## Loading (example)"
   ]
  },
  {
   "cell_type": "code",
   "execution_count": 110,
   "metadata": {},
   "outputs": [],
   "source": [
    "temp, tlat, tlon, ttime, tdep = \\\n",
    "temp_salinity_source.load_temp(south=south, north=north, west=west, east=east, \n",
    "                               start=start, end=end, top=top, bottom=bottom)\n",
    "\n",
    "salinity, slat, slon, stime, sdep = \\\n",
    "temp_salinity_source.load_temp(south=south, north=north, west=west, east=east, \n",
    "                               start=start, end=end, top=top, bottom=bottom)"
   ]
  },
  {
   "cell_type": "code",
   "execution_count": 111,
   "metadata": {},
   "outputs": [],
   "source": [
    "bathy, blat, blon = bathysource.load_bathymetry(south=south, north=north, west=west, east=east)"
   ]
  },
  {
   "cell_type": "code",
   "execution_count": 114,
   "metadata": {},
   "outputs": [
    {
     "ename": "ValueError",
     "evalue": "not enough values to unpack (expected 5, got 0)",
     "output_type": "error",
     "traceback": [
      "\u001b[0;31m---------------------------------------------------------------------------\u001b[0m",
      "\u001b[0;31mValueError\u001b[0m                                Traceback (most recent call last)",
      "\u001b[0;32m<ipython-input-114-0706e15c98cf>\u001b[0m in \u001b[0;36m<module>\u001b[0;34m()\u001b[0m\n\u001b[1;32m      1\u001b[0m wave, wlat, wlon, wtime = wavesource1.load_windwaveswellheight(south=south, north=north, \n\u001b[1;32m      2\u001b[0m                                      \u001b[0mwest\u001b[0m\u001b[0;34m=\u001b[0m\u001b[0mwest\u001b[0m\u001b[0;34m,\u001b[0m \u001b[0meast\u001b[0m\u001b[0;34m=\u001b[0m\u001b[0meast\u001b[0m\u001b[0;34m,\u001b[0m\u001b[0;34m\u001b[0m\u001b[0;34m\u001b[0m\u001b[0m\n\u001b[0;32m----> 3\u001b[0;31m                                      start=start, end=end)\n\u001b[0m",
      "\u001b[0;32m/home/matt_s/kadlu/kadlu/geospatial/data_sources/era5.py\u001b[0m in \u001b[0;36mload_windwaveswellheight\u001b[0;34m(self, south, north, west, east, start, end)\u001b[0m\n",
      "\u001b[0;32m/home/matt_s/kadlu/kadlu/geospatial/data_sources/era5.py\u001b[0m in \u001b[0;36mload_era5\u001b[0;34m(wavevar, start, end, south, north, west, east)\u001b[0m\n\u001b[1;32m    108\u001b[0m     \u001b[0;32mdef\u001b[0m \u001b[0mfetch_windwaveswellheight\u001b[0m\u001b[0;34m(\u001b[0m\u001b[0mself\u001b[0m\u001b[0;34m,\u001b[0m \u001b[0msouth\u001b[0m\u001b[0;34m=\u001b[0m\u001b[0;34m-\u001b[0m\u001b[0;36m90\u001b[0m\u001b[0;34m,\u001b[0m \u001b[0mnorth\u001b[0m\u001b[0;34m=\u001b[0m\u001b[0;36m90\u001b[0m\u001b[0;34m,\u001b[0m \u001b[0mwest\u001b[0m\u001b[0;34m=\u001b[0m\u001b[0;34m-\u001b[0m\u001b[0;36m180\u001b[0m\u001b[0;34m,\u001b[0m \u001b[0meast\u001b[0m\u001b[0;34m=\u001b[0m\u001b[0;36m180\u001b[0m\u001b[0;34m,\u001b[0m \u001b[0mstart\u001b[0m\u001b[0;34m=\u001b[0m\u001b[0mdatetime\u001b[0m\u001b[0;34m.\u001b[0m\u001b[0mnow\u001b[0m\u001b[0;34m(\u001b[0m\u001b[0;34m)\u001b[0m\u001b[0;34m-\u001b[0m\u001b[0mtimedelta\u001b[0m\u001b[0;34m(\u001b[0m\u001b[0mhours\u001b[0m\u001b[0;34m=\u001b[0m\u001b[0;36m24\u001b[0m\u001b[0;34m)\u001b[0m\u001b[0;34m,\u001b[0m \u001b[0mend\u001b[0m\u001b[0;34m=\u001b[0m\u001b[0mdatetime\u001b[0m\u001b[0;34m.\u001b[0m\u001b[0mnow\u001b[0m\u001b[0;34m(\u001b[0m\u001b[0;34m)\u001b[0m\u001b[0;34m)\u001b[0m\u001b[0;34m:\u001b[0m\u001b[0;34m\u001b[0m\u001b[0;34m\u001b[0m\u001b[0m\n\u001b[1;32m    109\u001b[0m         \u001b[0;32mreturn\u001b[0m \u001b[0mfetch_era5\u001b[0m\u001b[0;34m(\u001b[0m\u001b[0;34m'significant_height_of_combined_wind_waves_and_swell'\u001b[0m\u001b[0;34m,\u001b[0m \u001b[0mstart\u001b[0m\u001b[0;34m,\u001b[0m \u001b[0mend\u001b[0m\u001b[0;34m)\u001b[0m\u001b[0;34m\u001b[0m\u001b[0;34m\u001b[0m\u001b[0m\n\u001b[0;32m--> 110\u001b[0;31m \u001b[0;34m\u001b[0m\u001b[0m\n\u001b[0m\u001b[1;32m    111\u001b[0m     \u001b[0;32mdef\u001b[0m \u001b[0mfetch_wavedirection\u001b[0m\u001b[0;34m(\u001b[0m\u001b[0mself\u001b[0m\u001b[0;34m,\u001b[0m \u001b[0msouth\u001b[0m\u001b[0;34m=\u001b[0m\u001b[0;34m-\u001b[0m\u001b[0;36m90\u001b[0m\u001b[0;34m,\u001b[0m \u001b[0mnorth\u001b[0m\u001b[0;34m=\u001b[0m\u001b[0;36m90\u001b[0m\u001b[0;34m,\u001b[0m \u001b[0mwest\u001b[0m\u001b[0;34m=\u001b[0m\u001b[0;34m-\u001b[0m\u001b[0;36m180\u001b[0m\u001b[0;34m,\u001b[0m \u001b[0meast\u001b[0m\u001b[0;34m=\u001b[0m\u001b[0;36m180\u001b[0m\u001b[0;34m,\u001b[0m \u001b[0mstart\u001b[0m\u001b[0;34m=\u001b[0m\u001b[0mdatetime\u001b[0m\u001b[0;34m.\u001b[0m\u001b[0mnow\u001b[0m\u001b[0;34m(\u001b[0m\u001b[0;34m)\u001b[0m\u001b[0;34m-\u001b[0m\u001b[0mtimedelta\u001b[0m\u001b[0;34m(\u001b[0m\u001b[0mhours\u001b[0m\u001b[0;34m=\u001b[0m\u001b[0;36m24\u001b[0m\u001b[0;34m)\u001b[0m\u001b[0;34m,\u001b[0m \u001b[0mend\u001b[0m\u001b[0;34m=\u001b[0m\u001b[0mdatetime\u001b[0m\u001b[0;34m.\u001b[0m\u001b[0mnow\u001b[0m\u001b[0;34m(\u001b[0m\u001b[0;34m)\u001b[0m\u001b[0;34m)\u001b[0m\u001b[0;34m:\u001b[0m\u001b[0;34m\u001b[0m\u001b[0;34m\u001b[0m\u001b[0m\n\u001b[1;32m    112\u001b[0m         \u001b[0;32mreturn\u001b[0m \u001b[0mfetch_era5\u001b[0m\u001b[0;34m(\u001b[0m\u001b[0;34m'mean_wave_direction'\u001b[0m\u001b[0;34m,\u001b[0m \u001b[0mstart\u001b[0m\u001b[0;34m,\u001b[0m \u001b[0mend\u001b[0m\u001b[0;34m)\u001b[0m\u001b[0;34m\u001b[0m\u001b[0;34m\u001b[0m\u001b[0m\n",
      "\u001b[0;31mValueError\u001b[0m: not enough values to unpack (expected 5, got 0)"
     ]
    }
   ],
   "source": [
    "wave, wlat, wlon, wtime = \\\n",
    "wavesource1.load_windwaveswellheight(south=south, north=north, \n",
    "                                     west=west, east=east, \n",
    "                                     start=start, end=end)"
   ]
  },
  {
   "cell_type": "code",
   "execution_count": 115,
   "metadata": {},
   "outputs": [
    {
     "ename": "ValueError",
     "evalue": "not enough values to unpack (expected 5, got 0)",
     "output_type": "error",
     "traceback": [
      "\u001b[0;31m---------------------------------------------------------------------------\u001b[0m",
      "\u001b[0;31mValueError\u001b[0m                                Traceback (most recent call last)",
      "\u001b[0;32m<ipython-input-115-0a9f94308db6>\u001b[0m in \u001b[0;36m<module>\u001b[0;34m()\u001b[0m\n\u001b[1;32m      1\u001b[0m wave, wlat, wlon, wtime = wavesource2.load_windwaveheight(south=south, north=north, \n\u001b[1;32m      2\u001b[0m                                 \u001b[0mwest\u001b[0m\u001b[0;34m=\u001b[0m\u001b[0mwest\u001b[0m\u001b[0;34m,\u001b[0m \u001b[0meast\u001b[0m\u001b[0;34m=\u001b[0m\u001b[0meast\u001b[0m\u001b[0;34m,\u001b[0m\u001b[0;34m\u001b[0m\u001b[0;34m\u001b[0m\u001b[0m\n\u001b[0;32m----> 3\u001b[0;31m                                 start=start, end=end)\n\u001b[0m",
      "\u001b[0;32m/home/matt_s/kadlu/kadlu/geospatial/data_sources/wwiii.py\u001b[0m in \u001b[0;36mload_windwaveheight\u001b[0;34m(self, south, north, west, east, start, end)\u001b[0m\n\u001b[1;32m    172\u001b[0m \u001b[0;34m\u001b[0m\u001b[0m\n\u001b[1;32m    173\u001b[0m     \u001b[0;32mdef\u001b[0m \u001b[0mload_windwaveheight\u001b[0m\u001b[0;34m(\u001b[0m\u001b[0mself\u001b[0m\u001b[0;34m,\u001b[0m \u001b[0msouth\u001b[0m\u001b[0;34m=\u001b[0m\u001b[0;34m-\u001b[0m\u001b[0;36m90\u001b[0m\u001b[0;34m,\u001b[0m \u001b[0mnorth\u001b[0m\u001b[0;34m=\u001b[0m\u001b[0;36m90\u001b[0m\u001b[0;34m,\u001b[0m \u001b[0mwest\u001b[0m\u001b[0;34m=\u001b[0m\u001b[0;34m-\u001b[0m\u001b[0;36m180\u001b[0m\u001b[0;34m,\u001b[0m \u001b[0meast\u001b[0m\u001b[0;34m=\u001b[0m\u001b[0;36m180\u001b[0m\u001b[0;34m,\u001b[0m \u001b[0mstart\u001b[0m\u001b[0;34m=\u001b[0m\u001b[0mdatetime\u001b[0m\u001b[0;34m.\u001b[0m\u001b[0mnow\u001b[0m\u001b[0;34m(\u001b[0m\u001b[0;34m)\u001b[0m\u001b[0;34m-\u001b[0m\u001b[0mtimedelta\u001b[0m\u001b[0;34m(\u001b[0m\u001b[0mhours\u001b[0m\u001b[0;34m=\u001b[0m\u001b[0;36m24\u001b[0m\u001b[0;34m)\u001b[0m\u001b[0;34m,\u001b[0m \u001b[0mend\u001b[0m\u001b[0;34m=\u001b[0m\u001b[0mdatetime\u001b[0m\u001b[0;34m.\u001b[0m\u001b[0mnow\u001b[0m\u001b[0;34m(\u001b[0m\u001b[0;34m)\u001b[0m\u001b[0;34m)\u001b[0m\u001b[0;34m:\u001b[0m\u001b[0;34m\u001b[0m\u001b[0;34m\u001b[0m\u001b[0m\n\u001b[0;32m--> 174\u001b[0;31m         \u001b[0;32mreturn\u001b[0m \u001b[0mload_wwiii\u001b[0m\u001b[0;34m(\u001b[0m\u001b[0;34m'hs'\u001b[0m\u001b[0;34m,\u001b[0m \u001b[0msouth\u001b[0m\u001b[0;34m,\u001b[0m \u001b[0mnorth\u001b[0m\u001b[0;34m,\u001b[0m \u001b[0mwest\u001b[0m\u001b[0;34m,\u001b[0m \u001b[0meast\u001b[0m\u001b[0;34m,\u001b[0m \u001b[0mstart\u001b[0m\u001b[0;34m,\u001b[0m \u001b[0mend\u001b[0m\u001b[0;34m)\u001b[0m\u001b[0;34m\u001b[0m\u001b[0;34m\u001b[0m\u001b[0m\n\u001b[0m\u001b[1;32m    175\u001b[0m \u001b[0;34m\u001b[0m\u001b[0m\n\u001b[1;32m    176\u001b[0m     \u001b[0;32mdef\u001b[0m \u001b[0mload_wavedirection\u001b[0m\u001b[0;34m(\u001b[0m\u001b[0mself\u001b[0m\u001b[0;34m,\u001b[0m \u001b[0msouth\u001b[0m\u001b[0;34m=\u001b[0m\u001b[0;34m-\u001b[0m\u001b[0;36m90\u001b[0m\u001b[0;34m,\u001b[0m \u001b[0mnorth\u001b[0m\u001b[0;34m=\u001b[0m\u001b[0;36m90\u001b[0m\u001b[0;34m,\u001b[0m \u001b[0mwest\u001b[0m\u001b[0;34m=\u001b[0m\u001b[0;34m-\u001b[0m\u001b[0;36m180\u001b[0m\u001b[0;34m,\u001b[0m \u001b[0meast\u001b[0m\u001b[0;34m=\u001b[0m\u001b[0;36m180\u001b[0m\u001b[0;34m,\u001b[0m \u001b[0mstart\u001b[0m\u001b[0;34m=\u001b[0m\u001b[0mdatetime\u001b[0m\u001b[0;34m.\u001b[0m\u001b[0mnow\u001b[0m\u001b[0;34m(\u001b[0m\u001b[0;34m)\u001b[0m\u001b[0;34m-\u001b[0m\u001b[0mtimedelta\u001b[0m\u001b[0;34m(\u001b[0m\u001b[0mhours\u001b[0m\u001b[0;34m=\u001b[0m\u001b[0;36m24\u001b[0m\u001b[0;34m)\u001b[0m\u001b[0;34m,\u001b[0m \u001b[0mend\u001b[0m\u001b[0;34m=\u001b[0m\u001b[0mdatetime\u001b[0m\u001b[0;34m.\u001b[0m\u001b[0mnow\u001b[0m\u001b[0;34m(\u001b[0m\u001b[0;34m)\u001b[0m\u001b[0;34m)\u001b[0m\u001b[0;34m:\u001b[0m\u001b[0;34m\u001b[0m\u001b[0;34m\u001b[0m\u001b[0m\n",
      "\u001b[0;32m/home/matt_s/kadlu/kadlu/geospatial/data_sources/wwiii.py\u001b[0m in \u001b[0;36mload_wwiii\u001b[0;34m(wavevar, south, north, west, east, start, end)\u001b[0m\n\u001b[1;32m    154\u001b[0m                tuple(map(str, [south, north, west, east, \n\u001b[1;32m    155\u001b[0m                                dt_2_epoch(start), dt_2_epoch(end)])))\n\u001b[0;32m--> 156\u001b[0;31m     \u001b[0mval\u001b[0m\u001b[0;34m,\u001b[0m \u001b[0mlat\u001b[0m\u001b[0;34m,\u001b[0m \u001b[0mlon\u001b[0m\u001b[0;34m,\u001b[0m \u001b[0mtime\u001b[0m\u001b[0;34m,\u001b[0m \u001b[0msource\u001b[0m \u001b[0;34m=\u001b[0m \u001b[0mnp\u001b[0m\u001b[0;34m.\u001b[0m\u001b[0marray\u001b[0m\u001b[0;34m(\u001b[0m\u001b[0mdb\u001b[0m\u001b[0;34m.\u001b[0m\u001b[0mfetchall\u001b[0m\u001b[0;34m(\u001b[0m\u001b[0;34m)\u001b[0m\u001b[0;34m,\u001b[0m \u001b[0mdtype\u001b[0m\u001b[0;34m=\u001b[0m\u001b[0mobject\u001b[0m\u001b[0;34m)\u001b[0m\u001b[0;34m.\u001b[0m\u001b[0mT\u001b[0m\u001b[0;34m\u001b[0m\u001b[0;34m\u001b[0m\u001b[0m\n\u001b[0m\u001b[1;32m    157\u001b[0m \u001b[0;34m\u001b[0m\u001b[0m\n\u001b[1;32m    158\u001b[0m     \u001b[0;32mreturn\u001b[0m \u001b[0mval\u001b[0m\u001b[0;34m,\u001b[0m \u001b[0mlat\u001b[0m\u001b[0;34m,\u001b[0m \u001b[0mlon\u001b[0m\u001b[0;34m,\u001b[0m \u001b[0mepoch_2_dt\u001b[0m\u001b[0;34m(\u001b[0m\u001b[0mtime\u001b[0m\u001b[0;34m)\u001b[0m\u001b[0;34m\u001b[0m\u001b[0;34m\u001b[0m\u001b[0m\n",
      "\u001b[0;31mValueError\u001b[0m: not enough values to unpack (expected 5, got 0)"
     ]
    }
   ],
   "source": [
    "wave, wlat, wlon, wtime = \\\n",
    "wavesource2.load_windwaveheight(south=south, north=north, \n",
    "                                west=west, east=east, \n",
    "                                start=start, end=end)"
   ]
  },
  {
   "cell_type": "markdown",
   "metadata": {},
   "source": [
    "## SoundSpeed -- loading data"
   ]
  },
  {
   "cell_type": "code",
   "execution_count": 45,
   "metadata": {},
   "outputs": [],
   "source": [
    "from kadlu.geospatial.ocean import Ocean\n",
    "from kadlu.sound.sound_speed import SoundSpeed \n",
    "from kadlu.geospatial.data_sources.fetch_util import storage_cfg"
   ]
  },
  {
   "cell_type": "code",
   "execution_count": 46,
   "metadata": {},
   "outputs": [
    {
     "name": "stdout",
     "output_type": "stream",
     "text": [
      "no bathy data for (51.388, -95.321), skipping\n",
      "no bathy data for (51.388, -94.321), skipping\n",
      "no bathy data for (51.388, -93.321), skipping\n",
      "no bathy data for (51.388, -92.321), skipping\n",
      "no bathy data for (51.388, -91.321), skipping\n",
      "no bathy data for (51.388, -90.321), skipping\n",
      "no bathy data for (51.388, -89.321), skipping\n",
      "no bathy data for (51.388, -88.321), skipping\n",
      "no bathy data for (51.388, -87.321), skipping\n",
      "no bathy data for (51.388, -86.321), skipping\n",
      "no bathy data for (51.388, -85.321), skipping\n",
      "no bathy data for (51.388, -84.321), skipping\n",
      "no bathy data for (51.388, -83.321), skipping\n"
     ]
    },
    {
     "ename": "TypeError",
     "evalue": "loop of ufunc does not support argument 0 of type float which has no callable cos method",
     "output_type": "error",
     "traceback": [
      "\u001b[0;31m---------------------------------------------------------------------------\u001b[0m",
      "\u001b[0;31mAttributeError\u001b[0m                            Traceback (most recent call last)",
      "\u001b[0;31mAttributeError\u001b[0m: 'float' object has no attribute 'cos'",
      "\nThe above exception was the direct cause of the following exception:\n",
      "\u001b[0;31mTypeError\u001b[0m                                 Traceback (most recent call last)",
      "\u001b[0;32m<ipython-input-46-cf771a29ae8b>\u001b[0m in \u001b[0;36m<module>\u001b[0;34m()\u001b[0m\n\u001b[1;32m     34\u001b[0m         \u001b[0moceantest\u001b[0m\u001b[0;34m.\u001b[0m\u001b[0mset_origin\u001b[0m\u001b[0;34m(\u001b[0m\u001b[0mlat_ref\u001b[0m\u001b[0;34m=\u001b[0m\u001b[0mtlat\u001b[0m\u001b[0;34m,\u001b[0m \u001b[0mlon_ref\u001b[0m\u001b[0;34m=\u001b[0m\u001b[0mtlon\u001b[0m\u001b[0;34m)\u001b[0m\u001b[0;34m\u001b[0m\u001b[0;34m\u001b[0m\u001b[0m\n\u001b[1;32m     35\u001b[0m \u001b[0;34m\u001b[0m\u001b[0m\n\u001b[0;32m---> 36\u001b[0;31m         \u001b[0msndspd\u001b[0m \u001b[0;34m=\u001b[0m \u001b[0mSoundSpeed\u001b[0m\u001b[0;34m(\u001b[0m\u001b[0moceantest\u001b[0m\u001b[0;34m)\u001b[0m\u001b[0;34m.\u001b[0m\u001b[0m_sound_speed\u001b[0m\u001b[0;34m(\u001b[0m\u001b[0mtlat\u001b[0m\u001b[0;34m,\u001b[0m \u001b[0mtlon\u001b[0m\u001b[0;34m,\u001b[0m \u001b[0mtdep\u001b[0m\u001b[0;34m,\u001b[0m \u001b[0mtemp\u001b[0m\u001b[0;34m,\u001b[0m \u001b[0msalinity\u001b[0m\u001b[0;34m)\u001b[0m\u001b[0;34m\u001b[0m\u001b[0;34m\u001b[0m\u001b[0m\n\u001b[0m\u001b[1;32m     37\u001b[0m \u001b[0;34m\u001b[0m\u001b[0m\n\u001b[1;32m     38\u001b[0m         \u001b[0mprint\u001b[0m\u001b[0;34m(\u001b[0m\u001b[0msndspd\u001b[0m\u001b[0;34m,\u001b[0m \u001b[0mymin\u001b[0m\u001b[0;34m,\u001b[0m \u001b[0mxmin\u001b[0m\u001b[0;34m)\u001b[0m\u001b[0;34m\u001b[0m\u001b[0;34m\u001b[0m\u001b[0m\n",
      "\u001b[0;32m/home/matt_s/kadlu/kadlu/sound/sound_speed.py\u001b[0m in \u001b[0;36m__init__\u001b[0;34m(self, ocean, ssp, xy_res, num_depths, rel_err)\u001b[0m\n\u001b[1;32m     76\u001b[0m \u001b[0;34m\u001b[0m\u001b[0m\n\u001b[1;32m     77\u001b[0m             \u001b[0;31m# convert from meters to degrees\u001b[0m\u001b[0;34m\u001b[0m\u001b[0;34m\u001b[0m\u001b[0;34m\u001b[0m\u001b[0m\n\u001b[0;32m---> 78\u001b[0;31m             \u001b[0mlat_res\u001b[0m \u001b[0;34m=\u001b[0m \u001b[0;36m1.\u001b[0m\u001b[0;34m/\u001b[0m\u001b[0mdeg2rad\u001b[0m \u001b[0;34m*\u001b[0m \u001b[0mxy_res\u001b[0m \u001b[0;34m*\u001b[0m \u001b[0mDLDL_over_DXDY\u001b[0m\u001b[0;34m(\u001b[0m\u001b[0mlat\u001b[0m\u001b[0;34m=\u001b[0m\u001b[0mself\u001b[0m\u001b[0;34m.\u001b[0m\u001b[0morigin\u001b[0m\u001b[0;34m.\u001b[0m\u001b[0mlatitude\u001b[0m\u001b[0;34m,\u001b[0m \u001b[0mlat_deriv_order\u001b[0m\u001b[0;34m=\u001b[0m\u001b[0;36m1\u001b[0m\u001b[0;34m,\u001b[0m \u001b[0mlon_deriv_order\u001b[0m\u001b[0;34m=\u001b[0m\u001b[0;36m0\u001b[0m\u001b[0;34m)\u001b[0m\u001b[0;34m\u001b[0m\u001b[0;34m\u001b[0m\u001b[0m\n\u001b[0m\u001b[1;32m     79\u001b[0m             \u001b[0mlon_res\u001b[0m \u001b[0;34m=\u001b[0m \u001b[0;36m1.\u001b[0m\u001b[0;34m/\u001b[0m\u001b[0mdeg2rad\u001b[0m \u001b[0;34m*\u001b[0m \u001b[0mxy_res\u001b[0m \u001b[0;34m*\u001b[0m \u001b[0mDLDL_over_DXDY\u001b[0m\u001b[0;34m(\u001b[0m\u001b[0mlat\u001b[0m\u001b[0;34m=\u001b[0m\u001b[0mself\u001b[0m\u001b[0;34m.\u001b[0m\u001b[0morigin\u001b[0m\u001b[0;34m.\u001b[0m\u001b[0mlatitude\u001b[0m\u001b[0;34m,\u001b[0m \u001b[0mlat_deriv_order\u001b[0m\u001b[0;34m=\u001b[0m\u001b[0;36m0\u001b[0m\u001b[0;34m,\u001b[0m \u001b[0mlon_deriv_order\u001b[0m\u001b[0;34m=\u001b[0m\u001b[0;36m1\u001b[0m\u001b[0;34m)\u001b[0m\u001b[0;34m\u001b[0m\u001b[0;34m\u001b[0m\u001b[0m\n\u001b[1;32m     80\u001b[0m \u001b[0;34m\u001b[0m\u001b[0m\n",
      "\u001b[0;32m/home/matt_s/kadlu/kadlu/utils.py\u001b[0m in \u001b[0;36mDLDL_over_DXDY\u001b[0;34m(lat, lat_deriv_order, lon_deriv_order)\u001b[0m\n\u001b[1;32m     45\u001b[0m     \"\"\"\n\u001b[1;32m     46\u001b[0m     \u001b[0mR\u001b[0m \u001b[0;34m=\u001b[0m \u001b[0mR1_IUGG\u001b[0m\u001b[0;34m\u001b[0m\u001b[0;34m\u001b[0m\u001b[0m\n\u001b[0;32m---> 47\u001b[0;31m     \u001b[0mR2\u001b[0m \u001b[0;34m=\u001b[0m \u001b[0mR\u001b[0m \u001b[0;34m*\u001b[0m \u001b[0mnp\u001b[0m\u001b[0;34m.\u001b[0m\u001b[0mcos\u001b[0m\u001b[0;34m(\u001b[0m\u001b[0mlat\u001b[0m \u001b[0;34m*\u001b[0m \u001b[0mdeg2rad\u001b[0m\u001b[0;34m)\u001b[0m\u001b[0;34m\u001b[0m\u001b[0;34m\u001b[0m\u001b[0m\n\u001b[0m\u001b[1;32m     48\u001b[0m \u001b[0;34m\u001b[0m\u001b[0m\n\u001b[1;32m     49\u001b[0m     \u001b[0mm\u001b[0m \u001b[0;34m=\u001b[0m \u001b[0mlat_deriv_order\u001b[0m\u001b[0;34m\u001b[0m\u001b[0;34m\u001b[0m\u001b[0m\n",
      "\u001b[0;31mTypeError\u001b[0m: loop of ufunc does not support argument 0 of type float which has no callable cos method"
     ]
    }
   ],
   "source": [
    "step = 1 # 1 deg -> approx. 100km at equator \n",
    "\n",
    "for ymin in np.arange(south, north, step):\n",
    "    for xmin in np.arange(west, east, step):\n",
    "        xmax = xmin + step\n",
    "        ymax = ymin + step\n",
    "        \n",
    "        try:\n",
    "            bathy, blat, blon = bathysource.load_bathymetry(south=ymin, north=ymax, west=xmin, east=xmax)\n",
    "        except:\n",
    "            print(f\"no bathy data for {(ymin, xmin)}, skipping\")\n",
    "            continue\n",
    "        \n",
    "        temp, tlat, tlon, ttime, tdep = \\\n",
    "        temp_salinity_source.load_temp(south=ymin, north=ymax, west=xmin, east=xmax, \n",
    "                                       start=start, end=end, top=top, bottom=bottom)\n",
    "\n",
    "        salinity, slat, slon, stime, sdep = \\\n",
    "        temp_salinity_source.load_temp(south=ymin, north=ymax, west=xmin, east=xmax, \n",
    "                                       start=start, end=end, top=top, bottom=bottom)\n",
    "        \"\"\"\n",
    "        try:\n",
    "            wave, wlat, wlon, wtime = \\\n",
    "            wavesource2.load_windwaveheight(south=ymin, north=ymax, \n",
    "                                                 west=xmin, east=xmax, \n",
    "                                                 start=start, end=end)\n",
    "        except Exception as e :\n",
    "            print(f\"no wave data for {(ymin, xmin)}\", end='\\t')\n",
    "            print(e)\n",
    "            continue\n",
    "        \"\"\"\n",
    "        \n",
    "        wave = np.array([5 for x in temp])\n",
    "        \n",
    "        oceantest = Ocean(salinity=salinity, temp=temp, bathy=bathy, wave=wave, wave_var='comb. wind wave swell height')\n",
    "        oceantest.set_origin(lat_ref=tlat, lon_ref=tlon)\n",
    "        \n",
    "        sndspd = SoundSpeed(oceantest)._sound_speed(tlat, tlon, tdep, temp, salinity)\n",
    "        \n",
    "        print(sndspd, ymin, xmin)\n"
   ]
  },
  {
   "cell_type": "code",
   "execution_count": 16,
   "metadata": {},
   "outputs": [
    {
     "ename": "NameError",
     "evalue": "name 'temp' is not defined",
     "output_type": "error",
     "traceback": [
      "\u001b[0;31m---------------------------------------------------------------------------\u001b[0m",
      "\u001b[0;31mNameError\u001b[0m                                 Traceback (most recent call last)",
      "\u001b[0;32m<ipython-input-16-da77557ed0c8>\u001b[0m in \u001b[0;36m<module>\u001b[0;34m()\u001b[0m\n\u001b[0;32m----> 1\u001b[0;31m \u001b[0mtemp\u001b[0m\u001b[0;34m\u001b[0m\u001b[0;34m\u001b[0m\u001b[0m\n\u001b[0m",
      "\u001b[0;31mNameError\u001b[0m: name 'temp' is not defined"
     ]
    }
   ],
   "source": [
    "temp"
   ]
  },
  {
   "cell_type": "code",
   "execution_count": 11,
   "metadata": {},
   "outputs": [
    {
     "ename": "ValueError",
     "evalue": "not enough values to unpack (expected 5, got 0)",
     "output_type": "error",
     "traceback": [
      "\u001b[0;31m---------------------------------------------------------------------------\u001b[0m",
      "\u001b[0;31mValueError\u001b[0m                                Traceback (most recent call last)",
      "\u001b[0;32m<ipython-input-11-fb717fd50866>\u001b[0m in \u001b[0;36m<module>\u001b[0;34m()\u001b[0m\n\u001b[1;32m      1\u001b[0m wavesource1.load_windwaveswellheight(south=south, north=north, west=west, east=east, \n\u001b[0;32m----> 2\u001b[0;31m                                        start=start, end=end)\n\u001b[0m",
      "\u001b[0;32m/home/matt_s/kadlu/kadlu/geospatial/data_sources/era5.py\u001b[0m in \u001b[0;36mload_windwaveswellheight\u001b[0;34m(self, south, north, west, east, start, end)\u001b[0m\n\u001b[1;32m    116\u001b[0m \u001b[0;34m\u001b[0m\u001b[0m\n\u001b[1;32m    117\u001b[0m     \u001b[0;32mdef\u001b[0m \u001b[0mload_windwaveswellheight\u001b[0m\u001b[0;34m(\u001b[0m\u001b[0mself\u001b[0m\u001b[0;34m,\u001b[0m \u001b[0msouth\u001b[0m\u001b[0;34m=\u001b[0m\u001b[0;34m-\u001b[0m\u001b[0;36m90\u001b[0m\u001b[0;34m,\u001b[0m \u001b[0mnorth\u001b[0m\u001b[0;34m=\u001b[0m\u001b[0;36m90\u001b[0m\u001b[0;34m,\u001b[0m \u001b[0mwest\u001b[0m\u001b[0;34m=\u001b[0m\u001b[0;34m-\u001b[0m\u001b[0;36m180\u001b[0m\u001b[0;34m,\u001b[0m \u001b[0meast\u001b[0m\u001b[0;34m=\u001b[0m\u001b[0;36m180\u001b[0m\u001b[0;34m,\u001b[0m \u001b[0mstart\u001b[0m\u001b[0;34m=\u001b[0m\u001b[0mdatetime\u001b[0m\u001b[0;34m.\u001b[0m\u001b[0mnow\u001b[0m\u001b[0;34m(\u001b[0m\u001b[0;34m)\u001b[0m\u001b[0;34m-\u001b[0m\u001b[0mtimedelta\u001b[0m\u001b[0;34m(\u001b[0m\u001b[0mhours\u001b[0m\u001b[0;34m=\u001b[0m\u001b[0;36m24\u001b[0m\u001b[0;34m)\u001b[0m\u001b[0;34m,\u001b[0m \u001b[0mend\u001b[0m\u001b[0;34m=\u001b[0m\u001b[0mdatetime\u001b[0m\u001b[0;34m.\u001b[0m\u001b[0mnow\u001b[0m\u001b[0;34m(\u001b[0m\u001b[0;34m)\u001b[0m\u001b[0;34m)\u001b[0m\u001b[0;34m:\u001b[0m\u001b[0;34m\u001b[0m\u001b[0;34m\u001b[0m\u001b[0m\n\u001b[0;32m--> 118\u001b[0;31m         \u001b[0;32mreturn\u001b[0m \u001b[0mload_era5\u001b[0m\u001b[0;34m(\u001b[0m\u001b[0;34m'significant_height_of_combined_wind_waves_and_swell'\u001b[0m\u001b[0;34m,\u001b[0m \u001b[0mstart\u001b[0m\u001b[0;34m,\u001b[0m \u001b[0mend\u001b[0m\u001b[0;34m,\u001b[0m \u001b[0msouth\u001b[0m\u001b[0;34m,\u001b[0m \u001b[0mnorth\u001b[0m\u001b[0;34m,\u001b[0m \u001b[0mwest\u001b[0m\u001b[0;34m,\u001b[0m \u001b[0meast\u001b[0m\u001b[0;34m)\u001b[0m\u001b[0;34m\u001b[0m\u001b[0;34m\u001b[0m\u001b[0m\n\u001b[0m\u001b[1;32m    119\u001b[0m \u001b[0;34m\u001b[0m\u001b[0m\n\u001b[1;32m    120\u001b[0m     \u001b[0;32mdef\u001b[0m \u001b[0mload_wavedirection\u001b[0m\u001b[0;34m(\u001b[0m\u001b[0mself\u001b[0m\u001b[0;34m,\u001b[0m \u001b[0msouth\u001b[0m\u001b[0;34m=\u001b[0m\u001b[0;34m-\u001b[0m\u001b[0;36m90\u001b[0m\u001b[0;34m,\u001b[0m \u001b[0mnorth\u001b[0m\u001b[0;34m=\u001b[0m\u001b[0;36m90\u001b[0m\u001b[0;34m,\u001b[0m \u001b[0mwest\u001b[0m\u001b[0;34m=\u001b[0m\u001b[0;34m-\u001b[0m\u001b[0;36m180\u001b[0m\u001b[0;34m,\u001b[0m \u001b[0meast\u001b[0m\u001b[0;34m=\u001b[0m\u001b[0;36m180\u001b[0m\u001b[0;34m,\u001b[0m \u001b[0mstart\u001b[0m\u001b[0;34m=\u001b[0m\u001b[0mdatetime\u001b[0m\u001b[0;34m.\u001b[0m\u001b[0mnow\u001b[0m\u001b[0;34m(\u001b[0m\u001b[0;34m)\u001b[0m\u001b[0;34m-\u001b[0m\u001b[0mtimedelta\u001b[0m\u001b[0;34m(\u001b[0m\u001b[0mhours\u001b[0m\u001b[0;34m=\u001b[0m\u001b[0;36m24\u001b[0m\u001b[0;34m)\u001b[0m\u001b[0;34m,\u001b[0m \u001b[0mend\u001b[0m\u001b[0;34m=\u001b[0m\u001b[0mdatetime\u001b[0m\u001b[0;34m.\u001b[0m\u001b[0mnow\u001b[0m\u001b[0;34m(\u001b[0m\u001b[0;34m)\u001b[0m\u001b[0;34m)\u001b[0m\u001b[0;34m:\u001b[0m\u001b[0;34m\u001b[0m\u001b[0;34m\u001b[0m\u001b[0m\n",
      "\u001b[0;32m/home/matt_s/kadlu/kadlu/geospatial/data_sources/era5.py\u001b[0m in \u001b[0;36mload_era5\u001b[0;34m(wavevar, start, end, south, north, west, east)\u001b[0m\n\u001b[1;32m     99\u001b[0m                tuple(map(str, [south, north, west, east, \n\u001b[1;32m    100\u001b[0m                                dt_2_epoch(start), dt_2_epoch(end)])))\n\u001b[0;32m--> 101\u001b[0;31m     \u001b[0mval\u001b[0m\u001b[0;34m,\u001b[0m \u001b[0mlat\u001b[0m\u001b[0;34m,\u001b[0m \u001b[0mlon\u001b[0m\u001b[0;34m,\u001b[0m \u001b[0mtime\u001b[0m\u001b[0;34m,\u001b[0m \u001b[0msource\u001b[0m \u001b[0;34m=\u001b[0m \u001b[0mnp\u001b[0m\u001b[0;34m.\u001b[0m\u001b[0marray\u001b[0m\u001b[0;34m(\u001b[0m\u001b[0mdb\u001b[0m\u001b[0;34m.\u001b[0m\u001b[0mfetchall\u001b[0m\u001b[0;34m(\u001b[0m\u001b[0;34m)\u001b[0m\u001b[0;34m,\u001b[0m \u001b[0mdtype\u001b[0m\u001b[0;34m=\u001b[0m\u001b[0mobject\u001b[0m\u001b[0;34m)\u001b[0m\u001b[0;34m.\u001b[0m\u001b[0mT\u001b[0m\u001b[0;34m\u001b[0m\u001b[0;34m\u001b[0m\u001b[0m\n\u001b[0m\u001b[1;32m    102\u001b[0m     \u001b[0;32mreturn\u001b[0m \u001b[0mval\u001b[0m\u001b[0;34m,\u001b[0m \u001b[0mlat\u001b[0m\u001b[0;34m,\u001b[0m \u001b[0mlon\u001b[0m\u001b[0;34m,\u001b[0m \u001b[0mepoch_2_dt\u001b[0m\u001b[0;34m(\u001b[0m\u001b[0mtime\u001b[0m\u001b[0;34m)\u001b[0m\u001b[0;34m\u001b[0m\u001b[0;34m\u001b[0m\u001b[0m\n\u001b[1;32m    103\u001b[0m \u001b[0;34m\u001b[0m\u001b[0m\n",
      "\u001b[0;31mValueError\u001b[0m: not enough values to unpack (expected 5, got 0)"
     ]
    }
   ],
   "source": [
    "wavesource1.load_windwaveswellheight(south=south, north=north, west=west, east=east, \n",
    "                                       start=start, end=end)"
   ]
  }
 ],
 "metadata": {
  "kernelspec": {
   "display_name": "Python 3",
   "language": "python",
   "name": "python3"
  },
  "language_info": {
   "codemirror_mode": {
    "name": "ipython",
    "version": 3
   },
   "file_extension": ".py",
   "mimetype": "text/x-python",
   "name": "python",
   "nbconvert_exporter": "python",
   "pygments_lexer": "ipython3",
   "version": "3.6.8"
  }
 },
 "nbformat": 4,
 "nbformat_minor": 2
}
