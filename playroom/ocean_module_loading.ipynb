{
 "cells": [
  {
   "cell_type": "code",
   "execution_count": 1,
   "metadata": {},
   "outputs": [],
   "source": [
    "from kadlu.geospatial.ocean import Ocean\n",
    "from datetime import datetime\n",
    "import numpy as np"
   ]
  },
  {
   "cell_type": "code",
   "execution_count": 2,
   "metadata": {},
   "outputs": [],
   "source": [
    "sources = dict(\n",
    "    load_bathymetry='chs', \n",
    "    load_temp='hycom',\n",
    "    load_salinity='hycom',\n",
    "    load_wavedir='era5',\n",
    "    load_waveheight='era5',\n",
    "    load_waveperiod='era5',\n",
    "    load_wavedirection='era5',\n",
    "    load_windspeed='era5'\n",
    ")\n",
    "bounds = dict(\n",
    "    start=datetime(2015, 1, 9), end=datetime(2015, 1, 9, 3),\n",
    "    south=44,                   west=-64.5, \n",
    "    north=46,                   east=-62.5, \n",
    "    top=0,                      bottom=5000\n",
    ")\n"
   ]
  },
  {
   "cell_type": "markdown",
   "metadata": {},
   "source": [
    "#### fetch and load the data into ocean module\n",
    "environmental data will be set to uniform null values unless explicitly stated"
   ]
  },
  {
   "cell_type": "code",
   "execution_count": 3,
   "metadata": {},
   "outputs": [],
   "source": [
    "null_ocean = Ocean(**bounds)"
   ]
  },
  {
   "cell_type": "code",
   "execution_count": 4,
   "metadata": {
    "scrolled": false
   },
   "outputs": [
    {
     "name": "stdout",
     "output_type": "stream",
     "text": [
      "interpolations computed in 3.19278 seconds\n"
     ]
    }
   ],
   "source": [
    "t1 = datetime.now()\n",
    "full_ocean = Ocean(**sources, **bounds)\n",
    "t2 = datetime.now()\n",
    "print(f'interpolations computed in {(t2-t1).seconds}.{(t2-t1).microseconds} seconds')"
   ]
  },
  {
   "cell_type": "markdown",
   "metadata": {},
   "source": [
    "#### loading data using uniform wave values (passed as float or int)"
   ]
  },
  {
   "cell_type": "code",
   "execution_count": 5,
   "metadata": {},
   "outputs": [],
   "source": [
    "o = Ocean(load_wavedir=180, load_waveheight=10, load_waveperiod=5, **bounds)"
   ]
  },
  {
   "cell_type": "markdown",
   "metadata": {},
   "source": [
    "#### loading bathymetry from an array"
   ]
  },
  {
   "cell_type": "code",
   "execution_count": 7,
   "metadata": {},
   "outputs": [],
   "source": [
    "bathy_arr = np.array((\n",
    "    np.random.randint(0, 500, 100) *-1,\n",
    "    np.linspace(bounds['south'], bounds['north']),\n",
    "    np.linspace(bounds['west'],  bounds['east'])\n",
    "))\n",
    "o = Ocean(load_bathymetry=bathy_arr, **bounds)"
   ]
  },
  {
   "cell_type": "markdown",
   "metadata": {},
   "source": [
    "#### loading bathymetry via fetch and load module with automatic fetching\n",
    "passed as a string.\n",
    "fetching must be stated explicitly, but loading is implicit"
   ]
  },
  {
   "cell_type": "code",
   "execution_count": 8,
   "metadata": {},
   "outputs": [
    {
     "name": "stdout",
     "output_type": "stream",
     "text": [
      "\n",
      "CA2_4600N06500W.tif: downloading 12/12 from CHS NONNA-100...\n",
      "CA2_4300N06300W.tif processed and inserted 0 rows.\t982446 null values removed, 19555 duplicate rows ignored\n",
      "CA2_4300N06400W.tif processed and inserted 0 rows.\t987844 null values removed, 14157 duplicate rows ignored\n",
      "CA2_4300N06500W.tif processed and inserted 0 rows.\t925018 null values removed, 76983 duplicate rows ignored\n",
      "CA2_4400N06300W.tif processed and inserted 0 rows.\t896834 null values removed, 105167 duplicate rows ignored\n",
      "CA2_4400N06400W.tif processed and inserted 0 rows.\t793492 null values removed, 208509 duplicate rows ignored\n",
      "CA2_4400N06500W.tif processed and inserted 0 rows.\t887161 null values removed, 114840 duplicate rows ignored\n",
      "CA2_4500N06300W.tif processed and inserted 0 rows.\t881343 null values removed, 120658 duplicate rows ignored\n",
      "CA2_4500N06400W.tif processed and inserted 0 rows.\t933129 null values removed, 68872 duplicate rows ignored\n",
      "CA2_4500N06500W.tif processed and inserted 0 rows.\t859257 null values removed, 142744 duplicate rows ignored\n",
      "CA2_4600N06300W.tif processed and inserted 0 rows.\t901841 null values removed, 100160 duplicate rows ignored\n",
      "CA2_4600N06400W.tif processed and inserted 0 rows.\t844720 null values removed, 157281 duplicate rows ignored\n",
      "CA2_4600N06500W.tif processed and inserted 0 rows.\t947396 null values removed, 54605 duplicate rows ignored\n"
     ]
    }
   ],
   "source": [
    "o = Ocean(fetch=True, load_bathymetry='chs', **bounds)"
   ]
  },
  {
   "cell_type": "code",
   "execution_count": null,
   "metadata": {},
   "outputs": [],
   "source": []
  }
 ],
 "metadata": {
  "kernelspec": {
   "display_name": "Python 3",
   "language": "python",
   "name": "python3"
  },
  "language_info": {
   "codemirror_mode": {
    "name": "ipython",
    "version": 3
   },
   "file_extension": ".py",
   "mimetype": "text/x-python",
   "name": "python",
   "nbconvert_exporter": "python",
   "pygments_lexer": "ipython3",
   "version": "3.8.1"
  }
 },
 "nbformat": 4,
 "nbformat_minor": 2
}
